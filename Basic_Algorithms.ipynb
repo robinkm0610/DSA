{
  "metadata": {
    "kernelspec": {
      "language": "python",
      "display_name": "Python 3",
      "name": "python3"
    },
    "language_info": {
      "name": "python",
      "version": "3.10.13",
      "mimetype": "text/x-python",
      "codemirror_mode": {
        "name": "ipython",
        "version": 3
      },
      "pygments_lexer": "ipython3",
      "nbconvert_exporter": "python",
      "file_extension": ".py"
    },
    "kaggle": {
      "accelerator": "none",
      "dataSources": [],
      "dockerImageVersionId": 30673,
      "isInternetEnabled": false,
      "language": "python",
      "sourceType": "notebook",
      "isGpuEnabled": false
    },
    "colab": {
      "name": "Basic Algorithms",
      "provenance": [],
      "include_colab_link": true
    }
  },
  "nbformat_minor": 0,
  "nbformat": 4,
  "cells": [
    {
      "cell_type": "markdown",
      "metadata": {
        "id": "view-in-github",
        "colab_type": "text"
      },
      "source": [
        "<a href=\"https://colab.research.google.com/github/robinkm0610/DSA/blob/main/Basic_Algorithms.ipynb\" target=\"_parent\"><img src=\"https://colab.research.google.com/assets/colab-badge.svg\" alt=\"Open In Colab\"/></a>"
      ]
    },
    {
      "cell_type": "markdown",
      "source": [
        "<br> Linear Table: </br>\n",
        "Sequence of elements, is a one-dimensional array.\n",
        "\n",
        "1 . Define a one-dimensional array of student scores"
      ],
      "metadata": {
        "_uuid": "8f2839f25d086af736a60e9eeb907d3b93b6e0e5",
        "_cell_guid": "b1076dfc-b9ad-4769-8c92-a6c4dae69d19",
        "execution": {
          "iopub.status.busy": "2024-04-08T13:20:34.297215Z",
          "iopub.execute_input": "2024-04-08T13:20:34.29759Z",
          "iopub.status.idle": "2024-04-08T13:20:35.550229Z",
          "shell.execute_reply.started": "2024-04-08T13:20:34.297559Z",
          "shell.execute_reply": "2024-04-08T13:20:35.54893Z"
        },
        "id": "oLXD8l165pSo"
      }
    },
    {
      "cell_type": "code",
      "source": [
        "def main(scores):\n",
        "    length = len(scores)\n",
        "\n",
        "    for i in range(0, length):\n",
        "        print(scores[i], \",\", end = \"\")"
      ],
      "metadata": {
        "execution": {
          "iopub.status.busy": "2024-04-08T13:24:05.0598Z",
          "iopub.execute_input": "2024-04-08T13:24:05.0605Z",
          "iopub.status.idle": "2024-04-08T13:24:05.06902Z",
          "shell.execute_reply.started": "2024-04-08T13:24:05.060453Z",
          "shell.execute_reply": "2024-04-08T13:24:05.067018Z"
        },
        "trusted": true,
        "id": "EC_TACMc5pSu"
      },
      "execution_count": null,
      "outputs": []
    },
    {
      "cell_type": "code",
      "source": [
        "main([ 90 , 70 , 50 , 80 , 60 , 85 ])"
      ],
      "metadata": {
        "execution": {
          "iopub.status.busy": "2024-04-08T13:24:23.71991Z",
          "iopub.execute_input": "2024-04-08T13:24:23.720527Z",
          "iopub.status.idle": "2024-04-08T13:24:23.727585Z",
          "shell.execute_reply.started": "2024-04-08T13:24:23.720474Z",
          "shell.execute_reply": "2024-04-08T13:24:23.726385Z"
        },
        "trusted": true,
        "id": "PyUNDcHq5pSx",
        "outputId": "f896aa66-d2a0-4f88-c0b1-13f7a54f04c0"
      },
      "execution_count": null,
      "outputs": [
        {
          "name": "stdout",
          "text": "90 ,70 ,50 ,80 ,60 ,85 ,",
          "output_type": "stream"
        }
      ]
    },
    {
      "cell_type": "markdown",
      "source": [
        "Maximum of Integer Sequences:\n",
        "\n",
        "1 . Algorithmic ideas\n",
        "\n",
        "Compare arrays[i] with arrays[i + 1] , if arrays[i] > arrays[i + 1] are\n",
        "exchanged. So continue until the last number, arrays[length - 1] is the\n",
        "maximum"
      ],
      "metadata": {
        "id": "2bNdcnZm5pSz"
      }
    },
    {
      "cell_type": "code",
      "source": [],
      "metadata": {
        "id": "OEgH9ux25pS0"
      },
      "execution_count": null,
      "outputs": []
    }
  ]
}