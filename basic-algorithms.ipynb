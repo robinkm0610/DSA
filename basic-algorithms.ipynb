{
 "cells": [
  {
   "cell_type": "markdown",
   "id": "51f9fc52",
   "metadata": {
    "_cell_guid": "b1076dfc-b9ad-4769-8c92-a6c4dae69d19",
    "_uuid": "8f2839f25d086af736a60e9eeb907d3b93b6e0e5",
    "execution": {
     "iopub.execute_input": "2024-04-08T13:20:34.297590Z",
     "iopub.status.busy": "2024-04-08T13:20:34.297215Z",
     "iopub.status.idle": "2024-04-08T13:20:35.550229Z",
     "shell.execute_reply": "2024-04-08T13:20:35.548930Z",
     "shell.execute_reply.started": "2024-04-08T13:20:34.297559Z"
    },
    "papermill": {
     "duration": 0.005105,
     "end_time": "2024-04-08T13:37:21.480472",
     "exception": false,
     "start_time": "2024-04-08T13:37:21.475367",
     "status": "completed"
    },
    "tags": []
   },
   "source": [
    "<br> Linear Table: </br>\n",
    "Sequence of elements, is a one-dimensional array.\n",
    "\n",
    "1 . Define a one-dimensional array of student scores"
   ]
  },
  {
   "cell_type": "code",
   "execution_count": 1,
   "id": "bb4dbd2a",
   "metadata": {
    "execution": {
     "iopub.execute_input": "2024-04-08T13:37:21.492228Z",
     "iopub.status.busy": "2024-04-08T13:37:21.491450Z",
     "iopub.status.idle": "2024-04-08T13:37:21.505895Z",
     "shell.execute_reply": "2024-04-08T13:37:21.504604Z"
    },
    "papermill": {
     "duration": 0.024274,
     "end_time": "2024-04-08T13:37:21.509507",
     "exception": false,
     "start_time": "2024-04-08T13:37:21.485233",
     "status": "completed"
    },
    "tags": []
   },
   "outputs": [],
   "source": [
    "def main(scores):\n",
    "    length = len(scores)\n",
    "    \n",
    "    for i in range(0, length):\n",
    "        print(scores[i], \",\", end = \"\")"
   ]
  },
  {
   "cell_type": "code",
   "execution_count": 2,
   "id": "571eb344",
   "metadata": {
    "execution": {
     "iopub.execute_input": "2024-04-08T13:37:21.521247Z",
     "iopub.status.busy": "2024-04-08T13:37:21.520467Z",
     "iopub.status.idle": "2024-04-08T13:37:21.536243Z",
     "shell.execute_reply": "2024-04-08T13:37:21.534474Z"
    },
    "papermill": {
     "duration": 0.025931,
     "end_time": "2024-04-08T13:37:21.540045",
     "exception": false,
     "start_time": "2024-04-08T13:37:21.514114",
     "status": "completed"
    },
    "tags": []
   },
   "outputs": [
    {
     "name": "stdout",
     "output_type": "stream",
     "text": [
      "90 ,70 ,50 ,80 ,60 ,85 ,"
     ]
    }
   ],
   "source": [
    "main([ 90 , 70 , 50 , 80 , 60 , 85 ])"
   ]
  },
  {
   "cell_type": "markdown",
   "id": "34d4a320",
   "metadata": {
    "papermill": {
     "duration": 0.003267,
     "end_time": "2024-04-08T13:37:21.546838",
     "exception": false,
     "start_time": "2024-04-08T13:37:21.543571",
     "status": "completed"
    },
    "tags": []
   },
   "source": [
    "Maximum of Integer Sequences:\n",
    "\n",
    "1 . Algorithmic ideas\n",
    "\n",
    "Compare arrays[i] with arrays[i + 1] , if arrays[i] > arrays[i + 1] are\n",
    "exchanged. So continue until the last number, arrays[length - 1] is the\n",
    "maximum"
   ]
  },
  {
   "cell_type": "code",
   "execution_count": 3,
   "id": "9a6d1118",
   "metadata": {
    "execution": {
     "iopub.execute_input": "2024-04-08T13:37:21.556211Z",
     "iopub.status.busy": "2024-04-08T13:37:21.555143Z",
     "iopub.status.idle": "2024-04-08T13:37:21.562370Z",
     "shell.execute_reply": "2024-04-08T13:37:21.561385Z"
    },
    "papermill": {
     "duration": 0.014754,
     "end_time": "2024-04-08T13:37:21.565109",
     "exception": false,
     "start_time": "2024-04-08T13:37:21.550355",
     "status": "completed"
    },
    "tags": []
   },
   "outputs": [],
   "source": [
    "def max_values(arrays):\n",
    "    length = len(arrays)\n",
    "    \n",
    "    for i in range(0, length-1):\n",
    "        if arrays[i] > arrays[i+1]:\n",
    "            temp = arrays[i]\n",
    "            arrays[i] = arrays[i+1]\n",
    "            arrays[i+1] = temp\n",
    "    max_value = arrays[-1]\n",
    "    return max_value"
   ]
  },
  {
   "cell_type": "code",
   "execution_count": 4,
   "id": "caa64949",
   "metadata": {
    "execution": {
     "iopub.execute_input": "2024-04-08T13:37:21.574394Z",
     "iopub.status.busy": "2024-04-08T13:37:21.573591Z",
     "iopub.status.idle": "2024-04-08T13:37:21.580015Z",
     "shell.execute_reply": "2024-04-08T13:37:21.578869Z"
    },
    "papermill": {
     "duration": 0.013608,
     "end_time": "2024-04-08T13:37:21.582336",
     "exception": false,
     "start_time": "2024-04-08T13:37:21.568728",
     "status": "completed"
    },
    "tags": []
   },
   "outputs": [
    {
     "name": "stdout",
     "output_type": "stream",
     "text": [
      "Max Value =  95\n"
     ]
    }
   ],
   "source": [
    "maxValue = max_values( [ 60 , 50 , 95 , 80 , 70 ])\n",
    "print ( \"Max Value = \" , maxValue)"
   ]
  },
  {
   "cell_type": "code",
   "execution_count": null,
   "id": "312790d7",
   "metadata": {
    "papermill": {
     "duration": 0.003184,
     "end_time": "2024-04-08T13:37:21.589035",
     "exception": false,
     "start_time": "2024-04-08T13:37:21.585851",
     "status": "completed"
    },
    "tags": []
   },
   "outputs": [],
   "source": []
  }
 ],
 "metadata": {
  "kaggle": {
   "accelerator": "none",
   "dataSources": [],
   "dockerImageVersionId": 30673,
   "isGpuEnabled": false,
   "isInternetEnabled": false,
   "language": "python",
   "sourceType": "notebook"
  },
  "kernelspec": {
   "display_name": "Python 3",
   "language": "python",
   "name": "python3"
  },
  "language_info": {
   "codemirror_mode": {
    "name": "ipython",
    "version": 3
   },
   "file_extension": ".py",
   "mimetype": "text/x-python",
   "name": "python",
   "nbconvert_exporter": "python",
   "pygments_lexer": "ipython3",
   "version": "3.10.13"
  },
  "papermill": {
   "default_parameters": {},
   "duration": 3.760097,
   "end_time": "2024-04-08T13:37:22.013695",
   "environment_variables": {},
   "exception": null,
   "input_path": "__notebook__.ipynb",
   "output_path": "__notebook__.ipynb",
   "parameters": {},
   "start_time": "2024-04-08T13:37:18.253598",
   "version": "2.5.0"
  }
 },
 "nbformat": 4,
 "nbformat_minor": 5
}
