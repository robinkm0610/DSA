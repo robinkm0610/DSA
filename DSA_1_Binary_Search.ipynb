{
  "nbformat": 4,
  "nbformat_minor": 0,
  "metadata": {
    "colab": {
      "provenance": [],
      "authorship_tag": "ABX9TyNQb9ci0NlsnaE079hnhr2U",
      "include_colab_link": true
    },
    "kernelspec": {
      "name": "python3",
      "display_name": "Python 3"
    },
    "language_info": {
      "name": "python"
    }
  },
  "cells": [
    {
      "cell_type": "markdown",
      "metadata": {
        "id": "view-in-github",
        "colab_type": "text"
      },
      "source": [
        "<a href=\"https://colab.research.google.com/github/robinkm0610/DSA/blob/main/DSA_1_Binary_Search.ipynb\" target=\"_parent\"><img src=\"https://colab.research.google.com/assets/colab-badge.svg\" alt=\"Open In Colab\"/></a>"
      ]
    },
    {
      "cell_type": "markdown",
      "source": [
        "## Problem\n",
        "\n",
        "This course takes a coding-focused approach towards learning. In each notebook, we'll focus on solving one problem, and learn the techniques, algorithms, and data structures to devise an *efficient* solution. We will then generalize the technique and apply it to other problems.\n",
        "\n",
        "\n",
        "\n",
        "In this notebook, we focus on solving the following problem:\n",
        "\n",
        "> **QUESTION 1:** Alice has some cards with numbers written on them. She arranges the cards in decreasing order, and lays them out face down in a sequence on a table. She challenges Bob to pick out the card containing a given number by turning over as few cards as possible. Write a function to help Bob locate the card.\n",
        "\n",
        "<img src=\"https://i.imgur.com/mazym6s.png\" width=\"480\">\n",
        "\n",
        "This may seem like a simple problem, especially if you're familiar with the concept of _binary search_, but the strategy and technique we learning here will be widely applicable, and we'll soon use it to solve harder problems.\n"
      ],
      "metadata": {
        "id": "gQ3PLDvlraiQ"
      }
    },
    {
      "cell_type": "markdown",
      "source": [
        "## The Method\n",
        "\n",
        "Upon reading the problem, you may get some ideas on how to solve it and your first instinct might be to start writing code. This is not the optimal strategy and you may end up spending a longer time trying to solve the problem due to coding errors, or may not be able to solve it at all.\n",
        "\n",
        "Here's a systematic strategy we'll apply for solving problems:\n",
        "\n",
        "1. State the problem clearly. Identify the input & output formats.\n",
        "2. Come up with some example inputs & outputs. Try to cover all edge cases.\n",
        "3. Come up with a correct solution for the problem. State it in plain English.\n",
        "4. Implement the solution and test it using example inputs. Fix bugs, if any.\n",
        "5. Analyze the algorithm's complexity and identify inefficiencies, if any.\n",
        "6. Apply the right technique to overcome the inefficiency. Repeat steps 3 to 6.\n",
        "\n",
        "_\"Applying the right technique\"_ is where the knowledge of common data structures and algorithms comes in handy.\n",
        "\n",
        "Use this template for solving problems by applying this method: https://jovian.ai/aakashns/python-problem-solving-template"
      ],
      "metadata": {
        "id": "o1LU0PosriM0"
      }
    },
    {
      "cell_type": "markdown",
      "source": [
        "## Solution\n",
        "\n",
        "\n",
        "### 1. State the problem clearly. Identify the input & output formats.\n",
        "\n",
        "You will often encounter detailed word problems in coding challenges and interviews. The first step is to state the problem clearly and precisely in abstract terms.\n",
        "\n",
        "<img src=\"https://i.imgur.com/mazym6s.png\" width=\"480\">\n",
        "\n",
        "In this case, for instance, we can represent the sequence of cards as a list of numbers. Turning over a specific card is equivalent to accessing the value of the number at the corresponding position the list.\n",
        "\n",
        "<img src=\"https://i.imgur.com/G9fBarb.png\" width=\"600\">\n",
        "\n",
        "The problem can now be stated as follows:\n",
        "\n",
        "#### Problem\n",
        "\n",
        "> We need to write a program to find the position of a given number in a list of numbers arranged in decreasing order. We also need to minimize the number of times we access elements from the list.\n",
        "\n",
        "#### Input\n",
        "\n",
        "1. `cards`: A list of numbers sorted in decreasing order. E.g. `[13, 11, 10, 7, 4, 3, 1, 0]`\n",
        "2. `query`: A number, whose position in the array is to be determined. E.g. `7`\n",
        "\n",
        "#### Output\n",
        "\n",
        "3. `position`: The position of `query` in the list `cards`. E.g. `3` in the above case (counting from `0`)\n",
        "\n",
        "\n",
        "\n",
        "Based on the above, we can now create the signature of our function:"
      ],
      "metadata": {
        "id": "tMGqkmn6rqVr"
      }
    },
    {
      "cell_type": "code",
      "source": [
        "def locate_card(cards, query):\n",
        "    pass"
      ],
      "metadata": {
        "id": "5oog8h4EraI3"
      },
      "execution_count": 1,
      "outputs": []
    },
    {
      "cell_type": "markdown",
      "source": [
        "**Tips**:\n",
        "\n",
        "* Name your function appropriately and think carefully about the signature\n",
        "* Discuss the problem with the interviewer if you are unsure how to frame it in abstract terms\n",
        "* Use descriptive variable names, otherwise you may forget what a variable represents\n"
      ],
      "metadata": {
        "id": "WPk8U8SssFT-"
      }
    },
    {
      "cell_type": "markdown",
      "source": [
        "### 2. Come up with some example inputs & outputs. Try to cover all edge cases.\n",
        "\n",
        "Before we start implementing our function, it would be useful to come up with some example inputs and outputs which we can use later to test out problem. We'll refer to them as *test cases*.\n",
        "\n",
        "Here's the test case described in the example above."
      ],
      "metadata": {
        "id": "WLWjYfLOsMzb"
      }
    },
    {
      "cell_type": "code",
      "source": [
        "cards = [13, 11, 10, 7, 4, 3, 1, 0]\n",
        "query = 7\n",
        "output = 3"
      ],
      "metadata": {
        "id": "SQysSGQ0sKg9"
      },
      "execution_count": 3,
      "outputs": []
    },
    {
      "cell_type": "markdown",
      "source": [
        "We can test our function by passing the inputs into function and comparing the result with the expected output."
      ],
      "metadata": {
        "id": "3z-zDKMasU9F"
      }
    },
    {
      "cell_type": "code",
      "execution_count": 4,
      "metadata": {
        "colab": {
          "base_uri": "https://localhost:8080/"
        },
        "id": "6gLTdCSerTOv",
        "outputId": "2447fbc5-3aeb-4b72-fc88-bc011cec542d"
      },
      "outputs": [
        {
          "output_type": "stream",
          "name": "stdout",
          "text": [
            "None\n"
          ]
        }
      ],
      "source": [
        "result = locate_card(cards, query)\n",
        "print(result)"
      ]
    },
    {
      "cell_type": "code",
      "source": [
        "result == output"
      ],
      "metadata": {
        "colab": {
          "base_uri": "https://localhost:8080/"
        },
        "id": "kXeAqWZasYM1",
        "outputId": "1a5938de-3bf9-483d-96d3-7c1ff3bb216d"
      },
      "execution_count": 5,
      "outputs": [
        {
          "output_type": "execute_result",
          "data": {
            "text/plain": [
              "False"
            ]
          },
          "metadata": {},
          "execution_count": 5
        }
      ]
    },
    {
      "cell_type": "markdown",
      "source": [
        "Obviously, the two result does not match the output as we have not yet implemented the function.\n",
        "\n",
        "We'll represent our test cases as dictionaries to make it easier to test them once we write implement our function. For example, the above test case can be represented as follows:"
      ],
      "metadata": {
        "id": "KAVIPKM7sijk"
      }
    },
    {
      "cell_type": "code",
      "source": [
        "test = {\n",
        "    'input': {\n",
        "        'cards': [13, 11, 10, 7, 4, 3, 1, 0],\n",
        "        'query': 7\n",
        "    },\n",
        "    'output': 3\n",
        "}"
      ],
      "metadata": {
        "id": "iDx2LWcysflG"
      },
      "execution_count": 6,
      "outputs": []
    },
    {
      "cell_type": "markdown",
      "source": [
        "The function can now be tested as follows."
      ],
      "metadata": {
        "id": "l0mNUFousy4-"
      }
    },
    {
      "cell_type": "code",
      "source": [
        "locate_card(**test['input']) == test['output']"
      ],
      "metadata": {
        "colab": {
          "base_uri": "https://localhost:8080/"
        },
        "id": "WxYlJ500smM1",
        "outputId": "9af43742-514f-4f06-a430-bd6439032cd0"
      },
      "execution_count": 7,
      "outputs": [
        {
          "output_type": "execute_result",
          "data": {
            "text/plain": [
              "False"
            ]
          },
          "metadata": {},
          "execution_count": 7
        }
      ]
    },
    {
      "cell_type": "markdown",
      "source": [
        "Our function should be able to handle any set of valid inputs we pass into it. Here's a list of some possible variations we might encounter:\n",
        "\n",
        "1. The number `query` occurs somewhere in the middle of the list `cards`.\n",
        "2. `query` is the first element in `cards`.\n",
        "3. `query` is the last element in `cards`.\n",
        "4. The list `cards` contains just one element, which is `query`.\n",
        "5. The list `cards` does not contain number `query`.\n",
        "6. The list `cards` is empty.\n",
        "7. The list `cards` contains repeating numbers.\n",
        "8. The number `query` occurs at more than one position in `cards`.\n",
        "9. (can you think of any more variations?)\n",
        "\n",
        "> **Edge Cases**: It's likely that you didn't think of all of the above cases when you read the problem for the first time. Some of these (like the empty array or `query` not occurring in `cards`) are called *edge cases*, as they represent rare or extreme examples.\n",
        "\n",
        "While edge cases may not occur frequently, your programs should be able to handle all edge cases, otherwise they may fail in unexpected ways. Let's create some more test cases for the variations listed above. We'll store all our test cases in an list for easier testing."
      ],
      "metadata": {
        "id": "LRBpLb3itDT-"
      }
    },
    {
      "cell_type": "code",
      "source": [
        "tests = []"
      ],
      "metadata": {
        "id": "eQ8TSa8Hs3bN"
      },
      "execution_count": 8,
      "outputs": []
    },
    {
      "cell_type": "code",
      "source": [
        "# query occurs in the middle\n",
        "tests.append(test)\n",
        "\n",
        "tests.append({\n",
        "    'input': {\n",
        "        'cards': [13, 11, 10, 7, 4, 3, 1, 0],\n",
        "        'query': 1\n",
        "    },\n",
        "    'output': 6\n",
        "})"
      ],
      "metadata": {
        "id": "yDvg1AcCuCjw"
      },
      "execution_count": 9,
      "outputs": []
    },
    {
      "cell_type": "code",
      "source": [
        "# query is the first element\n",
        "tests.append({\n",
        "    'input': {\n",
        "        'cards': [4, 2, 1, -1],\n",
        "        'query': 4\n",
        "    },\n",
        "    'output': 0\n",
        "})"
      ],
      "metadata": {
        "id": "ETiCn7AruFSe"
      },
      "execution_count": 10,
      "outputs": []
    },
    {
      "cell_type": "code",
      "source": [
        "# query is the last element\n",
        "tests.append({\n",
        "    'input': {\n",
        "        'cards': [3, -1, -9, -127],\n",
        "        'query': -127\n",
        "    },\n",
        "    'output': 3\n",
        "})"
      ],
      "metadata": {
        "id": "qLrFX-YNuHUj"
      },
      "execution_count": 11,
      "outputs": []
    },
    {
      "cell_type": "code",
      "source": [
        "# cards contains just one element, query\n",
        "tests.append({\n",
        "    'input': {\n",
        "        'cards': [6],\n",
        "        'query': 6\n",
        "    },\n",
        "    'output': 0\n",
        "})"
      ],
      "metadata": {
        "id": "MZJYqKHzuJ2j"
      },
      "execution_count": 12,
      "outputs": []
    },
    {
      "cell_type": "markdown",
      "source": [
        "The problem statement does not specify what to do if the list `cards` does not contain the number `query`.\n",
        "\n",
        "1. Read the problem statement again, carefully.\n",
        "2. Look through the examples provided with the problem.\n",
        "3. Ask the interviewer/platform for a clarification.\n",
        "4. Make a reasonable assumption, state it and move forward.\n",
        "\n",
        "We will assume that our function will return `-1` in case `cards` does not contain `query`."
      ],
      "metadata": {
        "id": "t4WBolKLuUKD"
      }
    },
    {
      "cell_type": "code",
      "source": [
        "# cards does not contain query\n",
        "tests.append({\n",
        "    'input': {\n",
        "        'cards': [9, 7, 5, 2, -9],\n",
        "        'query': 4\n",
        "    },\n",
        "    'output': -1\n",
        "})"
      ],
      "metadata": {
        "id": "6kwFePt_uMVY"
      },
      "execution_count": 13,
      "outputs": []
    },
    {
      "cell_type": "code",
      "source": [
        "# cards is empty\n",
        "tests.append({\n",
        "    'input': {\n",
        "        'cards': [],\n",
        "        'query': 7\n",
        "    },\n",
        "    'output': -1\n",
        "})"
      ],
      "metadata": {
        "id": "I1_XdWnXuWgB"
      },
      "execution_count": 14,
      "outputs": []
    },
    {
      "cell_type": "code",
      "source": [
        "# numbers can repeat in cards\n",
        "tests.append({\n",
        "    'input': {\n",
        "        'cards': [8, 8, 6, 6, 6, 6, 6, 3, 2, 2, 2, 0, 0, 0],\n",
        "        'query': 3\n",
        "    },\n",
        "    'output': 7\n",
        "})"
      ],
      "metadata": {
        "id": "M_qz_F9muZ0v"
      },
      "execution_count": 15,
      "outputs": []
    },
    {
      "cell_type": "markdown",
      "source": [
        "In the case where `query` occurs multiple times in `cards`, we'll expect our function to return the first occurrence of `query`.\n",
        "\n",
        "While it may also be acceptable for the function to return any position where `query` occurs within the list, it would be slightly more difficult to test the function, as the output is non-deterministic."
      ],
      "metadata": {
        "id": "afXkUcHAuhAX"
      }
    },
    {
      "cell_type": "code",
      "source": [
        "# query occurs multiple times\n",
        "tests.append({\n",
        "    'input': {\n",
        "        'cards': [8, 8, 6, 6, 6, 6, 6, 6, 3, 2, 2, 2, 0, 0, 0],\n",
        "        'query': 6\n",
        "    },\n",
        "    'output': 2\n",
        "})"
      ],
      "metadata": {
        "id": "BV7FY5i_uc8c"
      },
      "execution_count": 16,
      "outputs": []
    },
    {
      "cell_type": "markdown",
      "source": [
        "Let's look at the full set of test cases we have created so far."
      ],
      "metadata": {
        "id": "hy9bHA32umTn"
      }
    },
    {
      "cell_type": "code",
      "source": [
        "tests"
      ],
      "metadata": {
        "colab": {
          "base_uri": "https://localhost:8080/"
        },
        "id": "sqqZPJjSukN2",
        "outputId": "f2990a8e-3c55-472f-e4b6-6fe8222906a7"
      },
      "execution_count": 17,
      "outputs": [
        {
          "output_type": "execute_result",
          "data": {
            "text/plain": [
              "[{'input': {'cards': [13, 11, 10, 7, 4, 3, 1, 0], 'query': 7}, 'output': 3},\n",
              " {'input': {'cards': [13, 11, 10, 7, 4, 3, 1, 0], 'query': 1}, 'output': 6},\n",
              " {'input': {'cards': [4, 2, 1, -1], 'query': 4}, 'output': 0},\n",
              " {'input': {'cards': [3, -1, -9, -127], 'query': -127}, 'output': 3},\n",
              " {'input': {'cards': [6], 'query': 6}, 'output': 0},\n",
              " {'input': {'cards': [9, 7, 5, 2, -9], 'query': 4}, 'output': -1},\n",
              " {'input': {'cards': [], 'query': 7}, 'output': -1},\n",
              " {'input': {'cards': [8, 8, 6, 6, 6, 6, 6, 3, 2, 2, 2, 0, 0, 0], 'query': 3},\n",
              "  'output': 7},\n",
              " {'input': {'cards': [8, 8, 6, 6, 6, 6, 6, 6, 3, 2, 2, 2, 0, 0, 0],\n",
              "   'query': 6},\n",
              "  'output': 2}]"
            ]
          },
          "metadata": {},
          "execution_count": 17
        }
      ]
    },
    {
      "cell_type": "markdown",
      "source": [
        "Great, now we have a fairly exhaustive set of test cases to evaluate our function.\n",
        "\n",
        "Creating test cases beforehand allows you to identify different variations and edge cases in advance so that can make sure to handle them while writing code. Sometimes, you may start out confused, but the solution will reveal itself as you try to come up with interesting test cases.\n",
        "\n",
        "\n",
        "**Tip:** Don't stress it if you can't come up with an exhaustive list of test cases though. You can come back to this section and add more test cases as you discover them. Coming up with good test cases is a skill that takes practice.\n"
      ],
      "metadata": {
        "id": "MiaRhJ00u1FA"
      }
    },
    {
      "cell_type": "markdown",
      "source": [
        "### 3. Come up with a correct solution for the problem. State it in plain English.\n",
        "\n",
        "Our first goal should always be to come up with a _correct_ solution to the problem, which may necessarily be the most _efficient_ solution. The simplest or most obvious solution to a problem, which generally involves checking all possible answers is called the _brute force_ solution.\n",
        "\n",
        "In this problem, coming up with a correct solution is quite easy: Bob can simply turn over cards in order one by one, till he find a card with the given number on it. Here's how we might implement it:\n",
        "\n",
        "1. Create a variable `position` with the value 0.\n",
        "3. Check whether the number at index `position` in `card` equals `query`.\n",
        "4. If it does, `position` is the answer and can be returned from the function\n",
        "5. If not, increment the value of `position` by 1, and repeat steps 2 to 5 till we reach the last position.\n",
        "6. If the number was not found, return `-1`.\n",
        "\n",
        "> **Linear Search Algorithm**: Congratulations, we've just written our first _algorithm_! An algorithm is simply a list of statements which can be converted into code and executed by a computer on different sets of inputs. This particular algorithm is called linear search, since it involves searching through a list in a linear fashion i.e. element after element.\n",
        "\n",
        "\n",
        "**Tip:** Always try to express (speak or write) the algorithm in your own words before you start coding. It can be as brief or detailed as you require it to be. Writing is a great tool for thinking clearly. It's likely that you will find some parts of the solution difficult to express, which suggests that you are probably unable to think about it clearly. The more clearly you are able to express your thoughts, the easier it will be for you to turn into code."
      ],
      "metadata": {
        "id": "oOT74MhZvDEA"
      }
    },
    {
      "cell_type": "markdown",
      "source": [
        "### 4. Implement the solution and test it using example inputs. Fix bugs, if any.\n",
        "\n",
        "Phew! We are finally ready to implement our solution. All the work we've done so far will definitely come in handy, as we now exactly what we want our function to do, and we have an easy way of testing it on a variety of inputs.\n",
        "\n",
        "Here's a first attempt at implementing the function."
      ],
      "metadata": {
        "id": "xsxv4PnsvLOs"
      }
    },
    {
      "cell_type": "code",
      "source": [
        "def locate_card(cards, query):\n",
        "    # Create a variable position with the value 0\n",
        "    position = 0\n",
        "\n",
        "    # Set up a loop for repetition\n",
        "    while True:\n",
        "\n",
        "        # Check if element at the current position matche the query\n",
        "        if cards[position] == query:\n",
        "\n",
        "            # Answer found! Return and exit..\n",
        "            return position\n",
        "\n",
        "        # Increment the position\n",
        "        position += 1\n",
        "\n",
        "        # Check if we have reached the end of the array\n",
        "        if position == len(cards):\n",
        "\n",
        "            # Number not found, return -1\n",
        "            return -1"
      ],
      "metadata": {
        "id": "NjhFdildunnQ"
      },
      "execution_count": 18,
      "outputs": []
    },
    {
      "cell_type": "markdown",
      "source": [
        "Let's test out the function with the first test case"
      ],
      "metadata": {
        "id": "aVtnOrnhv2b5"
      }
    },
    {
      "cell_type": "code",
      "source": [
        "test"
      ],
      "metadata": {
        "colab": {
          "base_uri": "https://localhost:8080/"
        },
        "id": "LLqklPghv12T",
        "outputId": "a2ff75ec-0129-4b9c-a23f-309ad4b1862d"
      },
      "execution_count": 19,
      "outputs": [
        {
          "output_type": "execute_result",
          "data": {
            "text/plain": [
              "{'input': {'cards': [13, 11, 10, 7, 4, 3, 1, 0], 'query': 7}, 'output': 3}"
            ]
          },
          "metadata": {},
          "execution_count": 19
        }
      ]
    },
    {
      "cell_type": "code",
      "source": [
        "locate_card(**test['input']) == test['output']"
      ],
      "metadata": {
        "colab": {
          "base_uri": "https://localhost:8080/"
        },
        "id": "i73kmSEev48z",
        "outputId": "88d2a112-0ee5-4dc4-c5b5-bee6f30e56d1"
      },
      "execution_count": 21,
      "outputs": [
        {
          "output_type": "execute_result",
          "data": {
            "text/plain": [
              "True"
            ]
          },
          "metadata": {},
          "execution_count": 21
        }
      ]
    },
    {
      "cell_type": "markdown",
      "source": [
        "Yay! The result matches the output.\n",
        "\n",
        "To help you test your functions easily the `jovian` Python library provides a helper function `evalute_test_case`. Apart from checking whether the function produces the expected result, it also displays the input, expected output, actual output from the function, and the execution time of the function."
      ],
      "metadata": {
        "id": "h934PS4Qwj_v"
      }
    },
    {
      "cell_type": "code",
      "source": [
        "!pip install jovian --upgrade --quiet"
      ],
      "metadata": {
        "colab": {
          "base_uri": "https://localhost:8080/"
        },
        "id": "YyI2KAAtwZ2v",
        "outputId": "9ab2dcee-a944-4fef-bb65-3d2eb4bf55f3"
      },
      "execution_count": 22,
      "outputs": [
        {
          "output_type": "stream",
          "name": "stdout",
          "text": [
            "\u001b[?25l     \u001b[90m━━━━━━━━━━━━━━━━━━━━━━━━━━━━━━━━━━━━━━━━\u001b[0m \u001b[32m0.0/68.6 kB\u001b[0m \u001b[31m?\u001b[0m eta \u001b[36m-:--:--\u001b[0m\r\u001b[2K     \u001b[91m━━━━━━━━━━━━━━━━━━━━━━━━━━━━━━━━━━━\u001b[0m\u001b[91m╸\u001b[0m\u001b[90m━━━━\u001b[0m \u001b[32m61.4/68.6 kB\u001b[0m \u001b[31m1.9 MB/s\u001b[0m eta \u001b[36m0:00:01\u001b[0m\r\u001b[2K     \u001b[90m━━━━━━━━━━━━━━━━━━━━━━━━━━━━━━━━━━━━━━━━\u001b[0m \u001b[32m68.6/68.6 kB\u001b[0m \u001b[31m1.6 MB/s\u001b[0m eta \u001b[36m0:00:00\u001b[0m\n",
            "\u001b[?25h  Preparing metadata (setup.py) ... \u001b[?25l\u001b[?25hdone\n",
            "  Building wheel for uuid (setup.py) ... \u001b[?25l\u001b[?25hdone\n"
          ]
        }
      ]
    },
    {
      "cell_type": "code",
      "source": [
        "from jovian.pythondsa import evaluate_test_case"
      ],
      "metadata": {
        "id": "DX19Ktgjw4k0"
      },
      "execution_count": 23,
      "outputs": []
    },
    {
      "cell_type": "code",
      "source": [
        "evaluate_test_case(locate_card, test)"
      ],
      "metadata": {
        "colab": {
          "base_uri": "https://localhost:8080/"
        },
        "id": "ELJYXyUuxAM7",
        "outputId": "577d28c2-3827-4325-ef6c-9ca4347e7815"
      },
      "execution_count": 24,
      "outputs": [
        {
          "output_type": "stream",
          "name": "stdout",
          "text": [
            "\n",
            "Input:\n",
            "{'cards': [13, 11, 10, 7, 4, 3, 1, 0], 'query': 7}\n",
            "\n",
            "Expected Output:\n",
            "3\n",
            "\n",
            "\n",
            "Actual Output:\n",
            "3\n",
            "\n",
            "Execution Time:\n",
            "0.004 ms\n",
            "\n",
            "Test Result:\n",
            "\u001b[92mPASSED\u001b[0m\n",
            "\n"
          ]
        },
        {
          "output_type": "execute_result",
          "data": {
            "text/plain": [
              "(3, True, 0.004)"
            ]
          },
          "metadata": {},
          "execution_count": 24
        }
      ]
    },
    {
      "cell_type": "markdown",
      "source": [
        "While it may seem like we have a working solution based on the above test, we can't be sure about it until we test the function with all the test cases.\n",
        "\n",
        "We can use the `evaluate_test_cases` (plural) function from the `jovian` library to test our function on all the test cases with a single line of code."
      ],
      "metadata": {
        "id": "4Zb89rgbxK2X"
      }
    },
    {
      "cell_type": "code",
      "source": [
        "from jovian.pythondsa import evaluate_test_cases"
      ],
      "metadata": {
        "id": "t1NXDuMLxF6R"
      },
      "execution_count": 25,
      "outputs": []
    },
    {
      "cell_type": "code",
      "source": [
        "evaluate_test_cases(locate_card, tests)"
      ],
      "metadata": {
        "colab": {
          "base_uri": "https://localhost:8080/",
          "height": 1000
        },
        "id": "fHuQRBryxROk",
        "outputId": "638dcf57-eded-4104-caee-3e74b536ee00"
      },
      "execution_count": 26,
      "outputs": [
        {
          "output_type": "stream",
          "name": "stdout",
          "text": [
            "\n",
            "\u001b[1mTEST CASE #0\u001b[0m\n",
            "\n",
            "Input:\n",
            "{'cards': [13, 11, 10, 7, 4, 3, 1, 0], 'query': 7}\n",
            "\n",
            "Expected Output:\n",
            "3\n",
            "\n",
            "\n",
            "Actual Output:\n",
            "3\n",
            "\n",
            "Execution Time:\n",
            "0.005 ms\n",
            "\n",
            "Test Result:\n",
            "\u001b[92mPASSED\u001b[0m\n",
            "\n",
            "\n",
            "\u001b[1mTEST CASE #1\u001b[0m\n",
            "\n",
            "Input:\n",
            "{'cards': [13, 11, 10, 7, 4, 3, 1, 0], 'query': 1}\n",
            "\n",
            "Expected Output:\n",
            "6\n",
            "\n",
            "\n",
            "Actual Output:\n",
            "6\n",
            "\n",
            "Execution Time:\n",
            "0.004 ms\n",
            "\n",
            "Test Result:\n",
            "\u001b[92mPASSED\u001b[0m\n",
            "\n",
            "\n",
            "\u001b[1mTEST CASE #2\u001b[0m\n",
            "\n",
            "Input:\n",
            "{'cards': [4, 2, 1, -1], 'query': 4}\n",
            "\n",
            "Expected Output:\n",
            "0\n",
            "\n",
            "\n",
            "Actual Output:\n",
            "0\n",
            "\n",
            "Execution Time:\n",
            "0.002 ms\n",
            "\n",
            "Test Result:\n",
            "\u001b[92mPASSED\u001b[0m\n",
            "\n",
            "\n",
            "\u001b[1mTEST CASE #3\u001b[0m\n",
            "\n",
            "Input:\n",
            "{'cards': [3, -1, -9, -127], 'query': -127}\n",
            "\n",
            "Expected Output:\n",
            "3\n",
            "\n",
            "\n",
            "Actual Output:\n",
            "3\n",
            "\n",
            "Execution Time:\n",
            "0.003 ms\n",
            "\n",
            "Test Result:\n",
            "\u001b[92mPASSED\u001b[0m\n",
            "\n",
            "\n",
            "\u001b[1mTEST CASE #4\u001b[0m\n",
            "\n",
            "Input:\n",
            "{'cards': [6], 'query': 6}\n",
            "\n",
            "Expected Output:\n",
            "0\n",
            "\n",
            "\n",
            "Actual Output:\n",
            "0\n",
            "\n",
            "Execution Time:\n",
            "0.002 ms\n",
            "\n",
            "Test Result:\n",
            "\u001b[92mPASSED\u001b[0m\n",
            "\n",
            "\n",
            "\u001b[1mTEST CASE #5\u001b[0m\n",
            "\n",
            "Input:\n",
            "{'cards': [9, 7, 5, 2, -9], 'query': 4}\n",
            "\n",
            "Expected Output:\n",
            "-1\n",
            "\n",
            "\n",
            "Actual Output:\n",
            "-1\n",
            "\n",
            "Execution Time:\n",
            "0.007 ms\n",
            "\n",
            "Test Result:\n",
            "\u001b[92mPASSED\u001b[0m\n",
            "\n",
            "\n",
            "\u001b[1mTEST CASE #6\u001b[0m\n"
          ]
        },
        {
          "output_type": "error",
          "ename": "IndexError",
          "evalue": "list index out of range",
          "traceback": [
            "\u001b[0;31m---------------------------------------------------------------------------\u001b[0m",
            "\u001b[0;31mIndexError\u001b[0m                                Traceback (most recent call last)",
            "\u001b[0;32m<ipython-input-26-2111dddaa84c>\u001b[0m in \u001b[0;36m<cell line: 1>\u001b[0;34m()\u001b[0m\n\u001b[0;32m----> 1\u001b[0;31m \u001b[0mevaluate_test_cases\u001b[0m\u001b[0;34m(\u001b[0m\u001b[0mlocate_card\u001b[0m\u001b[0;34m,\u001b[0m \u001b[0mtests\u001b[0m\u001b[0;34m)\u001b[0m\u001b[0;34m\u001b[0m\u001b[0;34m\u001b[0m\u001b[0m\n\u001b[0m",
            "\u001b[0;32m/usr/local/lib/python3.10/dist-packages/jovian/pythondsa/__init__.py\u001b[0m in \u001b[0;36mevaluate_test_cases\u001b[0;34m(function, test_cases, error_only, summary_only)\u001b[0m\n\u001b[1;32m     85\u001b[0m         \u001b[0;32mif\u001b[0m \u001b[0;32mnot\u001b[0m \u001b[0merror_only\u001b[0m\u001b[0;34m:\u001b[0m\u001b[0;34m\u001b[0m\u001b[0;34m\u001b[0m\u001b[0m\n\u001b[1;32m     86\u001b[0m             \u001b[0mprint\u001b[0m\u001b[0;34m(\u001b[0m\u001b[0;34m\"\\n\\033[1mTEST CASE #{}\\033[0m\"\u001b[0m\u001b[0;34m.\u001b[0m\u001b[0mformat\u001b[0m\u001b[0;34m(\u001b[0m\u001b[0mi\u001b[0m\u001b[0;34m)\u001b[0m\u001b[0;34m)\u001b[0m\u001b[0;34m\u001b[0m\u001b[0;34m\u001b[0m\u001b[0m\n\u001b[0;32m---> 87\u001b[0;31m         \u001b[0mresult\u001b[0m \u001b[0;34m=\u001b[0m \u001b[0mevaluate_test_case\u001b[0m\u001b[0;34m(\u001b[0m\u001b[0mfunction\u001b[0m\u001b[0;34m,\u001b[0m \u001b[0mtest_case\u001b[0m\u001b[0;34m,\u001b[0m \u001b[0mdisplay\u001b[0m\u001b[0;34m=\u001b[0m\u001b[0;32mFalse\u001b[0m\u001b[0;34m)\u001b[0m\u001b[0;34m\u001b[0m\u001b[0;34m\u001b[0m\u001b[0m\n\u001b[0m\u001b[1;32m     88\u001b[0m         \u001b[0mresults\u001b[0m\u001b[0;34m.\u001b[0m\u001b[0mappend\u001b[0m\u001b[0;34m(\u001b[0m\u001b[0mresult\u001b[0m\u001b[0;34m)\u001b[0m\u001b[0;34m\u001b[0m\u001b[0;34m\u001b[0m\u001b[0m\n\u001b[1;32m     89\u001b[0m         \u001b[0;32mif\u001b[0m \u001b[0merror_only\u001b[0m \u001b[0;32mand\u001b[0m \u001b[0;32mnot\u001b[0m \u001b[0mresult\u001b[0m\u001b[0;34m[\u001b[0m\u001b[0;36m1\u001b[0m\u001b[0;34m]\u001b[0m\u001b[0;34m:\u001b[0m\u001b[0;34m\u001b[0m\u001b[0;34m\u001b[0m\u001b[0m\n",
            "\u001b[0;32m/usr/local/lib/python3.10/dist-packages/jovian/pythondsa/__init__.py\u001b[0m in \u001b[0;36mevaluate_test_case\u001b[0;34m(function, test_case, display)\u001b[0m\n\u001b[1;32m     63\u001b[0m \u001b[0;34m\u001b[0m\u001b[0m\n\u001b[1;32m     64\u001b[0m     \u001b[0mstart\u001b[0m \u001b[0;34m=\u001b[0m \u001b[0mtimer\u001b[0m\u001b[0;34m(\u001b[0m\u001b[0;34m)\u001b[0m\u001b[0;34m\u001b[0m\u001b[0;34m\u001b[0m\u001b[0m\n\u001b[0;32m---> 65\u001b[0;31m     \u001b[0mactual_output\u001b[0m \u001b[0;34m=\u001b[0m \u001b[0mfunction\u001b[0m\u001b[0;34m(\u001b[0m\u001b[0;34m**\u001b[0m\u001b[0minputs\u001b[0m\u001b[0;34m)\u001b[0m\u001b[0;34m\u001b[0m\u001b[0;34m\u001b[0m\u001b[0m\n\u001b[0m\u001b[1;32m     66\u001b[0m     \u001b[0mend\u001b[0m \u001b[0;34m=\u001b[0m \u001b[0mtimer\u001b[0m\u001b[0;34m(\u001b[0m\u001b[0;34m)\u001b[0m\u001b[0;34m\u001b[0m\u001b[0;34m\u001b[0m\u001b[0m\n\u001b[1;32m     67\u001b[0m \u001b[0;34m\u001b[0m\u001b[0m\n",
            "\u001b[0;32m<ipython-input-18-9ed30c367c36>\u001b[0m in \u001b[0;36mlocate_card\u001b[0;34m(cards, query)\u001b[0m\n\u001b[1;32m      7\u001b[0m \u001b[0;34m\u001b[0m\u001b[0m\n\u001b[1;32m      8\u001b[0m         \u001b[0;31m# Check if element at the current position matche the query\u001b[0m\u001b[0;34m\u001b[0m\u001b[0;34m\u001b[0m\u001b[0m\n\u001b[0;32m----> 9\u001b[0;31m         \u001b[0;32mif\u001b[0m \u001b[0mcards\u001b[0m\u001b[0;34m[\u001b[0m\u001b[0mposition\u001b[0m\u001b[0;34m]\u001b[0m \u001b[0;34m==\u001b[0m \u001b[0mquery\u001b[0m\u001b[0;34m:\u001b[0m\u001b[0;34m\u001b[0m\u001b[0;34m\u001b[0m\u001b[0m\n\u001b[0m\u001b[1;32m     10\u001b[0m \u001b[0;34m\u001b[0m\u001b[0m\n\u001b[1;32m     11\u001b[0m             \u001b[0;31m# Answer found! Return and exit..\u001b[0m\u001b[0;34m\u001b[0m\u001b[0;34m\u001b[0m\u001b[0m\n",
            "\u001b[0;31mIndexError\u001b[0m: list index out of range"
          ]
        }
      ]
    },
    {
      "cell_type": "markdown",
      "source": [
        "Oh no! Looks like our function encountered an error in the sixth test case. The error message suggests that we're trying to access an index outside the range of valid indices in the list. Looks like the list `cards` is empty in this case, and may be the root of the problem.\n",
        "\n",
        "Let's add some `print` statements within our function to print the inputs and the value of the `position` variable in each loop."
      ],
      "metadata": {
        "id": "Tkne53DIxqVU"
      }
    },
    {
      "cell_type": "code",
      "source": [
        "def locate_card(cards, query):\n",
        "    position = 0\n",
        "\n",
        "    print('cards:', cards)\n",
        "    print('query:', query)\n",
        "\n",
        "    while True:\n",
        "        print('position:', position)\n",
        "\n",
        "        if cards[position] == query:\n",
        "            return position\n",
        "\n",
        "        position += 1\n",
        "        if position == len(cards):\n",
        "            return -1"
      ],
      "metadata": {
        "id": "RbpyxucYxbUR"
      },
      "execution_count": 27,
      "outputs": []
    },
    {
      "cell_type": "code",
      "source": [
        "cards6 = tests[6]['input']['cards']\n",
        "query6 = tests[6]['input']['query']\n",
        "\n",
        "locate_card(cards6, query6)"
      ],
      "metadata": {
        "colab": {
          "base_uri": "https://localhost:8080/",
          "height": 399
        },
        "id": "AE1bflcMx98r",
        "outputId": "8260c754-9fd2-4800-9996-fd015c182fe2"
      },
      "execution_count": 32,
      "outputs": [
        {
          "output_type": "stream",
          "name": "stdout",
          "text": [
            "cards: []\n",
            "query: 7\n",
            "position: 0\n"
          ]
        },
        {
          "output_type": "error",
          "ename": "IndexError",
          "evalue": "list index out of range",
          "traceback": [
            "\u001b[0;31m---------------------------------------------------------------------------\u001b[0m",
            "\u001b[0;31mIndexError\u001b[0m                                Traceback (most recent call last)",
            "\u001b[0;32m<ipython-input-32-5f727cb3c2c3>\u001b[0m in \u001b[0;36m<cell line: 4>\u001b[0;34m()\u001b[0m\n\u001b[1;32m      2\u001b[0m \u001b[0mquery6\u001b[0m \u001b[0;34m=\u001b[0m \u001b[0mtests\u001b[0m\u001b[0;34m[\u001b[0m\u001b[0;36m6\u001b[0m\u001b[0;34m]\u001b[0m\u001b[0;34m[\u001b[0m\u001b[0;34m'input'\u001b[0m\u001b[0;34m]\u001b[0m\u001b[0;34m[\u001b[0m\u001b[0;34m'query'\u001b[0m\u001b[0;34m]\u001b[0m\u001b[0;34m\u001b[0m\u001b[0;34m\u001b[0m\u001b[0m\n\u001b[1;32m      3\u001b[0m \u001b[0;34m\u001b[0m\u001b[0m\n\u001b[0;32m----> 4\u001b[0;31m \u001b[0mlocate_card\u001b[0m\u001b[0;34m(\u001b[0m\u001b[0mcards6\u001b[0m\u001b[0;34m,\u001b[0m \u001b[0mquery6\u001b[0m\u001b[0;34m)\u001b[0m\u001b[0;34m\u001b[0m\u001b[0;34m\u001b[0m\u001b[0m\n\u001b[0m",
            "\u001b[0;32m<ipython-input-27-aabbbc74d5cf>\u001b[0m in \u001b[0;36mlocate_card\u001b[0;34m(cards, query)\u001b[0m\n\u001b[1;32m      8\u001b[0m         \u001b[0mprint\u001b[0m\u001b[0;34m(\u001b[0m\u001b[0;34m'position:'\u001b[0m\u001b[0;34m,\u001b[0m \u001b[0mposition\u001b[0m\u001b[0;34m)\u001b[0m\u001b[0;34m\u001b[0m\u001b[0;34m\u001b[0m\u001b[0m\n\u001b[1;32m      9\u001b[0m \u001b[0;34m\u001b[0m\u001b[0m\n\u001b[0;32m---> 10\u001b[0;31m         \u001b[0;32mif\u001b[0m \u001b[0mcards\u001b[0m\u001b[0;34m[\u001b[0m\u001b[0mposition\u001b[0m\u001b[0;34m]\u001b[0m \u001b[0;34m==\u001b[0m \u001b[0mquery\u001b[0m\u001b[0;34m:\u001b[0m\u001b[0;34m\u001b[0m\u001b[0;34m\u001b[0m\u001b[0m\n\u001b[0m\u001b[1;32m     11\u001b[0m             \u001b[0;32mreturn\u001b[0m \u001b[0mposition\u001b[0m\u001b[0;34m\u001b[0m\u001b[0;34m\u001b[0m\u001b[0m\n\u001b[1;32m     12\u001b[0m \u001b[0;34m\u001b[0m\u001b[0m\n",
            "\u001b[0;31mIndexError\u001b[0m: list index out of range"
          ]
        }
      ]
    },
    {
      "cell_type": "code",
      "source": [
        "def locate_card(cards, query):\n",
        "    position = 0\n",
        "    while position < len(cards):\n",
        "        if cards[position] == query:\n",
        "            return position\n",
        "        position += 1\n",
        "    return -1"
      ],
      "metadata": {
        "id": "-yoKCbfByXks"
      },
      "execution_count": 33,
      "outputs": []
    },
    {
      "cell_type": "markdown",
      "source": [
        "Let's test the failing case again."
      ],
      "metadata": {
        "id": "sCSqmRsMzyig"
      }
    },
    {
      "cell_type": "code",
      "source": [
        "tests[6]"
      ],
      "metadata": {
        "colab": {
          "base_uri": "https://localhost:8080/"
        },
        "id": "fRFq5OUBzuQP",
        "outputId": "5d7dff3d-debd-4ceb-a526-14653dab2b7c"
      },
      "execution_count": 34,
      "outputs": [
        {
          "output_type": "execute_result",
          "data": {
            "text/plain": [
              "{'input': {'cards': [], 'query': 7}, 'output': -1}"
            ]
          },
          "metadata": {},
          "execution_count": 34
        }
      ]
    },
    {
      "cell_type": "code",
      "source": [
        "locate_card(cards6, query6)"
      ],
      "metadata": {
        "colab": {
          "base_uri": "https://localhost:8080/"
        },
        "id": "1qIbQROBz1GH",
        "outputId": "cf92b69c-b178-44f4-c6c6-003a9b3f3d68"
      },
      "execution_count": 35,
      "outputs": [
        {
          "output_type": "execute_result",
          "data": {
            "text/plain": [
              "-1"
            ]
          },
          "metadata": {},
          "execution_count": 35
        }
      ]
    },
    {
      "cell_type": "markdown",
      "source": [
        "The result now matches the expected output. Do you now see the benefit of listing test cases beforehand? Without a good set of test cases, we may never have discovered this error in our function.\n",
        "\n",
        "Let's verify that all the other test cases pass too."
      ],
      "metadata": {
        "id": "AEMw0iWJz-t1"
      }
    },
    {
      "cell_type": "code",
      "source": [
        "evaluate_test_cases(locate_card, tests)"
      ],
      "metadata": {
        "colab": {
          "base_uri": "https://localhost:8080/"
        },
        "id": "-N_wYM6rz43L",
        "outputId": "23c3d7e3-a273-46aa-e6e4-14340c47181c"
      },
      "execution_count": 36,
      "outputs": [
        {
          "output_type": "stream",
          "name": "stdout",
          "text": [
            "\n",
            "\u001b[1mTEST CASE #0\u001b[0m\n",
            "\n",
            "Input:\n",
            "{'cards': [13, 11, 10, 7, 4, 3, 1, 0], 'query': 7}\n",
            "\n",
            "Expected Output:\n",
            "3\n",
            "\n",
            "\n",
            "Actual Output:\n",
            "3\n",
            "\n",
            "Execution Time:\n",
            "0.007 ms\n",
            "\n",
            "Test Result:\n",
            "\u001b[92mPASSED\u001b[0m\n",
            "\n",
            "\n",
            "\u001b[1mTEST CASE #1\u001b[0m\n",
            "\n",
            "Input:\n",
            "{'cards': [13, 11, 10, 7, 4, 3, 1, 0], 'query': 1}\n",
            "\n",
            "Expected Output:\n",
            "6\n",
            "\n",
            "\n",
            "Actual Output:\n",
            "6\n",
            "\n",
            "Execution Time:\n",
            "0.007 ms\n",
            "\n",
            "Test Result:\n",
            "\u001b[92mPASSED\u001b[0m\n",
            "\n",
            "\n",
            "\u001b[1mTEST CASE #2\u001b[0m\n",
            "\n",
            "Input:\n",
            "{'cards': [4, 2, 1, -1], 'query': 4}\n",
            "\n",
            "Expected Output:\n",
            "0\n",
            "\n",
            "\n",
            "Actual Output:\n",
            "0\n",
            "\n",
            "Execution Time:\n",
            "0.003 ms\n",
            "\n",
            "Test Result:\n",
            "\u001b[92mPASSED\u001b[0m\n",
            "\n",
            "\n",
            "\u001b[1mTEST CASE #3\u001b[0m\n",
            "\n",
            "Input:\n",
            "{'cards': [3, -1, -9, -127], 'query': -127}\n",
            "\n",
            "Expected Output:\n",
            "3\n",
            "\n",
            "\n",
            "Actual Output:\n",
            "3\n",
            "\n",
            "Execution Time:\n",
            "0.004 ms\n",
            "\n",
            "Test Result:\n",
            "\u001b[92mPASSED\u001b[0m\n",
            "\n",
            "\n",
            "\u001b[1mTEST CASE #4\u001b[0m\n",
            "\n",
            "Input:\n",
            "{'cards': [6], 'query': 6}\n",
            "\n",
            "Expected Output:\n",
            "0\n",
            "\n",
            "\n",
            "Actual Output:\n",
            "0\n",
            "\n",
            "Execution Time:\n",
            "0.003 ms\n",
            "\n",
            "Test Result:\n",
            "\u001b[92mPASSED\u001b[0m\n",
            "\n",
            "\n",
            "\u001b[1mTEST CASE #5\u001b[0m\n",
            "\n",
            "Input:\n",
            "{'cards': [9, 7, 5, 2, -9], 'query': 4}\n",
            "\n",
            "Expected Output:\n",
            "-1\n",
            "\n",
            "\n",
            "Actual Output:\n",
            "-1\n",
            "\n",
            "Execution Time:\n",
            "0.005 ms\n",
            "\n",
            "Test Result:\n",
            "\u001b[92mPASSED\u001b[0m\n",
            "\n",
            "\n",
            "\u001b[1mTEST CASE #6\u001b[0m\n",
            "\n",
            "Input:\n",
            "{'cards': [], 'query': 7}\n",
            "\n",
            "Expected Output:\n",
            "-1\n",
            "\n",
            "\n",
            "Actual Output:\n",
            "-1\n",
            "\n",
            "Execution Time:\n",
            "0.002 ms\n",
            "\n",
            "Test Result:\n",
            "\u001b[92mPASSED\u001b[0m\n",
            "\n",
            "\n",
            "\u001b[1mTEST CASE #7\u001b[0m\n",
            "\n",
            "Input:\n",
            "{'cards': [8, 8, 6, 6, 6, 6, 6, 3, 2, 2, 2, 0, 0, 0], 'query': 3}\n",
            "\n",
            "Expected Output:\n",
            "7\n",
            "\n",
            "\n",
            "Actual Output:\n",
            "7\n",
            "\n",
            "Execution Time:\n",
            "0.005 ms\n",
            "\n",
            "Test Result:\n",
            "\u001b[92mPASSED\u001b[0m\n",
            "\n",
            "\n",
            "\u001b[1mTEST CASE #8\u001b[0m\n",
            "\n",
            "Input:\n",
            "{'cards': [8, 8, 6, 6, 6, 6, 6, 6, 3, 2, 2, 2, 0, 0, 0], 'query': 6}\n",
            "\n",
            "Expected Output:\n",
            "2\n",
            "\n",
            "\n",
            "Actual Output:\n",
            "2\n",
            "\n",
            "Execution Time:\n",
            "0.004 ms\n",
            "\n",
            "Test Result:\n",
            "\u001b[92mPASSED\u001b[0m\n",
            "\n",
            "\n",
            "\u001b[1mSUMMARY\u001b[0m\n",
            "\n",
            "TOTAL: 9, \u001b[92mPASSED\u001b[0m: 9, \u001b[91mFAILED\u001b[0m: 0\n"
          ]
        },
        {
          "output_type": "execute_result",
          "data": {
            "text/plain": [
              "[(3, True, 0.007),\n",
              " (6, True, 0.007),\n",
              " (0, True, 0.003),\n",
              " (3, True, 0.004),\n",
              " (0, True, 0.003),\n",
              " (-1, True, 0.005),\n",
              " (-1, True, 0.002),\n",
              " (7, True, 0.005),\n",
              " (2, True, 0.004)]"
            ]
          },
          "metadata": {},
          "execution_count": 36
        }
      ]
    },
    {
      "cell_type": "markdown",
      "source": [
        "Our code passes all the test cases. Of course, there might be some other edge cases we haven't thought of which may cause the function to fail. Can you think of any?\n",
        "\n",
        "**Tip**: In a real interview or coding assessment, you can skip the step of implementing and testing the brute force solution in the interest of time. It's generally quite easy to figure out the complexity of the brute for solution from the plain English description."
      ],
      "metadata": {
        "id": "FEbVDhE10NA3"
      }
    },
    {
      "cell_type": "markdown",
      "source": [
        "### 5. Analyze the algorithm's complexity and identify inefficiencies, if any.\n",
        "\n",
        "Recall this statement from  original question: _\"Alice challenges Bob to pick out the card containing a given number by **turning over as few cards as possible**.\"_ We restated this requirement as: _\"Minimize the number of times we access elements from the list `cards`\"_\n",
        "\n",
        "<img src=\"https://i.imgur.com/mazym6s.png\" width=\"480\">\n",
        "\n",
        "Before we can minimize the number, we need a way to measure it. Since we access a list element once in every iteration, for a list of size `N` we access the elements from the list up to `N` times. Thus, Bob may need to overturn up to `N` cards in the worst case, to find the required card.\n",
        "\n",
        "Suppose he is only allowed to overturn 1 card per minute, it may take him 30 minutes to find the required card if 30 cards are laid out on the table. Is this the best he can do? Is a way for Bob to arrive at the answer by turning over just 5 cards, instead of 30?\n",
        "\n",
        "The field of study concerned with finding the amount of time, space or other resources required to complete the execution of computer programs is called _the analysis of algorithms_. And the process of figuring out the best algorithm to solve a given problem is called _algorithm design and optimization_.\n",
        "\n",
        "\n",
        "### Complexity and Big O Notation\n",
        "\n",
        "> **Complexity** of an algorithm is a measure of the amount of time and/or space required by an algorithm for an input of a given size e.g. `N`. Unless otherwise stated, the term _complexity_ always refers to the worst-case complexity (i.e. the highest possible time/space taken by the program/algorithm to process an input).\n",
        "\n",
        "In the case of linear search:\n",
        "\n",
        "1. The _time complexity_ of the algorithm is `cN` for some fixed constant `c` that depends on the number of operations we perform in each iteration and the time taken to execute a statement. Time complexity is sometimes also called the _running time_ of the algorithm.\n",
        "\n",
        "2. The _space complexity_ is some constant `c'` (independent of `N`), since we just need a single variable `position` to iterate through the array, and it occupies a constant space in the computer's memory (RAM).\n",
        "\n",
        "\n",
        "> **Big O Notation**: Worst-case complexity is often expressed using the Big O notation. In the Big O, we drop fixed constants and lower powers of variables to capture the trend of relationship between the size of the input and the complexity of the algorithm i.e. if the complexity of the algorithm is `cN^3 + dN^2 + eN + f`, in the Big O notation it is expressed as **O(N^3)**\n",
        "\n",
        "Thus, the time complexity of linear search is **O(N)** and its space complexity is **O(1)**.\n",
        "\n"
      ],
      "metadata": {
        "id": "JLALb9si0QjF"
      }
    },
    {
      "cell_type": "markdown",
      "source": [
        "### 6. Apply the right technique to overcome the inefficiency. Repeat steps 3 to 6.\n",
        "\n",
        "At the moment, we're simply going over cards one by one, and not even utilizing the face that they're sorted. This is called a *brute force* approach.\n",
        "\n",
        "It would be great if Bob could somehow guess the card at the first attempt, but with all the cards turned over it's simply impossible to guess the right card.\n",
        "\n",
        "\n",
        "<img src=\"https://i.imgur.com/mazym6s.png\" width=\"480\">\n",
        "\n",
        "The next best idea would be to pick a random card, and use the fact that the list is sorted, to determine whether the target card lies to the left or right of it. In fact, if we pick the middle card, we can reduce the number of additional cards to be tested to half the size of the list. Then, we can simply repeat the process with each half. This technique is called binary search. Here's a visual explanation of the technique:\n",
        "\n",
        "\n",
        "\n",
        "<img src=\"https://miro.medium.com/max/494/1*3eOrsoF9idyOp-0Ll9I9PA.png\" width=\"480\">\n",
        "\n"
      ],
      "metadata": {
        "id": "uN4dBarQ1nqU"
      }
    },
    {
      "cell_type": "markdown",
      "source": [],
      "metadata": {
        "id": "dmWGTtP216zc"
      }
    },
    {
      "cell_type": "markdown",
      "source": [
        "### 7. Come up with a correct solution for the problem. State it in plain English.\n",
        "\n",
        "Here's how binary search can be applied to our problem:\n",
        "\n",
        "1. Find the middle element of the list.\n",
        "2. If it matches queried number, return the middle position as the answer.\n",
        "3. If it is less than the queried number, then search the first half of the list\n",
        "3. If it is greater than the queried number, then search the second half of the list\n",
        "4. If no more elements remain, return -1.\n"
      ],
      "metadata": {
        "id": "oZeshJ_J16gJ"
      }
    },
    {
      "cell_type": "markdown",
      "source": [
        "### 8. Implement the solution and test it using example inputs. Fix bugs, if any."
      ],
      "metadata": {
        "id": "fIL8b10X2EKF"
      }
    },
    {
      "cell_type": "markdown",
      "source": [
        "Here's an implementation of binary search for solving our problem. We also print the relevant variables in each iteration of the `while` loop."
      ],
      "metadata": {
        "id": "M-742rIz2G1A"
      }
    },
    {
      "cell_type": "code",
      "source": [
        "def locate_card(cards, query):\n",
        "    lo, hi = 0, len(cards) - 1\n",
        "\n",
        "    while lo <= hi:\n",
        "        mid = (lo + hi) // 2\n",
        "        mid_number = cards[mid]\n",
        "\n",
        "        print(\"lo:\", lo, \", hi:\", hi, \", mid:\", mid, \", mid_number:\", mid_number)\n",
        "\n",
        "        if mid_number == query:\n",
        "            return mid\n",
        "        elif mid_number < query:\n",
        "            hi = mid - 1\n",
        "        elif mid_number > query:\n",
        "            lo = mid + 1\n",
        "\n",
        "    return -1"
      ],
      "metadata": {
        "id": "HvQLV6kx0DVR"
      },
      "execution_count": null,
      "outputs": []
    },
    {
      "cell_type": "code",
      "source": [
        "def locate_card(cards,query):\n",
        "  lo, hi = 0, len(cards) -1\n",
        "  while lo <= hi:\n",
        "    mid = (lo + hi) //2\n",
        "    mid_number = cards[mid]\n",
        "\n",
        "    print(f'lo: {lo} hi: {hi} mid: {mid} mid_number {mid_number}')\n",
        "    if mid_number == query:\n",
        "      return mid\n",
        "    elif mid_number < query:\n",
        "      hi = mid-1\n",
        "    elif mid_number > query:\n",
        "      lo = mid+1\n",
        "  return -1"
      ],
      "metadata": {
        "id": "bXElyhml2K34"
      },
      "execution_count": 39,
      "outputs": []
    },
    {
      "cell_type": "markdown",
      "source": [
        "Let's test it out using the test cases."
      ],
      "metadata": {
        "id": "nYK_4ZrQ3mPJ"
      }
    },
    {
      "cell_type": "code",
      "source": [
        "evaluate_test_cases(locate_card, tests)"
      ],
      "metadata": {
        "colab": {
          "base_uri": "https://localhost:8080/"
        },
        "id": "XW-_Oak53hqm",
        "outputId": "594aca13-e097-47e0-f2ff-69ac976fb354"
      },
      "execution_count": 40,
      "outputs": [
        {
          "output_type": "stream",
          "name": "stdout",
          "text": [
            "\n",
            "\u001b[1mTEST CASE #0\u001b[0m\n",
            "lo: 0 hi: 7 mid: 3 mid_number 7\n",
            "\n",
            "Input:\n",
            "{'cards': [13, 11, 10, 7, 4, 3, 1, 0], 'query': 7}\n",
            "\n",
            "Expected Output:\n",
            "3\n",
            "\n",
            "\n",
            "Actual Output:\n",
            "3\n",
            "\n",
            "Execution Time:\n",
            "0.034 ms\n",
            "\n",
            "Test Result:\n",
            "\u001b[92mPASSED\u001b[0m\n",
            "\n",
            "\n",
            "\u001b[1mTEST CASE #1\u001b[0m\n",
            "lo: 0 hi: 7 mid: 3 mid_number 7\n",
            "lo: 4 hi: 7 mid: 5 mid_number 3\n",
            "lo: 6 hi: 7 mid: 6 mid_number 1\n",
            "\n",
            "Input:\n",
            "{'cards': [13, 11, 10, 7, 4, 3, 1, 0], 'query': 1}\n",
            "\n",
            "Expected Output:\n",
            "6\n",
            "\n",
            "\n",
            "Actual Output:\n",
            "6\n",
            "\n",
            "Execution Time:\n",
            "0.083 ms\n",
            "\n",
            "Test Result:\n",
            "\u001b[92mPASSED\u001b[0m\n",
            "\n",
            "\n",
            "\u001b[1mTEST CASE #2\u001b[0m\n",
            "lo: 0 hi: 3 mid: 1 mid_number 2\n",
            "lo: 0 hi: 0 mid: 0 mid_number 4\n",
            "\n",
            "Input:\n",
            "{'cards': [4, 2, 1, -1], 'query': 4}\n",
            "\n",
            "Expected Output:\n",
            "0\n",
            "\n",
            "\n",
            "Actual Output:\n",
            "0\n",
            "\n",
            "Execution Time:\n",
            "0.055 ms\n",
            "\n",
            "Test Result:\n",
            "\u001b[92mPASSED\u001b[0m\n",
            "\n",
            "\n",
            "\u001b[1mTEST CASE #3\u001b[0m\n",
            "lo: 0 hi: 3 mid: 1 mid_number -1\n",
            "lo: 2 hi: 3 mid: 2 mid_number -9\n",
            "lo: 3 hi: 3 mid: 3 mid_number -127\n",
            "\n",
            "Input:\n",
            "{'cards': [3, -1, -9, -127], 'query': -127}\n",
            "\n",
            "Expected Output:\n",
            "3\n",
            "\n",
            "\n",
            "Actual Output:\n",
            "3\n",
            "\n",
            "Execution Time:\n",
            "0.079 ms\n",
            "\n",
            "Test Result:\n",
            "\u001b[92mPASSED\u001b[0m\n",
            "\n",
            "\n",
            "\u001b[1mTEST CASE #4\u001b[0m\n",
            "lo: 0 hi: 0 mid: 0 mid_number 6\n",
            "\n",
            "Input:\n",
            "{'cards': [6], 'query': 6}\n",
            "\n",
            "Expected Output:\n",
            "0\n",
            "\n",
            "\n",
            "Actual Output:\n",
            "0\n",
            "\n",
            "Execution Time:\n",
            "0.027 ms\n",
            "\n",
            "Test Result:\n",
            "\u001b[92mPASSED\u001b[0m\n",
            "\n",
            "\n",
            "\u001b[1mTEST CASE #5\u001b[0m\n",
            "lo: 0 hi: 4 mid: 2 mid_number 5\n",
            "lo: 3 hi: 4 mid: 3 mid_number 2\n",
            "\n",
            "Input:\n",
            "{'cards': [9, 7, 5, 2, -9], 'query': 4}\n",
            "\n",
            "Expected Output:\n",
            "-1\n",
            "\n",
            "\n",
            "Actual Output:\n",
            "-1\n",
            "\n",
            "Execution Time:\n",
            "0.054 ms\n",
            "\n",
            "Test Result:\n",
            "\u001b[92mPASSED\u001b[0m\n",
            "\n",
            "\n",
            "\u001b[1mTEST CASE #6\u001b[0m\n",
            "\n",
            "Input:\n",
            "{'cards': [], 'query': 7}\n",
            "\n",
            "Expected Output:\n",
            "-1\n",
            "\n",
            "\n",
            "Actual Output:\n",
            "-1\n",
            "\n",
            "Execution Time:\n",
            "0.003 ms\n",
            "\n",
            "Test Result:\n",
            "\u001b[92mPASSED\u001b[0m\n",
            "\n",
            "\n",
            "\u001b[1mTEST CASE #7\u001b[0m\n",
            "lo: 0 hi: 13 mid: 6 mid_number 6\n",
            "lo: 7 hi: 13 mid: 10 mid_number 2\n",
            "lo: 7 hi: 9 mid: 8 mid_number 2\n",
            "lo: 7 hi: 7 mid: 7 mid_number 3\n",
            "\n",
            "Input:\n",
            "{'cards': [8, 8, 6, 6, 6, 6, 6, 3, 2, 2, 2, 0, 0, 0], 'query': 3}\n",
            "\n",
            "Expected Output:\n",
            "7\n",
            "\n",
            "\n",
            "Actual Output:\n",
            "7\n",
            "\n",
            "Execution Time:\n",
            "0.06 ms\n",
            "\n",
            "Test Result:\n",
            "\u001b[92mPASSED\u001b[0m\n",
            "\n",
            "\n",
            "\u001b[1mTEST CASE #8\u001b[0m\n",
            "lo: 0 hi: 14 mid: 7 mid_number 6\n",
            "\n",
            "Input:\n",
            "{'cards': [8, 8, 6, 6, 6, 6, 6, 6, 3, 2, 2, 2, 0, 0, 0], 'query': 6}\n",
            "\n",
            "Expected Output:\n",
            "2\n",
            "\n",
            "\n",
            "Actual Output:\n",
            "7\n",
            "\n",
            "Execution Time:\n",
            "0.014 ms\n",
            "\n",
            "Test Result:\n",
            "\u001b[91mFAILED\u001b[0m\n",
            "\n",
            "\n",
            "\u001b[1mSUMMARY\u001b[0m\n",
            "\n",
            "TOTAL: 9, \u001b[92mPASSED\u001b[0m: 8, \u001b[91mFAILED\u001b[0m: 1\n"
          ]
        },
        {
          "output_type": "execute_result",
          "data": {
            "text/plain": [
              "[(3, True, 0.034),\n",
              " (6, True, 0.083),\n",
              " (0, True, 0.055),\n",
              " (3, True, 0.079),\n",
              " (0, True, 0.027),\n",
              " (-1, True, 0.054),\n",
              " (-1, True, 0.003),\n",
              " (7, True, 0.06),\n",
              " (7, False, 0.014)]"
            ]
          },
          "metadata": {},
          "execution_count": 40
        }
      ]
    },
    {
      "cell_type": "markdown",
      "source": [
        "Seems like our function returned the position `7`. Let's check what lies at this position in the input list."
      ],
      "metadata": {
        "id": "xZcJTxpG4bCx"
      }
    },
    {
      "cell_type": "code",
      "source": [
        "cards8 = tests[8]['input']['cards']\n",
        "query8 = tests[8]['input']['cards']"
      ],
      "metadata": {
        "id": "fgL6-0ub3u0h"
      },
      "execution_count": 41,
      "outputs": []
    },
    {
      "cell_type": "code",
      "source": [
        "query8[7]"
      ],
      "metadata": {
        "colab": {
          "base_uri": "https://localhost:8080/"
        },
        "id": "LxbffIgp4f-4",
        "outputId": "066ae2b1-3837-46a1-a3b6-393d8a2177a7"
      },
      "execution_count": 42,
      "outputs": [
        {
          "output_type": "execute_result",
          "data": {
            "text/plain": [
              "6"
            ]
          },
          "metadata": {},
          "execution_count": 42
        }
      ]
    },
    {
      "cell_type": "markdown",
      "source": [
        "Seems like we did locate a 6 in the array, it's just that it wasn't the first 6. As you can guess, this is because in binary search, we don't go over indices in a linear order.\n",
        "\n",
        "So how do we fix it?\n",
        "\n",
        "When we find that `cards[mid]` is equal to `query`, we need to check whether it is the first occurrence of `query` in the list i.e the number that comes before it.\n",
        "\n",
        "`[8, 8, 6, 6, 6, 6, 6, 6, 3, 2, 2, 2, 0, 0, 0]`\n",
        "\n",
        "To make it easier, we'll define a helper function called `test_location`, which will take the list `cards`, the `query` and `mid` as inputs."
      ],
      "metadata": {
        "id": "MwzMEHSS49Yo"
      }
    },
    {
      "cell_type": "code",
      "source": [
        "def test_location(cards, query, mid):\n",
        "    mid_number = cards[mid]\n",
        "    print(\"mid:\", mid, \", mid_number:\", mid_number)\n",
        "    if mid_number == query:\n",
        "        if mid-1 >= 0 and cards[mid-1] == query:\n",
        "            return 'left'\n",
        "        else:\n",
        "            return 'found'\n",
        "    elif mid_number < query:\n",
        "        return 'left'\n",
        "    else:\n",
        "        return 'right'\n",
        "\n",
        "def locate_card(cards, query):\n",
        "    lo, hi = 0, len(cards) - 1\n",
        "\n",
        "    while lo <= hi:\n",
        "        print(\"lo:\", lo, \", hi:\", hi)\n",
        "        mid = (lo + hi) // 2\n",
        "        result = test_location(cards, query, mid)\n",
        "\n",
        "        if result == 'found':\n",
        "            return mid\n",
        "        elif result == 'left':\n",
        "            hi = mid - 1\n",
        "        elif result == 'right':\n",
        "            lo = mid + 1\n",
        "    return -1"
      ],
      "metadata": {
        "id": "-MKsW1XN46fG"
      },
      "execution_count": 43,
      "outputs": []
    },
    {
      "cell_type": "code",
      "source": [
        "evaluate_test_case(locate_card, tests[8])"
      ],
      "metadata": {
        "colab": {
          "base_uri": "https://localhost:8080/"
        },
        "id": "lomfx7eW5LV3",
        "outputId": "451c9dfb-6d19-471a-d6b9-52f97f935977"
      },
      "execution_count": 44,
      "outputs": [
        {
          "output_type": "stream",
          "name": "stdout",
          "text": [
            "\n",
            "Input:\n",
            "{'cards': [8, 8, 6, 6, 6, 6, 6, 6, 3, 2, 2, 2, 0, 0, 0], 'query': 6}\n",
            "\n",
            "Expected Output:\n",
            "2\n",
            "\n",
            "lo: 0 , hi: 14\n",
            "mid: 7 , mid_number: 6\n",
            "lo: 0 , hi: 6\n",
            "mid: 3 , mid_number: 6\n",
            "lo: 0 , hi: 2\n",
            "mid: 1 , mid_number: 8\n",
            "lo: 2 , hi: 2\n",
            "mid: 2 , mid_number: 6\n",
            "\n",
            "Actual Output:\n",
            "2\n",
            "\n",
            "Execution Time:\n",
            "0.535 ms\n",
            "\n",
            "Test Result:\n",
            "\u001b[92mPASSED\u001b[0m\n",
            "\n"
          ]
        },
        {
          "output_type": "execute_result",
          "data": {
            "text/plain": [
              "(2, True, 0.535)"
            ]
          },
          "metadata": {},
          "execution_count": 44
        }
      ]
    },
    {
      "cell_type": "code",
      "source": [
        "evaluate_test_cases(locate_card, tests)"
      ],
      "metadata": {
        "colab": {
          "base_uri": "https://localhost:8080/"
        },
        "id": "YxXCEaH559g1",
        "outputId": "8d6da457-a897-44c3-abf6-6aeeef5d0b63"
      },
      "execution_count": 45,
      "outputs": [
        {
          "output_type": "stream",
          "name": "stdout",
          "text": [
            "\n",
            "\u001b[1mTEST CASE #0\u001b[0m\n",
            "lo: 0 , hi: 7\n",
            "mid: 3 , mid_number: 7\n",
            "\n",
            "Input:\n",
            "{'cards': [13, 11, 10, 7, 4, 3, 1, 0], 'query': 7}\n",
            "\n",
            "Expected Output:\n",
            "3\n",
            "\n",
            "\n",
            "Actual Output:\n",
            "3\n",
            "\n",
            "Execution Time:\n",
            "0.186 ms\n",
            "\n",
            "Test Result:\n",
            "\u001b[92mPASSED\u001b[0m\n",
            "\n",
            "\n",
            "\u001b[1mTEST CASE #1\u001b[0m\n",
            "lo: 0 , hi: 7\n",
            "mid: 3 , mid_number: 7\n",
            "lo: 4 , hi: 7\n",
            "mid: 5 , mid_number: 3\n",
            "lo: 6 , hi: 7\n",
            "mid: 6 , mid_number: 1\n",
            "\n",
            "Input:\n",
            "{'cards': [13, 11, 10, 7, 4, 3, 1, 0], 'query': 1}\n",
            "\n",
            "Expected Output:\n",
            "6\n",
            "\n",
            "\n",
            "Actual Output:\n",
            "6\n",
            "\n",
            "Execution Time:\n",
            "6.677 ms\n",
            "\n",
            "Test Result:\n",
            "\u001b[92mPASSED\u001b[0m\n",
            "\n",
            "\n",
            "\u001b[1mTEST CASE #2\u001b[0m\n",
            "lo: 0 , hi: 3\n",
            "mid: 1 , mid_number: 2\n",
            "lo: 0 , hi: 0\n",
            "mid: 0 , mid_number: 4\n",
            "\n",
            "Input:\n",
            "{'cards': [4, 2, 1, -1], 'query': 4}\n",
            "\n",
            "Expected Output:\n",
            "0\n",
            "\n",
            "\n",
            "Actual Output:\n",
            "0\n",
            "\n",
            "Execution Time:\n",
            "0.229 ms\n",
            "\n",
            "Test Result:\n",
            "\u001b[92mPASSED\u001b[0m\n",
            "\n",
            "\n",
            "\u001b[1mTEST CASE #3\u001b[0m\n",
            "lo: 0 , hi: 3\n",
            "mid: 1 , mid_number: -1\n",
            "lo: 2 , hi: 3\n",
            "mid: 2 , mid_number: -9\n",
            "lo: 3 , hi: 3\n",
            "mid: 3 , mid_number: -127\n",
            "\n",
            "Input:\n",
            "{'cards': [3, -1, -9, -127], 'query': -127}\n",
            "\n",
            "Expected Output:\n",
            "3\n",
            "\n",
            "\n",
            "Actual Output:\n",
            "3\n",
            "\n",
            "Execution Time:\n",
            "0.342 ms\n",
            "\n",
            "Test Result:\n",
            "\u001b[92mPASSED\u001b[0m\n",
            "\n",
            "\n",
            "\u001b[1mTEST CASE #4\u001b[0m\n",
            "lo: 0 , hi: 0\n",
            "mid: 0 , mid_number: 6\n",
            "\n",
            "Input:\n",
            "{'cards': [6], 'query': 6}\n",
            "\n",
            "Expected Output:\n",
            "0\n",
            "\n",
            "\n",
            "Actual Output:\n",
            "0\n",
            "\n",
            "Execution Time:\n",
            "24.747 ms\n",
            "\n",
            "Test Result:\n",
            "\u001b[92mPASSED\u001b[0m\n",
            "\n",
            "\n",
            "\u001b[1mTEST CASE #5\u001b[0m\n",
            "lo: 0 , hi: 4\n",
            "mid: 2 , mid_number: 5\n",
            "lo: 3 , hi: 4\n",
            "mid: 3 , mid_number: 2\n",
            "\n",
            "Input:\n",
            "{'cards': [9, 7, 5, 2, -9], 'query': 4}\n",
            "\n",
            "Expected Output:\n",
            "-1\n",
            "\n",
            "\n",
            "Actual Output:\n",
            "-1\n",
            "\n",
            "Execution Time:\n",
            "0.362 ms\n",
            "\n",
            "Test Result:\n",
            "\u001b[92mPASSED\u001b[0m\n",
            "\n",
            "\n",
            "\u001b[1mTEST CASE #6\u001b[0m\n",
            "\n",
            "Input:\n",
            "{'cards': [], 'query': 7}\n",
            "\n",
            "Expected Output:\n",
            "-1\n",
            "\n",
            "\n",
            "Actual Output:\n",
            "-1\n",
            "\n",
            "Execution Time:\n",
            "0.003 ms\n",
            "\n",
            "Test Result:\n",
            "\u001b[92mPASSED\u001b[0m\n",
            "\n",
            "\n",
            "\u001b[1mTEST CASE #7\u001b[0m\n",
            "lo: 0 , hi: 13\n",
            "mid: 6 , mid_number: 6\n",
            "lo: 7 , hi: 13\n",
            "mid: 10 , mid_number: 2\n",
            "lo: 7 , hi: 9\n",
            "mid: 8 , mid_number: 2\n",
            "lo: 7 , hi: 7\n",
            "mid: 7 , mid_number: 3\n",
            "\n",
            "Input:\n",
            "{'cards': [8, 8, 6, 6, 6, 6, 6, 3, 2, 2, 2, 0, 0, 0], 'query': 3}\n",
            "\n",
            "Expected Output:\n",
            "7\n",
            "\n",
            "\n",
            "Actual Output:\n",
            "7\n",
            "\n",
            "Execution Time:\n",
            "13.906 ms\n",
            "\n",
            "Test Result:\n",
            "\u001b[92mPASSED\u001b[0m\n",
            "\n",
            "\n",
            "\u001b[1mTEST CASE #8\u001b[0m\n",
            "lo: 0 , hi: 14\n",
            "mid: 7 , mid_number: 6\n",
            "lo: 0 , hi: 6\n",
            "mid: 3 , mid_number: 6\n",
            "lo: 0 , hi: 2\n",
            "mid: 1 , mid_number: 8\n",
            "lo: 2 , hi: 2\n",
            "mid: 2 , mid_number: 6\n",
            "\n",
            "Input:\n",
            "{'cards': [8, 8, 6, 6, 6, 6, 6, 6, 3, 2, 2, 2, 0, 0, 0], 'query': 6}\n",
            "\n",
            "Expected Output:\n",
            "2\n",
            "\n",
            "\n",
            "Actual Output:\n",
            "2\n",
            "\n",
            "Execution Time:\n",
            "0.321 ms\n",
            "\n",
            "Test Result:\n",
            "\u001b[92mPASSED\u001b[0m\n",
            "\n",
            "\n",
            "\u001b[1mSUMMARY\u001b[0m\n",
            "\n",
            "TOTAL: 9, \u001b[92mPASSED\u001b[0m: 9, \u001b[91mFAILED\u001b[0m: 0\n"
          ]
        },
        {
          "output_type": "execute_result",
          "data": {
            "text/plain": [
              "[(3, True, 0.186),\n",
              " (6, True, 6.677),\n",
              " (0, True, 0.229),\n",
              " (3, True, 0.342),\n",
              " (0, True, 24.747),\n",
              " (-1, True, 0.362),\n",
              " (-1, True, 0.003),\n",
              " (7, True, 13.906),\n",
              " (2, True, 0.321)]"
            ]
          },
          "metadata": {},
          "execution_count": 45
        }
      ]
    },
    {
      "cell_type": "markdown",
      "source": [
        "In fact, once we have written out the algorithm, we may want to add a few more test cases:\n",
        "\n",
        "1. The number lies in first half of the array.\n",
        "2. The number lies in the second half of the array."
      ],
      "metadata": {
        "id": "Lpm1ugCS6wik"
      }
    },
    {
      "cell_type": "code",
      "source": [
        "def test_location(cards, query, mid):\n",
        "    if cards[mid] == query:\n",
        "        if mid-1 >= 0 and cards[mid-1] == query:\n",
        "            return 'left'\n",
        "        else:\n",
        "            return 'found'\n",
        "    elif cards[mid] < query:\n",
        "        return 'left'\n",
        "    else:\n",
        "        return 'right'\n",
        "\n",
        "def locate_card(cards, query):\n",
        "    lo, hi = 0, len(cards) - 1\n",
        "    while lo <= hi:\n",
        "        mid = (lo + hi) // 2\n",
        "        result = test_location(cards, query, mid)\n",
        "        if result == 'found':\n",
        "            return mid\n",
        "        elif result == 'left':\n",
        "            hi = mid - 1\n",
        "        elif result == 'right':\n",
        "            lo = mid + 1\n",
        "    return -1"
      ],
      "metadata": {
        "id": "frfT9Wpr6SS2"
      },
      "execution_count": 46,
      "outputs": []
    },
    {
      "cell_type": "markdown",
      "source": [
        "### 9. Analyze the algorithm's complexity and identify inefficiencies, if any.\n",
        "\n",
        "Once again, let's try to count the number of iterations in the algorithm. If we start out with an array of N elements, then each time the size of the array reduces to half for the next iteration, until we are left with just 1 element.\n",
        "\n",
        "Initial length - `N`\n",
        "\n",
        "Iteration 1 - `N/2`\n",
        "\n",
        "Iteration 2 - `N/4` i.e. `N/2^2`\n",
        "\n",
        "Iteration 3 - `N/8` i.e. `N/2^3`\n",
        "\n",
        "...\n",
        "\n",
        "Iteration k - `N/2^k`\n",
        "\n",
        "\n",
        "Since the final length of the array is 1, we can find the\n",
        "\n",
        "`N/2^k = 1`\n",
        "\n",
        "Rearranging the terms, we get\n",
        "\n",
        "`N = 2^k`\n",
        "\n",
        "Taking the logarithm\n",
        "\n",
        "`k = log N`\n",
        "\n",
        "Where `log` refers to log to the base 2. Therefore, our algorithm has the time complexity **O(log N)**. This fact is often stated as: binary search _runs_ in logarithmic time. You can verify that the space complexity of binary search is **O(1)**.\n",
        "\n",
        "\n",
        "\n"
      ],
      "metadata": {
        "id": "x9eiqrgZ670d"
      }
    },
    {
      "cell_type": "markdown",
      "source": [],
      "metadata": {
        "id": "vXguQJqv9lCn"
      }
    },
    {
      "cell_type": "markdown",
      "source": [
        "### Binary Search vs. Linear Search"
      ],
      "metadata": {
        "id": "8tWzcfm49kns"
      }
    },
    {
      "cell_type": "code",
      "source": [
        "def locate_card_linear(cards, query):\n",
        "    position = 0\n",
        "    while position < len(cards):\n",
        "        if cards[position] == query:\n",
        "            return position\n",
        "        position += 1\n",
        "    return -1"
      ],
      "metadata": {
        "id": "5-qwwAvC6zpi"
      },
      "execution_count": 47,
      "outputs": []
    },
    {
      "cell_type": "code",
      "source": [
        "large_test = {\n",
        "    'input': {\n",
        "        'cards': list(range(10000000, 0, -1)),\n",
        "        'query': 2\n",
        "    },\n",
        "    'output': 9999998\n",
        "\n",
        "}"
      ],
      "metadata": {
        "id": "bqjQDjFy9rld"
      },
      "execution_count": 48,
      "outputs": []
    },
    {
      "cell_type": "code",
      "source": [
        "result, passed, runtime = evaluate_test_case(locate_card_linear, large_test, display=False)\n",
        "\n",
        "print(\"Result: {}\\nPassed: {}\\nExecution Time: {} ms\".format(result, passed, runtime))"
      ],
      "metadata": {
        "colab": {
          "base_uri": "https://localhost:8080/"
        },
        "id": "y2yBb5M_9sPI",
        "outputId": "4d663083-8d18-4f8d-d537-e74f92172930"
      },
      "execution_count": 49,
      "outputs": [
        {
          "output_type": "stream",
          "name": "stdout",
          "text": [
            "Result: 9999998\n",
            "Passed: True\n",
            "Execution Time: 2098.248 ms\n"
          ]
        }
      ]
    },
    {
      "cell_type": "code",
      "source": [
        "result, passed, runtime = evaluate_test_case(locate_card, large_test, display=False)\n",
        "\n",
        "print(\"Result: {}\\nPassed: {}\\nExecution Time: {} ms\".format(result, passed, runtime))"
      ],
      "metadata": {
        "colab": {
          "base_uri": "https://localhost:8080/"
        },
        "id": "zENJwnai9xNa",
        "outputId": "ac55e3e6-d480-44b2-a036-c3fe72becca3"
      },
      "execution_count": 50,
      "outputs": [
        {
          "output_type": "stream",
          "name": "stdout",
          "text": [
            "Result: 9999998\n",
            "Passed: True\n",
            "Execution Time: 0.041 ms\n"
          ]
        }
      ]
    },
    {
      "cell_type": "markdown",
      "source": [
        "The binary search version is over 55,000 times faster than the linear search version.\n",
        "\n",
        "Furthermore, as the size of the input grows larger, the difference only gets bigger. For a list 10 times, the size, linear search would run for 10 times longer, whereas binary search would only require 3 additional operations! (can you verify this?) That's the real difference between the complexities **O(N)** and **O(log N)**.\n",
        "\n",
        "Another way to look at it is that binary search runs  `c * N / log N` times faster than linear search, for some fixed constant `c`. Since `log N` grows very slowly compared to `N`, the difference gets larger with the size of the input. Here's a graph showing how the comparing common functions for running time of algorithms ([source](https://dev.to/b0nbon1/understanding-big-o-notation-with-javascript-25mc)):\n",
        "\n",
        "<img src=\"https://res.cloudinary.com/practicaldev/image/fetch/s--NR3M1nw8--/c_limit%2Cf_auto%2Cfl_progressive%2Cq_auto%2Cw_880/https://thepracticaldev.s3.amazonaws.com/i/z4bbf8o1ly77wmkjdgge.png\" width=\"480\">\n",
        "\n",
        "Do you see now why we ignore constants and lower order terms while expressing the complexity using the Big O notation?"
      ],
      "metadata": {
        "id": "WN1wNZLO98dS"
      }
    },
    {
      "cell_type": "markdown",
      "source": [
        "## Generic Binary Search\n",
        "\n",
        "Here is the general strategy behind binary search, which is applicable to a variety of problems:\n",
        "\n",
        "1. Come up with a condition to determine whether the answer lies before, after or at a given position\n",
        "1. Retrieve the midpoint and the middle element of the list.\n",
        "2. If it is the answer, return the middle position as the answer.\n",
        "3. If answer lies before it, repeat the search with the first half of the list\n",
        "4. If the answer lies after it, repeat the search with the second half of the list.\n",
        "\n",
        "Here is the generic algorithm for binary search, implemented in Python:"
      ],
      "metadata": {
        "id": "EueR-r9O-MJa"
      }
    },
    {
      "cell_type": "code",
      "source": [
        "def binary_search(lo, hi, condition):\n",
        "    \"\"\"TODO - add docs\"\"\"\n",
        "    while lo <= hi:\n",
        "        mid = (lo + hi) // 2\n",
        "        result = condition(mid)\n",
        "        if result == 'found':\n",
        "            return mid\n",
        "        elif result == 'left':\n",
        "            hi = mid - 1\n",
        "        else:\n",
        "            lo = mid + 1\n",
        "    return -1"
      ],
      "metadata": {
        "id": "UeGSWTeK95WU"
      },
      "execution_count": 51,
      "outputs": []
    },
    {
      "cell_type": "markdown",
      "source": [
        "The worst-case complexity or running time of binary search is **O(log N)**, provided the complexity of the condition used to determine whether the answer lies before, after or at a given position is **O(1)**.\n",
        "\n",
        "Note that `binary_search` accepts a function `condition` as an argument. Python allows passing functions as arguments to other functions, unlike C++ and Java.\n",
        "\n",
        "We can now rewrite the `locate_card` function more succinctly using the `binary_search` function."
      ],
      "metadata": {
        "id": "J4nRt7Vu-i3m"
      }
    },
    {
      "cell_type": "code",
      "source": [
        "def locate_card(cards, query):\n",
        "\n",
        "    def condition(mid):\n",
        "        if cards[mid] == query:\n",
        "            if mid > 0 and cards[mid-1] == query:\n",
        "                return 'left'\n",
        "            else:\n",
        "                return 'found'\n",
        "        elif cards[mid] < query:\n",
        "            return 'left'\n",
        "        else:\n",
        "            return 'right'\n",
        "\n",
        "    return binary_search(0, len(cards) - 1, condition)"
      ],
      "metadata": {
        "id": "fqSPlk51-bxU"
      },
      "execution_count": 52,
      "outputs": []
    },
    {
      "cell_type": "markdown",
      "source": [
        "Note here that we have defined a function within a function, another handy feature in Python. And the inner function can access the variables within the outer function."
      ],
      "metadata": {
        "id": "89BJ5wLn-sIS"
      }
    },
    {
      "cell_type": "markdown",
      "source": [
        "Note here that we have defined a function within a function, another handy feature in Python. And the inner function can access the variables within the outer function."
      ],
      "metadata": {
        "id": "dsacmgeU_NmZ"
      }
    },
    {
      "cell_type": "code",
      "source": [
        "evaluate_test_cases(locate_card, tests)"
      ],
      "metadata": {
        "colab": {
          "base_uri": "https://localhost:8080/"
        },
        "id": "h6lqx8nz-o8N",
        "outputId": "bc8e59ae-5805-4bd2-a141-51edef6674c0"
      },
      "execution_count": 53,
      "outputs": [
        {
          "output_type": "stream",
          "name": "stdout",
          "text": [
            "\n",
            "\u001b[1mTEST CASE #0\u001b[0m\n",
            "\n",
            "Input:\n",
            "{'cards': [13, 11, 10, 7, 4, 3, 1, 0], 'query': 7}\n",
            "\n",
            "Expected Output:\n",
            "3\n",
            "\n",
            "\n",
            "Actual Output:\n",
            "3\n",
            "\n",
            "Execution Time:\n",
            "0.011 ms\n",
            "\n",
            "Test Result:\n",
            "\u001b[92mPASSED\u001b[0m\n",
            "\n",
            "\n",
            "\u001b[1mTEST CASE #1\u001b[0m\n",
            "\n",
            "Input:\n",
            "{'cards': [13, 11, 10, 7, 4, 3, 1, 0], 'query': 1}\n",
            "\n",
            "Expected Output:\n",
            "6\n",
            "\n",
            "\n",
            "Actual Output:\n",
            "6\n",
            "\n",
            "Execution Time:\n",
            "0.007 ms\n",
            "\n",
            "Test Result:\n",
            "\u001b[92mPASSED\u001b[0m\n",
            "\n",
            "\n",
            "\u001b[1mTEST CASE #2\u001b[0m\n",
            "\n",
            "Input:\n",
            "{'cards': [4, 2, 1, -1], 'query': 4}\n",
            "\n",
            "Expected Output:\n",
            "0\n",
            "\n",
            "\n",
            "Actual Output:\n",
            "0\n",
            "\n",
            "Execution Time:\n",
            "0.005 ms\n",
            "\n",
            "Test Result:\n",
            "\u001b[92mPASSED\u001b[0m\n",
            "\n",
            "\n",
            "\u001b[1mTEST CASE #3\u001b[0m\n",
            "\n",
            "Input:\n",
            "{'cards': [3, -1, -9, -127], 'query': -127}\n",
            "\n",
            "Expected Output:\n",
            "3\n",
            "\n",
            "\n",
            "Actual Output:\n",
            "3\n",
            "\n",
            "Execution Time:\n",
            "0.005 ms\n",
            "\n",
            "Test Result:\n",
            "\u001b[92mPASSED\u001b[0m\n",
            "\n",
            "\n",
            "\u001b[1mTEST CASE #4\u001b[0m\n",
            "\n",
            "Input:\n",
            "{'cards': [6], 'query': 6}\n",
            "\n",
            "Expected Output:\n",
            "0\n",
            "\n",
            "\n",
            "Actual Output:\n",
            "0\n",
            "\n",
            "Execution Time:\n",
            "0.004 ms\n",
            "\n",
            "Test Result:\n",
            "\u001b[92mPASSED\u001b[0m\n",
            "\n",
            "\n",
            "\u001b[1mTEST CASE #5\u001b[0m\n",
            "\n",
            "Input:\n",
            "{'cards': [9, 7, 5, 2, -9], 'query': 4}\n",
            "\n",
            "Expected Output:\n",
            "-1\n",
            "\n",
            "\n",
            "Actual Output:\n",
            "-1\n",
            "\n",
            "Execution Time:\n",
            "0.006 ms\n",
            "\n",
            "Test Result:\n",
            "\u001b[92mPASSED\u001b[0m\n",
            "\n",
            "\n",
            "\u001b[1mTEST CASE #6\u001b[0m\n",
            "\n",
            "Input:\n",
            "{'cards': [], 'query': 7}\n",
            "\n",
            "Expected Output:\n",
            "-1\n",
            "\n",
            "\n",
            "Actual Output:\n",
            "-1\n",
            "\n",
            "Execution Time:\n",
            "0.003 ms\n",
            "\n",
            "Test Result:\n",
            "\u001b[92mPASSED\u001b[0m\n",
            "\n",
            "\n",
            "\u001b[1mTEST CASE #7\u001b[0m\n",
            "\n",
            "Input:\n",
            "{'cards': [8, 8, 6, 6, 6, 6, 6, 3, 2, 2, 2, 0, 0, 0], 'query': 3}\n",
            "\n",
            "Expected Output:\n",
            "7\n",
            "\n",
            "\n",
            "Actual Output:\n",
            "7\n",
            "\n",
            "Execution Time:\n",
            "0.014 ms\n",
            "\n",
            "Test Result:\n",
            "\u001b[92mPASSED\u001b[0m\n",
            "\n",
            "\n",
            "\u001b[1mTEST CASE #8\u001b[0m\n",
            "\n",
            "Input:\n",
            "{'cards': [8, 8, 6, 6, 6, 6, 6, 6, 3, 2, 2, 2, 0, 0, 0], 'query': 6}\n",
            "\n",
            "Expected Output:\n",
            "2\n",
            "\n",
            "\n",
            "Actual Output:\n",
            "2\n",
            "\n",
            "Execution Time:\n",
            "0.009 ms\n",
            "\n",
            "Test Result:\n",
            "\u001b[92mPASSED\u001b[0m\n",
            "\n",
            "\n",
            "\u001b[1mSUMMARY\u001b[0m\n",
            "\n",
            "TOTAL: 9, \u001b[92mPASSED\u001b[0m: 9, \u001b[91mFAILED\u001b[0m: 0\n"
          ]
        },
        {
          "output_type": "execute_result",
          "data": {
            "text/plain": [
              "[(3, True, 0.011),\n",
              " (6, True, 0.007),\n",
              " (0, True, 0.005),\n",
              " (3, True, 0.005),\n",
              " (0, True, 0.004),\n",
              " (-1, True, 0.006),\n",
              " (-1, True, 0.003),\n",
              " (7, True, 0.014),\n",
              " (2, True, 0.009)]"
            ]
          },
          "metadata": {},
          "execution_count": 53
        }
      ]
    },
    {
      "cell_type": "markdown",
      "source": [
        "The `binary_search` function can now be used to solve other problems too. It is a tested piece of logic.\n",
        "\n",
        "\n",
        "> **Question**: Given an array of integers nums sorted in ascending order, find the starting and ending position of a given number.\n",
        "\n",
        "This differs from the problem in only two significant ways:\n",
        "\n",
        "1. The numbers are sorted in increasing order.\n",
        "2. We are looking for both the increasing order(Start index) and the decreasing order(end index).\n",
        "\n",
        "Here's the full code for solving the question, obtained by making minor modifications to our previous function:"
      ],
      "metadata": {
        "id": "cE9hVmIS_V6R"
      }
    },
    {
      "cell_type": "code",
      "source": [
        "def first_position(nums, target):\n",
        "    def condition(mid):\n",
        "        if nums[mid] == target:\n",
        "            if mid > 0 and nums[mid-1] == target:\n",
        "                return 'left'\n",
        "            return 'found'\n",
        "        elif nums[mid] < target:\n",
        "            return 'right'\n",
        "        else:\n",
        "            return 'left'\n",
        "    return binary_search(0, len(nums)-1, condition)\n",
        "\n",
        "def last_position(nums, target):\n",
        "    def condition(mid):\n",
        "        if nums[mid] == target:\n",
        "            if mid < len(nums)-1 and nums[mid+1] == target:\n",
        "                return 'right'\n",
        "            return 'found'\n",
        "        elif nums[mid] < target:\n",
        "            return 'right'\n",
        "        else:\n",
        "            return 'left'\n",
        "    return binary_search(0, len(nums)-1, condition)\n",
        "\n",
        "def first_and_last_position(nums, target):\n",
        "    return first_position(nums, target), last_position(nums, target)"
      ],
      "metadata": {
        "id": "ldml2R8Z_P7j"
      },
      "execution_count": 54,
      "outputs": []
    },
    {
      "cell_type": "markdown",
      "source": [
        "## The Method - Revisited\n",
        "\n",
        "Here's a systematic strategy we've applied for solving the problem:\n",
        "\n",
        "1. State the problem clearly. Identify the input & output formats.\n",
        "2. Come up with some example inputs & outputs. Try to cover all edge cases.\n",
        "3. Come up with a correct solution for the problem. State it in plain English.\n",
        "4. Implement the solution and test it using example inputs. Fix bugs, if any.\n",
        "5. Analyze the algorithm's complexity and identify inefficiencies, if any.\n",
        "6. Apply the right technique to overcome the inefficiency. Repeat steps 3 to 6.\n",
        "\n",
        "Use this template for solving problems using this method: https://jovian.ai/aakashns/python-problem-solving-template\n",
        "\n",
        "This seemingly obvious strategy will help you solve almost any programming problem you will face in an interview or coding assessment.\n",
        "\n",
        "The objective of this course is to rewire your brain to think using this method, by applying it over and over to different types of problems. This is a course about thinking about problems systematically and turning those thoughts into code."
      ],
      "metadata": {
        "id": "pGoMahBUAQ81"
      }
    },
    {
      "cell_type": "markdown",
      "source": [
        "## Problems for Practice\n",
        "\n",
        "\n",
        "Here are some resources to learn more and find problems to practice.\n",
        "\n",
        "* Assignment on Binary Search: https://jovian.ai/aakashns/python-binary-search-assignment\n",
        "* Binary Search Problems on LeetCode: https://leetcode.com/problems/binary-search/\n",
        "* Binary Search Problems on GeeksForGeeks: https://www.geeksforgeeks.org/binary-search/\n",
        "* Binary Search Problems on Codeforces: https://codeforces.com/problemset?tags=binary+search\n",
        "\n",
        "Use this template for solving problems: https://jovian.ai/aakashns/python-problem-solving-template\n",
        "\n",
        "Start a discussion on the forum: https://jovian.ai/forum/c/data-structures-and-algorithms-in-python/lesson-1-binary-search-linked-lists-and-complex/81\n",
        "\n",
        "Try to solve at least 5-10 problems over the week to master binary search."
      ],
      "metadata": {
        "id": "kcnilJBGAU7k"
      }
    },
    {
      "cell_type": "code",
      "source": [],
      "metadata": {
        "id": "x_tokPIQ_-SI"
      },
      "execution_count": null,
      "outputs": []
    }
  ]
}