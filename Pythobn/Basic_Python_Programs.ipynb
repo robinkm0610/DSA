{
  "nbformat": 4,
  "nbformat_minor": 0,
  "metadata": {
    "colab": {
      "provenance": [],
      "authorship_tag": "ABX9TyO68JX/9zTlUs7crV97MY4Y",
      "include_colab_link": true
    },
    "kernelspec": {
      "name": "python3",
      "display_name": "Python 3"
    },
    "language_info": {
      "name": "python"
    }
  },
  "cells": [
    {
      "cell_type": "markdown",
      "metadata": {
        "id": "view-in-github",
        "colab_type": "text"
      },
      "source": [
        "<a href=\"https://colab.research.google.com/github/robinkm0610/DSA/blob/main/Pythobn/Basic_Python_Programs.ipynb\" target=\"_parent\"><img src=\"https://colab.research.google.com/assets/colab-badge.svg\" alt=\"Open In Colab\"/></a>"
      ]
    },
    {
      "cell_type": "markdown",
      "source": [
        "1. Write a Python program to print \"Hello Python\"."
      ],
      "metadata": {
        "id": "T3yaZfS3XRTI"
      }
    },
    {
      "cell_type": "code",
      "execution_count": 1,
      "metadata": {
        "colab": {
          "base_uri": "https://localhost:8080/"
        },
        "id": "Qt7MotfjXIZ8",
        "outputId": "86d8acef-fecb-407c-87d9-6358821bc992"
      },
      "outputs": [
        {
          "output_type": "stream",
          "name": "stdout",
          "text": [
            "Hello Python\n"
          ]
        }
      ],
      "source": [
        "print(\"Hello Python\")"
      ]
    },
    {
      "cell_type": "markdown",
      "source": [
        "2. Write a Python program to do arithmetical operations addition and division.\n"
      ],
      "metadata": {
        "id": "NccjdTcbXQF8"
      }
    },
    {
      "cell_type": "code",
      "source": [
        "a = int(input(\"Enter first num \"))\n",
        "b = int(input(\"Enter second num \"))\n",
        "print(f\"sum = {a+b} division = {a/b}\")"
      ],
      "metadata": {
        "colab": {
          "base_uri": "https://localhost:8080/"
        },
        "id": "LVhRm7r7Xivb",
        "outputId": "689520b9-39e7-4533-8f97-8ca3521d3915"
      },
      "execution_count": 3,
      "outputs": [
        {
          "output_type": "stream",
          "name": "stdout",
          "text": [
            "Enter first num 8\n",
            "Enter second num 2\n",
            "sum = 10 division = 4.0\n"
          ]
        }
      ]
    },
    {
      "cell_type": "code",
      "source": [
        "a = int(input(\"Enter first num \"))\n",
        "b = int(input(\"Enter second num \"))\n",
        "print(f\"sum = {a+b} \")\n",
        "\n",
        "if b == 0:\n",
        "  print(\"division with 0 is not possible\")\n",
        "else:\n",
        " print(f\"division = {a/b}\")"
      ],
      "metadata": {
        "colab": {
          "base_uri": "https://localhost:8080/"
        },
        "id": "-XaWma0iX-_m",
        "outputId": "8f830677-33d0-4eb9-9e20-50e4a34226b1"
      },
      "execution_count": 4,
      "outputs": [
        {
          "output_type": "stream",
          "name": "stdout",
          "text": [
            "Enter first num 8\n",
            "Enter second num 0\n",
            "sum = 8 \n",
            "division with 0 is not possible\n"
          ]
        }
      ]
    },
    {
      "cell_type": "markdown",
      "source": [
        "3. Write a Python program to find the area of a triangle.\n"
      ],
      "metadata": {
        "id": "IyvsdEoqZWxo"
      }
    },
    {
      "cell_type": "code",
      "source": [
        "#area of a triangle = 1/2 * a*b\n",
        "a = float(input(\"enter the base length \"))\n",
        "b = float(input(\"enter the height \"))\n",
        "print(f\"Area of the triangle = {.5*a*b}\")"
      ],
      "metadata": {
        "colab": {
          "base_uri": "https://localhost:8080/"
        },
        "id": "oSZct3I8ZNYr",
        "outputId": "87589bb3-c61e-416a-f84c-bf9e9ebd8c62"
      },
      "execution_count": 5,
      "outputs": [
        {
          "output_type": "stream",
          "name": "stdout",
          "text": [
            "enter the base length 4\n",
            "enter the height 2\n",
            "Area of the triangle = 4.0\n"
          ]
        }
      ]
    },
    {
      "cell_type": "markdown",
      "source": [
        "4. Write a Python program to swap two variables.\n"
      ],
      "metadata": {
        "id": "78CZ6eYxaMY_"
      }
    },
    {
      "cell_type": "code",
      "source": [
        "a = int(input(\"Enter first num \"))\n",
        "b = int(input(\"Enter second num \"))\n",
        "a = a+b\n",
        "b = a-b\n",
        "a = a-b\n",
        "print(f\"a = {a} b = {b}\")"
      ],
      "metadata": {
        "colab": {
          "base_uri": "https://localhost:8080/"
        },
        "id": "h3BotKuUaEiN",
        "outputId": "2da3c632-a54c-469a-88b7-21d31b62aac2"
      },
      "execution_count": 6,
      "outputs": [
        {
          "output_type": "stream",
          "name": "stdout",
          "text": [
            "Enter first num 2\n",
            "Enter second num 3\n",
            "a = 3 b = 2\n"
          ]
        }
      ]
    },
    {
      "cell_type": "markdown",
      "source": [
        "5. Write a Python program to generate a random number.\n"
      ],
      "metadata": {
        "id": "wo5ubIHYasvx"
      }
    },
    {
      "cell_type": "code",
      "source": [
        "import random\n",
        "print(random.randint(1,100))"
      ],
      "metadata": {
        "colab": {
          "base_uri": "https://localhost:8080/"
        },
        "id": "f0necE04alaX",
        "outputId": "32825f6d-17e1-411d-fef5-e411ec9f8184"
      },
      "execution_count": 8,
      "outputs": [
        {
          "output_type": "stream",
          "name": "stdout",
          "text": [
            "71\n"
          ]
        }
      ]
    },
    {
      "cell_type": "markdown",
      "source": [
        "6. Write a Python program to convert kilometers to miles.\n"
      ],
      "metadata": {
        "id": "t2SMd1Mq3aZ0"
      }
    },
    {
      "cell_type": "code",
      "source": [
        "# Conversion factor: 1 kilometer = 0.621371 miles\n",
        "km = float(input(\"Enter the km to convert to miles \"))\n",
        "print(f\"Miles = {km*0.621371}\")"
      ],
      "metadata": {
        "colab": {
          "base_uri": "https://localhost:8080/"
        },
        "id": "ixIXtknCazzy",
        "outputId": "5a1f2a3e-f607-423f-b78f-c752f06a0865"
      },
      "execution_count": 3,
      "outputs": [
        {
          "output_type": "stream",
          "name": "stdout",
          "text": [
            "Enter the km to convert to miles 10\n",
            "Miles = 6.21371\n"
          ]
        }
      ]
    },
    {
      "cell_type": "markdown",
      "source": [
        "7. Write a Python program to convert Celsius to Fahrenheit.\n"
      ],
      "metadata": {
        "id": "Jz_SgyJM31lU"
      }
    },
    {
      "cell_type": "code",
      "source": [
        "# Conversion formula: Fahrenheit = (Celsius * 9/5) + 32\n",
        "cel = float(input(\"Enter the temperature in celsius \"))\n",
        "print(f\"Temperature in Farehheit : {(cel * 9/5) + 32}\")"
      ],
      "metadata": {
        "colab": {
          "base_uri": "https://localhost:8080/"
        },
        "id": "M5n2-ZXm3qoQ",
        "outputId": "d6dc20d6-05be-40a6-b742-0f76051637c4"
      },
      "execution_count": 4,
      "outputs": [
        {
          "output_type": "stream",
          "name": "stdout",
          "text": [
            "Enter the temperature in celsius 100\n",
            "Temperature in Farehheit : 212.0\n"
          ]
        }
      ]
    },
    {
      "cell_type": "markdown",
      "source": [
        "8. Write a Python program to display calendar.\n"
      ],
      "metadata": {
        "id": "0w6VLHu64RS2"
      }
    },
    {
      "cell_type": "code",
      "source": [
        "import calendar\n",
        "year = int(input(\"Enter the year \"))\n",
        "month = int(input(\"Enter the month \"))\n",
        "\n",
        "print(calendar.month(year,month))"
      ],
      "metadata": {
        "colab": {
          "base_uri": "https://localhost:8080/"
        },
        "id": "pfY4jbQg4Ljf",
        "outputId": "6c5bca73-dd23-4a13-981e-1e4aeabfde01"
      },
      "execution_count": 7,
      "outputs": [
        {
          "output_type": "stream",
          "name": "stdout",
          "text": [
            "Enter the year 2024\n",
            "Enter the month 3\n",
            "     March 2024\n",
            "Mo Tu We Th Fr Sa Su\n",
            "             1  2  3\n",
            " 4  5  6  7  8  9 10\n",
            "11 12 13 14 15 16 17\n",
            "18 19 20 21 22 23 24\n",
            "25 26 27 28 29 30 31\n",
            "\n"
          ]
        }
      ]
    },
    {
      "cell_type": "markdown",
      "source": [
        "9. Write a Python program to solve quadratic equation.\n"
      ],
      "metadata": {
        "id": "P9_hvFGB462H"
      }
    },
    {
      "cell_type": "markdown",
      "source": [
        "The standard form of a quadratic equation is:\n",
        "𝑎𝑥^2+ 𝑏𝑥 + 𝑐 = 0\n",
        "\n",
        "where\n",
        "a, b and c are real numbers and\n",
        "𝑎 ≠ 0\n",
        "\n",
        "The solutions of this quadratic equation is given by:\n",
        "(−𝑏 ±((𝑏^2 − 4𝑎𝑐 )^1/2)/(2𝑎)\n"
      ],
      "metadata": {
        "id": "ijFSyza94_iC"
      }
    },
    {
      "cell_type": "code",
      "source": [
        "import math\n",
        "\n",
        "a = int(input(\"Enter the coefficient of a : \"))\n",
        "b = int(input(\"Enter the coefficient of b : \"))\n",
        "c = int(input(\"Enter the coefficient of c : \"))\n",
        "\n",
        "# Calculate the discriminant\n",
        "d = (b**2 - 4*a*c)\n",
        "\n",
        "# Check if the discriminant is positive, negative, or zero\n",
        "if d > 0:\n",
        "   # Two real and distinct roots\n",
        "  real1 = -b + (math.sqrt(d)/(2*a))\n",
        "  real2 = -b - (math.sqrt(d)/(2*a))\n",
        "  print(f\"Root 1: {real1}\")\n",
        "  print(f\"Root 2: {real2}\")\n",
        "elif d == 0:\n",
        "   # One real root (repeated)\n",
        "  print(f\"Root : {-b/(2*a)}\")\n",
        "else:\n",
        "  #complex root\n",
        "  real_part = -b / (2*a)\n",
        "  imaginary_part = (math.sqrt(abs(d))/(2*a))\n",
        "  print(f\"Root 1: {real_part} + {imaginary_part}i\")\n",
        "  print(f\"Root 1: {real_part} - {imaginary_part}i\")\n"
      ],
      "metadata": {
        "colab": {
          "base_uri": "https://localhost:8080/"
        },
        "id": "TtbDJ21t4sNx",
        "outputId": "7da7ca38-bcb7-4b96-8a81-8ac5085c85a7"
      },
      "execution_count": 10,
      "outputs": [
        {
          "output_type": "stream",
          "name": "stdout",
          "text": [
            "Enter the coefficient of a : 1\n",
            "Enter the coefficient of b : 4\n",
            "Enter the coefficient of c : 8\n",
            "Root 1: -2.0 + 2.0i\n",
            "Root 1: -2.0 - 2.0i\n"
          ]
        }
      ]
    },
    {
      "cell_type": "markdown",
      "source": [
        "10. Write a Python program to swap two variables without temp variable.\n"
      ],
      "metadata": {
        "id": "6_V2hg3E8rzM"
      }
    },
    {
      "cell_type": "code",
      "source": [
        "a = int(input(\"Enter first number \"))\n",
        "b = int(input(\"Enter second number \"))\n",
        "a,b = b,a\n",
        "print(\"After swapping:\")\n",
        "print(\"a =\", a)\n",
        "print(\"b =\", b)\n"
      ],
      "metadata": {
        "colab": {
          "base_uri": "https://localhost:8080/"
        },
        "id": "Wxwj6gr58W2E",
        "outputId": "0bb674f5-4951-4064-de24-cba87e367ec7"
      },
      "execution_count": 11,
      "outputs": [
        {
          "output_type": "stream",
          "name": "stdout",
          "text": [
            "Enter first number 10\n",
            "Enter second number 5\n",
            "After swapping:\n",
            "a = 5\n",
            "b = 10\n"
          ]
        }
      ]
    },
    {
      "cell_type": "markdown",
      "source": [
        "11. Write a Python Program to Check if a Number is Positive, Negative or Zero.\n"
      ],
      "metadata": {
        "id": "i4pmXjto9CA5"
      }
    },
    {
      "cell_type": "code",
      "source": [
        "a = int(input(\"Enter the number to check \"))\n",
        "if a > 0:\n",
        "  print(\"positive\")\n",
        "elif a == 0:\n",
        "  print(\"Zero\")\n",
        "else:\n",
        "  print(\"Negative \")"
      ],
      "metadata": {
        "colab": {
          "base_uri": "https://localhost:8080/"
        },
        "id": "W4go20Wv88wI",
        "outputId": "1b03eb02-e041-4259-bd18-503bec2189b8"
      },
      "execution_count": 12,
      "outputs": [
        {
          "output_type": "stream",
          "name": "stdout",
          "text": [
            "Enter the number to check -5\n",
            "Negative \n"
          ]
        }
      ]
    },
    {
      "cell_type": "markdown",
      "source": [
        "12. Write a Python Program to Check if a Number is Odd or Even.\n"
      ],
      "metadata": {
        "id": "c0kmEHeZ9ap2"
      }
    },
    {
      "cell_type": "code",
      "source": [
        "a = int(input(\"Enter the number to check \"))\n",
        "if a % 2 == 0:\n",
        "  print(\"Even Number\")\n",
        "else:\n",
        "  print(\"Odd Number\")"
      ],
      "metadata": {
        "colab": {
          "base_uri": "https://localhost:8080/"
        },
        "id": "INlCcd2r9WRk",
        "outputId": "26033747-1957-456c-cc0b-2b3f883dbbc1"
      },
      "execution_count": 13,
      "outputs": [
        {
          "output_type": "stream",
          "name": "stdout",
          "text": [
            "Enter the number to check 5\n",
            "Odd Number\n"
          ]
        }
      ]
    },
    {
      "cell_type": "markdown",
      "source": [
        "13. Write a Python Program to Check Leap Year.\n"
      ],
      "metadata": {
        "id": "uzf4DKiI-9hE"
      }
    },
    {
      "cell_type": "code",
      "source": [
        "year = int(input(\"Enter the year to check leap year \"))\n",
        "\n",
        "# divided by 100 means century year (ending with 00)\n",
        "# century year divided by 400 is leap year\n",
        "\n",
        "if (year % 100 == 0) and (year % 400 == 0):\n",
        "  print(f\"{year} is a leap year\")\n",
        "\n",
        "# not divided by 100 means not a century year\n",
        "# year divided by 4 is a leap year\n",
        "elif (year % 4 == 0) and (year % 100 != 0):\n",
        "  print(f\"{year} is a leap year\")\n",
        "\n",
        "# if not divided by both 400 (century year) and 4 (not century year)\n",
        "# year is not leap year\n",
        "else:\n",
        "    print(f\"{year} is not a leap year\")\n",
        "\n",
        "\n"
      ],
      "metadata": {
        "colab": {
          "base_uri": "https://localhost:8080/"
        },
        "id": "q1m5taII-54I",
        "outputId": "6f2d24db-72e9-459c-f007-f258b41aa3b5"
      },
      "execution_count": 15,
      "outputs": [
        {
          "output_type": "stream",
          "name": "stdout",
          "text": [
            "Enter the year to check leap year 2024\n",
            "2024 is a leap year\n"
          ]
        }
      ]
    },
    {
      "cell_type": "markdown",
      "source": [
        "14. Write a Python Program to Check Prime Number.\n"
      ],
      "metadata": {
        "id": "ACKlZ42pCO6-"
      }
    },
    {
      "cell_type": "markdown",
      "source": [
        "Prime Numbers:\n",
        "\n",
        "A prime number is a whole number that cannot be evenly divided by any other number\n",
        "except for 1 and itself. For example, 2, 3, 5, 7, 11, and 13 are prime numbers because they\n",
        "cannot be divided by any other positive integer except for 1 and their own value."
      ],
      "metadata": {
        "id": "sk1IEA0-CTyP"
      }
    },
    {
      "cell_type": "code",
      "source": [
        "a = int(input(\"Enter the number to check prime number\"))\n",
        "\n",
        "flag = False\n",
        "\n",
        "if a == 1:\n",
        "  print(f\"{a}, is not a prime number\")\n",
        "elif a > 0:\n",
        "   # check for factors\n",
        "  for i in range(2,a):\n",
        "    if (a % i) == 0:\n",
        "      flag = True # if factor is found, set flag to True\n",
        "      # break out of loop\n",
        "      break\n",
        " # check if flag is True\n",
        "if flag:\n",
        "  print(f\"{a}, is not a prime number\")\n",
        "else:\n",
        "  print(f\"{a}, is  a prime number\")\n",
        "\n",
        "\n",
        "\n",
        "\n"
      ],
      "metadata": {
        "colab": {
          "base_uri": "https://localhost:8080/"
        },
        "id": "mlJfsp_8AL2n",
        "outputId": "c8e48870-babc-42d0-a917-40d5540ffd7b"
      },
      "execution_count": 16,
      "outputs": [
        {
          "output_type": "stream",
          "name": "stdout",
          "text": [
            "Enter the number to check prime number27\n",
            "27, is not a prime number\n"
          ]
        }
      ]
    },
    {
      "cell_type": "code",
      "source": [],
      "metadata": {
        "id": "o-GRh9KkDz8U"
      },
      "execution_count": null,
      "outputs": []
    }
  ]
}