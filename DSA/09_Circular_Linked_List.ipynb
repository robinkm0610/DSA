{
  "nbformat": 4,
  "nbformat_minor": 0,
  "metadata": {
    "colab": {
      "provenance": [],
      "authorship_tag": "ABX9TyMnXGVmYXse0InVfRm4c59x",
      "include_colab_link": true
    },
    "kernelspec": {
      "name": "python3",
      "display_name": "Python 3"
    },
    "language_info": {
      "name": "python"
    }
  },
  "cells": [
    {
      "cell_type": "markdown",
      "metadata": {
        "id": "view-in-github",
        "colab_type": "text"
      },
      "source": [
        "<a href=\"https://colab.research.google.com/github/robinkm0610/DSA/blob/main/DSA/09_Circular_Linked_List.ipynb\" target=\"_parent\"><img src=\"https://colab.research.google.com/assets/colab-badge.svg\" alt=\"Open In Colab\"/></a>"
      ]
    },
    {
      "cell_type": "markdown",
      "source": [
        "Creation of circular single linked list"
      ],
      "metadata": {
        "id": "10JDk5qgB8j9"
      }
    },
    {
      "cell_type": "code",
      "execution_count": 1,
      "metadata": {
        "id": "q9jsEbx4A3EK"
      },
      "outputs": [],
      "source": [
        "class Node:\n",
        "  def __init__(self, value = None):\n",
        "    self.value = value\n",
        "    self.next = None\n",
        "\n",
        "class CircularLinkedList:\n",
        "  def __init__(self):\n",
        "    self.head = None\n",
        "    self.tail = None\n",
        "\n",
        "  def __iter__(self):\n",
        "    node = self.head\n",
        "    while node:\n",
        "      yield node\n",
        "      if node.next == self.head:\n",
        "        break\n",
        "      node = node.next\n",
        "  #creation of circular singly linked list\n",
        "  def createCSLL(self, nodeValue):\n",
        "    node = Node(nodeValue)\n",
        "    node.next = node\n",
        "    self.head = node\n",
        "    self.tail = node\n",
        "    return \"The circular singly linked list is created successfully\"\n",
        ""
      ]
    },
    {
      "cell_type": "code",
      "source": [
        "CircularSLL = CircularLinkedList()\n",
        "CircularSLL.createCSLL(12)\n",
        "\n",
        "print([node.value for node in CircularSLL])"
      ],
      "metadata": {
        "colab": {
          "base_uri": "https://localhost:8080/"
        },
        "id": "pL34Z_QuDFjA",
        "outputId": "2c8e9975-2b06-4be2-c444-9daf9c3d8d4f"
      },
      "execution_count": 3,
      "outputs": [
        {
          "output_type": "stream",
          "name": "stdout",
          "text": [
            "[12]\n"
          ]
        }
      ]
    },
    {
      "cell_type": "markdown",
      "source": [
        "Circular SLL - Insertion\n",
        "\n",
        "- Insert at the beginning of LL\n",
        "- Insert at the specified location of LL\n",
        "- Insert at the end of LL"
      ],
      "metadata": {
        "id": "ddIHPVGeERby"
      }
    },
    {
      "cell_type": "code",
      "source": [
        "class Node:\n",
        "  def __init__(self, value = None):\n",
        "    self.value = value\n",
        "    self.next = None\n",
        "\n",
        "class CircularLinkedList:\n",
        "  def __init__(self):\n",
        "    self.head = None\n",
        "    self.tail = None\n",
        "\n",
        "  def __iter__(self):\n",
        "    node = self.head\n",
        "    while node:\n",
        "      yield node\n",
        "      if node.next == self.head:\n",
        "        break\n",
        "      node = node.next\n",
        "\n",
        "  def createCSLL(self, nodeValue):\n",
        "    node = Node(nodeValue)\n",
        "    node.next = node\n",
        "    self.head = node\n",
        "    self.tail = node\n",
        "    return \"The circular singly linked list is created successfully\"\n",
        "\n",
        "\n",
        "  #insergtion of a node in circular single LL\n",
        "\n",
        "  def insertCSLL(self, value, location):\n",
        "    if self.head is None:\n",
        "      return \"The head reference is None\"\n",
        "    else:\n",
        "      newNode = Node(value)\n",
        "      if location == 0:\n",
        "        newNode.next = self.head\n",
        "        self.head = newNode\n",
        "        self.tail.next = newNode\n",
        "      elif location == 1:\n",
        "        newNode.next = self.tail.next\n",
        "        self.tail.next = newNode\n",
        "        self.tail = newNode\n",
        "      else:\n",
        "        tempNode = self.head\n",
        "        index = 0\n",
        "        while index < location - 1:\n",
        "          tempNode = tempNode.next\n",
        "          index += 1\n",
        "        nextNode = tempNode.next\n",
        "        tempNode.next = newNode\n",
        "        newNode.next = nextNode\n",
        "      return \"The node has been successfully inserted\"\n",
        "\n",
        ""
      ],
      "metadata": {
        "id": "DGtjtGuWEQ1R"
      },
      "execution_count": 5,
      "outputs": []
    },
    {
      "cell_type": "code",
      "source": [
        "circularSLL = CircularLinkedList()\n",
        "circularSLL.createCSLL(1)\n",
        "circularSLL.insertCSLL(0, 0)\n",
        "circularSLL.insertCSLL(2, 1)\n",
        "circularSLL.insertCSLL(3, 1)\n",
        "circularSLL.insertCSLL(2, 2)\n",
        "print([node.value for node in circularSLL])"
      ],
      "metadata": {
        "colab": {
          "base_uri": "https://localhost:8080/"
        },
        "id": "qUpNctS6DUBx",
        "outputId": "e4a5b775-ffa3-4681-c278-a84092140148"
      },
      "execution_count": 7,
      "outputs": [
        {
          "output_type": "stream",
          "name": "stdout",
          "text": [
            "[0, 1, 2, 2, 3]\n"
          ]
        }
      ]
    },
    {
      "cell_type": "markdown",
      "source": [
        "CSLL - Traversal"
      ],
      "metadata": {
        "id": "2pqY5aZTQzTv"
      }
    },
    {
      "cell_type": "code",
      "source": [
        "class Node:\n",
        "  def __init__(self, value = None):\n",
        "    self.value = value\n",
        "    self.next = None\n",
        "\n",
        "class CircularLinkedList:\n",
        "  def __init__(self):\n",
        "    self.head = None\n",
        "    self.tail = None\n",
        "\n",
        "  def __iter__(self):\n",
        "    node = self.head\n",
        "    while node:\n",
        "      yield node\n",
        "      if node.next == self.head:\n",
        "        break\n",
        "      node = node.next\n",
        "\n",
        "  def createCSLL(self, nodeValue):\n",
        "    node = Node(nodeValue)\n",
        "    node.next = node\n",
        "    self.head = node\n",
        "    self.tail = node\n",
        "    return \"The circular singly linked list is created successfully\"\n",
        "\n",
        "\n",
        "  #insergtion of a node in circular single LL\n",
        "\n",
        "  def insertCSLL(self, value, location):\n",
        "    if self.head is None:\n",
        "      return \"The head reference is None\"\n",
        "    else:\n",
        "      newNode = Node(value)\n",
        "      if location == 0:\n",
        "        newNode.next = self.head\n",
        "        self.head = newNode\n",
        "        self.tail.next = newNode\n",
        "      elif location == 1:\n",
        "        newNode.next = self.tail.next\n",
        "        self.tail.next = newNode\n",
        "        self.tail = newNode\n",
        "      else:\n",
        "        tempNode = self.head\n",
        "        index = 0\n",
        "        while index < location - 1:\n",
        "          tempNode = tempNode.next\n",
        "          index += 1\n",
        "        nextNode = tempNode.next\n",
        "        tempNode.next = newNode\n",
        "        newNode.next = nextNode\n",
        "      return \"The node has been successfully inserted\"\n",
        "\n",
        "  #Traversal of a node in CSLL\n",
        "  def traverseCSLL(self):\n",
        "    if self.head is None:\n",
        "      print(\"There is not any element in the CSLL\")\n",
        "    else:\n",
        "      tempNode = self.head\n",
        "      while tempNode:\n",
        "        print(tempNode.value)\n",
        "        if tempNode == self.tail:\n",
        "          break\n",
        "        tempNode = tempNode.next\n",
        "\n",
        ""
      ],
      "metadata": {
        "id": "IiVZJf19QgvP"
      },
      "execution_count": 8,
      "outputs": []
    },
    {
      "cell_type": "code",
      "source": [
        "circularSLL = CircularLinkedList()\n",
        "circularSLL.createCSLL(1)\n",
        "circularSLL.insertCSLL(0, 0)\n",
        "circularSLL.insertCSLL(2, 1)\n",
        "circularSLL.insertCSLL(3, 1)\n",
        "circularSLL.insertCSLL(2, 2)\n",
        "\n",
        "circularSLL.traverseCSLL()"
      ],
      "metadata": {
        "colab": {
          "base_uri": "https://localhost:8080/"
        },
        "id": "Qe6nzpIbRO9c",
        "outputId": "f20b22e9-6bba-4c75-a395-301e4d88a652"
      },
      "execution_count": 9,
      "outputs": [
        {
          "output_type": "stream",
          "name": "stdout",
          "text": [
            "0\n",
            "1\n",
            "2\n",
            "2\n",
            "3\n"
          ]
        }
      ]
    },
    {
      "cell_type": "markdown",
      "source": [
        "CSLL - Search"
      ],
      "metadata": {
        "id": "c90VUCmQRih4"
      }
    },
    {
      "cell_type": "code",
      "source": [
        "class Node:\n",
        "  def __init__(self, value = None):\n",
        "    self.value = value\n",
        "    self.next = None\n",
        "\n",
        "class CircularLinkedList:\n",
        "  def __init__(self):\n",
        "    self.head = None\n",
        "    self.tail = None\n",
        "\n",
        "  def __iter__(self):\n",
        "    node = self.head\n",
        "    while node:\n",
        "      yield node\n",
        "      if node.next == self.head:\n",
        "        break\n",
        "      node = node.next\n",
        "\n",
        "  def createCSLL(self, nodeValue):\n",
        "    node = Node(nodeValue)\n",
        "    node.next = node\n",
        "    self.head = node\n",
        "    self.tail = node\n",
        "    return \"The circular singly linked list is created successfully\"\n",
        "\n",
        "\n",
        "  #insergtion of a node in circular single LL\n",
        "\n",
        "  def insertCSLL(self, value, location):\n",
        "    if self.head is None:\n",
        "      return \"The head reference is None\"\n",
        "    else:\n",
        "      newNode = Node(value)\n",
        "      if location == 0:\n",
        "        newNode.next = self.head\n",
        "        self.head = newNode\n",
        "        self.tail.next = newNode\n",
        "      elif location == 1:\n",
        "        newNode.next = self.tail.next\n",
        "        self.tail.next = newNode\n",
        "        self.tail = newNode\n",
        "      else:\n",
        "        tempNode = self.head\n",
        "        index = 0\n",
        "        while index < location - 1:\n",
        "          tempNode = tempNode.next\n",
        "          index += 1\n",
        "        nextNode = tempNode.next\n",
        "        tempNode.next = newNode\n",
        "        newNode.next = nextNode\n",
        "      return \"The node has been successfully inserted\"\n",
        "\n",
        "  #Traversal of a node in CSLL\n",
        "  def traverseCSLL(self):\n",
        "    if self.head is None:\n",
        "      print(\"There is not any element in the CSLL\")\n",
        "    else:\n",
        "      tempNode = self.head\n",
        "      while tempNode:\n",
        "        print(tempNode.value)\n",
        "        if tempNode == self.tail:\n",
        "          break\n",
        "        tempNode = tempNode.next\n",
        "\n",
        "  #Searching for aa node in CSLL\n",
        "  def searchCSLL(self, nodeValue):\n",
        "    if self.head is None:\n",
        "      return \"There is not any node in the CSLL\"\n",
        "    else:\n",
        "      tempNode = self.head\n",
        "      while tempNode:\n",
        "        if tempNode.value == nodeValue:\n",
        "          return tempNode.value\n",
        "        if tempNode == self.tail:\n",
        "          return \"The value does not exist in this CSLL\"\n",
        "        tempNode = tempNode.next"
      ],
      "metadata": {
        "id": "9_IeBJYMRVAy"
      },
      "execution_count": 13,
      "outputs": []
    },
    {
      "cell_type": "code",
      "source": [
        "circularSLL = CircularLinkedList()\n",
        "circularSLL.createCSLL(1)\n",
        "circularSLL.insertCSLL(0, 0)\n",
        "circularSLL.insertCSLL(2, 1)\n",
        "circularSLL.insertCSLL(3, 1)\n",
        "circularSLL.insertCSLL(2, 2)\n",
        "\n",
        "\n",
        "circularSLL.searchCSLL(3)"
      ],
      "metadata": {
        "colab": {
          "base_uri": "https://localhost:8080/"
        },
        "id": "LHFEXzlUR4wn",
        "outputId": "55c5e5d8-1afc-4402-fc2d-58175d8a2191"
      },
      "execution_count": 15,
      "outputs": [
        {
          "output_type": "execute_result",
          "data": {
            "text/plain": [
              "3"
            ]
          },
          "metadata": {},
          "execution_count": 15
        }
      ]
    },
    {
      "cell_type": "markdown",
      "source": [
        "CSLL - Deletion\n",
        "\n",
        "- Deleting the first node\n",
        "- Deleting any given node\n",
        "- Deleting the last node"
      ],
      "metadata": {
        "id": "t5nZ4ZyxSgBk"
      }
    },
    {
      "cell_type": "code",
      "source": [
        "class Node:\n",
        "  def __init__(self, value = None):\n",
        "    self.value = value\n",
        "    self.next = None\n",
        "\n",
        "class CircularLinkedList:\n",
        "  def __init__(self):\n",
        "    self.head = None\n",
        "    self.tail = None\n",
        "\n",
        "  def __iter__(self):\n",
        "    node = self.head\n",
        "    while node:\n",
        "      yield node\n",
        "      if node.next == self.head:\n",
        "        break\n",
        "      node = node.next\n",
        "\n",
        "  def createCSLL(self, nodeValue):\n",
        "    node = Node(nodeValue)\n",
        "    node.next = node\n",
        "    self.head = node\n",
        "    self.tail = node\n",
        "    return \"The circular singly linked list is created successfully\"\n",
        "\n",
        "\n",
        "  #insergtion of a node in circular single LL\n",
        "\n",
        "  def insertCSLL(self, value, location):\n",
        "    if self.head is None:\n",
        "      return \"The head reference is None\"\n",
        "    else:\n",
        "      newNode = Node(value)\n",
        "      if location == 0:\n",
        "        newNode.next = self.head\n",
        "        self.head = newNode\n",
        "        self.tail.next = newNode\n",
        "      elif location == 1:\n",
        "        newNode.next = self.tail.next\n",
        "        self.tail.next = newNode\n",
        "        self.tail = newNode\n",
        "      else:\n",
        "        tempNode = self.head\n",
        "        index = 0\n",
        "        while index < location - 1:\n",
        "          tempNode = tempNode.next\n",
        "          index += 1\n",
        "        nextNode = tempNode.next\n",
        "        tempNode.next = newNode\n",
        "        newNode.next = nextNode\n",
        "      return \"The node has been successfully inserted\"\n",
        "\n",
        "  #Traversal of a node in CSLL\n",
        "  def traverseCSLL(self):\n",
        "    if self.head is None:\n",
        "      print(\"There is not any element in the CSLL\")\n",
        "    else:\n",
        "      tempNode = self.head\n",
        "      while tempNode:\n",
        "        print(tempNode.value)\n",
        "        if tempNode == self.tail:\n",
        "          break\n",
        "        tempNode = tempNode.next\n",
        "\n",
        "  #Searching for aa node in CSLL\n",
        "  def searchCSLL(self, nodeValue):\n",
        "    if self.head is None:\n",
        "      return \"There is not any node in the CSLL\"\n",
        "    else:\n",
        "      tempNode = self.head\n",
        "      while tempNode:\n",
        "        if tempNode.value == nodeValue:\n",
        "          return tempNode.value\n",
        "        if tempNode == self.tail:\n",
        "          return \"The value does not exist in this CSLL\"\n",
        "        tempNode = tempNode.next\n",
        "\n",
        "  #Delete a node from CSLL\n",
        "  def deleteNode(self, location):\n",
        "    if self.head is None:\n",
        "      print(\"There is not any node in the CSLL\")\n",
        "    else:\n",
        "      if location == 0:\n",
        "        if self.head == self.tail:\n",
        "          self.head.next = None\n",
        "          self.head = None\n",
        "          self.tail = None\n",
        "        else:\n",
        "          self.head = self.head.next\n",
        "          self.tail.next = self.head\n",
        "      elif location == 1:\n",
        "          if self.head == self.tail:\n",
        "            self.head.next = None\n",
        "            self.head = None\n",
        "            self.tail = None\n",
        "          else:\n",
        "            node = self.head\n",
        "            while node is not None:\n",
        "              if node.next == self.tail:\n",
        "                break\n",
        "              node = node.next\n",
        "            node.next = self.head\n",
        "            self.tail = node\n",
        "      else:\n",
        "        tempNode = self.head\n",
        "        index = 0\n",
        "        while index < location - 1:\n",
        "          tempNode = tempNode.next\n",
        "          index += 1\n",
        "        nextNode = tempNode.next\n",
        "        tempNode.next = nextNode.next\n",
        "      return \"The node has been successfully deleted\""
      ],
      "metadata": {
        "id": "Ib8ECzdrSAXw"
      },
      "execution_count": 16,
      "outputs": []
    },
    {
      "cell_type": "code",
      "source": [
        "circularSLL = CircularLinkedList()\n",
        "circularSLL.createCSLL(1)\n",
        "circularSLL.insertCSLL(0, 0)\n",
        "circularSLL.insertCSLL(2, 1)\n",
        "circularSLL.insertCSLL(3, 1)\n",
        "circularSLL.insertCSLL(2, 2)\n",
        "print([node.value for node in circularSLL])\n",
        "\n",
        "circularSLL.deleteNode(0)\n",
        "print([node.value for node in circularSLL])\n"
      ],
      "metadata": {
        "colab": {
          "base_uri": "https://localhost:8080/"
        },
        "id": "eZDnmEqrVgyp",
        "outputId": "38acc475-123d-4e8d-8fa8-66dbb7afc54e"
      },
      "execution_count": 17,
      "outputs": [
        {
          "output_type": "stream",
          "name": "stdout",
          "text": [
            "[0, 1, 2, 2, 3]\n",
            "[1, 2, 2, 3]\n"
          ]
        }
      ]
    },
    {
      "cell_type": "code",
      "source": [
        "circularSLL = CircularLinkedList()\n",
        "circularSLL.createCSLL(1)\n",
        "circularSLL.insertCSLL(0, 0)\n",
        "circularSLL.insertCSLL(2, 1)\n",
        "circularSLL.insertCSLL(3, 1)\n",
        "circularSLL.insertCSLL(2, 2)\n",
        "print([node.value for node in circularSLL])\n",
        "\n",
        "circularSLL.deleteNode(1)\n",
        "print([node.value for node in circularSLL])\n"
      ],
      "metadata": {
        "colab": {
          "base_uri": "https://localhost:8080/"
        },
        "id": "uhNVdzJRVth8",
        "outputId": "258c3237-32d8-4aca-93fc-3e3fee9f4eb4"
      },
      "execution_count": 18,
      "outputs": [
        {
          "output_type": "stream",
          "name": "stdout",
          "text": [
            "[0, 1, 2, 2, 3]\n",
            "[0, 1, 2, 2]\n"
          ]
        }
      ]
    },
    {
      "cell_type": "code",
      "source": [
        "circularSLL = CircularLinkedList()\n",
        "circularSLL.createCSLL(1)\n",
        "circularSLL.insertCSLL(0, 0)\n",
        "circularSLL.insertCSLL(2, 1)\n",
        "circularSLL.insertCSLL(3, 1)\n",
        "circularSLL.insertCSLL(4, 2)\n",
        "print([node.value for node in circularSLL])\n",
        "\n",
        "circularSLL.deleteNode(2)\n",
        "print([node.value for node in circularSLL])\n"
      ],
      "metadata": {
        "colab": {
          "base_uri": "https://localhost:8080/"
        },
        "id": "mk0IXM0gVwZv",
        "outputId": "bfea2598-f5e8-4c6f-fb2b-b6ca898043ac"
      },
      "execution_count": 20,
      "outputs": [
        {
          "output_type": "stream",
          "name": "stdout",
          "text": [
            "[0, 1, 4, 2, 3]\n",
            "[0, 1, 2, 3]\n"
          ]
        }
      ]
    },
    {
      "cell_type": "code",
      "source": [
        "circularSLL = CircularLinkedList()\n",
        "circularSLL.createCSLL(1)\n",
        "# circularSLL.insertCSLL(0, 0)\n",
        "# circularSLL.insertCSLL(2, 1)\n",
        "# circularSLL.insertCSLL(3, 1)\n",
        "# circularSLL.insertCSLL(4, 2)\n",
        "print([node.value for node in circularSLL])\n",
        "\n",
        "circularSLL.deleteNode(0)\n",
        "print([node.value for node in circularSLL])\n"
      ],
      "metadata": {
        "colab": {
          "base_uri": "https://localhost:8080/"
        },
        "id": "tZuO_woNVy9J",
        "outputId": "eb3062f1-c274-448b-f138-3cb9cd505228"
      },
      "execution_count": 21,
      "outputs": [
        {
          "output_type": "stream",
          "name": "stdout",
          "text": [
            "[1]\n",
            "[]\n"
          ]
        }
      ]
    },
    {
      "cell_type": "markdown",
      "source": [
        "Delete entire CSLL"
      ],
      "metadata": {
        "id": "bceMyx6rWUeC"
      }
    },
    {
      "cell_type": "code",
      "source": [
        "class Node:\n",
        "  def __init__(self, value = None):\n",
        "    self.value = value\n",
        "    self.next = None\n",
        "\n",
        "class CircularLinkedList:\n",
        "  def __init__(self):\n",
        "    self.head = None\n",
        "    self.tail = None\n",
        "\n",
        "  def __iter__(self):\n",
        "    node = self.head\n",
        "    while node:\n",
        "      yield node\n",
        "      if node.next == self.head:\n",
        "        break\n",
        "      node = node.next\n",
        "\n",
        "  def createCSLL(self, nodeValue):\n",
        "    node = Node(nodeValue)\n",
        "    node.next = node\n",
        "    self.head = node\n",
        "    self.tail = node\n",
        "    return \"The circular singly linked list is created successfully\"\n",
        "\n",
        "\n",
        "  #insergtion of a node in circular single LL\n",
        "\n",
        "  def insertCSLL(self, value, location):\n",
        "    if self.head is None:\n",
        "      return \"The head reference is None\"\n",
        "    else:\n",
        "      newNode = Node(value)\n",
        "      if location == 0:\n",
        "        newNode.next = self.head\n",
        "        self.head = newNode\n",
        "        self.tail.next = newNode\n",
        "      elif location == 1:\n",
        "        newNode.next = self.tail.next\n",
        "        self.tail.next = newNode\n",
        "        self.tail = newNode\n",
        "      else:\n",
        "        tempNode = self.head\n",
        "        index = 0\n",
        "        while index < location - 1:\n",
        "          tempNode = tempNode.next\n",
        "          index += 1\n",
        "        nextNode = tempNode.next\n",
        "        tempNode.next = newNode\n",
        "        newNode.next = nextNode\n",
        "      return \"The node has been successfully inserted\"\n",
        "\n",
        "  #Traversal of a node in CSLL\n",
        "  def traverseCSLL(self):\n",
        "    if self.head is None:\n",
        "      print(\"There is not any element in the CSLL\")\n",
        "    else:\n",
        "      tempNode = self.head\n",
        "      while tempNode:\n",
        "        print(tempNode.value)\n",
        "        if tempNode == self.tail:\n",
        "          break\n",
        "        tempNode = tempNode.next\n",
        "\n",
        "  #Searching for aa node in CSLL\n",
        "  def searchCSLL(self, nodeValue):\n",
        "    if self.head is None:\n",
        "      return \"There is not any node in the CSLL\"\n",
        "    else:\n",
        "      tempNode = self.head\n",
        "      while tempNode:\n",
        "        if tempNode.value == nodeValue:\n",
        "          return tempNode.value\n",
        "        if tempNode == self.tail:\n",
        "          return \"The value does not exist in this CSLL\"\n",
        "        tempNode = tempNode.next\n",
        "\n",
        "  #Delete a node from CSLL\n",
        "  def deleteNode(self, location):\n",
        "    if self.head is None:\n",
        "      print(\"There is not any node in the CSLL\")\n",
        "    else:\n",
        "      if location == 0:\n",
        "        if self.head == self.tail:\n",
        "          self.head.next = None\n",
        "          self.head = None\n",
        "          self.tail = None\n",
        "        else:\n",
        "          self.head = self.head.next\n",
        "          self.tail.next = self.head\n",
        "      elif location == 1:\n",
        "          if self.head == self.tail:\n",
        "            self.head.next = None\n",
        "            self.head = None\n",
        "            self.tail = None\n",
        "          else:\n",
        "            node = self.head\n",
        "            while node is not None:\n",
        "              if node.next == self.tail:\n",
        "                break\n",
        "              node = node.next\n",
        "            node.next = self.head\n",
        "            self.tail = node\n",
        "      else:\n",
        "        tempNode = self.head\n",
        "        index = 0\n",
        "        while index < location - 1:\n",
        "          tempNode = tempNode.next\n",
        "          index += 1\n",
        "        nextNode = tempNode.next\n",
        "        tempNode.next = nextNode.next\n",
        "      return \"The node has been successfully deleted\"\n",
        "  #Delete entire\n",
        "  def deleteEntireCSLL(self):\n",
        "    self.head = None\n",
        "    self.tail.next = None\n",
        "    self.tail = None\n",
        "    return \"The CSLL has been successfully deleted\""
      ],
      "metadata": {
        "id": "lQ82tqAaWB4o"
      },
      "execution_count": 24,
      "outputs": []
    },
    {
      "cell_type": "code",
      "source": [
        "circularSLL = CircularLinkedList()\n",
        "circularSLL.createCSLL(1)\n",
        "circularSLL.insertCSLL(0, 0)\n",
        "circularSLL.insertCSLL(2, 1)\n",
        "circularSLL.insertCSLL(3, 1)\n",
        "circularSLL.insertCSLL(4, 2)\n",
        "print([node.value for node in circularSLL])\n",
        "\n",
        "circularSLL.deleteEntireCSLL()\n",
        "print([node.value for node in circularSLL])\n"
      ],
      "metadata": {
        "colab": {
          "base_uri": "https://localhost:8080/"
        },
        "id": "BQxNtg_qWm0F",
        "outputId": "69974963-2b79-4b5a-900c-08c99ec89492"
      },
      "execution_count": 27,
      "outputs": [
        {
          "output_type": "stream",
          "name": "stdout",
          "text": [
            "[0, 1, 4, 2, 3]\n",
            "[]\n"
          ]
        }
      ]
    },
    {
      "cell_type": "markdown",
      "source": [
        "Time & Space complexity of SLL\n",
        "\n",
        "| | Time Complexity | Space Complexity |\n",
        "| ---- |---- | ---- |\n",
        "|Creation |O(1) |O(1)|\n",
        "|Insertion | O(n) | O(1) |\n",
        "|Searching | O(n) | O(1) |\n",
        "|Traversing | O(n) | O(1) |\n",
        "|Deletion of a node | O(n) | O(1) |\n",
        "| Deletion of linked list | O(1) | O(1) |\n"
      ],
      "metadata": {
        "id": "N1PktOIOXXm8"
      }
    },
    {
      "cell_type": "code",
      "source": [],
      "metadata": {
        "id": "TfFWKMCCWv-Q"
      },
      "execution_count": null,
      "outputs": []
    }
  ]
}