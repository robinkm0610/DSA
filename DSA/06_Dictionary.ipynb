{
  "nbformat": 4,
  "nbformat_minor": 0,
  "metadata": {
    "colab": {
      "provenance": [],
      "authorship_tag": "ABX9TyPs02t91/X+0PANcevmm7UD",
      "include_colab_link": true
    },
    "kernelspec": {
      "name": "python3",
      "display_name": "Python 3"
    },
    "language_info": {
      "name": "python"
    }
  },
  "cells": [
    {
      "cell_type": "markdown",
      "metadata": {
        "id": "view-in-github",
        "colab_type": "text"
      },
      "source": [
        "<a href=\"https://colab.research.google.com/github/robinkm0610/DSA/blob/main/DSA/06_Dictionary.ipynb\" target=\"_parent\"><img src=\"https://colab.research.google.com/assets/colab-badge.svg\" alt=\"Open In Colab\"/></a>"
      ]
    },
    {
      "cell_type": "markdown",
      "source": [
        "Dictionary\n",
        "\n",
        "A dictionary is a collection which is unordered, changeable and indexed"
      ],
      "metadata": {
        "id": "dKMhQObCjliK"
      }
    },
    {
      "cell_type": "code",
      "execution_count": null,
      "metadata": {
        "colab": {
          "base_uri": "https://localhost:8080/"
        },
        "id": "Zl-X8cz3jXO9",
        "outputId": "9376459b-ceab-48f2-8479-42bc52062508"
      },
      "outputs": [
        {
          "output_type": "stream",
          "name": "stdout",
          "text": [
            "{}\n"
          ]
        }
      ],
      "source": [
        "# How to create a dictionary\n",
        "\n",
        "myDict = dict()\n",
        "print(myDict)"
      ]
    },
    {
      "cell_type": "code",
      "source": [
        "secondDict = {}\n",
        "print(secondDict)\n"
      ],
      "metadata": {
        "colab": {
          "base_uri": "https://localhost:8080/"
        },
        "id": "0rMkTN_zlf4r",
        "outputId": "fcd6d577-1dea-4480-c17a-24d5fdb11758"
      },
      "execution_count": null,
      "outputs": [
        {
          "output_type": "stream",
          "name": "stdout",
          "text": [
            "{}\n"
          ]
        }
      ]
    },
    {
      "cell_type": "code",
      "source": [
        "myDict = {1 : \"First\", 2 : \"Second\", 3 : \"Third\"}\n",
        "print(myDict)"
      ],
      "metadata": {
        "colab": {
          "base_uri": "https://localhost:8080/"
        },
        "id": "jmGV2eI-liol",
        "outputId": "1ebebffa-6ef3-4f56-bbca-beff6495093a"
      },
      "execution_count": null,
      "outputs": [
        {
          "output_type": "stream",
          "name": "stdout",
          "text": [
            "{1: 'First', 2: 'Second', 3: 'Third'}\n"
          ]
        }
      ]
    },
    {
      "cell_type": "code",
      "source": [
        "myDict[1]"
      ],
      "metadata": {
        "colab": {
          "base_uri": "https://localhost:8080/",
          "height": 36
        },
        "id": "KuIvlEHjlpNR",
        "outputId": "66a5dca5-334b-49f0-ec37-8c3973484f46"
      },
      "execution_count": null,
      "outputs": [
        {
          "output_type": "execute_result",
          "data": {
            "text/plain": [
              "'First'"
            ],
            "application/vnd.google.colaboratory.intrinsic+json": {
              "type": "string"
            }
          },
          "metadata": {},
          "execution_count": 4
        }
      ]
    },
    {
      "cell_type": "markdown",
      "source": [
        "Dictionary in memory\n",
        "\n",
        "A hash table is a way of doing key-value lookups. You store the values in an array, and then use a hash funciton to find the index of the array cell that corresponds to your key-value pair."
      ],
      "metadata": {
        "id": "oOcxRr_ymCm9"
      }
    },
    {
      "cell_type": "code",
      "source": [
        "myDict = {'name' : 'Edy', 'age' : 26}"
      ],
      "metadata": {
        "id": "psLDYvjGlwK9"
      },
      "execution_count": null,
      "outputs": []
    },
    {
      "cell_type": "code",
      "source": [
        "myDict"
      ],
      "metadata": {
        "colab": {
          "base_uri": "https://localhost:8080/"
        },
        "id": "ZzNa7mdsnURl",
        "outputId": "9400f00e-ed17-467e-f335-e759a5215494"
      },
      "execution_count": null,
      "outputs": [
        {
          "output_type": "execute_result",
          "data": {
            "text/plain": [
              "{'name': 'Edy', 'age': 26}"
            ]
          },
          "metadata": {},
          "execution_count": 8
        }
      ]
    },
    {
      "cell_type": "code",
      "source": [
        "myDict['age'] = 27\n",
        "myDict"
      ],
      "metadata": {
        "colab": {
          "base_uri": "https://localhost:8080/"
        },
        "id": "QO4auKZ6nWD0",
        "outputId": "b62787e8-cbbf-4967-ffdf-819e76a35ab8"
      },
      "execution_count": null,
      "outputs": [
        {
          "output_type": "execute_result",
          "data": {
            "text/plain": [
              "{'name': 'Edy', 'age': 27}"
            ]
          },
          "metadata": {},
          "execution_count": 9
        }
      ]
    },
    {
      "cell_type": "code",
      "source": [
        "myDict['address'] = 'London'\n",
        "myDict"
      ],
      "metadata": {
        "colab": {
          "base_uri": "https://localhost:8080/"
        },
        "id": "4cnuoUe0ndIW",
        "outputId": "2f551335-ca39-43f5-bb18-e728e4492bda"
      },
      "execution_count": null,
      "outputs": [
        {
          "output_type": "execute_result",
          "data": {
            "text/plain": [
              "{'name': 'Edy', 'age': 27, 'address': 'London'}"
            ]
          },
          "metadata": {},
          "execution_count": 10
        }
      ]
    },
    {
      "cell_type": "markdown",
      "source": [
        "Traversing"
      ],
      "metadata": {
        "id": "-CzGxGSfo2Ge"
      }
    },
    {
      "cell_type": "code",
      "source": [
        "def traverseDict(dict):\n",
        "  for key in dict:\n",
        "    print(key, dict[key])\n",
        "\n",
        "traverseDict(myDict)"
      ],
      "metadata": {
        "colab": {
          "base_uri": "https://localhost:8080/"
        },
        "id": "uP2tMa-xnmlw",
        "outputId": "5e913952-b5c9-4db4-da5b-524d553de4c5"
      },
      "execution_count": null,
      "outputs": [
        {
          "output_type": "stream",
          "name": "stdout",
          "text": [
            "name Edy\n",
            "age 27\n",
            "address London\n"
          ]
        }
      ]
    },
    {
      "cell_type": "markdown",
      "source": [
        "Searching an value in dict"
      ],
      "metadata": {
        "id": "U1QsGc7Moylb"
      }
    },
    {
      "cell_type": "code",
      "source": [
        "def searchDict(dict, value):\n",
        "  for key in dict:\n",
        "    if dict[key] == value:\n",
        "      return key, value\n",
        "  return \"The value does not exist\"\n",
        "\n",
        "searchDict(myDict, 27)"
      ],
      "metadata": {
        "colab": {
          "base_uri": "https://localhost:8080/"
        },
        "id": "RbbkixwroB_J",
        "outputId": "5239a42f-adb3-4fa9-e2f0-d7b7c0d61552"
      },
      "execution_count": null,
      "outputs": [
        {
          "output_type": "execute_result",
          "data": {
            "text/plain": [
              "('age', 27)"
            ]
          },
          "metadata": {},
          "execution_count": 12
        }
      ]
    },
    {
      "cell_type": "code",
      "source": [
        "searchDict(myDict, 26)"
      ],
      "metadata": {
        "colab": {
          "base_uri": "https://localhost:8080/",
          "height": 36
        },
        "id": "sAaF7O9Roms_",
        "outputId": "a61477ae-4f74-4156-806f-74387d72847e"
      },
      "execution_count": null,
      "outputs": [
        {
          "output_type": "execute_result",
          "data": {
            "text/plain": [
              "'The value does not exist'"
            ],
            "application/vnd.google.colaboratory.intrinsic+json": {
              "type": "string"
            }
          },
          "metadata": {},
          "execution_count": 13
        }
      ]
    },
    {
      "cell_type": "markdown",
      "source": [
        "Delete an element in dict"
      ],
      "metadata": {
        "id": "qX5wUI-To7rG"
      }
    },
    {
      "cell_type": "code",
      "source": [
        "myDict = {'name' : 'Edy', 'age' : 26, 'address' : 'London', 'education' : 'Master'}"
      ],
      "metadata": {
        "id": "PiM9PfgHooQ9"
      },
      "execution_count": null,
      "outputs": []
    },
    {
      "cell_type": "code",
      "source": [
        "myDict.pop('name')"
      ],
      "metadata": {
        "colab": {
          "base_uri": "https://localhost:8080/",
          "height": 36
        },
        "id": "BBgfmOQGpHsf",
        "outputId": "7f8dd500-548e-47e3-d5e3-cca6a710fb66"
      },
      "execution_count": null,
      "outputs": [
        {
          "output_type": "execute_result",
          "data": {
            "text/plain": [
              "'Edy'"
            ],
            "application/vnd.google.colaboratory.intrinsic+json": {
              "type": "string"
            }
          },
          "metadata": {},
          "execution_count": 15
        }
      ]
    },
    {
      "cell_type": "code",
      "source": [
        "myDict"
      ],
      "metadata": {
        "colab": {
          "base_uri": "https://localhost:8080/"
        },
        "id": "kGV93HFHpJsq",
        "outputId": "f2d74f99-812d-4c74-dcde-f66ff56f6837"
      },
      "execution_count": null,
      "outputs": [
        {
          "output_type": "execute_result",
          "data": {
            "text/plain": [
              "{'age': 26, 'address': 'London', 'education': 'Master'}"
            ]
          },
          "metadata": {},
          "execution_count": 16
        }
      ]
    },
    {
      "cell_type": "code",
      "source": [
        "myDict.popitem() #random element"
      ],
      "metadata": {
        "colab": {
          "base_uri": "https://localhost:8080/"
        },
        "id": "uRD_bfKcpMsF",
        "outputId": "c06d8442-d12f-404a-8905-25683bc87c20"
      },
      "execution_count": null,
      "outputs": [
        {
          "output_type": "execute_result",
          "data": {
            "text/plain": [
              "('education', 'Master')"
            ]
          },
          "metadata": {},
          "execution_count": 17
        }
      ]
    },
    {
      "cell_type": "code",
      "source": [
        "myDict"
      ],
      "metadata": {
        "colab": {
          "base_uri": "https://localhost:8080/"
        },
        "id": "s-x0Fe4hpQvG",
        "outputId": "8e13d9ad-07b8-42bb-f94e-bdff16ee1053"
      },
      "execution_count": null,
      "outputs": [
        {
          "output_type": "execute_result",
          "data": {
            "text/plain": [
              "{'age': 26, 'address': 'London'}"
            ]
          },
          "metadata": {},
          "execution_count": 18
        }
      ]
    },
    {
      "cell_type": "code",
      "source": [
        "myDict.clear() #deletes all elements"
      ],
      "metadata": {
        "id": "4D2K89zIpYMi"
      },
      "execution_count": null,
      "outputs": []
    },
    {
      "cell_type": "code",
      "source": [
        "myDict"
      ],
      "metadata": {
        "colab": {
          "base_uri": "https://localhost:8080/"
        },
        "id": "2ZBe84N5pZoI",
        "outputId": "f5f28b6e-5c97-4ddf-80c0-aff10fcce3b4"
      },
      "execution_count": null,
      "outputs": [
        {
          "output_type": "execute_result",
          "data": {
            "text/plain": [
              "{}"
            ]
          },
          "metadata": {},
          "execution_count": 20
        }
      ]
    },
    {
      "cell_type": "code",
      "source": [
        "myDict = {'name' : 'Edy', 'age' : 26, 'address' : 'London', 'education' : 'Master'}\n",
        "\n",
        "\n",
        "del myDict['name']"
      ],
      "metadata": {
        "id": "ydoyYgUQpbTq"
      },
      "execution_count": null,
      "outputs": []
    },
    {
      "cell_type": "code",
      "source": [
        "myDict"
      ],
      "metadata": {
        "colab": {
          "base_uri": "https://localhost:8080/"
        },
        "id": "l3fC1lYIpmGY",
        "outputId": "5c22463f-9332-4647-fbe9-facd6c7a82e3"
      },
      "execution_count": null,
      "outputs": [
        {
          "output_type": "execute_result",
          "data": {
            "text/plain": [
              "{'age': 26, 'address': 'London', 'education': 'Master'}"
            ]
          },
          "metadata": {},
          "execution_count": 22
        }
      ]
    },
    {
      "cell_type": "code",
      "source": [
        "del myDict"
      ],
      "metadata": {
        "id": "nSec0xJtpnid"
      },
      "execution_count": null,
      "outputs": []
    },
    {
      "cell_type": "code",
      "source": [
        "myDict"
      ],
      "metadata": {
        "colab": {
          "base_uri": "https://localhost:8080/",
          "height": 146
        },
        "id": "3o02KpOlpt11",
        "outputId": "d44a72a0-73da-4b45-df2d-30649e4b477d"
      },
      "execution_count": null,
      "outputs": [
        {
          "output_type": "error",
          "ename": "NameError",
          "evalue": "name 'myDict' is not defined",
          "traceback": [
            "\u001b[0;31m---------------------------------------------------------------------------\u001b[0m",
            "\u001b[0;31mNameError\u001b[0m                                 Traceback (most recent call last)",
            "\u001b[0;32m<ipython-input-24-3a479c8a6313>\u001b[0m in \u001b[0;36m<cell line: 1>\u001b[0;34m()\u001b[0m\n\u001b[0;32m----> 1\u001b[0;31m \u001b[0mmyDict\u001b[0m\u001b[0;34m\u001b[0m\u001b[0;34m\u001b[0m\u001b[0m\n\u001b[0m",
            "\u001b[0;31mNameError\u001b[0m: name 'myDict' is not defined"
          ]
        }
      ]
    },
    {
      "cell_type": "markdown",
      "source": [
        "Dict Methods"
      ],
      "metadata": {
        "id": "ND6tiX1rp-CU"
      }
    },
    {
      "cell_type": "code",
      "source": [
        "myDict = {'name' : 'Edy', 'age' : 26, 'address' : 'London', 'education' : 'Master'}\n",
        "\n",
        "#clear()\n",
        "myDict.clear() #deletes all elements in dict\n",
        "myDict"
      ],
      "metadata": {
        "colab": {
          "base_uri": "https://localhost:8080/"
        },
        "id": "7af8a_v1pu4J",
        "outputId": "98650ee5-cc56-421c-d2d5-27422fe426d6"
      },
      "execution_count": null,
      "outputs": [
        {
          "output_type": "execute_result",
          "data": {
            "text/plain": [
              "{}"
            ]
          },
          "metadata": {},
          "execution_count": 25
        }
      ]
    },
    {
      "cell_type": "code",
      "source": [
        "myDict = {'name' : 'Edy', 'age' : 26, 'address' : 'London', 'education' : 'Master'}\n",
        "\n",
        "#copy()\n",
        "myDictCopy = myDict.copy()\n",
        "myDictCopy"
      ],
      "metadata": {
        "colab": {
          "base_uri": "https://localhost:8080/"
        },
        "id": "SX0MyFiuqFkk",
        "outputId": "dda8209b-199b-4eda-b2ae-46d3ba71b42a"
      },
      "execution_count": null,
      "outputs": [
        {
          "output_type": "execute_result",
          "data": {
            "text/plain": [
              "{'name': 'Edy', 'age': 26, 'address': 'London', 'education': 'Master'}"
            ]
          },
          "metadata": {},
          "execution_count": 26
        }
      ]
    },
    {
      "cell_type": "code",
      "source": [
        "myDict = {'name' : 'Edy', 'age' : 26, 'address' : 'London', 'education' : 'Master'}\n",
        "\n",
        "#fromkeys() dict.formkeys(sequence[], value)\n",
        "myDict.fromkeys({'name', 'age'})"
      ],
      "metadata": {
        "colab": {
          "base_uri": "https://localhost:8080/"
        },
        "id": "1e6_9NdtqO06",
        "outputId": "e97a5480-aa7e-4fe7-d222-17dcc1a5df35"
      },
      "execution_count": null,
      "outputs": [
        {
          "output_type": "execute_result",
          "data": {
            "text/plain": [
              "{'name': None, 'age': None}"
            ]
          },
          "metadata": {},
          "execution_count": 27
        }
      ]
    },
    {
      "cell_type": "code",
      "source": [
        "newDict = {}.fromkeys([1,2,3], 0)\n",
        "newDict"
      ],
      "metadata": {
        "colab": {
          "base_uri": "https://localhost:8080/"
        },
        "id": "1NvHQqw3qlUV",
        "outputId": "b2dbe595-5dde-4b3c-cb22-e4b1540e6ebc"
      },
      "execution_count": null,
      "outputs": [
        {
          "output_type": "execute_result",
          "data": {
            "text/plain": [
              "{1: 0, 2: 0, 3: 0}"
            ]
          },
          "metadata": {},
          "execution_count": 28
        }
      ]
    },
    {
      "cell_type": "code",
      "source": [
        "#get()\n",
        "#syntax dict.get(key, value)\n",
        "\n",
        "myDict = {'name' : 'Edy', 'age' : 26, 'address' : 'London', 'education' : 'Master'}\n",
        "\n",
        "myDict.get('age', 27)"
      ],
      "metadata": {
        "colab": {
          "base_uri": "https://localhost:8080/"
        },
        "id": "cDU65AHiqwMI",
        "outputId": "2557bb68-f825-4c3d-cace-a1d4023ab1cb"
      },
      "execution_count": null,
      "outputs": [
        {
          "output_type": "execute_result",
          "data": {
            "text/plain": [
              "26"
            ]
          },
          "metadata": {},
          "execution_count": 29
        }
      ]
    },
    {
      "cell_type": "code",
      "source": [
        "myDict.get('city', 27)"
      ],
      "metadata": {
        "colab": {
          "base_uri": "https://localhost:8080/"
        },
        "id": "eNgwKtm6rIv8",
        "outputId": "e618ce7c-ff14-4dbf-f819-a91de206d363"
      },
      "execution_count": null,
      "outputs": [
        {
          "output_type": "execute_result",
          "data": {
            "text/plain": [
              "27"
            ]
          },
          "metadata": {},
          "execution_count": 30
        }
      ]
    },
    {
      "cell_type": "code",
      "source": [
        "myDict.get('city')"
      ],
      "metadata": {
        "id": "PNt-ZIaPrQz7"
      },
      "execution_count": null,
      "outputs": []
    },
    {
      "cell_type": "code",
      "source": [
        "#items()\n",
        "#syntax - dict.items()\n",
        "\n",
        "myDict = {'name' : 'Edy', 'age' : 26, 'address' : 'London', 'education' : 'Master'}\n",
        "\n",
        "myDict.items()"
      ],
      "metadata": {
        "colab": {
          "base_uri": "https://localhost:8080/"
        },
        "id": "qGhbsB1prWVh",
        "outputId": "5c9ab9d1-b352-45d6-bfa8-8e818df52d39"
      },
      "execution_count": null,
      "outputs": [
        {
          "output_type": "execute_result",
          "data": {
            "text/plain": [
              "dict_items([('name', 'Edy'), ('age', 26), ('address', 'London'), ('education', 'Master')])"
            ]
          },
          "metadata": {},
          "execution_count": 32
        }
      ]
    },
    {
      "cell_type": "code",
      "source": [
        "#keys ()\n",
        "#syntax : dict.keys()\n",
        "\n",
        "myDict.keys()"
      ],
      "metadata": {
        "colab": {
          "base_uri": "https://localhost:8080/"
        },
        "id": "vDYJS7Zirc5h",
        "outputId": "417cda4b-bd0a-488b-f323-cd8a7fe6da9d"
      },
      "execution_count": null,
      "outputs": [
        {
          "output_type": "execute_result",
          "data": {
            "text/plain": [
              "dict_keys(['name', 'age', 'address', 'education'])"
            ]
          },
          "metadata": {},
          "execution_count": 33
        }
      ]
    },
    {
      "cell_type": "code",
      "source": [
        "#popitem()\n",
        "#syntax - dict.popitem()\n",
        "\n",
        "myDict.popitem()\n"
      ],
      "metadata": {
        "colab": {
          "base_uri": "https://localhost:8080/"
        },
        "id": "LSXYE66hrlJH",
        "outputId": "64919302-9aa6-4fb8-9ea1-738965a45c2b"
      },
      "execution_count": null,
      "outputs": [
        {
          "output_type": "execute_result",
          "data": {
            "text/plain": [
              "('education', 'Master')"
            ]
          },
          "metadata": {},
          "execution_count": 34
        }
      ]
    },
    {
      "cell_type": "code",
      "source": [
        "myDict"
      ],
      "metadata": {
        "colab": {
          "base_uri": "https://localhost:8080/"
        },
        "id": "HGmNxY61rzHv",
        "outputId": "beb640f7-40e9-4605-882e-6a3d2cca4371"
      },
      "execution_count": null,
      "outputs": [
        {
          "output_type": "execute_result",
          "data": {
            "text/plain": [
              "{'name': 'Edy', 'age': 26, 'address': 'London'}"
            ]
          },
          "metadata": {},
          "execution_count": 35
        }
      ]
    },
    {
      "cell_type": "code",
      "source": [
        "#setdefault()\n",
        "#syntax - dict.setdefault(key, default_value)\n",
        "\n",
        "myDict.setdefault('name', 'Robin')"
      ],
      "metadata": {
        "colab": {
          "base_uri": "https://localhost:8080/",
          "height": 36
        },
        "id": "K8IAk88Ar0X1",
        "outputId": "ef88a9ea-7a2f-4f55-89af-2ccba1232b9c"
      },
      "execution_count": null,
      "outputs": [
        {
          "output_type": "execute_result",
          "data": {
            "text/plain": [
              "'Edy'"
            ],
            "application/vnd.google.colaboratory.intrinsic+json": {
              "type": "string"
            }
          },
          "metadata": {},
          "execution_count": 37
        }
      ]
    },
    {
      "cell_type": "code",
      "source": [
        "myDict.setdefault('name1', 'Robin')"
      ],
      "metadata": {
        "colab": {
          "base_uri": "https://localhost:8080/",
          "height": 36
        },
        "id": "C89JKPrBr-Hq",
        "outputId": "876d0cca-2d6e-41ae-8c4a-cc913bb01bef"
      },
      "execution_count": null,
      "outputs": [
        {
          "output_type": "execute_result",
          "data": {
            "text/plain": [
              "'Robin'"
            ],
            "application/vnd.google.colaboratory.intrinsic+json": {
              "type": "string"
            }
          },
          "metadata": {},
          "execution_count": 38
        }
      ]
    },
    {
      "cell_type": "code",
      "source": [
        "myDict"
      ],
      "metadata": {
        "colab": {
          "base_uri": "https://localhost:8080/"
        },
        "id": "bryknIbVsHmo",
        "outputId": "f9cdf07a-7400-4b31-cdeb-68ee1e8102aa"
      },
      "execution_count": null,
      "outputs": [
        {
          "output_type": "execute_result",
          "data": {
            "text/plain": [
              "{'name': 'Edy', 'age': 26, 'address': 'London', 'name1': 'Robin'}"
            ]
          },
          "metadata": {},
          "execution_count": 39
        }
      ]
    },
    {
      "cell_type": "code",
      "source": [
        "#pop()\n",
        "#syntax - dict.pop(key,default_value)\n",
        "\n",
        "myDict.pop('name1', 'not')"
      ],
      "metadata": {
        "colab": {
          "base_uri": "https://localhost:8080/",
          "height": 36
        },
        "id": "_4SK7wjRsJSk",
        "outputId": "8efbfb30-6957-4669-c900-4c4a177ff2f1"
      },
      "execution_count": null,
      "outputs": [
        {
          "output_type": "execute_result",
          "data": {
            "text/plain": [
              "'Robin'"
            ],
            "application/vnd.google.colaboratory.intrinsic+json": {
              "type": "string"
            }
          },
          "metadata": {},
          "execution_count": 40
        }
      ]
    },
    {
      "cell_type": "code",
      "source": [
        "myDict.pop('name1', 'not')"
      ],
      "metadata": {
        "colab": {
          "base_uri": "https://localhost:8080/",
          "height": 36
        },
        "id": "GjCGSUSTsXwn",
        "outputId": "40846388-4b40-4004-d15c-71be4d661a26"
      },
      "execution_count": null,
      "outputs": [
        {
          "output_type": "execute_result",
          "data": {
            "text/plain": [
              "'not'"
            ],
            "application/vnd.google.colaboratory.intrinsic+json": {
              "type": "string"
            }
          },
          "metadata": {},
          "execution_count": 41
        }
      ]
    },
    {
      "cell_type": "code",
      "source": [
        "#values()\n",
        "#syntax - dict.values()\n",
        "\n",
        "myDict.values()"
      ],
      "metadata": {
        "colab": {
          "base_uri": "https://localhost:8080/"
        },
        "id": "x7vHbpRnsaiQ",
        "outputId": "a0ad4075-514c-4602-9991-58904b858c21"
      },
      "execution_count": null,
      "outputs": [
        {
          "output_type": "execute_result",
          "data": {
            "text/plain": [
              "dict_values(['Edy', 26, 'London'])"
            ]
          },
          "metadata": {},
          "execution_count": 42
        }
      ]
    },
    {
      "cell_type": "code",
      "source": [
        "#update()\n",
        "#syntax - dict.update(dict2)\n",
        "\n",
        "newDict = {'a' : 1, 'b' : 2, 'c' : 3}\n",
        "myDict.update(newDict)\n",
        "myDict"
      ],
      "metadata": {
        "colab": {
          "base_uri": "https://localhost:8080/"
        },
        "id": "M94f8Ky_s1yt",
        "outputId": "d9a57c2a-a393-4118-8c78-51b6ca565998"
      },
      "execution_count": null,
      "outputs": [
        {
          "output_type": "execute_result",
          "data": {
            "text/plain": [
              "{'name': 'Edy', 'age': 26, 'address': 'London', 'a': 1, 'b': 2, 'c': 3}"
            ]
          },
          "metadata": {},
          "execution_count": 43
        }
      ]
    },
    {
      "cell_type": "markdown",
      "source": [
        "Built in functions- Dict Operations"
      ],
      "metadata": {
        "id": "CvbJdWEgtXaE"
      }
    },
    {
      "cell_type": "code",
      "source": [
        "myDict = {'name' : 'Edy', 'age' : 26, 'address' : 'London', 'education' : 'Master'}\n",
        "\n",
        "\n",
        "#in Operator - checks keys\n",
        "\n",
        "'name' in myDict"
      ],
      "metadata": {
        "colab": {
          "base_uri": "https://localhost:8080/"
        },
        "id": "m0AyQUu5tI9Q",
        "outputId": "856c93ef-7176-4219-d733-d9e54bb3f727"
      },
      "execution_count": null,
      "outputs": [
        {
          "output_type": "execute_result",
          "data": {
            "text/plain": [
              "True"
            ]
          },
          "metadata": {},
          "execution_count": 44
        }
      ]
    },
    {
      "cell_type": "code",
      "source": [
        "'Edy' in myDict.values()"
      ],
      "metadata": {
        "colab": {
          "base_uri": "https://localhost:8080/"
        },
        "id": "atvoaUDytwoM",
        "outputId": "d6f26a76-bd80-4657-b06a-ee1fe04dd024"
      },
      "execution_count": null,
      "outputs": [
        {
          "output_type": "execute_result",
          "data": {
            "text/plain": [
              "True"
            ]
          },
          "metadata": {},
          "execution_count": 45
        }
      ]
    },
    {
      "cell_type": "code",
      "source": [
        "# for operator\n",
        "\n",
        "for key in myDict:\n",
        "  print(key, myDict[key])"
      ],
      "metadata": {
        "colab": {
          "base_uri": "https://localhost:8080/"
        },
        "id": "9nf4QWcZt6cs",
        "outputId": "e6e55d2d-9756-4240-a0d5-650f26bf7be0"
      },
      "execution_count": null,
      "outputs": [
        {
          "output_type": "stream",
          "name": "stdout",
          "text": [
            "name Edy\n",
            "age 26\n",
            "address London\n",
            "education Master\n"
          ]
        }
      ]
    },
    {
      "cell_type": "code",
      "source": [
        "#all()\n",
        "#syntax - all(dict)\n",
        "\n",
        "#Cases\n",
        "# All values are true - True\n",
        "# All values are false - False\n",
        "# One value is true(others are false) - False\n",
        "# One value is false(Other are true) - False\n",
        "# Empty iterable - True\n",
        "\n",
        "myDict = {1: True, 2: False}\n",
        "all(myDict)\n"
      ],
      "metadata": {
        "colab": {
          "base_uri": "https://localhost:8080/"
        },
        "id": "K9o91apKuG6R",
        "outputId": "cbfb01dd-11a1-40c8-e5c2-6013994f56b2"
      },
      "execution_count": null,
      "outputs": [
        {
          "output_type": "execute_result",
          "data": {
            "text/plain": [
              "False"
            ]
          },
          "metadata": {},
          "execution_count": 49
        }
      ]
    },
    {
      "cell_type": "code",
      "source": [
        "myDict = {0: True, 2: False}\n",
        "all(myDict)"
      ],
      "metadata": {
        "colab": {
          "base_uri": "https://localhost:8080/"
        },
        "id": "GTK_sHieu4_0",
        "outputId": "e04db325-32bc-4452-bea5-8005ca6bc1b5"
      },
      "execution_count": null,
      "outputs": [
        {
          "output_type": "execute_result",
          "data": {
            "text/plain": [
              "False"
            ]
          },
          "metadata": {},
          "execution_count": 50
        }
      ]
    },
    {
      "cell_type": "code",
      "source": [
        "myDict = {}\n",
        "all(myDict)"
      ],
      "metadata": {
        "colab": {
          "base_uri": "https://localhost:8080/"
        },
        "id": "rSDmGx9BvgoT",
        "outputId": "a3a6c802-ace0-4532-f11a-72e4245a8a49"
      },
      "execution_count": null,
      "outputs": [
        {
          "output_type": "execute_result",
          "data": {
            "text/plain": [
              "True"
            ]
          },
          "metadata": {},
          "execution_count": 51
        }
      ]
    },
    {
      "cell_type": "code",
      "source": [
        "#any()\n",
        "#syntax - any(dict)\n",
        "\n",
        "#Cases\n",
        "# All values are true - True\n",
        "# All values are false - False\n",
        "# One value is true(others are false) - True\n",
        "# One value is false(Other are true) - True\n",
        "# Empty iterable - False\n",
        "\n",
        "myDict = {1: True, 2: False}\n",
        "any(myDict)\n"
      ],
      "metadata": {
        "colab": {
          "base_uri": "https://localhost:8080/"
        },
        "id": "aACrOVmBvkT0",
        "outputId": "15523899-a0d9-405f-d040-49cfe8e86887"
      },
      "execution_count": null,
      "outputs": [
        {
          "output_type": "execute_result",
          "data": {
            "text/plain": [
              "True"
            ]
          },
          "metadata": {},
          "execution_count": 52
        }
      ]
    },
    {
      "cell_type": "code",
      "source": [
        "myDict = {}\n",
        "any(myDict)"
      ],
      "metadata": {
        "colab": {
          "base_uri": "https://localhost:8080/"
        },
        "id": "ELOf3QENvv1s",
        "outputId": "d94fcb4d-7d45-4f7d-a4cf-20953ed58d05"
      },
      "execution_count": null,
      "outputs": [
        {
          "output_type": "execute_result",
          "data": {
            "text/plain": [
              "False"
            ]
          },
          "metadata": {},
          "execution_count": 53
        }
      ]
    },
    {
      "cell_type": "code",
      "source": [
        "#len\n",
        "#syntax - len(dict)\n",
        "\n",
        "len(myDict)"
      ],
      "metadata": {
        "colab": {
          "base_uri": "https://localhost:8080/"
        },
        "id": "Mtt3vIOPvza0",
        "outputId": "01eb1cd9-11f4-4426-d9b6-22b83fe35840"
      },
      "execution_count": null,
      "outputs": [
        {
          "output_type": "execute_result",
          "data": {
            "text/plain": [
              "0"
            ]
          },
          "metadata": {},
          "execution_count": 54
        }
      ]
    },
    {
      "cell_type": "code",
      "source": [
        "#sorted()\n",
        "#syntax - sorted(iterable, reverse, key)\n",
        "\n",
        "myDict = {'ea' : 3, 'aaadtg' : 1, 'ufdf' : 2, 'ooiuhnkjhb' : 0}\n",
        "sorted(myDict)"
      ],
      "metadata": {
        "colab": {
          "base_uri": "https://localhost:8080/"
        },
        "id": "H4uACNcEv3hx",
        "outputId": "54a9c4a2-c3f5-45d7-c4a7-0d0ff4bb3afd"
      },
      "execution_count": null,
      "outputs": [
        {
          "output_type": "execute_result",
          "data": {
            "text/plain": [
              "['aaadtg', 'ea', 'ooiuhnkjhb', 'ufdf']"
            ]
          },
          "metadata": {},
          "execution_count": 58
        }
      ]
    },
    {
      "cell_type": "code",
      "source": [
        "sorted(myDict, reverse = True)"
      ],
      "metadata": {
        "colab": {
          "base_uri": "https://localhost:8080/"
        },
        "id": "b54eQQcBwWfd",
        "outputId": "31f171a7-4e55-4b74-aa08-11800266154a"
      },
      "execution_count": null,
      "outputs": [
        {
          "output_type": "execute_result",
          "data": {
            "text/plain": [
              "['ufdf', 'ooiuhnkjhb', 'ea', 'aaadtg']"
            ]
          },
          "metadata": {},
          "execution_count": 60
        }
      ]
    },
    {
      "cell_type": "code",
      "source": [
        "sorted(myDict, key = len)"
      ],
      "metadata": {
        "colab": {
          "base_uri": "https://localhost:8080/"
        },
        "id": "aMNnRYFqwaqx",
        "outputId": "e29536b6-0e53-4008-c837-62d2adb9549b"
      },
      "execution_count": null,
      "outputs": [
        {
          "output_type": "execute_result",
          "data": {
            "text/plain": [
              "['ea', 'ufdf', 'aaadtg', 'ooiuhnkjhb']"
            ]
          },
          "metadata": {},
          "execution_count": 59
        }
      ]
    },
    {
      "cell_type": "markdown",
      "source": [
        "Dict vs List"
      ],
      "metadata": {
        "id": "Vc-QctR0xnVy"
      }
    },
    {
      "cell_type": "markdown",
      "source": [
        "| Dictionary | List|\n",
        "| ---- | ------ |\n",
        "|Unordered | Ordered|\n",
        "|Access via keys| Access via index|\n",
        "|Collection of key value pairs| Collection of elements|\n",
        "|Prefereed when you have unique key values| Preferred when you have ordered data|\n",
        "|No duplicate members| Allow duplicate members|"
      ],
      "metadata": {
        "id": "cLeo-r5NwtPB"
      }
    },
    {
      "cell_type": "markdown",
      "source": [
        "Time  & Space Complexity in Python Dictionary"
      ],
      "metadata": {
        "id": "a3gdHl1GxmkQ"
      }
    },
    {
      "cell_type": "markdown",
      "source": [
        "|Operation| Time Complexity| Space Complexity|\n",
        "|----|----|----|\n",
        "|Creating a Dict| O(len(dict))|O(n)|\n",
        "|Inserting a value in Dict| O(1)/O(n)|O(1) |\n",
        "| Traversing a given Dict | O(n) | O(1)|\n",
        "| Accessing a given cell | O(1) | O(1)|\n",
        "| Searching a given value | O(n) | O(1) |\n",
        "| Deleting a given value | O(1) | O(1) |"
      ],
      "metadata": {
        "id": "NNpDxT3cxumm"
      }
    },
    {
      "cell_type": "code",
      "source": [],
      "metadata": {
        "id": "jcuW-2vCwi4y"
      },
      "execution_count": null,
      "outputs": []
    }
  ]
}