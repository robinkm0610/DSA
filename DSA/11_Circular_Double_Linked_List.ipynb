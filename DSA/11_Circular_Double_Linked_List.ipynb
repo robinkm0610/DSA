{
  "nbformat": 4,
  "nbformat_minor": 0,
  "metadata": {
    "colab": {
      "provenance": [],
      "authorship_tag": "ABX9TyOqx654uobXtaJSDGQYQFAf",
      "include_colab_link": true
    },
    "kernelspec": {
      "name": "python3",
      "display_name": "Python 3"
    },
    "language_info": {
      "name": "python"
    }
  },
  "cells": [
    {
      "cell_type": "markdown",
      "metadata": {
        "id": "view-in-github",
        "colab_type": "text"
      },
      "source": [
        "<a href=\"https://colab.research.google.com/github/robinkm0610/DSA/blob/main/DSA/11_Circular_Double_Linked_List.ipynb\" target=\"_parent\"><img src=\"https://colab.research.google.com/assets/colab-badge.svg\" alt=\"Open In Colab\"/></a>"
      ]
    },
    {
      "cell_type": "code",
      "execution_count": 3,
      "metadata": {
        "id": "SIIZrZYMiXes"
      },
      "outputs": [],
      "source": [
        "class Node:\n",
        "  def __init__(self, value):\n",
        "    self.value = value\n",
        "    self.next = None\n",
        "    self.prev = None\n",
        "\n",
        "class CircularDoublyLinkedList:\n",
        "  def __init__(self):\n",
        "    self.head = None\n",
        "    self.tail = None\n",
        "\n",
        "  def __iter__(self):\n",
        "    node = self.head\n",
        "    while node:\n",
        "      yield node\n",
        "      node = node.next\n",
        "      if node == self.tail.next:\n",
        "        break\n",
        "  # Creation of Circular Doubly Linked LIst\n",
        "  def createDLL(self, nodeValue):\n",
        "    newNode = Node(nodeValue)\n",
        "    self.head = newNode\n",
        "    self.tail = newNode\n",
        "    newNode.prev = newNode\n",
        "    newNode.next = newNode\n",
        "    return \"The DLL is created successfully\""
      ]
    },
    {
      "cell_type": "code",
      "source": [
        "circularDLL = CircularDoublyLinkedList()\n",
        "circularDLL.createDLL(5)\n",
        "print([node.value for node in circularDLL])"
      ],
      "metadata": {
        "colab": {
          "base_uri": "https://localhost:8080/"
        },
        "id": "CY37uCaHTsTK",
        "outputId": "bb101365-6e34-46dc-b532-fd44ed3b60ad"
      },
      "execution_count": 4,
      "outputs": [
        {
          "output_type": "stream",
          "name": "stdout",
          "text": [
            "[5]\n"
          ]
        }
      ]
    },
    {
      "cell_type": "markdown",
      "source": [
        "Insertion"
      ],
      "metadata": {
        "id": "rmMdbexMXDLp"
      }
    },
    {
      "cell_type": "code",
      "source": [
        "class Node:\n",
        "  def __init__(self, value):\n",
        "    self.value = value\n",
        "    self.next = None\n",
        "    self.prev = None\n",
        "\n",
        "class CircularDoublyLinkedList:\n",
        "  def __init__(self):\n",
        "    self.head = None\n",
        "    self.tail = None\n",
        "\n",
        "  def __iter__(self):\n",
        "    node = self.head\n",
        "    while node:\n",
        "      yield node\n",
        "      node = node.next\n",
        "      if node == self.tail.next:\n",
        "        break\n",
        "  # Creation of Circular Doubly Linked LIst\n",
        "  def createDLL(self, nodeValue):\n",
        "    newNode = Node(nodeValue)\n",
        "    self.head = newNode\n",
        "    self.tail = newNode\n",
        "    newNode.prev = newNode\n",
        "    newNode.next = newNode\n",
        "    return \"The DLL is created successfully\"\n",
        "  # Insertion of a node in DLL\n",
        "  def insertNode(self, value, location):\n",
        "    if self.head is None:\n",
        "      return \"The head reference is None\"\n",
        "    else:\n",
        "      newNode = Node(value)\n",
        "      if location == 0:\n",
        "        newNode.next = self.head\n",
        "        newNode.prev = self.tail\n",
        "        self.head.prev = newNode\n",
        "        self.head = newNode\n",
        "        self.tail.next = newNode\n",
        "      elif location == 1:\n",
        "        newNode.next = self.head\n",
        "        newNode.prev = self.tail\n",
        "        self.head.prev = newNode\n",
        "        self.tail.next = newNode\n",
        "        self.tail = newNode\n",
        "      else:\n",
        "        tempNode = self.head\n",
        "        index = 0\n",
        "        while index < location - 1:\n",
        "          tempNode = tempNode.next\n",
        "          index += 1\n",
        "        newNode.next = tempNode.next\n",
        "        newNode.prev = tempNode\n",
        "        newNode.next.prev = newNode\n",
        "        tempNode.next = newNode\n",
        "      return \"The node has been successfully inserted\"\n",
        "\n"
      ],
      "metadata": {
        "id": "C-W35f5wT58e"
      },
      "execution_count": 5,
      "outputs": []
    },
    {
      "cell_type": "code",
      "source": [
        "circularDLL = CircularDoublyLinkedList()\n",
        "circularDLL.createDLL(5)\n",
        "circularDLL.insertNode(0, 0)\n",
        "circularDLL.insertNode(1, 1)\n",
        "circularDLL.insertNode(2, 2)\n",
        "circularDLL.insertNode(3, 3)\n",
        "print([node.value for node in circularDLL])"
      ],
      "metadata": {
        "colab": {
          "base_uri": "https://localhost:8080/"
        },
        "id": "FdzCM1tqc2Jm",
        "outputId": "61a65133-3996-4e04-bfba-a33fd99d809e"
      },
      "execution_count": 6,
      "outputs": [
        {
          "output_type": "stream",
          "name": "stdout",
          "text": [
            "[0, 5, 2, 3, 1]\n"
          ]
        }
      ]
    },
    {
      "cell_type": "markdown",
      "source": [
        "Traverse"
      ],
      "metadata": {
        "id": "ulJBUxQ0eS6x"
      }
    },
    {
      "cell_type": "code",
      "source": [
        "class Node:\n",
        "  def __init__(self, value):\n",
        "    self.value = value\n",
        "    self.next = None\n",
        "    self.prev = None\n",
        "\n",
        "class CircularDoublyLinkedList:\n",
        "  def __init__(self):\n",
        "    self.head = None\n",
        "    self.tail = None\n",
        "\n",
        "  def __iter__(self):\n",
        "    node = self.head\n",
        "    while node:\n",
        "      yield node\n",
        "      node = node.next\n",
        "      if node == self.tail.next:\n",
        "        break\n",
        "  # Creation of Circular Doubly Linked LIst\n",
        "  def createDLL(self, nodeValue):\n",
        "    newNode = Node(nodeValue)\n",
        "    self.head = newNode\n",
        "    self.tail = newNode\n",
        "    newNode.prev = newNode\n",
        "    newNode.next = newNode\n",
        "    return \"The DLL is created successfully\"\n",
        "  # Insertion of a node in DLL\n",
        "  def insertNode(self, value, location):\n",
        "    if self.head is None:\n",
        "      return \"The head reference is None\"\n",
        "    else:\n",
        "      newNode = Node(value)\n",
        "      if location == 0:\n",
        "        newNode.next = self.head\n",
        "        newNode.prev = self.tail\n",
        "        self.head.prev = newNode\n",
        "        self.head = newNode\n",
        "        self.tail.next = newNode\n",
        "      elif location == 1:\n",
        "        newNode.next = self.head\n",
        "        newNode.prev = self.tail\n",
        "        self.head.prev = newNode\n",
        "        self.tail.next = newNode\n",
        "        self.tail = newNode\n",
        "      else:\n",
        "        tempNode = self.head\n",
        "        index = 0\n",
        "        while index < location - 1:\n",
        "          tempNode = tempNode.next\n",
        "          index += 1\n",
        "        newNode.next = tempNode.next\n",
        "        newNode.prev = tempNode\n",
        "        newNode.next.prev = newNode\n",
        "        tempNode.next = newNode\n",
        "      return \"The node has been successfully inserted\"\n",
        "    # Traversal of DLL\n",
        "  def traverseDLL(self):\n",
        "    if self.head is None:\n",
        "      print(\"There is not any element in DLL\")\n",
        "    else:\n",
        "      tempNode = self.head\n",
        "      while tempNode:\n",
        "        print(tempNode.value)\n",
        "        if tempNode == self.tail:\n",
        "          break\n",
        "        tempNode = tempNode.next\n",
        "\n"
      ],
      "metadata": {
        "id": "L2uDyi4KdLJl"
      },
      "execution_count": 7,
      "outputs": []
    },
    {
      "cell_type": "code",
      "source": [
        "circularDLL = CircularDoublyLinkedList()\n",
        "circularDLL.createDLL(5)\n",
        "circularDLL.insertNode(0, 0)\n",
        "circularDLL.insertNode(1, 1)\n",
        "circularDLL.insertNode(2, 2)\n",
        "circularDLL.insertNode(3, 3)\n",
        "print([node.value for node in circularDLL])\n",
        "circularDLL.traverseDLL()"
      ],
      "metadata": {
        "colab": {
          "base_uri": "https://localhost:8080/"
        },
        "id": "nlyMy7pKedXg",
        "outputId": "661da294-5134-434b-ce8b-deca418907ba"
      },
      "execution_count": 8,
      "outputs": [
        {
          "output_type": "stream",
          "name": "stdout",
          "text": [
            "[0, 5, 2, 3, 1]\n",
            "0\n",
            "5\n",
            "2\n",
            "3\n",
            "1\n"
          ]
        }
      ]
    },
    {
      "cell_type": "markdown",
      "source": [
        "Reverse Traversal"
      ],
      "metadata": {
        "id": "GUFMB25NiOgF"
      }
    },
    {
      "cell_type": "code",
      "source": [
        "class Node:\n",
        "  def __init__(self, value):\n",
        "    self.value = value\n",
        "    self.next = None\n",
        "    self.prev = None\n",
        "\n",
        "class CircularDoublyLinkedList:\n",
        "  def __init__(self):\n",
        "    self.head = None\n",
        "    self.tail = None\n",
        "\n",
        "  def __iter__(self):\n",
        "    node = self.head\n",
        "    while node:\n",
        "      yield node\n",
        "      node = node.next\n",
        "      if node == self.tail.next:\n",
        "        break\n",
        "  # Creation of Circular Doubly Linked LIst\n",
        "  def createDLL(self, nodeValue):\n",
        "    newNode = Node(nodeValue)\n",
        "    self.head = newNode\n",
        "    self.tail = newNode\n",
        "    newNode.prev = newNode\n",
        "    newNode.next = newNode\n",
        "    return \"The DLL is created successfully\"\n",
        "  # Insertion of a node in DLL\n",
        "  def insertNode(self, value, location):\n",
        "    if self.head is None:\n",
        "      return \"The head reference is None\"\n",
        "    else:\n",
        "      newNode = Node(value)\n",
        "      if location == 0:\n",
        "        newNode.next = self.head\n",
        "        newNode.prev = self.tail\n",
        "        self.head.prev = newNode\n",
        "        self.head = newNode\n",
        "        self.tail.next = newNode\n",
        "      elif location == 1:\n",
        "        newNode.next = self.head\n",
        "        newNode.prev = self.tail\n",
        "        self.head.prev = newNode\n",
        "        self.tail.next = newNode\n",
        "        self.tail = newNode\n",
        "      else:\n",
        "        tempNode = self.head\n",
        "        index = 0\n",
        "        while index < location - 1:\n",
        "          tempNode = tempNode.next\n",
        "          index += 1\n",
        "        newNode.next = tempNode.next\n",
        "        newNode.prev = tempNode\n",
        "        newNode.next.prev = newNode\n",
        "        tempNode.next = newNode\n",
        "      return \"The node has been successfully inserted\"\n",
        "    # Traversal of DLL\n",
        "  def traverseDLL(self):\n",
        "    if self.head is None:\n",
        "      print(\"There is not any element in DLL\")\n",
        "    else:\n",
        "      tempNode = self.head\n",
        "      while tempNode:\n",
        "        print(tempNode.value)\n",
        "        if tempNode == self.tail:\n",
        "          break\n",
        "        tempNode = tempNode.next\n",
        "  # Reverse Traversal of DLL\n",
        "  def reverseTraversalDLL(self):\n",
        "    if self.head is None:\n",
        "      print(\"There is not any element in DLL\")\n",
        "    else:\n",
        "      tempNode = self.tail\n",
        "      while tempNode:\n",
        "        print(tempNode.value)\n",
        "        if tempNode == self.head:\n",
        "          break\n",
        "        tempNode = tempNode.prev\n"
      ],
      "metadata": {
        "id": "Hqmet8elehHJ"
      },
      "execution_count": 9,
      "outputs": []
    },
    {
      "cell_type": "code",
      "source": [
        "circularDLL = CircularDoublyLinkedList()\n",
        "circularDLL.createDLL(5)\n",
        "circularDLL.insertNode(0, 0)\n",
        "circularDLL.insertNode(1, 1)\n",
        "circularDLL.insertNode(2, 2)\n",
        "circularDLL.insertNode(3, 3)\n",
        "print([node.value for node in circularDLL])\n",
        "circularDLL.reverseTraversalDLL()"
      ],
      "metadata": {
        "colab": {
          "base_uri": "https://localhost:8080/"
        },
        "id": "0jbXFbi1ibnS",
        "outputId": "439cc208-b11d-4cc0-9c6f-079ede3b3e40"
      },
      "execution_count": 10,
      "outputs": [
        {
          "output_type": "stream",
          "name": "stdout",
          "text": [
            "[0, 5, 2, 3, 1]\n",
            "1\n",
            "3\n",
            "2\n",
            "5\n",
            "0\n"
          ]
        }
      ]
    },
    {
      "cell_type": "markdown",
      "source": [
        "Search"
      ],
      "metadata": {
        "id": "Lzhs1vcJinP9"
      }
    },
    {
      "cell_type": "code",
      "source": [
        "class Node:\n",
        "  def __init__(self, value):\n",
        "    self.value = value\n",
        "    self.next = None\n",
        "    self.prev = None\n",
        "\n",
        "class CircularDoublyLinkedList:\n",
        "  def __init__(self):\n",
        "    self.head = None\n",
        "    self.tail = None\n",
        "\n",
        "  def __iter__(self):\n",
        "    node = self.head\n",
        "    while node:\n",
        "      yield node\n",
        "      node = node.next\n",
        "      if node == self.tail.next:\n",
        "        break\n",
        "  # Creation of Circular Doubly Linked LIst\n",
        "  def createDLL(self, nodeValue):\n",
        "    newNode = Node(nodeValue)\n",
        "    self.head = newNode\n",
        "    self.tail = newNode\n",
        "    newNode.prev = newNode\n",
        "    newNode.next = newNode\n",
        "    return \"The DLL is created successfully\"\n",
        "  # Insertion of a node in DLL\n",
        "  def insertNode(self, value, location):\n",
        "    if self.head is None:\n",
        "      return \"The head reference is None\"\n",
        "    else:\n",
        "      newNode = Node(value)\n",
        "      if location == 0:\n",
        "        newNode.next = self.head\n",
        "        newNode.prev = self.tail\n",
        "        self.head.prev = newNode\n",
        "        self.head = newNode\n",
        "        self.tail.next = newNode\n",
        "      elif location == 1:\n",
        "        newNode.next = self.head\n",
        "        newNode.prev = self.tail\n",
        "        self.head.prev = newNode\n",
        "        self.tail.next = newNode\n",
        "        self.tail = newNode\n",
        "      else:\n",
        "        tempNode = self.head\n",
        "        index = 0\n",
        "        while index < location - 1:\n",
        "          tempNode = tempNode.next\n",
        "          index += 1\n",
        "        newNode.next = tempNode.next\n",
        "        newNode.prev = tempNode\n",
        "        newNode.next.prev = newNode\n",
        "        tempNode.next = newNode\n",
        "      return \"The node has been successfully inserted\"\n",
        "    # Traversal of DLL\n",
        "  def traverseDLL(self):\n",
        "    if self.head is None:\n",
        "      print(\"There is not any element in DLL\")\n",
        "    else:\n",
        "      tempNode = self.head\n",
        "      while tempNode:\n",
        "        print(tempNode.value)\n",
        "        if tempNode == self.tail:\n",
        "          break\n",
        "        tempNode = tempNode.next\n",
        "  # Reverse Traversal of DLL\n",
        "  def reverseTraversalDLL(self):\n",
        "    if self.head is None:\n",
        "      print(\"There is not any element in DLL\")\n",
        "    else:\n",
        "      tempNode = self.tail\n",
        "      while tempNode:\n",
        "        print(tempNode.value)\n",
        "        if tempNode == self.head:\n",
        "          break\n",
        "        tempNode = tempNode.prev\n",
        "  # Search of a node in DLL\n",
        "  def searchDLL(self, nodeValue):\n",
        "    if self.head is None:\n",
        "      return \"There is not any node in DLL\"\n",
        "    else:\n",
        "      tempNode = self.head\n",
        "      while tempNode:\n",
        "        if tempNode.value == nodeValue:\n",
        "          return tempNode.value\n",
        "        if tempNode == self.tail:\n",
        "          return \"The value does not exist in DLL\"\n",
        "        tempNode = tempNode.next"
      ],
      "metadata": {
        "id": "pKXqNtdgihTC"
      },
      "execution_count": 11,
      "outputs": []
    },
    {
      "cell_type": "code",
      "source": [
        "circularDLL = CircularDoublyLinkedList()\n",
        "circularDLL.createDLL(5)\n",
        "circularDLL.insertNode(0, 0)\n",
        "circularDLL.insertNode(1, 1)\n",
        "circularDLL.insertNode(2, 2)\n",
        "circularDLL.insertNode(3, 3)\n",
        "print([node.value for node in circularDLL])\n",
        "circularDLL.searchDLL(3)"
      ],
      "metadata": {
        "colab": {
          "base_uri": "https://localhost:8080/"
        },
        "id": "9RYILaF7iuhk",
        "outputId": "ccfa8c1f-6307-47ca-a135-36b6f6a3f721"
      },
      "execution_count": 12,
      "outputs": [
        {
          "output_type": "stream",
          "name": "stdout",
          "text": [
            "[0, 5, 2, 3, 1]\n"
          ]
        },
        {
          "output_type": "execute_result",
          "data": {
            "text/plain": [
              "3"
            ]
          },
          "metadata": {},
          "execution_count": 12
        }
      ]
    },
    {
      "cell_type": "code",
      "source": [
        "circularDLL = CircularDoublyLinkedList()\n",
        "circularDLL.createDLL(5)\n",
        "circularDLL.insertNode(0, 0)\n",
        "circularDLL.insertNode(1, 1)\n",
        "circularDLL.insertNode(2, 2)\n",
        "circularDLL.insertNode(3, 3)\n",
        "print([node.value for node in circularDLL])\n",
        "circularDLL.searchDLL(6)"
      ],
      "metadata": {
        "colab": {
          "base_uri": "https://localhost:8080/",
          "height": 54
        },
        "id": "HE5nM8VSjDit",
        "outputId": "db0b154e-f27b-47ca-a4c7-02b8edcf2355"
      },
      "execution_count": 14,
      "outputs": [
        {
          "output_type": "stream",
          "name": "stdout",
          "text": [
            "[0, 5, 2, 3, 1]\n"
          ]
        },
        {
          "output_type": "execute_result",
          "data": {
            "text/plain": [
              "'The value does not exist in DLL'"
            ],
            "application/vnd.google.colaboratory.intrinsic+json": {
              "type": "string"
            }
          },
          "metadata": {},
          "execution_count": 14
        }
      ]
    },
    {
      "cell_type": "markdown",
      "source": [
        "Deletion"
      ],
      "metadata": {
        "id": "fWCLACbglVQI"
      }
    },
    {
      "cell_type": "code",
      "source": [
        "class Node:\n",
        "  def __init__(self, value):\n",
        "    self.value = value\n",
        "    self.next = None\n",
        "    self.prev = None\n",
        "\n",
        "class CircularDoublyLinkedList:\n",
        "  def __init__(self):\n",
        "    self.head = None\n",
        "    self.tail = None\n",
        "\n",
        "  def __iter__(self):\n",
        "    node = self.head\n",
        "    while node:\n",
        "      yield node\n",
        "      node = node.next\n",
        "      if node == self.tail.next:\n",
        "        break\n",
        "  # Creation of Circular Doubly Linked LIst\n",
        "  def createDLL(self, nodeValue):\n",
        "    newNode = Node(nodeValue)\n",
        "    self.head = newNode\n",
        "    self.tail = newNode\n",
        "    newNode.prev = newNode\n",
        "    newNode.next = newNode\n",
        "    return \"The DLL is created successfully\"\n",
        "  # Insertion of a node in DLL\n",
        "  def insertNode(self, value, location):\n",
        "    if self.head is None:\n",
        "      return \"The head reference is None\"\n",
        "    else:\n",
        "      newNode = Node(value)\n",
        "      if location == 0:\n",
        "        newNode.next = self.head\n",
        "        newNode.prev = self.tail\n",
        "        self.head.prev = newNode\n",
        "        self.head = newNode\n",
        "        self.tail.next = newNode\n",
        "      elif location == 1:\n",
        "        newNode.next = self.head\n",
        "        newNode.prev = self.tail\n",
        "        self.head.prev = newNode\n",
        "        self.tail.next = newNode\n",
        "        self.tail = newNode\n",
        "      else:\n",
        "        tempNode = self.head\n",
        "        index = 0\n",
        "        while index < location - 1:\n",
        "          tempNode = tempNode.next\n",
        "          index += 1\n",
        "        newNode.next = tempNode.next\n",
        "        newNode.prev = tempNode\n",
        "        newNode.next.prev = newNode\n",
        "        tempNode.next = newNode\n",
        "      return \"The node has been successfully inserted\"\n",
        "    # Traversal of DLL\n",
        "  def traverseDLL(self):\n",
        "    if self.head is None:\n",
        "      print(\"There is not any element in DLL\")\n",
        "    else:\n",
        "      tempNode = self.head\n",
        "      while tempNode:\n",
        "        print(tempNode.value)\n",
        "        if tempNode == self.tail:\n",
        "          break\n",
        "        tempNode = tempNode.next\n",
        "  # Reverse Traversal of DLL\n",
        "  def reverseTraversalDLL(self):\n",
        "    if self.head is None:\n",
        "      print(\"There is not any element in DLL\")\n",
        "    else:\n",
        "      tempNode = self.tail\n",
        "      while tempNode:\n",
        "        print(tempNode.value)\n",
        "        if tempNode == self.head:\n",
        "          break\n",
        "        tempNode = tempNode.prev\n",
        "  # Search of a node in DLL\n",
        "  def searchDLL(self, nodeValue):\n",
        "    if self.head is None:\n",
        "      return \"There is not any node in DLL\"\n",
        "    else:\n",
        "      tempNode = self.head\n",
        "      while tempNode:\n",
        "        if tempNode.value == nodeValue:\n",
        "          return tempNode.value\n",
        "        if tempNode == self.tail:\n",
        "          return \"The value does not exist in DLL\"\n",
        "        tempNode = tempNode.next\n",
        "  # deletion\n",
        "  def deleteNode(self, location):\n",
        "    if self.head is None:\n",
        "      print(\"There is not any node in DLL\")\n",
        "    else:\n",
        "      if location == 0:\n",
        "        if self.head == self.tail:\n",
        "          self.head.prev = None\n",
        "          self.head.next = None\n",
        "          self.head = None\n",
        "          self.tail = None\n",
        "        else:\n",
        "          self.head = self.head.next\n",
        "          self.head.prev = self.tail\n",
        "          self.tail.next = self.head\n",
        "      elif location == 1:\n",
        "        if self.head == self.tail:\n",
        "          self.head.prev = None\n",
        "          self.head.next = None\n",
        "          self.head = None\n",
        "          self.tail = None\n",
        "        else:\n",
        "          self.tail = self.tail.prev\n",
        "          self.tail.next = self.head\n",
        "          self.head.prev = self.tail\n",
        "      else:\n",
        "        tempNode = self.head\n",
        "        index = 0\n",
        "        while index < location - 1:\n",
        "          curNode = curNode.next\n",
        "          index += 1\n",
        "        curNode.next = curNode.next.next\n",
        "        curNode.next.prev = curNode\n",
        "      print(\"The node has been successfully deleted\")\n",
        ""
      ],
      "metadata": {
        "id": "je18Kd_KjIbQ"
      },
      "execution_count": 16,
      "outputs": []
    },
    {
      "cell_type": "code",
      "source": [
        "circularDLL = CircularDoublyLinkedList()\n",
        "circularDLL.createDLL(5)\n",
        "circularDLL.insertNode(0, 0)\n",
        "circularDLL.insertNode(1, 1)\n",
        "circularDLL.insertNode(2, 2)\n",
        "circularDLL.insertNode(3, 3)\n",
        "print([node.value for node in circularDLL])\n",
        "circularDLL.deleteNode(0)\n",
        "print([node.value for node in circularDLL])\n",
        "circularDLL.deleteNode(1)\n",
        "print([node.value for node in circularDLL])\n",
        "circularDLL.deleteNode(1)\n",
        "print([node.value for node in circularDLL])\n"
      ],
      "metadata": {
        "colab": {
          "base_uri": "https://localhost:8080/"
        },
        "id": "BvkPYrwxmat5",
        "outputId": "ac8dd82c-196a-4bfa-86ef-86d6fe61fcc8"
      },
      "execution_count": 19,
      "outputs": [
        {
          "output_type": "stream",
          "name": "stdout",
          "text": [
            "[0, 5, 2, 3, 1]\n",
            "The node has been successfully deleted\n",
            "[5, 2, 3, 1]\n",
            "The node has been successfully deleted\n",
            "[5, 2, 3]\n",
            "The node has been successfully deleted\n",
            "[5, 2]\n"
          ]
        }
      ]
    },
    {
      "cell_type": "code",
      "source": [
        "class Node:\n",
        "  def __init__(self, value):\n",
        "    self.value = value\n",
        "    self.next = None\n",
        "    self.prev = None\n",
        "\n",
        "class CircularDoublyLinkedList:\n",
        "  def __init__(self):\n",
        "    self.head = None\n",
        "    self.tail = None\n",
        "\n",
        "  def __iter__(self):\n",
        "    node = self.head\n",
        "    while node:\n",
        "      yield node\n",
        "      node = node.next\n",
        "      if node == self.tail.next:\n",
        "        break\n",
        "  # Creation of Circular Doubly Linked LIst\n",
        "  def createDLL(self, nodeValue):\n",
        "    newNode = Node(nodeValue)\n",
        "    self.head = newNode\n",
        "    self.tail = newNode\n",
        "    newNode.prev = newNode\n",
        "    newNode.next = newNode\n",
        "    return \"The DLL is created successfully\"\n",
        "  # Insertion of a node in DLL\n",
        "  def insertNode(self, value, location):\n",
        "    if self.head is None:\n",
        "      return \"The head reference is None\"\n",
        "    else:\n",
        "      newNode = Node(value)\n",
        "      if location == 0:\n",
        "        newNode.next = self.head\n",
        "        newNode.prev = self.tail\n",
        "        self.head.prev = newNode\n",
        "        self.head = newNode\n",
        "        self.tail.next = newNode\n",
        "      elif location == 1:\n",
        "        newNode.next = self.head\n",
        "        newNode.prev = self.tail\n",
        "        self.head.prev = newNode\n",
        "        self.tail.next = newNode\n",
        "        self.tail = newNode\n",
        "      else:\n",
        "        tempNode = self.head\n",
        "        index = 0\n",
        "        while index < location - 1:\n",
        "          tempNode = tempNode.next\n",
        "          index += 1\n",
        "        newNode.next = tempNode.next\n",
        "        newNode.prev = tempNode\n",
        "        newNode.next.prev = newNode\n",
        "        tempNode.next = newNode\n",
        "      return \"The node has been successfully inserted\"\n",
        "    # Traversal of DLL\n",
        "  def traverseDLL(self):\n",
        "    if self.head is None:\n",
        "      print(\"There is not any element in DLL\")\n",
        "    else:\n",
        "      tempNode = self.head\n",
        "      while tempNode:\n",
        "        print(tempNode.value)\n",
        "        if tempNode == self.tail:\n",
        "          break\n",
        "        tempNode = tempNode.next\n",
        "  # Reverse Traversal of DLL\n",
        "  def reverseTraversalDLL(self):\n",
        "    if self.head is None:\n",
        "      print(\"There is not any element in DLL\")\n",
        "    else:\n",
        "      tempNode = self.tail\n",
        "      while tempNode:\n",
        "        print(tempNode.value)\n",
        "        if tempNode == self.head:\n",
        "          break\n",
        "        tempNode = tempNode.prev\n",
        "  # Search of a node in DLL\n",
        "  def searchDLL(self, nodeValue):\n",
        "    if self.head is None:\n",
        "      return \"There is not any node in DLL\"\n",
        "    else:\n",
        "      tempNode = self.head\n",
        "      while tempNode:\n",
        "        if tempNode.value == nodeValue:\n",
        "          return tempNode.value\n",
        "        if tempNode == self.tail:\n",
        "          return \"The value does not exist in DLL\"\n",
        "        tempNode = tempNode.next\n",
        "  # deletion\n",
        "  def deleteNode(self, location):\n",
        "    if self.head is None:\n",
        "      print(\"There is not any node in DLL\")\n",
        "    else:\n",
        "      if location == 0:\n",
        "        if self.head == self.tail:\n",
        "          self.head.prev = None\n",
        "          self.head.next = None\n",
        "          self.head = None\n",
        "          self.tail = None\n",
        "        else:\n",
        "          self.head = self.head.next\n",
        "          self.head.prev = self.tail\n",
        "          self.tail.next = self.head\n",
        "      elif location == 1:\n",
        "        if self.head == self.tail:\n",
        "          self.head.prev = None\n",
        "          self.head.next = None\n",
        "          self.head = None\n",
        "          self.tail = None\n",
        "        else:\n",
        "          self.tail = self.tail.prev\n",
        "          self.tail.next = self.head\n",
        "          self.head.prev = self.tail\n",
        "      else:\n",
        "        tempNode = self.head\n",
        "        index = 0\n",
        "        while index < location - 1:\n",
        "          curNode = curNode.next\n",
        "          index += 1\n",
        "        curNode.next = curNode.next.next\n",
        "        curNode.next.prev = curNode\n",
        "      print(\"The node has been successfully deleted\")\n",
        "  # delete entire CDLL\n",
        "  def deleteEntireCDLL(self):\n",
        "    if self.head is None:\n",
        "      print(\"There is not any node in DLL\")\n",
        "    else:\n",
        "      self.tail.next = None\n",
        "      tempNode = self.head\n",
        "      while tempNode:\n",
        "        tempNode.prev = None\n",
        "        tempNode = tempNode.next\n",
        "      self.head = None\n",
        "      self.tail = None\n",
        "      print(\"The DLL has been successfully deleted\")\n",
        "#"
      ],
      "metadata": {
        "id": "g09gk_DBmliO"
      },
      "execution_count": 20,
      "outputs": []
    },
    {
      "cell_type": "code",
      "source": [
        "circularDLL = CircularDoublyLinkedList()\n",
        "circularDLL.createDLL(5)\n",
        "circularDLL.insertNode(0, 0)\n",
        "circularDLL.insertNode(1, 1)\n",
        "circularDLL.insertNode(2, 2)\n",
        "circularDLL.insertNode(3, 3)\n",
        "print([node.value for node in circularDLL])\n",
        "circularDLL.deleteEntireCDLL()\n",
        "\n"
      ],
      "metadata": {
        "colab": {
          "base_uri": "https://localhost:8080/"
        },
        "id": "DpxOQUjcnDwZ",
        "outputId": "e98211df-5fb3-475f-bb2f-47147d478c4a"
      },
      "execution_count": 22,
      "outputs": [
        {
          "output_type": "stream",
          "name": "stdout",
          "text": [
            "[0, 5, 2, 3, 1]\n",
            "The DLL has been successfully deleted\n"
          ]
        }
      ]
    },
    {
      "cell_type": "markdown",
      "source": [
        "Time & Space complexity of CDLL\n",
        "\n",
        "| | Time Complexity | Space Complexity |\n",
        "| ---- |---- | ---- |\n",
        "|Creation |O(1) |O(1)|\n",
        "|Insertion | O(n) | O(1) |\n",
        "|Searching | O(n) | O(1) |\n",
        "|Traversing | O(n) | O(1) |\n",
        "|Deletion of a node | O(n) | O(1) |\n",
        "| Deletion of linked list | O(n) | O(1) |\n"
      ],
      "metadata": {
        "id": "HKQA9xUFnWiS"
      }
    },
    {
      "cell_type": "code",
      "source": [],
      "metadata": {
        "id": "xviftq0SnM2E"
      },
      "execution_count": null,
      "outputs": []
    }
  ]
}