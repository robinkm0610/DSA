{
  "nbformat": 4,
  "nbformat_minor": 0,
  "metadata": {
    "colab": {
      "provenance": [],
      "authorship_tag": "ABX9TyOOYPgNMt40BzHD2d14DM9Q",
      "include_colab_link": true
    },
    "kernelspec": {
      "name": "python3",
      "display_name": "Python 3"
    },
    "language_info": {
      "name": "python"
    }
  },
  "cells": [
    {
      "cell_type": "markdown",
      "metadata": {
        "id": "view-in-github",
        "colab_type": "text"
      },
      "source": [
        "<a href=\"https://colab.research.google.com/github/robinkm0610/DSA/blob/main/DSA/02_DSA_Recursion.ipynb\" target=\"_parent\"><img src=\"https://colab.research.google.com/assets/colab-badge.svg\" alt=\"Open In Colab\"/></a>"
      ]
    },
    {
      "cell_type": "code",
      "execution_count": null,
      "metadata": {
        "id": "LK6Y5sgL8z42"
      },
      "outputs": [],
      "source": [
        "import numpy as np\n",
        "import pandas as pd\n",
        "import re\n",
        "import nltk\n",
        "from nltk.corpus import stopwords\n",
        "from nltk.stem.porter import PorterStemmer\n",
        "from sklearn.feature_extraction.text import TfidfVectorizer\n",
        "from sklearn.model_selection import train_test_split\n",
        "\n"
      ]
    },
    {
      "cell_type": "code",
      "source": [
        "nltk.download('stopwords')"
      ],
      "metadata": {
        "colab": {
          "base_uri": "https://localhost:8080/"
        },
        "id": "3OjSVNNSW3da",
        "outputId": "64f8ecb5-eff1-4bfa-a9b1-d4788173b453"
      },
      "execution_count": null,
      "outputs": [
        {
          "output_type": "stream",
          "name": "stderr",
          "text": [
            "[nltk_data] Downloading package stopwords to /root/nltk_data...\n",
            "[nltk_data]   Unzipping corpora/stopwords.zip.\n"
          ]
        },
        {
          "output_type": "execute_result",
          "data": {
            "text/plain": [
              "True"
            ]
          },
          "metadata": {},
          "execution_count": 2
        }
      ]
    },
    {
      "cell_type": "code",
      "source": [
        "print(stopwords.words('english'))"
      ],
      "metadata": {
        "colab": {
          "base_uri": "https://localhost:8080/"
        },
        "id": "F5cpVhTXW9Sv",
        "outputId": "64aede95-9f4b-447d-f8e1-aaee39cf4741"
      },
      "execution_count": null,
      "outputs": [
        {
          "output_type": "stream",
          "name": "stdout",
          "text": [
            "['i', 'me', 'my', 'myself', 'we', 'our', 'ours', 'ourselves', 'you', \"you're\", \"you've\", \"you'll\", \"you'd\", 'your', 'yours', 'yourself', 'yourselves', 'he', 'him', 'his', 'himself', 'she', \"she's\", 'her', 'hers', 'herself', 'it', \"it's\", 'its', 'itself', 'they', 'them', 'their', 'theirs', 'themselves', 'what', 'which', 'who', 'whom', 'this', 'that', \"that'll\", 'these', 'those', 'am', 'is', 'are', 'was', 'were', 'be', 'been', 'being', 'have', 'has', 'had', 'having', 'do', 'does', 'did', 'doing', 'a', 'an', 'the', 'and', 'but', 'if', 'or', 'because', 'as', 'until', 'while', 'of', 'at', 'by', 'for', 'with', 'about', 'against', 'between', 'into', 'through', 'during', 'before', 'after', 'above', 'below', 'to', 'from', 'up', 'down', 'in', 'out', 'on', 'off', 'over', 'under', 'again', 'further', 'then', 'once', 'here', 'there', 'when', 'where', 'why', 'how', 'all', 'any', 'both', 'each', 'few', 'more', 'most', 'other', 'some', 'such', 'no', 'nor', 'not', 'only', 'own', 'same', 'so', 'than', 'too', 'very', 's', 't', 'can', 'will', 'just', 'don', \"don't\", 'should', \"should've\", 'now', 'd', 'll', 'm', 'o', 're', 've', 'y', 'ain', 'aren', \"aren't\", 'couldn', \"couldn't\", 'didn', \"didn't\", 'doesn', \"doesn't\", 'hadn', \"hadn't\", 'hasn', \"hasn't\", 'haven', \"haven't\", 'isn', \"isn't\", 'ma', 'mightn', \"mightn't\", 'mustn', \"mustn't\", 'needn', \"needn't\", 'shan', \"shan't\", 'shouldn', \"shouldn't\", 'wasn', \"wasn't\", 'weren', \"weren't\", 'won', \"won't\", 'wouldn', \"wouldn't\"]\n"
          ]
        }
      ]
    },
    {
      "cell_type": "markdown",
      "source": [
        "Data Pre-Processing\n",
        "\n"
      ],
      "metadata": {
        "id": "kSBynIjpXFB3"
      }
    },
    {
      "cell_type": "code",
      "source": [
        "import io\n",
        "\n",
        "data = []\n",
        "with io.open(r\"/content/Copy of fake_news_dataset.csv\", 'r', encoding='utf-8', errors='ignore') as f:\n",
        "    for line in f:\n",
        "        data.append(line)\n",
        "\n",
        "df = pd.DataFrame(data)\n",
        "df.head()"
      ],
      "metadata": {
        "colab": {
          "base_uri": "https://localhost:8080/",
          "height": 206
        },
        "id": "TDaxNRQ8XBox",
        "outputId": "4a67b9cf-5b05-4351-9aad-19ef65ccd4b5"
      },
      "execution_count": null,
      "outputs": [
        {
          "output_type": "execute_result",
          "data": {
            "text/plain": [
              "                                                   0\n",
              "0                       id,title,author,text,label\\n\n",
              "1  0,House Dem Aide: We Didn’t Even See Comey’s L...\n",
              "2  With apologies to Keith Olbermann, there is no...\n",
              "3  As we now know, Comey notified the Republican ...\n",
              "4  — Jason Chaffetz (@jasoninthehouse) October 28..."
            ],
            "text/html": [
              "\n",
              "  <div id=\"df-ed60002b-bcb2-46b6-8bf4-913e4cf21d2f\" class=\"colab-df-container\">\n",
              "    <div>\n",
              "<style scoped>\n",
              "    .dataframe tbody tr th:only-of-type {\n",
              "        vertical-align: middle;\n",
              "    }\n",
              "\n",
              "    .dataframe tbody tr th {\n",
              "        vertical-align: top;\n",
              "    }\n",
              "\n",
              "    .dataframe thead th {\n",
              "        text-align: right;\n",
              "    }\n",
              "</style>\n",
              "<table border=\"1\" class=\"dataframe\">\n",
              "  <thead>\n",
              "    <tr style=\"text-align: right;\">\n",
              "      <th></th>\n",
              "      <th>0</th>\n",
              "    </tr>\n",
              "  </thead>\n",
              "  <tbody>\n",
              "    <tr>\n",
              "      <th>0</th>\n",
              "      <td>id,title,author,text,label\\n</td>\n",
              "    </tr>\n",
              "    <tr>\n",
              "      <th>1</th>\n",
              "      <td>0,House Dem Aide: We Didn’t Even See Comey’s L...</td>\n",
              "    </tr>\n",
              "    <tr>\n",
              "      <th>2</th>\n",
              "      <td>With apologies to Keith Olbermann, there is no...</td>\n",
              "    </tr>\n",
              "    <tr>\n",
              "      <th>3</th>\n",
              "      <td>As we now know, Comey notified the Republican ...</td>\n",
              "    </tr>\n",
              "    <tr>\n",
              "      <th>4</th>\n",
              "      <td>— Jason Chaffetz (@jasoninthehouse) October 28...</td>\n",
              "    </tr>\n",
              "  </tbody>\n",
              "</table>\n",
              "</div>\n",
              "    <div class=\"colab-df-buttons\">\n",
              "\n",
              "  <div class=\"colab-df-container\">\n",
              "    <button class=\"colab-df-convert\" onclick=\"convertToInteractive('df-ed60002b-bcb2-46b6-8bf4-913e4cf21d2f')\"\n",
              "            title=\"Convert this dataframe to an interactive table.\"\n",
              "            style=\"display:none;\">\n",
              "\n",
              "  <svg xmlns=\"http://www.w3.org/2000/svg\" height=\"24px\" viewBox=\"0 -960 960 960\">\n",
              "    <path d=\"M120-120v-720h720v720H120Zm60-500h600v-160H180v160Zm220 220h160v-160H400v160Zm0 220h160v-160H400v160ZM180-400h160v-160H180v160Zm440 0h160v-160H620v160ZM180-180h160v-160H180v160Zm440 0h160v-160H620v160Z\"/>\n",
              "  </svg>\n",
              "    </button>\n",
              "\n",
              "  <style>\n",
              "    .colab-df-container {\n",
              "      display:flex;\n",
              "      gap: 12px;\n",
              "    }\n",
              "\n",
              "    .colab-df-convert {\n",
              "      background-color: #E8F0FE;\n",
              "      border: none;\n",
              "      border-radius: 50%;\n",
              "      cursor: pointer;\n",
              "      display: none;\n",
              "      fill: #1967D2;\n",
              "      height: 32px;\n",
              "      padding: 0 0 0 0;\n",
              "      width: 32px;\n",
              "    }\n",
              "\n",
              "    .colab-df-convert:hover {\n",
              "      background-color: #E2EBFA;\n",
              "      box-shadow: 0px 1px 2px rgba(60, 64, 67, 0.3), 0px 1px 3px 1px rgba(60, 64, 67, 0.15);\n",
              "      fill: #174EA6;\n",
              "    }\n",
              "\n",
              "    .colab-df-buttons div {\n",
              "      margin-bottom: 4px;\n",
              "    }\n",
              "\n",
              "    [theme=dark] .colab-df-convert {\n",
              "      background-color: #3B4455;\n",
              "      fill: #D2E3FC;\n",
              "    }\n",
              "\n",
              "    [theme=dark] .colab-df-convert:hover {\n",
              "      background-color: #434B5C;\n",
              "      box-shadow: 0px 1px 3px 1px rgba(0, 0, 0, 0.15);\n",
              "      filter: drop-shadow(0px 1px 2px rgba(0, 0, 0, 0.3));\n",
              "      fill: #FFFFFF;\n",
              "    }\n",
              "  </style>\n",
              "\n",
              "    <script>\n",
              "      const buttonEl =\n",
              "        document.querySelector('#df-ed60002b-bcb2-46b6-8bf4-913e4cf21d2f button.colab-df-convert');\n",
              "      buttonEl.style.display =\n",
              "        google.colab.kernel.accessAllowed ? 'block' : 'none';\n",
              "\n",
              "      async function convertToInteractive(key) {\n",
              "        const element = document.querySelector('#df-ed60002b-bcb2-46b6-8bf4-913e4cf21d2f');\n",
              "        const dataTable =\n",
              "          await google.colab.kernel.invokeFunction('convertToInteractive',\n",
              "                                                    [key], {});\n",
              "        if (!dataTable) return;\n",
              "\n",
              "        const docLinkHtml = 'Like what you see? Visit the ' +\n",
              "          '<a target=\"_blank\" href=https://colab.research.google.com/notebooks/data_table.ipynb>data table notebook</a>'\n",
              "          + ' to learn more about interactive tables.';\n",
              "        element.innerHTML = '';\n",
              "        dataTable['output_type'] = 'display_data';\n",
              "        await google.colab.output.renderOutput(dataTable, element);\n",
              "        const docLink = document.createElement('div');\n",
              "        docLink.innerHTML = docLinkHtml;\n",
              "        element.appendChild(docLink);\n",
              "      }\n",
              "    </script>\n",
              "  </div>\n",
              "\n",
              "\n",
              "<div id=\"df-bb151aba-5e98-4041-9c08-22b75dcbda92\">\n",
              "  <button class=\"colab-df-quickchart\" onclick=\"quickchart('df-bb151aba-5e98-4041-9c08-22b75dcbda92')\"\n",
              "            title=\"Suggest charts\"\n",
              "            style=\"display:none;\">\n",
              "\n",
              "<svg xmlns=\"http://www.w3.org/2000/svg\" height=\"24px\"viewBox=\"0 0 24 24\"\n",
              "     width=\"24px\">\n",
              "    <g>\n",
              "        <path d=\"M19 3H5c-1.1 0-2 .9-2 2v14c0 1.1.9 2 2 2h14c1.1 0 2-.9 2-2V5c0-1.1-.9-2-2-2zM9 17H7v-7h2v7zm4 0h-2V7h2v10zm4 0h-2v-4h2v4z\"/>\n",
              "    </g>\n",
              "</svg>\n",
              "  </button>\n",
              "\n",
              "<style>\n",
              "  .colab-df-quickchart {\n",
              "      --bg-color: #E8F0FE;\n",
              "      --fill-color: #1967D2;\n",
              "      --hover-bg-color: #E2EBFA;\n",
              "      --hover-fill-color: #174EA6;\n",
              "      --disabled-fill-color: #AAA;\n",
              "      --disabled-bg-color: #DDD;\n",
              "  }\n",
              "\n",
              "  [theme=dark] .colab-df-quickchart {\n",
              "      --bg-color: #3B4455;\n",
              "      --fill-color: #D2E3FC;\n",
              "      --hover-bg-color: #434B5C;\n",
              "      --hover-fill-color: #FFFFFF;\n",
              "      --disabled-bg-color: #3B4455;\n",
              "      --disabled-fill-color: #666;\n",
              "  }\n",
              "\n",
              "  .colab-df-quickchart {\n",
              "    background-color: var(--bg-color);\n",
              "    border: none;\n",
              "    border-radius: 50%;\n",
              "    cursor: pointer;\n",
              "    display: none;\n",
              "    fill: var(--fill-color);\n",
              "    height: 32px;\n",
              "    padding: 0;\n",
              "    width: 32px;\n",
              "  }\n",
              "\n",
              "  .colab-df-quickchart:hover {\n",
              "    background-color: var(--hover-bg-color);\n",
              "    box-shadow: 0 1px 2px rgba(60, 64, 67, 0.3), 0 1px 3px 1px rgba(60, 64, 67, 0.15);\n",
              "    fill: var(--button-hover-fill-color);\n",
              "  }\n",
              "\n",
              "  .colab-df-quickchart-complete:disabled,\n",
              "  .colab-df-quickchart-complete:disabled:hover {\n",
              "    background-color: var(--disabled-bg-color);\n",
              "    fill: var(--disabled-fill-color);\n",
              "    box-shadow: none;\n",
              "  }\n",
              "\n",
              "  .colab-df-spinner {\n",
              "    border: 2px solid var(--fill-color);\n",
              "    border-color: transparent;\n",
              "    border-bottom-color: var(--fill-color);\n",
              "    animation:\n",
              "      spin 1s steps(1) infinite;\n",
              "  }\n",
              "\n",
              "  @keyframes spin {\n",
              "    0% {\n",
              "      border-color: transparent;\n",
              "      border-bottom-color: var(--fill-color);\n",
              "      border-left-color: var(--fill-color);\n",
              "    }\n",
              "    20% {\n",
              "      border-color: transparent;\n",
              "      border-left-color: var(--fill-color);\n",
              "      border-top-color: var(--fill-color);\n",
              "    }\n",
              "    30% {\n",
              "      border-color: transparent;\n",
              "      border-left-color: var(--fill-color);\n",
              "      border-top-color: var(--fill-color);\n",
              "      border-right-color: var(--fill-color);\n",
              "    }\n",
              "    40% {\n",
              "      border-color: transparent;\n",
              "      border-right-color: var(--fill-color);\n",
              "      border-top-color: var(--fill-color);\n",
              "    }\n",
              "    60% {\n",
              "      border-color: transparent;\n",
              "      border-right-color: var(--fill-color);\n",
              "    }\n",
              "    80% {\n",
              "      border-color: transparent;\n",
              "      border-right-color: var(--fill-color);\n",
              "      border-bottom-color: var(--fill-color);\n",
              "    }\n",
              "    90% {\n",
              "      border-color: transparent;\n",
              "      border-bottom-color: var(--fill-color);\n",
              "    }\n",
              "  }\n",
              "</style>\n",
              "\n",
              "  <script>\n",
              "    async function quickchart(key) {\n",
              "      const quickchartButtonEl =\n",
              "        document.querySelector('#' + key + ' button');\n",
              "      quickchartButtonEl.disabled = true;  // To prevent multiple clicks.\n",
              "      quickchartButtonEl.classList.add('colab-df-spinner');\n",
              "      try {\n",
              "        const charts = await google.colab.kernel.invokeFunction(\n",
              "            'suggestCharts', [key], {});\n",
              "      } catch (error) {\n",
              "        console.error('Error during call to suggestCharts:', error);\n",
              "      }\n",
              "      quickchartButtonEl.classList.remove('colab-df-spinner');\n",
              "      quickchartButtonEl.classList.add('colab-df-quickchart-complete');\n",
              "    }\n",
              "    (() => {\n",
              "      let quickchartButtonEl =\n",
              "        document.querySelector('#df-bb151aba-5e98-4041-9c08-22b75dcbda92 button');\n",
              "      quickchartButtonEl.style.display =\n",
              "        google.colab.kernel.accessAllowed ? 'block' : 'none';\n",
              "    })();\n",
              "  </script>\n",
              "</div>\n",
              "\n",
              "    </div>\n",
              "  </div>\n"
            ],
            "application/vnd.google.colaboratory.intrinsic+json": {
              "type": "dataframe",
              "variable_name": "df",
              "summary": "{\n  \"name\": \"df\",\n  \"rows\": 79293,\n  \"fields\": [\n    {\n      \"column\": 0,\n      \"properties\": {\n        \"dtype\": \"string\",\n        \"num_unique_values\": 67996,\n        \"samples\": [\n          \"\\u201cUEFA\\u2019s position that the result is binding just because we lost is short-termist and doesn\\u2019t serve the Scottish people in the way they deserve.\\u201d \\n\",\n          \"I have never looked down on poor or disabled people that are doing the best that they can with the hand they have been dealt. \\n\",\n          \"\\\"\\\"FBI director James Comey should be fired immediately by Attorney General Loretta Lynch or President Obama. He serves at their pleasure, they are his bosses. Comey is in violation of the Hatch Act. He was told by his superiors in the Justice Department not to discuss developments in the on going investigation of Hillary Clinton's e-mails 11 days for the Presidential election of 2016. It's crazy, Comey admits there is no evidence of any sort of a scandal,\\\"\\\" Menken tells me. \\n\"\n        ],\n        \"semantic_type\": \"\",\n        \"description\": \"\"\n      }\n    }\n  ]\n}"
            }
          },
          "metadata": {},
          "execution_count": 12
        }
      ]
    },
    {
      "cell_type": "code",
      "source": [
        "df.shape"
      ],
      "metadata": {
        "colab": {
          "base_uri": "https://localhost:8080/"
        },
        "id": "U5lNz3XoYDT9",
        "outputId": "9653897b-0747-428f-f78d-3503f924e648"
      },
      "execution_count": null,
      "outputs": [
        {
          "output_type": "execute_result",
          "data": {
            "text/plain": [
              "(79293, 1)"
            ]
          },
          "metadata": {},
          "execution_count": 13
        }
      ]
    },
    {
      "cell_type": "code",
      "source": [
        "df.isnull().sum()"
      ],
      "metadata": {
        "colab": {
          "base_uri": "https://localhost:8080/"
        },
        "id": "ok93_tDrZ1zR",
        "outputId": "ee5a69d7-175b-4e7c-c21f-75a961b3ca6e"
      },
      "execution_count": null,
      "outputs": [
        {
          "output_type": "execute_result",
          "data": {
            "text/plain": [
              "0    0\n",
              "dtype: int64"
            ]
          },
          "metadata": {},
          "execution_count": 14
        }
      ]
    },
    {
      "cell_type": "code",
      "source": [
        "def rec(n):\n",
        "  if n <1:\n",
        "    print(\" n < 1\")\n",
        "  else:\n",
        "    rec(n-1)\n",
        "    print(n)"
      ],
      "metadata": {
        "id": "3V8YEx-ZZ5xe"
      },
      "execution_count": null,
      "outputs": []
    },
    {
      "cell_type": "code",
      "source": [
        "rec(5)"
      ],
      "metadata": {
        "colab": {
          "base_uri": "https://localhost:8080/"
        },
        "id": "tjEaES7H6e2Y",
        "outputId": "457d9828-56f8-4e83-dbe3-74cfd00f7b36"
      },
      "execution_count": null,
      "outputs": [
        {
          "output_type": "stream",
          "name": "stdout",
          "text": [
            " n < 1\n",
            "1\n",
            "2\n",
            "3\n",
            "4\n",
            "5\n"
          ]
        }
      ]
    },
    {
      "cell_type": "code",
      "source": [
        "def powofTwo(n):\n",
        "  if n == 0:\n",
        "    return 1\n",
        "  else:\n",
        "    p = pow(n-1)\n",
        "  return p * 2"
      ],
      "metadata": {
        "id": "TGh2NnEZ6gHS"
      },
      "execution_count": null,
      "outputs": []
    },
    {
      "cell_type": "code",
      "source": [
        "pow(3)"
      ],
      "metadata": {
        "colab": {
          "base_uri": "https://localhost:8080/"
        },
        "id": "dWNX9mXT8E3I",
        "outputId": "3c59b224-a603-4258-bfb6-a8008045b408"
      },
      "execution_count": null,
      "outputs": [
        {
          "output_type": "execute_result",
          "data": {
            "text/plain": [
              "8"
            ]
          },
          "metadata": {},
          "execution_count": 13
        }
      ]
    },
    {
      "cell_type": "code",
      "source": [
        "def powofTwo(n):\n",
        "  i = 0\n",
        "  p = 1\n",
        "  while i < n:\n",
        "    p *= 2\n",
        "    i += 1\n",
        "  return p"
      ],
      "metadata": {
        "id": "vokNpO0e8L_2"
      },
      "execution_count": null,
      "outputs": []
    },
    {
      "cell_type": "code",
      "source": [
        "powofTwo(3)"
      ],
      "metadata": {
        "colab": {
          "base_uri": "https://localhost:8080/"
        },
        "id": "JxYXdo9T8k17",
        "outputId": "337236c4-5d7f-4764-d929-ac2a4d2e241c"
      },
      "execution_count": null,
      "outputs": [
        {
          "output_type": "execute_result",
          "data": {
            "text/plain": [
              "8"
            ]
          },
          "metadata": {},
          "execution_count": 9
        }
      ]
    },
    {
      "cell_type": "code",
      "source": [
        "# recurison uses more memory, more time. it's not efficient\n",
        "#advantage s- can we make quick working solution . Used in trees.\n",
        "#not used in applications becaused it takes more memory of phone or system.\n"
      ],
      "metadata": {
        "id": "TsEjfWjN8mvr"
      },
      "execution_count": null,
      "outputs": []
    },
    {
      "cell_type": "markdown",
      "source": [
        "Factorial"
      ],
      "metadata": {
        "id": "NtfbY_D7_ZKC"
      }
    },
    {
      "cell_type": "code",
      "source": [
        "import sys\n",
        "sys.setrecursionlimit(10000) # increasing stack memory"
      ],
      "metadata": {
        "id": "aS7ykJzF_zXj"
      },
      "execution_count": null,
      "outputs": []
    },
    {
      "cell_type": "code",
      "source": [
        "def factorial(n):\n",
        "  #print(n)\n",
        "  return n * factorial(n-1) if n > 1 else 1"
      ],
      "metadata": {
        "id": "mUnIgX6O_EsI"
      },
      "execution_count": null,
      "outputs": []
    },
    {
      "cell_type": "code",
      "source": [
        "def factorial(n):\n",
        "  assert n >=0 and int(n) == n, 'The number must be postive integer only!'\n",
        "  if n in [0,1]:\n",
        "    return 1\n",
        "  else:\n",
        "    return n * factorial(n-1)"
      ],
      "metadata": {
        "id": "EHh8LkqHA00G"
      },
      "execution_count": null,
      "outputs": []
    },
    {
      "cell_type": "code",
      "source": [
        "factorial(5)"
      ],
      "metadata": {
        "colab": {
          "base_uri": "https://localhost:8080/"
        },
        "id": "5mnuKDKI_jtf",
        "outputId": "a6e190be-d3bb-4cab-9edb-58ac680c63ef"
      },
      "execution_count": null,
      "outputs": [
        {
          "output_type": "execute_result",
          "data": {
            "text/plain": [
              "120"
            ]
          },
          "metadata": {},
          "execution_count": 29
        }
      ]
    },
    {
      "cell_type": "code",
      "source": [
        "factorial(-2)"
      ],
      "metadata": {
        "colab": {
          "base_uri": "https://localhost:8080/",
          "height": 273
        },
        "id": "I7ycgwLW_nix",
        "outputId": "8c88b59c-0ee0-4a99-f184-f335242a1559"
      },
      "execution_count": null,
      "outputs": [
        {
          "output_type": "error",
          "ename": "AssertionError",
          "evalue": "The number must be postive integer only!",
          "traceback": [
            "\u001b[0;31m---------------------------------------------------------------------------\u001b[0m",
            "\u001b[0;31mAssertionError\u001b[0m                            Traceback (most recent call last)",
            "\u001b[0;32m<ipython-input-30-1662fb78c938>\u001b[0m in \u001b[0;36m<cell line: 1>\u001b[0;34m()\u001b[0m\n\u001b[0;32m----> 1\u001b[0;31m \u001b[0mfactorial\u001b[0m\u001b[0;34m(\u001b[0m\u001b[0;34m-\u001b[0m\u001b[0;36m2\u001b[0m\u001b[0;34m)\u001b[0m\u001b[0;34m\u001b[0m\u001b[0;34m\u001b[0m\u001b[0m\n\u001b[0m",
            "\u001b[0;32m<ipython-input-28-1c3f85d399ec>\u001b[0m in \u001b[0;36mfactorial\u001b[0;34m(n)\u001b[0m\n\u001b[1;32m      1\u001b[0m \u001b[0;32mdef\u001b[0m \u001b[0mfactorial\u001b[0m\u001b[0;34m(\u001b[0m\u001b[0mn\u001b[0m\u001b[0;34m)\u001b[0m\u001b[0;34m:\u001b[0m\u001b[0;34m\u001b[0m\u001b[0;34m\u001b[0m\u001b[0m\n\u001b[0;32m----> 2\u001b[0;31m   \u001b[0;32massert\u001b[0m \u001b[0mn\u001b[0m \u001b[0;34m>=\u001b[0m\u001b[0;36m0\u001b[0m \u001b[0;32mand\u001b[0m \u001b[0mint\u001b[0m\u001b[0;34m(\u001b[0m\u001b[0mn\u001b[0m\u001b[0;34m)\u001b[0m \u001b[0;34m==\u001b[0m \u001b[0mn\u001b[0m\u001b[0;34m,\u001b[0m \u001b[0;34m'The number must be postive integer only!'\u001b[0m\u001b[0;34m\u001b[0m\u001b[0;34m\u001b[0m\u001b[0m\n\u001b[0m\u001b[1;32m      3\u001b[0m   \u001b[0;32mif\u001b[0m \u001b[0mn\u001b[0m \u001b[0;32min\u001b[0m \u001b[0;34m[\u001b[0m\u001b[0;36m0\u001b[0m\u001b[0;34m,\u001b[0m\u001b[0;36m1\u001b[0m\u001b[0;34m]\u001b[0m\u001b[0;34m:\u001b[0m\u001b[0;34m\u001b[0m\u001b[0;34m\u001b[0m\u001b[0m\n\u001b[1;32m      4\u001b[0m     \u001b[0;32mreturn\u001b[0m \u001b[0;36m1\u001b[0m\u001b[0;34m\u001b[0m\u001b[0;34m\u001b[0m\u001b[0m\n\u001b[1;32m      5\u001b[0m   \u001b[0;32melse\u001b[0m\u001b[0;34m:\u001b[0m\u001b[0;34m\u001b[0m\u001b[0;34m\u001b[0m\u001b[0m\n",
            "\u001b[0;31mAssertionError\u001b[0m: The number must be postive integer only!"
          ]
        }
      ]
    },
    {
      "cell_type": "code",
      "source": [
        "factorial(1.5)"
      ],
      "metadata": {
        "colab": {
          "base_uri": "https://localhost:8080/",
          "height": 273
        },
        "id": "sv8Mxe2LAmVC",
        "outputId": "0ee2d25d-0c33-4c52-d742-18e8846732b0"
      },
      "execution_count": null,
      "outputs": [
        {
          "output_type": "error",
          "ename": "AssertionError",
          "evalue": "The number must be postive integer only!",
          "traceback": [
            "\u001b[0;31m---------------------------------------------------------------------------\u001b[0m",
            "\u001b[0;31mAssertionError\u001b[0m                            Traceback (most recent call last)",
            "\u001b[0;32m<ipython-input-31-76683e6cb948>\u001b[0m in \u001b[0;36m<cell line: 1>\u001b[0;34m()\u001b[0m\n\u001b[0;32m----> 1\u001b[0;31m \u001b[0mfactorial\u001b[0m\u001b[0;34m(\u001b[0m\u001b[0;36m1.5\u001b[0m\u001b[0;34m)\u001b[0m\u001b[0;34m\u001b[0m\u001b[0;34m\u001b[0m\u001b[0m\n\u001b[0m",
            "\u001b[0;32m<ipython-input-28-1c3f85d399ec>\u001b[0m in \u001b[0;36mfactorial\u001b[0;34m(n)\u001b[0m\n\u001b[1;32m      1\u001b[0m \u001b[0;32mdef\u001b[0m \u001b[0mfactorial\u001b[0m\u001b[0;34m(\u001b[0m\u001b[0mn\u001b[0m\u001b[0;34m)\u001b[0m\u001b[0;34m:\u001b[0m\u001b[0;34m\u001b[0m\u001b[0;34m\u001b[0m\u001b[0m\n\u001b[0;32m----> 2\u001b[0;31m   \u001b[0;32massert\u001b[0m \u001b[0mn\u001b[0m \u001b[0;34m>=\u001b[0m\u001b[0;36m0\u001b[0m \u001b[0;32mand\u001b[0m \u001b[0mint\u001b[0m\u001b[0;34m(\u001b[0m\u001b[0mn\u001b[0m\u001b[0;34m)\u001b[0m \u001b[0;34m==\u001b[0m \u001b[0mn\u001b[0m\u001b[0;34m,\u001b[0m \u001b[0;34m'The number must be postive integer only!'\u001b[0m\u001b[0;34m\u001b[0m\u001b[0;34m\u001b[0m\u001b[0m\n\u001b[0m\u001b[1;32m      3\u001b[0m   \u001b[0;32mif\u001b[0m \u001b[0mn\u001b[0m \u001b[0;32min\u001b[0m \u001b[0;34m[\u001b[0m\u001b[0;36m0\u001b[0m\u001b[0;34m,\u001b[0m\u001b[0;36m1\u001b[0m\u001b[0;34m]\u001b[0m\u001b[0;34m:\u001b[0m\u001b[0;34m\u001b[0m\u001b[0;34m\u001b[0m\u001b[0m\n\u001b[1;32m      4\u001b[0m     \u001b[0;32mreturn\u001b[0m \u001b[0;36m1\u001b[0m\u001b[0;34m\u001b[0m\u001b[0;34m\u001b[0m\u001b[0m\n\u001b[1;32m      5\u001b[0m   \u001b[0;32melse\u001b[0m\u001b[0;34m:\u001b[0m\u001b[0;34m\u001b[0m\u001b[0;34m\u001b[0m\u001b[0m\n",
            "\u001b[0;31mAssertionError\u001b[0m: The number must be postive integer only!"
          ]
        }
      ]
    },
    {
      "cell_type": "markdown",
      "source": [
        "Fibonacci\n",
        "\n",
        "0,1,1,2,3,5,8,13,21,34......\n",
        "\n",
        "\n",
        "sequence of no. in which each no. is the sum of the 2 preceding no."
      ],
      "metadata": {
        "id": "XT-_ivlFCMUg"
      }
    },
    {
      "cell_type": "code",
      "source": [
        "def fib(n):\n",
        "  assert n >= 0 and int(n) == n, 'Fibonacci number cannot be negative number of no integer'\n",
        "  if n in [0,1]:\n",
        "    return n\n",
        "  else:\n",
        "    return fib(n-1) + fib(n-2)"
      ],
      "metadata": {
        "id": "QiqlOIiVBM2h"
      },
      "execution_count": null,
      "outputs": []
    },
    {
      "cell_type": "code",
      "source": [
        "fib(7)"
      ],
      "metadata": {
        "colab": {
          "base_uri": "https://localhost:8080/"
        },
        "id": "7iQi0-ywCxBn",
        "outputId": "2931576f-b1ea-4111-f41f-f37cf157dace"
      },
      "execution_count": null,
      "outputs": [
        {
          "output_type": "execute_result",
          "data": {
            "text/plain": [
              "13"
            ]
          },
          "metadata": {},
          "execution_count": 3
        }
      ]
    },
    {
      "cell_type": "markdown",
      "source": [
        "1. How to find the sum of digits of a positive integer number using recursion?"
      ],
      "metadata": {
        "id": "ub2GEwjjm_E9"
      }
    },
    {
      "cell_type": "code",
      "source": [
        "def sumofdigits(n):\n",
        "  assert n>=0 and int(n) == n, 'The number must be postive integer only!'\n",
        "  if n == 0:\n",
        "    return 0\n",
        "  else:\n",
        "    return int(n%10) + sumofdigits(int(n/10))"
      ],
      "metadata": {
        "id": "3A5DPqx7Cyzm"
      },
      "execution_count": null,
      "outputs": []
    },
    {
      "cell_type": "code",
      "source": [
        "sumofdigits(-1234)"
      ],
      "metadata": {
        "colab": {
          "base_uri": "https://localhost:8080/",
          "height": 273
        },
        "id": "ZNi2hWKzn8XJ",
        "outputId": "159c9352-09a0-4f4f-ca1d-1ef1e74f17a2"
      },
      "execution_count": null,
      "outputs": [
        {
          "output_type": "error",
          "ename": "AssertionError",
          "evalue": "The number must be postive integer only!",
          "traceback": [
            "\u001b[0;31m---------------------------------------------------------------------------\u001b[0m",
            "\u001b[0;31mAssertionError\u001b[0m                            Traceback (most recent call last)",
            "\u001b[0;32m<ipython-input-13-84d6f6199c2f>\u001b[0m in \u001b[0;36m<cell line: 1>\u001b[0;34m()\u001b[0m\n\u001b[0;32m----> 1\u001b[0;31m \u001b[0msumofdigits\u001b[0m\u001b[0;34m(\u001b[0m\u001b[0;34m-\u001b[0m\u001b[0;36m1234\u001b[0m\u001b[0;34m)\u001b[0m\u001b[0;34m\u001b[0m\u001b[0;34m\u001b[0m\u001b[0m\n\u001b[0m",
            "\u001b[0;32m<ipython-input-12-9a4ab493b1ef>\u001b[0m in \u001b[0;36msumofdigits\u001b[0;34m(n)\u001b[0m\n\u001b[1;32m      1\u001b[0m \u001b[0;32mdef\u001b[0m \u001b[0msumofdigits\u001b[0m\u001b[0;34m(\u001b[0m\u001b[0mn\u001b[0m\u001b[0;34m)\u001b[0m\u001b[0;34m:\u001b[0m\u001b[0;34m\u001b[0m\u001b[0;34m\u001b[0m\u001b[0m\n\u001b[0;32m----> 2\u001b[0;31m   \u001b[0;32massert\u001b[0m \u001b[0mn\u001b[0m\u001b[0;34m>=\u001b[0m\u001b[0;36m0\u001b[0m \u001b[0;32mand\u001b[0m \u001b[0mint\u001b[0m\u001b[0;34m(\u001b[0m\u001b[0mn\u001b[0m\u001b[0;34m)\u001b[0m \u001b[0;34m==\u001b[0m \u001b[0mn\u001b[0m\u001b[0;34m,\u001b[0m \u001b[0;34m'The number must be postive integer only!'\u001b[0m\u001b[0;34m\u001b[0m\u001b[0;34m\u001b[0m\u001b[0m\n\u001b[0m\u001b[1;32m      3\u001b[0m   \u001b[0;32mif\u001b[0m \u001b[0mn\u001b[0m \u001b[0;34m==\u001b[0m \u001b[0;36m0\u001b[0m\u001b[0;34m:\u001b[0m\u001b[0;34m\u001b[0m\u001b[0;34m\u001b[0m\u001b[0m\n\u001b[1;32m      4\u001b[0m     \u001b[0;32mreturn\u001b[0m \u001b[0;36m0\u001b[0m\u001b[0;34m\u001b[0m\u001b[0;34m\u001b[0m\u001b[0m\n\u001b[1;32m      5\u001b[0m   \u001b[0;32melse\u001b[0m\u001b[0;34m:\u001b[0m\u001b[0;34m\u001b[0m\u001b[0;34m\u001b[0m\u001b[0m\n",
            "\u001b[0;31mAssertionError\u001b[0m: The number must be postive integer only!"
          ]
        }
      ]
    },
    {
      "cell_type": "markdown",
      "source": [
        "2. How to calculate power of numbers using recursion ?"
      ],
      "metadata": {
        "id": "zI2r9yqVpOJM"
      }
    },
    {
      "cell_type": "code",
      "source": [],
      "metadata": {
        "id": "YTT-BC18oAjb"
      },
      "execution_count": null,
      "outputs": []
    },
    {
      "cell_type": "code",
      "source": [
        "def power(base, exponent):\n",
        "  assert exponent >= 0 and int(exponent) == exponent, \"exponent must be non-negative\"\n",
        "  if exponent == 0:\n",
        "    return 1\n",
        "  if exponent == 1:\n",
        "    return base\n",
        "  return base * power(base, exponent -1)"
      ],
      "metadata": {
        "id": "nblKAdUYfGKG"
      },
      "execution_count": 15,
      "outputs": []
    },
    {
      "cell_type": "code",
      "source": [
        "power(2,3)"
      ],
      "metadata": {
        "colab": {
          "base_uri": "https://localhost:8080/"
        },
        "id": "PZSBhQ57ujDv",
        "outputId": "51f09f1e-367a-42ac-a5ef-b73f57a919e9"
      },
      "execution_count": 16,
      "outputs": [
        {
          "output_type": "execute_result",
          "data": {
            "text/plain": [
              "8"
            ]
          },
          "metadata": {},
          "execution_count": 16
        }
      ]
    },
    {
      "cell_type": "markdown",
      "source": [
        "3. How to find GCD of 2 numbers using recursion ?"
      ],
      "metadata": {
        "id": "QRaKkx4buzoY"
      }
    },
    {
      "cell_type": "code",
      "source": [
        "def gcd(a,b):\n",
        "  assert int(a) == a and int(b) == b, 'The numbers must be integer only'\n",
        "  if a < 0:\n",
        "    a = -1 * a\n",
        "  if b < 0:\n",
        "    b = -1 * b\n",
        "  if b == 0:\n",
        "    return a\n",
        "  else :\n",
        "    return (gcd(b, a%b))"
      ],
      "metadata": {
        "id": "KzHgfP24urRK"
      },
      "execution_count": 8,
      "outputs": []
    },
    {
      "cell_type": "code",
      "source": [
        "gcd(48,18)"
      ],
      "metadata": {
        "colab": {
          "base_uri": "https://localhost:8080/"
        },
        "id": "2pIWypPZ5Kgm",
        "outputId": "8573196a-36f9-4e44-8a17-9d4b30f9caaf"
      },
      "execution_count": 9,
      "outputs": [
        {
          "output_type": "execute_result",
          "data": {
            "text/plain": [
              "6"
            ]
          },
          "metadata": {},
          "execution_count": 9
        }
      ]
    },
    {
      "cell_type": "code",
      "source": [
        "gcd (48,1.8)"
      ],
      "metadata": {
        "colab": {
          "base_uri": "https://localhost:8080/",
          "height": 273
        },
        "id": "2mPHsReW5Nmu",
        "outputId": "7b79fb7a-fd47-4442-9d43-413ee2455efb"
      },
      "execution_count": 10,
      "outputs": [
        {
          "output_type": "error",
          "ename": "AssertionError",
          "evalue": "The numbers must be integer only",
          "traceback": [
            "\u001b[0;31m---------------------------------------------------------------------------\u001b[0m",
            "\u001b[0;31mAssertionError\u001b[0m                            Traceback (most recent call last)",
            "\u001b[0;32m<ipython-input-10-490d634aa2ab>\u001b[0m in \u001b[0;36m<cell line: 1>\u001b[0;34m()\u001b[0m\n\u001b[0;32m----> 1\u001b[0;31m \u001b[0mgcd\u001b[0m \u001b[0;34m(\u001b[0m\u001b[0;36m48\u001b[0m\u001b[0;34m,\u001b[0m\u001b[0;36m1.8\u001b[0m\u001b[0;34m)\u001b[0m\u001b[0;34m\u001b[0m\u001b[0;34m\u001b[0m\u001b[0m\n\u001b[0m",
            "\u001b[0;32m<ipython-input-8-266e2e9e9213>\u001b[0m in \u001b[0;36mgcd\u001b[0;34m(a, b)\u001b[0m\n\u001b[1;32m      1\u001b[0m \u001b[0;32mdef\u001b[0m \u001b[0mgcd\u001b[0m\u001b[0;34m(\u001b[0m\u001b[0ma\u001b[0m\u001b[0;34m,\u001b[0m\u001b[0mb\u001b[0m\u001b[0;34m)\u001b[0m\u001b[0;34m:\u001b[0m\u001b[0;34m\u001b[0m\u001b[0;34m\u001b[0m\u001b[0m\n\u001b[0;32m----> 2\u001b[0;31m   \u001b[0;32massert\u001b[0m \u001b[0mint\u001b[0m\u001b[0;34m(\u001b[0m\u001b[0ma\u001b[0m\u001b[0;34m)\u001b[0m \u001b[0;34m==\u001b[0m \u001b[0ma\u001b[0m \u001b[0;32mand\u001b[0m \u001b[0mint\u001b[0m\u001b[0;34m(\u001b[0m\u001b[0mb\u001b[0m\u001b[0;34m)\u001b[0m \u001b[0;34m==\u001b[0m \u001b[0mb\u001b[0m\u001b[0;34m,\u001b[0m \u001b[0;34m'The numbers must be integer only'\u001b[0m\u001b[0;34m\u001b[0m\u001b[0;34m\u001b[0m\u001b[0m\n\u001b[0m\u001b[1;32m      3\u001b[0m   \u001b[0;32mif\u001b[0m \u001b[0ma\u001b[0m \u001b[0;34m<\u001b[0m \u001b[0;36m0\u001b[0m\u001b[0;34m:\u001b[0m\u001b[0;34m\u001b[0m\u001b[0;34m\u001b[0m\u001b[0m\n\u001b[1;32m      4\u001b[0m     \u001b[0ma\u001b[0m \u001b[0;34m=\u001b[0m \u001b[0;34m-\u001b[0m\u001b[0;36m1\u001b[0m \u001b[0;34m*\u001b[0m \u001b[0ma\u001b[0m\u001b[0;34m\u001b[0m\u001b[0;34m\u001b[0m\u001b[0m\n\u001b[1;32m      5\u001b[0m   \u001b[0;32mif\u001b[0m \u001b[0mb\u001b[0m \u001b[0;34m<\u001b[0m \u001b[0;36m0\u001b[0m\u001b[0;34m:\u001b[0m\u001b[0;34m\u001b[0m\u001b[0;34m\u001b[0m\u001b[0m\n",
            "\u001b[0;31mAssertionError\u001b[0m: The numbers must be integer only"
          ]
        }
      ]
    },
    {
      "cell_type": "markdown",
      "source": [
        "How to convert a number from Decimal to Binary using recursion?\n",
        "\n",
        "* 1. Divide the no. by 2\n",
        "* 2. Get the integer quotient for hte next iteration\n",
        "* 3. Get the remainder for the binary digit\n",
        "* 3. Repeat the steps until the quotient is equal to 0"
      ],
      "metadata": {
        "id": "Hf6BRZBW6boU"
      }
    },
    {
      "cell_type": "code",
      "source": [
        "def binary(n):\n",
        "  assert int(n) == n, 'the number should be interger'\n",
        "  if n == 0:\n",
        "    return 0\n",
        "  else:\n",
        "    return n%2 + 10 * binary(int(n/2))"
      ],
      "metadata": {
        "id": "CZYZV4k458j1"
      },
      "execution_count": 12,
      "outputs": []
    },
    {
      "cell_type": "code",
      "source": [
        "binary(10)"
      ],
      "metadata": {
        "colab": {
          "base_uri": "https://localhost:8080/"
        },
        "id": "wVAUHLlP7e_4",
        "outputId": "f672ef27-9b43-416f-9db8-098235093e7f"
      },
      "execution_count": 13,
      "outputs": [
        {
          "output_type": "execute_result",
          "data": {
            "text/plain": [
              "1010"
            ]
          },
          "metadata": {},
          "execution_count": 13
        }
      ]
    },
    {
      "cell_type": "markdown",
      "source": [
        " capitalizeWords Solution"
      ],
      "metadata": {
        "id": "z2tqhQOY-Li-"
      }
    },
    {
      "cell_type": "code",
      "source": [
        "def capitalizeWords(arr):\n",
        "  result = []\n",
        "  if len(arr) == 0:\n",
        "    return result\n",
        "  result.append(arr[0].upper())\n",
        "  return result + capitalizeWords(arr[1:])"
      ],
      "metadata": {
        "id": "MyU0MDfe7xfc"
      },
      "execution_count": 21,
      "outputs": []
    },
    {
      "cell_type": "code",
      "source": [
        "words = ['i', 'am', 'Learning', 'recursion']\n",
        "print(capitalizeWords(words)) # ['I', 'AM', 'LEARNING', 'RECURSION']"
      ],
      "metadata": {
        "colab": {
          "base_uri": "https://localhost:8080/"
        },
        "id": "bpesh2TP8iAo",
        "outputId": "8885eddf-417e-433e-c412-03519e0a0d35"
      },
      "execution_count": 23,
      "outputs": [
        {
          "output_type": "stream",
          "name": "stdout",
          "text": [
            "['I', 'AM', 'LEARNING', 'RECURSION']\n"
          ]
        }
      ]
    },
    {
      "cell_type": "markdown",
      "source": [
        "Fibonacci"
      ],
      "metadata": {
        "id": "zbv9mmvNLCdC"
      }
    },
    {
      "cell_type": "code",
      "source": [
        "def fib(n):\n",
        "  if n == 2:\n",
        "    return 1\n",
        "  elif n ==1:\n",
        "    return 0\n",
        "  else:\n",
        "    return fib(n-1) + fib(n-2)"
      ],
      "metadata": {
        "id": "5BBNKtwG_A7O"
      },
      "execution_count": 3,
      "outputs": []
    },
    {
      "cell_type": "code",
      "source": [
        "print(fib(4)) # 3\n"
      ],
      "metadata": {
        "colab": {
          "base_uri": "https://localhost:8080/"
        },
        "id": "auRSQKLvMlCL",
        "outputId": "c70f60c4-7e84-4de0-a0ea-7003eb104a57"
      },
      "execution_count": 4,
      "outputs": [
        {
          "output_type": "stream",
          "name": "stdout",
          "text": [
            "2\n"
          ]
        }
      ]
    },
    {
      "cell_type": "code",
      "source": [
        "print(fib(10)) # 55"
      ],
      "metadata": {
        "colab": {
          "base_uri": "https://localhost:8080/"
        },
        "id": "Q99CWcXlMpJF",
        "outputId": "3aea9070-f7e1-42e9-bb68-c4791b49f929"
      },
      "execution_count": 5,
      "outputs": [
        {
          "output_type": "stream",
          "name": "stdout",
          "text": [
            "34\n"
          ]
        }
      ]
    },
    {
      "cell_type": "markdown",
      "source": [
        "stringifyNumbers Solution"
      ],
      "metadata": {
        "id": "PiQ0VGVJNBi0"
      }
    },
    {
      "cell_type": "code",
      "source": [
        "def stringifyNumbers(obj):\n",
        "  newObj = obj\n",
        "  for key in newObj:\n",
        "    if type(newObj[key]) is int:\n",
        "      newObj[key] = str(newObj[key])\n",
        "    if type(newObj[key]) is dict:\n",
        "      newObj[key] = stringifyNumbers(newObj[key])\n",
        "  return newObj"
      ],
      "metadata": {
        "id": "23M5C9WlMvu5"
      },
      "execution_count": 6,
      "outputs": []
    },
    {
      "cell_type": "code",
      "source": [
        "obj = {\n",
        "  \"num\": 1,\n",
        "  \"test\": [],\n",
        "  \"data\": {\n",
        "    \"val\": 4,\n",
        "    \"info\": {\n",
        "      \"isRight\": True,\n",
        "      \"random\": 66\n",
        "    }\n",
        "  }\n",
        "}\n",
        "\n",
        "print(stringifyNumbers(obj))"
      ],
      "metadata": {
        "colab": {
          "base_uri": "https://localhost:8080/"
        },
        "id": "SV_x81KqSSV-",
        "outputId": "ea98203d-2efc-4648-fd31-2689854a7107"
      },
      "execution_count": 7,
      "outputs": [
        {
          "output_type": "stream",
          "name": "stdout",
          "text": [
            "{'num': '1', 'test': [], 'data': {'val': '4', 'info': {'isRight': True, 'random': '66'}}}\n"
          ]
        }
      ]
    },
    {
      "cell_type": "markdown",
      "source": [
        "collectStrings Solution"
      ],
      "metadata": {
        "id": "twe4BOysSiBZ"
      }
    },
    {
      "cell_type": "code",
      "source": [
        "def collectStrings(obj):\n",
        "  resultArr = []\n",
        "  for key in obj:\n",
        "    if type(obj[key]) is str:\n",
        "      resultArr.append(obj[key])\n",
        "    if type(obj[key]) is dict:\n",
        "      resultArr = resultArr + collectStrings(obj[key])\n",
        "  return resultArr"
      ],
      "metadata": {
        "id": "ejR5kMbTSaB3"
      },
      "execution_count": 8,
      "outputs": []
    },
    {
      "cell_type": "code",
      "source": [
        "obj = {\n",
        "  \"stuff\": 'foo',\n",
        "  \"data\": {\n",
        "    \"val\": {\n",
        "      \"thing\": {\n",
        "        \"info\": 'bar',\n",
        "        \"moreInfo\": {\n",
        "          \"evenMoreInfo\": {\n",
        "            \"weMadeIt\": 'baz'\n",
        "          }\n",
        "        }\n",
        "      }\n",
        "    }\n",
        "  }\n",
        "}\n",
        "\n",
        "print(collectStrings(obj)) # ['foo', 'bar', 'baz'])"
      ],
      "metadata": {
        "colab": {
          "base_uri": "https://localhost:8080/"
        },
        "id": "KB2m-UM2TcP_",
        "outputId": "ec7ca8a1-2453-447c-e8a4-f473107cbd0b"
      },
      "execution_count": 9,
      "outputs": [
        {
          "output_type": "stream",
          "name": "stdout",
          "text": [
            "['foo', 'bar', 'baz']\n"
          ]
        }
      ]
    },
    {
      "cell_type": "markdown",
      "source": [
        "nestedEvenSum Solution\n"
      ],
      "metadata": {
        "id": "VlEhbjT_X3F5"
      }
    },
    {
      "cell_type": "code",
      "source": [
        "def nestedEvenSum(obj):\n",
        "  sum = 0\n",
        "  for key in obj:\n",
        "    if type(obj[key]) is int and obj[key] % 2 == 0:\n",
        "      sum += obj[key]\n",
        "    if type(obj[key]) is dict:\n",
        "      sum += nestedEvenSum(obj[key])\n",
        "  return sum"
      ],
      "metadata": {
        "id": "Kds430-YTfKz"
      },
      "execution_count": 10,
      "outputs": []
    },
    {
      "cell_type": "code",
      "source": [
        "obj1 = {\n",
        "  \"outer\": 2,\n",
        "  \"obj\": {\n",
        "    \"inner\": 2,\n",
        "    \"otherObj\": {\n",
        "      \"superInner\": 2,\n",
        "      \"notANumber\": True,\n",
        "      \"alsoNotANumber\": \"yup\"\n",
        "    }\n",
        "  }\n",
        "}"
      ],
      "metadata": {
        "id": "MwVOmvh9YpRJ"
      },
      "execution_count": 11,
      "outputs": []
    },
    {
      "cell_type": "code",
      "source": [
        "\n",
        "obj2 = {\n",
        "  \"a\": 2,\n",
        "  \"b\": {\"b\": 2, \"bb\": {\"b\": 3, \"bb\": {\"b\": 2}}},\n",
        "  \"c\": {\"c\": {\"c\": 2}, \"cc\": 'ball', \"ccc\": 5},\n",
        "  \"d\": 1,\n",
        "  \"e\": {\"e\": {\"e\": 2}, \"ee\": 'car'}\n",
        "}"
      ],
      "metadata": {
        "id": "nTVmb2gGYrwm"
      },
      "execution_count": 12,
      "outputs": []
    },
    {
      "cell_type": "code",
      "source": [
        "print(nestedEvenSum(obj1)) # 6\n",
        "print(nestedEvenSum(obj2)) # 10"
      ],
      "metadata": {
        "colab": {
          "base_uri": "https://localhost:8080/"
        },
        "id": "2YWuZry0Yt-I",
        "outputId": "1c998014-6622-429e-833a-0a505b3d1a18"
      },
      "execution_count": 13,
      "outputs": [
        {
          "output_type": "stream",
          "name": "stdout",
          "text": [
            "6\n",
            "10\n"
          ]
        }
      ]
    },
    {
      "cell_type": "markdown",
      "source": [
        "flatten Solution"
      ],
      "metadata": {
        "id": "cAW0vZMeY1DR"
      }
    },
    {
      "cell_type": "code",
      "source": [
        "def flatten(arr):\n",
        "  resultArr = []\n",
        "  for item in arr:\n",
        "    if type(item) is list:\n",
        "      resultArr.extend(flatten(item))\n",
        "    else:\n",
        "      resultArr.append(item)\n",
        "  return resultArr"
      ],
      "metadata": {
        "id": "Cl3uzPOCYwB7"
      },
      "execution_count": 21,
      "outputs": []
    },
    {
      "cell_type": "code",
      "source": [
        "print(flatten([1, 2, 3, [4, 5]])) # [1, 2, 3, 4, 5]\n",
        "print(flatten([1, [2, [3, 4], [[5]]]])) # [1, 2, 3, 4, 5]\n",
        "print(flatten([[1], [2], [3]])) # [1, 2, 3]\n",
        "print(flatten([[[[1], [[[2]]], [[[[[[[3]]]]]]]]]])) # [1, 2, 3]"
      ],
      "metadata": {
        "colab": {
          "base_uri": "https://localhost:8080/"
        },
        "id": "ygWSHR-YZl5N",
        "outputId": "13d8d2b4-d91b-46a4-8bb5-38883d90e9c2"
      },
      "execution_count": 23,
      "outputs": [
        {
          "output_type": "stream",
          "name": "stdout",
          "text": [
            "[1, 2, 3, 4, 5]\n",
            "[1, 2, 3, 4, 5]\n",
            "[1, 2, 3]\n",
            "[1, 2, 3]\n"
          ]
        }
      ]
    },
    {
      "cell_type": "markdown",
      "source": [
        "recursiveRange Solution"
      ],
      "metadata": {
        "id": "eo2xjLwYaQHi"
      }
    },
    {
      "cell_type": "code",
      "source": [
        "def resursiveRange(n):\n",
        "  if n <= 0:\n",
        "    return 0\n",
        "  else:\n",
        "    return n + resursiveRange(n-1)"
      ],
      "metadata": {
        "id": "i9nGPpIkZoCA"
      },
      "execution_count": 27,
      "outputs": []
    },
    {
      "cell_type": "code",
      "source": [
        "print(resursiveRange(6))"
      ],
      "metadata": {
        "colab": {
          "base_uri": "https://localhost:8080/"
        },
        "id": "JFA7VmbbafxF",
        "outputId": "a7b02e9e-4f22-4378-9d9a-8f56f09454c8"
      },
      "execution_count": 28,
      "outputs": [
        {
          "output_type": "stream",
          "name": "stdout",
          "text": [
            "21\n"
          ]
        }
      ]
    },
    {
      "cell_type": "markdown",
      "source": [
        "productOfArray Solution"
      ],
      "metadata": {
        "id": "XJp5Do5hauPw"
      }
    },
    {
      "cell_type": "code",
      "source": [
        "def productOfArray(arr):\n",
        "  if len(arr) == 0:\n",
        "    return 1\n",
        "  else:\n",
        "    return arr[0] * productOfArray(arr[1:])"
      ],
      "metadata": {
        "id": "3NhJawhVahp0"
      },
      "execution_count": 31,
      "outputs": []
    },
    {
      "cell_type": "code",
      "source": [
        "print(productOfArray([1,2,3])) #6\n",
        "print(productOfArray([1,2,3,10])) #60"
      ],
      "metadata": {
        "colab": {
          "base_uri": "https://localhost:8080/"
        },
        "id": "dpjkce7Ca9of",
        "outputId": "aa9b3a22-984d-4c98-bcf8-7f6496681b3d"
      },
      "execution_count": 32,
      "outputs": [
        {
          "output_type": "stream",
          "name": "stdout",
          "text": [
            "6\n",
            "60\n"
          ]
        }
      ]
    },
    {
      "cell_type": "markdown",
      "source": [
        "isPalindrome Solution"
      ],
      "metadata": {
        "id": "qTUtYHSFbIk4"
      }
    },
    {
      "cell_type": "code",
      "source": [
        "def isPalindrome(str):\n",
        "  if len(str) == 0:\n",
        "    return True\n",
        "  if str[0] != str[-1]:\n",
        "    return False\n",
        "  return isPalindrome(str[1:-1])"
      ],
      "metadata": {
        "id": "gcDTQiyObAFP"
      },
      "execution_count": 40,
      "outputs": []
    },
    {
      "cell_type": "code",
      "source": [
        "print(isPalindrome('awesome')) # false\n",
        "print(isPalindrome('foobar')) # false\n",
        "print(isPalindrome('tacocat')) # true\n",
        "print(isPalindrome('amanaplanacanalpanama')) # true\n",
        "print(isPalindrome('amanaplanacanalpandemonium')) # false"
      ],
      "metadata": {
        "colab": {
          "base_uri": "https://localhost:8080/"
        },
        "id": "0A-7XO2Lbh-J",
        "outputId": "72029139-f0b8-468f-8c5f-5752d7862351"
      },
      "execution_count": 41,
      "outputs": [
        {
          "output_type": "stream",
          "name": "stdout",
          "text": [
            "False\n",
            "False\n",
            "True\n",
            "True\n",
            "False\n"
          ]
        }
      ]
    },
    {
      "cell_type": "markdown",
      "source": [
        "Power Solution"
      ],
      "metadata": {
        "id": "O_QUkyHigAbp"
      }
    },
    {
      "cell_type": "code",
      "source": [
        "def power(base, exponent):\n",
        "  if exponent == 0:\n",
        "    return 1\n",
        "  return base * power(base, exponent -1)\n",
        ""
      ],
      "metadata": {
        "id": "veQ6pFSsbkvx"
      },
      "execution_count": 42,
      "outputs": []
    },
    {
      "cell_type": "code",
      "source": [
        "print(power(2,0)) # 1\n",
        "print(power(2,2)) # 4\n",
        "print(power(2,4)) # 16"
      ],
      "metadata": {
        "colab": {
          "base_uri": "https://localhost:8080/"
        },
        "id": "OlpWrFlUgaad",
        "outputId": "08f3ddb6-6bd9-48b9-d432-4211382c001f"
      },
      "execution_count": 43,
      "outputs": [
        {
          "output_type": "stream",
          "name": "stdout",
          "text": [
            "1\n",
            "4\n",
            "16\n"
          ]
        }
      ]
    },
    {
      "cell_type": "markdown",
      "source": [
        "capitalizeFirst Solution"
      ],
      "metadata": {
        "id": "pAv6hE9Bgs8d"
      }
    },
    {
      "cell_type": "code",
      "source": [
        "def capitalizeFirst(arr):\n",
        "  result = []\n",
        "  if len(arr) == 0:\n",
        "    return result\n",
        "  result.append(arr[0][0].upper() + arr[0][1:])\n",
        "  return result + capitalizeFirst(arr[1:])"
      ],
      "metadata": {
        "id": "X_cIoP8JggaH"
      },
      "execution_count": 44,
      "outputs": []
    },
    {
      "cell_type": "code",
      "source": [
        "print(capitalizeFirst(['car', 'taco', 'banana'])) # ['Car','Taco','Banana']"
      ],
      "metadata": {
        "colab": {
          "base_uri": "https://localhost:8080/"
        },
        "id": "2W0zdcYOhSHJ",
        "outputId": "d8ecf649-f758-4f8a-e82c-f72a1da60e3c"
      },
      "execution_count": 45,
      "outputs": [
        {
          "output_type": "stream",
          "name": "stdout",
          "text": [
            "['Car', 'Taco', 'Banana']\n"
          ]
        }
      ]
    },
    {
      "cell_type": "markdown",
      "source": [
        "someRecursive Solution"
      ],
      "metadata": {
        "id": "tj4ivobShkQo"
      }
    },
    {
      "cell_type": "code",
      "source": [
        "def someRecursive(arr, cb):\n",
        "    if len(arr) == 0:\n",
        "        return False\n",
        "    if not(cb(arr[0])):\n",
        "        return someRecursive(arr[1:], cb)\n",
        "    return True"
      ],
      "metadata": {
        "id": "ouxA6dz6hU3w"
      },
      "execution_count": 46,
      "outputs": []
    },
    {
      "cell_type": "code",
      "source": [
        "def isOdd(num):\n",
        "    if num%2==0:\n",
        "        return False\n",
        "    else:\n",
        "        return True"
      ],
      "metadata": {
        "id": "mF_EBi_jh5Ij"
      },
      "execution_count": 47,
      "outputs": []
    },
    {
      "cell_type": "code",
      "source": [
        "print(someRecursive([1,2,3,4], isOdd)) # true\n",
        "print(someRecursive([4,6,8,9], isOdd)) # true\n",
        "print(someRecursive([4,6,8], isOdd)) # false"
      ],
      "metadata": {
        "colab": {
          "base_uri": "https://localhost:8080/"
        },
        "id": "VBm9jexWh8q6",
        "outputId": "53c6c047-6860-42c1-e678-ffa318c0a334"
      },
      "execution_count": 48,
      "outputs": [
        {
          "output_type": "stream",
          "name": "stdout",
          "text": [
            "True\n",
            "True\n",
            "False\n"
          ]
        }
      ]
    },
    {
      "cell_type": "markdown",
      "source": [
        "Factorial Solution"
      ],
      "metadata": {
        "id": "zvnB7Z6FiGYC"
      }
    },
    {
      "cell_type": "code",
      "source": [
        "def factorial(n):\n",
        "  if n <= 0:\n",
        "    return 1\n",
        "  return n * factorial(n-1)"
      ],
      "metadata": {
        "id": "5VIZ5tbEh-_a"
      },
      "execution_count": 50,
      "outputs": []
    },
    {
      "cell_type": "code",
      "source": [
        "print(factorial(1)) # 1\n",
        "print(factorial(2)) # 2\n",
        "print(factorial(4)) # 24\n",
        "print(factorial(7)) # 5040"
      ],
      "metadata": {
        "colab": {
          "base_uri": "https://localhost:8080/"
        },
        "id": "aqeUUbadiR9_",
        "outputId": "55fb0628-1e61-467d-f147-12f8d4921431"
      },
      "execution_count": 51,
      "outputs": [
        {
          "output_type": "stream",
          "name": "stdout",
          "text": [
            "1\n",
            "2\n",
            "24\n",
            "5040\n"
          ]
        }
      ]
    },
    {
      "cell_type": "markdown",
      "source": [
        "reverse Solution"
      ],
      "metadata": {
        "id": "kyCOk3X8iZEq"
      }
    },
    {
      "cell_type": "code",
      "source": [
        "def reverse(str):\n",
        "  if len(str) <=1:\n",
        "    return str\n",
        "  return str[len(str) -1] + reverse(str[0:len(str)-1])"
      ],
      "metadata": {
        "id": "Es962auSiU2j"
      },
      "execution_count": 53,
      "outputs": []
    },
    {
      "cell_type": "code",
      "source": [
        "print(reverse('python')) # 'nohtyp'\n",
        "print(reverse('appmillers')) # 'srellimppa'"
      ],
      "metadata": {
        "colab": {
          "base_uri": "https://localhost:8080/"
        },
        "id": "S4c6sp6vinwO",
        "outputId": "112cad2a-9da7-4376-9199-274bdbb0aac2"
      },
      "execution_count": 54,
      "outputs": [
        {
          "output_type": "stream",
          "name": "stdout",
          "text": [
            "nohtyp\n",
            "srellimppa\n"
          ]
        }
      ]
    },
    {
      "cell_type": "code",
      "source": [],
      "metadata": {
        "id": "2RZaQK1_jf5U"
      },
      "execution_count": null,
      "outputs": []
    }
  ]
}