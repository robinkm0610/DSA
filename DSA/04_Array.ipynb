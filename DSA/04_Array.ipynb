{
  "nbformat": 4,
  "nbformat_minor": 0,
  "metadata": {
    "colab": {
      "provenance": [],
      "authorship_tag": "ABX9TyNkgDkMiA3+1UGviigaEBgf",
      "include_colab_link": true
    },
    "kernelspec": {
      "name": "python3",
      "display_name": "Python 3"
    },
    "language_info": {
      "name": "python"
    }
  },
  "cells": [
    {
      "cell_type": "markdown",
      "metadata": {
        "id": "view-in-github",
        "colab_type": "text"
      },
      "source": [
        "<a href=\"https://colab.research.google.com/github/robinkm0610/DSA/blob/main/DSA/04_Array.ipynb\" target=\"_parent\"><img src=\"https://colab.research.google.com/assets/colab-badge.svg\" alt=\"Open In Colab\"/></a>"
      ]
    },
    {
      "cell_type": "code",
      "execution_count": 1,
      "metadata": {
        "id": "MlmP-nWdmB1I"
      },
      "outputs": [],
      "source": [
        "from array import *"
      ]
    },
    {
      "cell_type": "markdown",
      "source": [
        "Create an array"
      ],
      "metadata": {
        "id": "Iomr1baBjER3"
      }
    },
    {
      "cell_type": "code",
      "source": [
        "arr1 = array('i', [1,2,3,4,5])\n",
        "print(arr1)"
      ],
      "metadata": {
        "colab": {
          "base_uri": "https://localhost:8080/"
        },
        "id": "kUrSCOJ_imFn",
        "outputId": "5c810f61-159d-471c-a18f-471deb871e98"
      },
      "execution_count": 14,
      "outputs": [
        {
          "output_type": "stream",
          "name": "stdout",
          "text": [
            "array('i', [1, 2, 3, 4, 5])\n"
          ]
        }
      ]
    },
    {
      "cell_type": "code",
      "source": [
        "arr2 = array('d', [1.2,2.3,3.4,4.5])\n",
        "print(arr2)"
      ],
      "metadata": {
        "colab": {
          "base_uri": "https://localhost:8080/"
        },
        "id": "Jkpeg9j3ixtR",
        "outputId": "01054f5f-60e2-474b-c137-ecc1874e7caf"
      },
      "execution_count": 15,
      "outputs": [
        {
          "output_type": "stream",
          "name": "stdout",
          "text": [
            "array('d', [1.2, 2.3, 3.4, 4.5])\n"
          ]
        }
      ]
    },
    {
      "cell_type": "markdown",
      "source": [
        "Insertion operation in array"
      ],
      "metadata": {
        "id": "U9ubBZAQjIKi"
      }
    },
    {
      "cell_type": "code",
      "source": [
        "arr1.insert(0,0)\n",
        "print(arr1)"
      ],
      "metadata": {
        "colab": {
          "base_uri": "https://localhost:8080/"
        },
        "id": "TeYuNKJUi67Q",
        "outputId": "2d30510a-8afc-4473-ade4-9ad7593f0c0a"
      },
      "execution_count": 4,
      "outputs": [
        {
          "output_type": "stream",
          "name": "stdout",
          "text": [
            "array('i', [0, 1, 2, 3, 4, 5])\n"
          ]
        }
      ]
    },
    {
      "cell_type": "code",
      "source": [
        "arr1.append(6)\n",
        "print(arr1)"
      ],
      "metadata": {
        "colab": {
          "base_uri": "https://localhost:8080/"
        },
        "id": "Kxz5m211jsyU",
        "outputId": "645a794b-44f7-45e1-a302-05c8e06e816f"
      },
      "execution_count": 5,
      "outputs": [
        {
          "output_type": "stream",
          "name": "stdout",
          "text": [
            "array('i', [0, 1, 2, 3, 4, 5, 6])\n"
          ]
        }
      ]
    },
    {
      "cell_type": "markdown",
      "source": [
        "Array traversal"
      ],
      "metadata": {
        "id": "EsWG_I7wkiOD"
      }
    },
    {
      "cell_type": "code",
      "source": [
        "def traverseArray(array):\n",
        "  for i in array:\n",
        "    print(i)\n",
        "traverseArray(arr1)"
      ],
      "metadata": {
        "colab": {
          "base_uri": "https://localhost:8080/"
        },
        "id": "msYsOj7VjvbD",
        "outputId": "4db44534-9529-408e-ed9e-a951ea2b9379"
      },
      "execution_count": 6,
      "outputs": [
        {
          "output_type": "stream",
          "name": "stdout",
          "text": [
            "0\n",
            "1\n",
            "2\n",
            "3\n",
            "4\n",
            "5\n",
            "6\n"
          ]
        }
      ]
    },
    {
      "cell_type": "markdown",
      "source": [
        "Accessing an element in array"
      ],
      "metadata": {
        "id": "Prfm04VFlPCF"
      }
    },
    {
      "cell_type": "code",
      "source": [
        "def accessElement(array, index):\n",
        "  if index >= len(array):\n",
        "    print(\"There is not any element in this index\")\n",
        "  else:\n",
        "    print(array[index])\n",
        "accessElement(arr1, 2)"
      ],
      "metadata": {
        "colab": {
          "base_uri": "https://localhost:8080/"
        },
        "id": "D8Bnnh8Ck6aR",
        "outputId": "8231c88a-e904-4822-fb03-ac8edf79711a"
      },
      "execution_count": 7,
      "outputs": [
        {
          "output_type": "stream",
          "name": "stdout",
          "text": [
            "2\n"
          ]
        }
      ]
    },
    {
      "cell_type": "markdown",
      "source": [
        "Finding an element"
      ],
      "metadata": {
        "id": "406S0bJfmyLx"
      }
    },
    {
      "cell_type": "code",
      "source": [
        "def searchInArray(array,value):\n",
        "  for i in array:\n",
        "    if i == value:\n",
        "      return array.index(value)\n",
        "  return \"The element does not exist in this array\"\n",
        "searchInArray(arr1, 3)"
      ],
      "metadata": {
        "colab": {
          "base_uri": "https://localhost:8080/"
        },
        "id": "ItVM3Nd-l46G",
        "outputId": "394acd45-2722-490c-983d-e443a9f3b676"
      },
      "execution_count": 8,
      "outputs": [
        {
          "output_type": "execute_result",
          "data": {
            "text/plain": [
              "3"
            ]
          },
          "metadata": {},
          "execution_count": 8
        }
      ]
    },
    {
      "cell_type": "code",
      "source": [
        "searchInArray(arr1, 10)"
      ],
      "metadata": {
        "colab": {
          "base_uri": "https://localhost:8080/",
          "height": 36
        },
        "id": "0yrVAC6DnZ9Y",
        "outputId": "98a35b58-58f7-4187-a63e-6c6ba1f7b33a"
      },
      "execution_count": 9,
      "outputs": [
        {
          "output_type": "execute_result",
          "data": {
            "text/plain": [
              "'The element does not exist in this array'"
            ],
            "application/vnd.google.colaboratory.intrinsic+json": {
              "type": "string"
            }
          },
          "metadata": {},
          "execution_count": 9
        }
      ]
    },
    {
      "cell_type": "markdown",
      "source": [
        "Deleting an element from array"
      ],
      "metadata": {
        "id": "Ju2pJJRcoBzb"
      }
    },
    {
      "cell_type": "code",
      "source": [
        "print(arr1)\n",
        "arr1.remove(2) #passing the actual element value\n",
        "print(arr1)"
      ],
      "metadata": {
        "colab": {
          "base_uri": "https://localhost:8080/"
        },
        "id": "9p0rsAVLnpJW",
        "outputId": "40ecdb7b-c176-42f2-eecb-044996b65ff6"
      },
      "execution_count": 16,
      "outputs": [
        {
          "output_type": "stream",
          "name": "stdout",
          "text": [
            "array('i', [1, 2, 3, 4, 5])\n",
            "array('i', [1, 3, 4, 5])\n"
          ]
        }
      ]
    },
    {
      "cell_type": "code",
      "source": [
        "print(arr1)\n",
        "arr1.remove(2)\n",
        "print(arr1)"
      ],
      "metadata": {
        "colab": {
          "base_uri": "https://localhost:8080/",
          "height": 200
        },
        "id": "YkAHIPu2odM5",
        "outputId": "fc7806cc-395f-4bd8-aaea-376f25871e52"
      },
      "execution_count": 17,
      "outputs": [
        {
          "output_type": "stream",
          "name": "stdout",
          "text": [
            "array('i', [1, 3, 4, 5])\n"
          ]
        },
        {
          "output_type": "error",
          "ename": "ValueError",
          "evalue": "array.remove(x): x not in array",
          "traceback": [
            "\u001b[0;31m---------------------------------------------------------------------------\u001b[0m",
            "\u001b[0;31mValueError\u001b[0m                                Traceback (most recent call last)",
            "\u001b[0;32m<ipython-input-17-6e620f2986c6>\u001b[0m in \u001b[0;36m<cell line: 2>\u001b[0;34m()\u001b[0m\n\u001b[1;32m      1\u001b[0m \u001b[0mprint\u001b[0m\u001b[0;34m(\u001b[0m\u001b[0marr1\u001b[0m\u001b[0;34m)\u001b[0m\u001b[0;34m\u001b[0m\u001b[0;34m\u001b[0m\u001b[0m\n\u001b[0;32m----> 2\u001b[0;31m \u001b[0marr1\u001b[0m\u001b[0;34m.\u001b[0m\u001b[0mremove\u001b[0m\u001b[0;34m(\u001b[0m\u001b[0;36m2\u001b[0m\u001b[0;34m)\u001b[0m\u001b[0;34m\u001b[0m\u001b[0;34m\u001b[0m\u001b[0m\n\u001b[0m\u001b[1;32m      3\u001b[0m \u001b[0mprint\u001b[0m\u001b[0;34m(\u001b[0m\u001b[0marr1\u001b[0m\u001b[0;34m)\u001b[0m\u001b[0;34m\u001b[0m\u001b[0;34m\u001b[0m\u001b[0m\n",
            "\u001b[0;31mValueError\u001b[0m: array.remove(x): x not in array"
          ]
        }
      ]
    },
    {
      "cell_type": "markdown",
      "source": [
        "TIme and Space Complexity in One Dimensional Arrays"
      ],
      "metadata": {
        "id": "pbLFzr2mqJ5D"
      }
    },
    {
      "cell_type": "markdown",
      "source": [
        "| Operation | Time Complexity | Space Complexity |\n",
        "| --- | --- | --- |\n",
        "| Creating an empty array | O(1) | O(n) |\n",
        "| Inserting a value in an array | O(1)/O(n) | O(1) |\n",
        "| Traversing a given array | O(n) | O(1) |\n",
        "| Accessing a given cell | O(1) | O(1) |\n",
        "| Searching a given value | O(n) | O(1) |\n",
        "| Deleting a given value | O(1)/O(n) | O(1) |"
      ],
      "metadata": {
        "id": "5z6mc9kGpA9U"
      }
    },
    {
      "cell_type": "code",
      "source": [
        "# 1. Create an array and traverse.\n",
        "\n",
        "from array import *\n",
        "\n",
        "my_array = array('i', [1,2,3,4,5])\n",
        "\n",
        "for i in my_array:\n",
        "  print(i)"
      ],
      "metadata": {
        "colab": {
          "base_uri": "https://localhost:8080/"
        },
        "id": "97B7GVadoiPV",
        "outputId": "079256d8-0e96-4953-a4f8-957bc572db5c"
      },
      "execution_count": 27,
      "outputs": [
        {
          "output_type": "stream",
          "name": "stdout",
          "text": [
            "1\n",
            "2\n",
            "3\n",
            "4\n",
            "5\n"
          ]
        }
      ]
    },
    {
      "cell_type": "code",
      "source": [
        "# 2. Access individual elements through indexes\n",
        "\n",
        "print(my_array[2])"
      ],
      "metadata": {
        "colab": {
          "base_uri": "https://localhost:8080/"
        },
        "id": "w_flNYCIri9L",
        "outputId": "29c13585-a2e7-4032-e62d-f4a6eea7f901"
      },
      "execution_count": 28,
      "outputs": [
        {
          "output_type": "stream",
          "name": "stdout",
          "text": [
            "3\n"
          ]
        }
      ]
    },
    {
      "cell_type": "code",
      "source": [
        "# 3. Append any value to the array using append() method\n",
        "\n",
        "my_array.append(6)\n",
        "print(my_array)"
      ],
      "metadata": {
        "colab": {
          "base_uri": "https://localhost:8080/"
        },
        "id": "Nqvrb0hVrx5t",
        "outputId": "a033ee12-d610-4b02-e359-02a843373bd2"
      },
      "execution_count": 29,
      "outputs": [
        {
          "output_type": "stream",
          "name": "stdout",
          "text": [
            "array('i', [1, 2, 3, 4, 5, 6])\n"
          ]
        }
      ]
    },
    {
      "cell_type": "code",
      "source": [
        "# 4. Insert value in any array using insert() method\n",
        "\n",
        "my_array.insert(0,11)\n",
        "print(my_array)"
      ],
      "metadata": {
        "colab": {
          "base_uri": "https://localhost:8080/"
        },
        "id": "yCa8pWXCsCBU",
        "outputId": "f0137b49-06ba-4470-ec44-fac82a82f7fe"
      },
      "execution_count": 30,
      "outputs": [
        {
          "output_type": "stream",
          "name": "stdout",
          "text": [
            "array('i', [11, 1, 2, 3, 4, 5, 6])\n"
          ]
        }
      ]
    },
    {
      "cell_type": "code",
      "source": [
        "# 5. Extend python array  using extend() method\n",
        "\n",
        "my_array1 = array('i', [10,11,12])\n",
        "my_array.extend(my_array1)\n",
        "print(my_array)"
      ],
      "metadata": {
        "colab": {
          "base_uri": "https://localhost:8080/"
        },
        "id": "BDFFMHPssbcO",
        "outputId": "7950b71c-9cb0-4a1d-b375-2496c9ff963a"
      },
      "execution_count": 31,
      "outputs": [
        {
          "output_type": "stream",
          "name": "stdout",
          "text": [
            "array('i', [11, 1, 2, 3, 4, 5, 6, 10, 11, 12])\n"
          ]
        }
      ]
    },
    {
      "cell_type": "code",
      "source": [
        "# 6. Add items from list into array using fromlist() method\n",
        "\n",
        "temp_list = [20,21,22]\n",
        "my_array.fromlist(temp_list)\n",
        "print(my_array)"
      ],
      "metadata": {
        "colab": {
          "base_uri": "https://localhost:8080/"
        },
        "id": "RrC_ybuRswl_",
        "outputId": "86e79bcd-3832-42d5-e54b-ae21c9abc31d"
      },
      "execution_count": 32,
      "outputs": [
        {
          "output_type": "stream",
          "name": "stdout",
          "text": [
            "array('i', [11, 1, 2, 3, 4, 5, 6, 10, 11, 12, 20, 21, 22])\n"
          ]
        }
      ]
    },
    {
      "cell_type": "code",
      "source": [
        "# 7. Remove any array element using remove() method\n",
        "\n",
        "my_array.remove(11) #first occurance of 11 is removed\n",
        "print(my_array)"
      ],
      "metadata": {
        "colab": {
          "base_uri": "https://localhost:8080/"
        },
        "id": "BTnwbv2ytDy4",
        "outputId": "9654f69d-ac15-4823-90a0-a3b05f48d83b"
      },
      "execution_count": 33,
      "outputs": [
        {
          "output_type": "stream",
          "name": "stdout",
          "text": [
            "array('i', [1, 2, 3, 4, 5, 6, 10, 11, 12, 20, 21, 22])\n"
          ]
        }
      ]
    },
    {
      "cell_type": "code",
      "source": [
        "# 8 . Remove last array element using pop() method\n",
        "\n",
        "my_array.pop()\n",
        "print(my_array)"
      ],
      "metadata": {
        "colab": {
          "base_uri": "https://localhost:8080/"
        },
        "id": "2SMwIxoHtTiz",
        "outputId": "45e2747f-eada-4b8a-c357-3a515e35f18b"
      },
      "execution_count": 34,
      "outputs": [
        {
          "output_type": "stream",
          "name": "stdout",
          "text": [
            "array('i', [1, 2, 3, 4, 5, 6, 10, 11, 12, 20, 21])\n"
          ]
        }
      ]
    },
    {
      "cell_type": "code",
      "source": [
        "# 9. Fetch any element through it's index using index() method\n",
        "\n",
        "print(my_array.index(12))"
      ],
      "metadata": {
        "colab": {
          "base_uri": "https://localhost:8080/"
        },
        "id": "-0Des6ITtn8G",
        "outputId": "b374c7be-70a1-4958-b96b-e35160837dbd"
      },
      "execution_count": 35,
      "outputs": [
        {
          "output_type": "stream",
          "name": "stdout",
          "text": [
            "8\n"
          ]
        }
      ]
    },
    {
      "cell_type": "code",
      "source": [
        "# 10. Reverse a python array using reverse() method\n",
        "\n",
        "my_array.reverse()\n",
        "print(my_array)"
      ],
      "metadata": {
        "colab": {
          "base_uri": "https://localhost:8080/"
        },
        "id": "djTVK2ext2mT",
        "outputId": "d289698f-c400-45a9-cda7-f03ed03a57b0"
      },
      "execution_count": 36,
      "outputs": [
        {
          "output_type": "stream",
          "name": "stdout",
          "text": [
            "array('i', [21, 20, 12, 11, 10, 6, 5, 4, 3, 2, 1])\n"
          ]
        }
      ]
    },
    {
      "cell_type": "code",
      "source": [
        "# 11. Get array buffer information through buffer_info() method\n",
        "\n",
        "print(my_array.buffer_info())"
      ],
      "metadata": {
        "colab": {
          "base_uri": "https://localhost:8080/"
        },
        "id": "ykDd8HOeuDr7",
        "outputId": "2a3cb14c-e63e-4e88-9554-27a9796dbea8"
      },
      "execution_count": 37,
      "outputs": [
        {
          "output_type": "stream",
          "name": "stdout",
          "text": [
            "(140049496301168, 11)\n"
          ]
        }
      ]
    },
    {
      "cell_type": "code",
      "source": [
        "# 12. Check for number of occurences of an element using count() method\n",
        "my_array.append(12)\n",
        "print(my_array.count(12))"
      ],
      "metadata": {
        "colab": {
          "base_uri": "https://localhost:8080/"
        },
        "id": "WJBWzFGduO8n",
        "outputId": "39fbef9b-22ca-4d6f-fe00-67c2b5b2d2e9"
      },
      "execution_count": 38,
      "outputs": [
        {
          "output_type": "stream",
          "name": "stdout",
          "text": [
            "2\n"
          ]
        }
      ]
    },
    {
      "cell_type": "code",
      "source": [
        "# 13. Convert array to string using tostring() method\n",
        "\n",
        "strTemp = my_array.tobytes()\n",
        "print(strTemp)"
      ],
      "metadata": {
        "colab": {
          "base_uri": "https://localhost:8080/"
        },
        "id": "ck-hPOWYueOF",
        "outputId": "5cfe366a-43ec-4783-d234-4b9a6e02a88a"
      },
      "execution_count": 41,
      "outputs": [
        {
          "output_type": "stream",
          "name": "stdout",
          "text": [
            "b'\\x15\\x00\\x00\\x00\\x14\\x00\\x00\\x00\\x0c\\x00\\x00\\x00\\x0b\\x00\\x00\\x00\\n\\x00\\x00\\x00\\x06\\x00\\x00\\x00\\x05\\x00\\x00\\x00\\x04\\x00\\x00\\x00\\x03\\x00\\x00\\x00\\x02\\x00\\x00\\x00\\x01\\x00\\x00\\x00\\x0c\\x00\\x00\\x00'\n"
          ]
        }
      ]
    },
    {
      "cell_type": "code",
      "source": [
        "ints  = array('i')\n",
        "ints.frombytes(strTemp)\n",
        "print(ints)"
      ],
      "metadata": {
        "colab": {
          "base_uri": "https://localhost:8080/"
        },
        "id": "WqdRphWuurE4",
        "outputId": "71ed5aba-98f9-486f-c82d-a3c03a79e5a3"
      },
      "execution_count": 42,
      "outputs": [
        {
          "output_type": "stream",
          "name": "stdout",
          "text": [
            "array('i', [21, 20, 12, 11, 10, 6, 5, 4, 3, 2, 1, 12])\n"
          ]
        }
      ]
    },
    {
      "cell_type": "code",
      "source": [
        "# 14. Convert array to a python list with same elements using tolist() method\n",
        "\n",
        "print(my_array.tolist())"
      ],
      "metadata": {
        "colab": {
          "base_uri": "https://localhost:8080/"
        },
        "id": "gK4_s5xGvXeO",
        "outputId": "09a82c18-fdd6-4271-c915-a90265261b4b"
      },
      "execution_count": 43,
      "outputs": [
        {
          "output_type": "stream",
          "name": "stdout",
          "text": [
            "[21, 20, 12, 11, 10, 6, 5, 4, 3, 2, 1, 12]\n"
          ]
        }
      ]
    },
    {
      "cell_type": "code",
      "source": [
        "# 15. Append a string to char array using fromstring() method\n",
        "\n",
        "my_array4 = array('u', ['a','b','c'])\n",
        "my_string = 'def'\n",
        "my_array4.fromunicode(my_string)\n",
        "print(my_array4)"
      ],
      "metadata": {
        "colab": {
          "base_uri": "https://localhost:8080/"
        },
        "id": "dKSBywFovpnC",
        "outputId": "b74ab7d1-afe7-47d7-f470-b7860e732927"
      },
      "execution_count": 46,
      "outputs": [
        {
          "output_type": "stream",
          "name": "stdout",
          "text": [
            "array('u', 'abcdef')\n"
          ]
        }
      ]
    },
    {
      "cell_type": "code",
      "source": [
        "# 16. Slice Element from an array\n",
        "\n",
        "print(my_array)\n",
        "print(my_array[1:4])"
      ],
      "metadata": {
        "colab": {
          "base_uri": "https://localhost:8080/"
        },
        "id": "0c5u--pAv4wM",
        "outputId": "6f13281a-472f-4b22-8d14-11079df6eb2a"
      },
      "execution_count": 47,
      "outputs": [
        {
          "output_type": "stream",
          "name": "stdout",
          "text": [
            "array('i', [21, 20, 12, 11, 10, 6, 5, 4, 3, 2, 1, 12])\n",
            "array('i', [20, 12, 11])\n"
          ]
        }
      ]
    },
    {
      "cell_type": "code",
      "source": [
        "my_array[:4]"
      ],
      "metadata": {
        "colab": {
          "base_uri": "https://localhost:8080/"
        },
        "id": "fpvdvc3xwXrK",
        "outputId": "e193e47c-c3b1-4a25-b9ce-f679a664f577"
      },
      "execution_count": 48,
      "outputs": [
        {
          "output_type": "execute_result",
          "data": {
            "text/plain": [
              "array('i', [21, 20, 12, 11])"
            ]
          },
          "metadata": {},
          "execution_count": 48
        }
      ]
    },
    {
      "cell_type": "code",
      "source": [
        "my_array[2:]"
      ],
      "metadata": {
        "colab": {
          "base_uri": "https://localhost:8080/"
        },
        "id": "PlS_66RlwdG2",
        "outputId": "ea1d3b09-92e2-4def-d1c0-b7a4f9f0848c"
      },
      "execution_count": 49,
      "outputs": [
        {
          "output_type": "execute_result",
          "data": {
            "text/plain": [
              "array('i', [12, 11, 10, 6, 5, 4, 3, 2, 1, 12])"
            ]
          },
          "metadata": {},
          "execution_count": 49
        }
      ]
    },
    {
      "cell_type": "code",
      "source": [
        "my_array[:-1]"
      ],
      "metadata": {
        "colab": {
          "base_uri": "https://localhost:8080/"
        },
        "id": "Rt7D-4UEwh0d",
        "outputId": "dc8782ec-2d9c-4889-a5a7-73d5485cf344"
      },
      "execution_count": 53,
      "outputs": [
        {
          "output_type": "execute_result",
          "data": {
            "text/plain": [
              "array('i', [21, 20, 12, 11, 10, 6, 5, 4, 3, 2, 1])"
            ]
          },
          "metadata": {},
          "execution_count": 53
        }
      ]
    },
    {
      "cell_type": "code",
      "source": [
        "my_array[:]"
      ],
      "metadata": {
        "colab": {
          "base_uri": "https://localhost:8080/"
        },
        "id": "tonB6VJMwjyS",
        "outputId": "8875ecae-1d94-4c77-9de9-1fc1cc2f0d87"
      },
      "execution_count": 51,
      "outputs": [
        {
          "output_type": "execute_result",
          "data": {
            "text/plain": [
              "array('i', [21, 20, 12, 11, 10, 6, 5, 4, 3, 2, 1, 12])"
            ]
          },
          "metadata": {},
          "execution_count": 51
        }
      ]
    },
    {
      "cell_type": "markdown",
      "source": [
        "# Two Dimensional Array"
      ],
      "metadata": {
        "id": "ViS_EqT9xAz0"
      }
    },
    {
      "cell_type": "code",
      "source": [
        "import numpy as np\n",
        "\n",
        "twoDArray = np.array([[11,15,10,6],[10,14,11,5],[12,17,12,8],[15,18,14,9]])\n",
        "print(twoDArray)"
      ],
      "metadata": {
        "colab": {
          "base_uri": "https://localhost:8080/"
        },
        "id": "bRq-IveWwrep",
        "outputId": "cabe8bf1-da95-423e-d3b0-99e46ed495b8"
      },
      "execution_count": 54,
      "outputs": [
        {
          "output_type": "stream",
          "name": "stdout",
          "text": [
            "[[11 15 10  6]\n",
            " [10 14 11  5]\n",
            " [12 17 12  8]\n",
            " [15 18 14  9]]\n"
          ]
        }
      ]
    },
    {
      "cell_type": "markdown",
      "source": [
        "Insertion - 2D array"
      ],
      "metadata": {
        "id": "HnRuZce8zjbU"
      }
    },
    {
      "cell_type": "code",
      "source": [
        "# Adding Column\n",
        "newTwoDArray = np.insert(twoDArray, 0, [[1,2,3,4]], axis=1)\n",
        "print(newTwoDArray)"
      ],
      "metadata": {
        "colab": {
          "base_uri": "https://localhost:8080/"
        },
        "id": "1xkSknMgzJIu",
        "outputId": "73a02a13-c48f-4b62-8029-0558b469c6fb"
      },
      "execution_count": 55,
      "outputs": [
        {
          "output_type": "stream",
          "name": "stdout",
          "text": [
            "[[ 1 11 15 10  6]\n",
            " [ 2 10 14 11  5]\n",
            " [ 3 12 17 12  8]\n",
            " [ 4 15 18 14  9]]\n"
          ]
        }
      ]
    },
    {
      "cell_type": "code",
      "source": [
        "newTwoDArray1 = np.insert(twoDArray, 0,[[1,2,3,4]], axis =0)\n",
        "print(newTwoDArray1)"
      ],
      "metadata": {
        "colab": {
          "base_uri": "https://localhost:8080/"
        },
        "id": "m75apX3b0gcF",
        "outputId": "de434c60-b476-4e1b-af9f-743ac6b45ffd"
      },
      "execution_count": 56,
      "outputs": [
        {
          "output_type": "stream",
          "name": "stdout",
          "text": [
            "[[ 1  2  3  4]\n",
            " [11 15 10  6]\n",
            " [10 14 11  5]\n",
            " [12 17 12  8]\n",
            " [15 18 14  9]]\n"
          ]
        }
      ]
    },
    {
      "cell_type": "code",
      "source": [
        "newTwoDArray2 = np.append(twoDArray, [[1,2,3,4]], axis=0)\n",
        "print(newTwoDArray2)"
      ],
      "metadata": {
        "colab": {
          "base_uri": "https://localhost:8080/"
        },
        "id": "7nKKdlVz08X4",
        "outputId": "d50aba47-0f94-4c43-cbd9-ad9ce98c9f36"
      },
      "execution_count": 57,
      "outputs": [
        {
          "output_type": "stream",
          "name": "stdout",
          "text": [
            "[[11 15 10  6]\n",
            " [10 14 11  5]\n",
            " [12 17 12  8]\n",
            " [15 18 14  9]\n",
            " [ 1  2  3  4]]\n"
          ]
        }
      ]
    },
    {
      "cell_type": "markdown",
      "source": [
        "Access an Element of Two Dimensional Array"
      ],
      "metadata": {
        "id": "TWfoyedT1jsq"
      }
    },
    {
      "cell_type": "code",
      "source": [
        "twoDArray = np.array([[11,15,10,6],[10,14,11,5],[12,17,12,8],[15,18,14,9]])\n",
        "print(twoDArray)"
      ],
      "metadata": {
        "colab": {
          "base_uri": "https://localhost:8080/"
        },
        "id": "qMM6XNt_1DDR",
        "outputId": "2bd62b15-d6b9-40ac-bb0d-8b5ebc22f1ab"
      },
      "execution_count": 58,
      "outputs": [
        {
          "output_type": "stream",
          "name": "stdout",
          "text": [
            "[[11 15 10  6]\n",
            " [10 14 11  5]\n",
            " [12 17 12  8]\n",
            " [15 18 14  9]]\n"
          ]
        }
      ]
    },
    {
      "cell_type": "code",
      "source": [
        "def accessElement(array, rowIndex, colIndex):\n",
        "  if rowIndex >= len(array) and colIndex >= len(array[0]):\n",
        "    print(\"Incorrect Index\")\n",
        "  else:\n",
        "    print(array[rowIndex][colIndex])\n",
        "\n",
        "accessElement(twoDArray, 1, 2)"
      ],
      "metadata": {
        "colab": {
          "base_uri": "https://localhost:8080/"
        },
        "id": "cO3nviGE2Lvi",
        "outputId": "51e7d48a-f711-42f0-e8a3-0506d8f27a5b"
      },
      "execution_count": 59,
      "outputs": [
        {
          "output_type": "stream",
          "name": "stdout",
          "text": [
            "11\n"
          ]
        }
      ]
    },
    {
      "cell_type": "code",
      "source": [
        "accessElement(twoDArray, 2, 3)"
      ],
      "metadata": {
        "colab": {
          "base_uri": "https://localhost:8080/"
        },
        "id": "FJoAaABw2lBl",
        "outputId": "2b6beb0b-1497-43ad-bb5b-753ada026762"
      },
      "execution_count": 60,
      "outputs": [
        {
          "output_type": "stream",
          "name": "stdout",
          "text": [
            "8\n"
          ]
        }
      ]
    },
    {
      "cell_type": "markdown",
      "source": [
        "TRaversing 2D Array"
      ],
      "metadata": {
        "id": "orjg_ave3B5t"
      }
    },
    {
      "cell_type": "code",
      "source": [
        "def traverseTDArray(array):\n",
        "  for i in range(len(array)):\n",
        "    for j in range(len(array[0])):\n",
        "      print(array[i][j])\n",
        "traverseTDArray(twoDArray)"
      ],
      "metadata": {
        "colab": {
          "base_uri": "https://localhost:8080/"
        },
        "id": "liTA5rCV2rpS",
        "outputId": "8d33d2ff-9f97-4861-801f-1f269861b28f"
      },
      "execution_count": 61,
      "outputs": [
        {
          "output_type": "stream",
          "name": "stdout",
          "text": [
            "11\n",
            "15\n",
            "10\n",
            "6\n",
            "10\n",
            "14\n",
            "11\n",
            "5\n",
            "12\n",
            "17\n",
            "12\n",
            "8\n",
            "15\n",
            "18\n",
            "14\n",
            "9\n"
          ]
        }
      ]
    },
    {
      "cell_type": "markdown",
      "source": [
        "Search 2D Array"
      ],
      "metadata": {
        "id": "wUOoqmbb4OAJ"
      }
    },
    {
      "cell_type": "code",
      "source": [
        "def searchTDArray(array, value):\n",
        "  for i in range(len(array)):\n",
        "    for j in range(len(array[0])):\n",
        "      if array[i][j] == value:\n",
        "        return 'The value is located at index '+str(i) + ' ' + str(j)\n",
        "  return 'The element is not found'\n",
        "\n",
        "searchTDArray(twoDArray, 14)"
      ],
      "metadata": {
        "colab": {
          "base_uri": "https://localhost:8080/",
          "height": 36
        },
        "id": "gqxxcqlK3PKW",
        "outputId": "5bc73ab9-650c-4b89-d25a-5158f2e775cd"
      },
      "execution_count": 62,
      "outputs": [
        {
          "output_type": "execute_result",
          "data": {
            "text/plain": [
              "'The value is located at index 1 1'"
            ],
            "application/vnd.google.colaboratory.intrinsic+json": {
              "type": "string"
            }
          },
          "metadata": {},
          "execution_count": 62
        }
      ]
    },
    {
      "cell_type": "markdown",
      "source": [
        "Deletion - 2D Array"
      ],
      "metadata": {
        "id": "JCjADJQP5kgC"
      }
    },
    {
      "cell_type": "code",
      "source": [
        "twoDArray = np.array([[11,15,10,6],[10,14,11,5],[12,17,12,8],[15,18,14,9]])\n",
        "print(twoDArray)\n",
        "\n",
        "newTDArray  = np.delete(twoDArray, 0, axis=0)\n",
        "print(newTDArray)"
      ],
      "metadata": {
        "colab": {
          "base_uri": "https://localhost:8080/"
        },
        "id": "4cYmXWPU49bO",
        "outputId": "f987e43d-451d-4a4e-8050-f84650233033"
      },
      "execution_count": 63,
      "outputs": [
        {
          "output_type": "stream",
          "name": "stdout",
          "text": [
            "[[11 15 10  6]\n",
            " [10 14 11  5]\n",
            " [12 17 12  8]\n",
            " [15 18 14  9]]\n",
            "[[10 14 11  5]\n",
            " [12 17 12  8]\n",
            " [15 18 14  9]]\n"
          ]
        }
      ]
    },
    {
      "cell_type": "code",
      "source": [
        "twoDArray = np.array([[11,15,10,6],[10,14,11,5],[12,17,12,8],[15,18,14,9]])\n",
        "print(twoDArray)\n",
        "\n",
        "newTDArray  = np.delete(twoDArray, 0, axis=1)\n",
        "print(newTDArray)"
      ],
      "metadata": {
        "colab": {
          "base_uri": "https://localhost:8080/"
        },
        "id": "9kI8VXni6TkY",
        "outputId": "f5373bac-7495-4e25-e4e4-f9c8087bf235"
      },
      "execution_count": 64,
      "outputs": [
        {
          "output_type": "stream",
          "name": "stdout",
          "text": [
            "[[11 15 10  6]\n",
            " [10 14 11  5]\n",
            " [12 17 12  8]\n",
            " [15 18 14  9]]\n",
            "[[15 10  6]\n",
            " [14 11  5]\n",
            " [17 12  8]\n",
            " [18 14  9]]\n"
          ]
        }
      ]
    },
    {
      "cell_type": "markdown",
      "source": [
        "Time & Space Complexity in 2D Array"
      ],
      "metadata": {
        "id": "adEiAH9l6v9J"
      }
    },
    {
      "cell_type": "markdown",
      "source": [
        "| Operation | Time Complexity | Space Complexity |\n",
        "| --- | --- | --- |\n",
        "| Creating an empty array | O(1) | O(mn) |\n",
        "| Inserting a value in an array | O(1)/O(mn) | O(1) |\n",
        "| Traversing a given array | O(mn) | O(1) |\n",
        "| Accessing a given cell | O(1) | O(1) |\n",
        "| Searching a given value | O(mn) | O(1) |\n",
        "| Deleting a given value | O(1)/O(mn) | O(1) |"
      ],
      "metadata": {
        "id": "PUAxO2Bh6vNu"
      }
    },
    {
      "cell_type": "markdown",
      "source": [
        "When to use Array ?\n",
        "\n",
        "- To store multiple variables of same data type\n",
        "\n",
        "- Random access\n",
        "\n",
        "When to avoid Array?\n",
        "\n",
        "- same data type elements\n",
        "\n",
        "- Reserve memory"
      ],
      "metadata": {
        "id": "nLozwPRx7q19"
      }
    },
    {
      "cell_type": "code",
      "source": [],
      "metadata": {
        "id": "Izee7-9v6azb"
      },
      "execution_count": null,
      "outputs": []
    }
  ]
}