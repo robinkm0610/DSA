{
  "nbformat": 4,
  "nbformat_minor": 0,
  "metadata": {
    "colab": {
      "provenance": [],
      "authorship_tag": "ABX9TyNwrJDG558j5ZscSWrFAr0V",
      "include_colab_link": true
    },
    "kernelspec": {
      "name": "python3",
      "display_name": "Python 3"
    },
    "language_info": {
      "name": "python"
    }
  },
  "cells": [
    {
      "cell_type": "markdown",
      "metadata": {
        "id": "view-in-github",
        "colab_type": "text"
      },
      "source": [
        "<a href=\"https://colab.research.google.com/github/robinkm0610/DSA/blob/main/DSA/05_List.ipynb\" target=\"_parent\"><img src=\"https://colab.research.google.com/assets/colab-badge.svg\" alt=\"Open In Colab\"/></a>"
      ]
    },
    {
      "cell_type": "code",
      "execution_count": null,
      "metadata": {
        "id": "mu7qx-q6ZMg2"
      },
      "outputs": [],
      "source": [
        "int = [1,2,3,4]"
      ]
    },
    {
      "cell_type": "code",
      "source": [
        "mixtype = [1,2,\"a\", [1,2,3]]\n",
        "mixtype"
      ],
      "metadata": {
        "colab": {
          "base_uri": "https://localhost:8080/"
        },
        "id": "sBZ5eX12aCYX",
        "outputId": "1edca8c9-1038-4429-d771-089557c15cf4"
      },
      "execution_count": null,
      "outputs": [
        {
          "output_type": "execute_result",
          "data": {
            "text/plain": [
              "[1, 2, 'a', [1, 2, 3]]"
            ]
          },
          "metadata": {},
          "execution_count": 3
        }
      ]
    },
    {
      "cell_type": "markdown",
      "source": [
        "Accessing/Traversing the list"
      ],
      "metadata": {
        "id": "bmkSuJygaMDg"
      }
    },
    {
      "cell_type": "code",
      "source": [
        "shoppingList = ['Milk', 'Cheese', 'Butter']\n",
        "shoppingList"
      ],
      "metadata": {
        "colab": {
          "base_uri": "https://localhost:8080/"
        },
        "id": "RKh-VCzKaJD-",
        "outputId": "6d098b6f-1713-4871-d159-9f99e93b72d8"
      },
      "execution_count": null,
      "outputs": [
        {
          "output_type": "execute_result",
          "data": {
            "text/plain": [
              "['Milk', 'Cheese', 'Butter']"
            ]
          },
          "metadata": {},
          "execution_count": 4
        }
      ]
    },
    {
      "cell_type": "code",
      "source": [
        "shoppingList[0]"
      ],
      "metadata": {
        "colab": {
          "base_uri": "https://localhost:8080/",
          "height": 36
        },
        "id": "b1Cw12FraVB7",
        "outputId": "a7d353f6-a743-47c6-aed0-840e486e0019"
      },
      "execution_count": null,
      "outputs": [
        {
          "output_type": "execute_result",
          "data": {
            "text/plain": [
              "'Milk'"
            ],
            "application/vnd.google.colaboratory.intrinsic+json": {
              "type": "string"
            }
          },
          "metadata": {},
          "execution_count": 5
        }
      ]
    },
    {
      "cell_type": "code",
      "source": [
        "shoppingList[2]"
      ],
      "metadata": {
        "colab": {
          "base_uri": "https://localhost:8080/",
          "height": 36
        },
        "id": "l0twWkKxaWp-",
        "outputId": "84c94b41-7ec0-427f-8359-e41be81d4a1a"
      },
      "execution_count": null,
      "outputs": [
        {
          "output_type": "execute_result",
          "data": {
            "text/plain": [
              "'Butter'"
            ],
            "application/vnd.google.colaboratory.intrinsic+json": {
              "type": "string"
            }
          },
          "metadata": {},
          "execution_count": 6
        }
      ]
    },
    {
      "cell_type": "code",
      "source": [
        "shoppingList[3]"
      ],
      "metadata": {
        "colab": {
          "base_uri": "https://localhost:8080/",
          "height": 146
        },
        "id": "lHNPstaSaYBZ",
        "outputId": "630e5c39-330b-4c65-d997-b4740497d969"
      },
      "execution_count": null,
      "outputs": [
        {
          "output_type": "error",
          "ename": "IndexError",
          "evalue": "list index out of range",
          "traceback": [
            "\u001b[0;31m---------------------------------------------------------------------------\u001b[0m",
            "\u001b[0;31mIndexError\u001b[0m                                Traceback (most recent call last)",
            "\u001b[0;32m<ipython-input-7-74cc758478d0>\u001b[0m in \u001b[0;36m<cell line: 1>\u001b[0;34m()\u001b[0m\n\u001b[0;32m----> 1\u001b[0;31m \u001b[0mshoppingList\u001b[0m\u001b[0;34m[\u001b[0m\u001b[0;36m3\u001b[0m\u001b[0;34m]\u001b[0m\u001b[0;34m\u001b[0m\u001b[0;34m\u001b[0m\u001b[0m\n\u001b[0m",
            "\u001b[0;31mIndexError\u001b[0m: list index out of range"
          ]
        }
      ]
    },
    {
      "cell_type": "code",
      "source": [
        "print('Bread' in shoppingList)"
      ],
      "metadata": {
        "colab": {
          "base_uri": "https://localhost:8080/"
        },
        "id": "AX2Uxk4YadQZ",
        "outputId": "2f9d39ba-6657-4dc2-b14c-14b5c35a575c"
      },
      "execution_count": null,
      "outputs": [
        {
          "output_type": "stream",
          "name": "stdout",
          "text": [
            "False\n"
          ]
        }
      ]
    },
    {
      "cell_type": "code",
      "source": [
        "print('Butter' in shoppingList)"
      ],
      "metadata": {
        "colab": {
          "base_uri": "https://localhost:8080/"
        },
        "id": "DX58fT2capVh",
        "outputId": "f135e791-5507-4c65-9a7f-55e2c2bbd586"
      },
      "execution_count": null,
      "outputs": [
        {
          "output_type": "stream",
          "name": "stdout",
          "text": [
            "True\n"
          ]
        }
      ]
    },
    {
      "cell_type": "code",
      "source": [
        "print(shoppingList[-1])"
      ],
      "metadata": {
        "colab": {
          "base_uri": "https://localhost:8080/"
        },
        "id": "ZO6jRmQ8atK4",
        "outputId": "dd49ac0e-46f8-4ac7-d0e7-ba83f9243ae6"
      },
      "execution_count": null,
      "outputs": [
        {
          "output_type": "stream",
          "name": "stdout",
          "text": [
            "Butter\n"
          ]
        }
      ]
    },
    {
      "cell_type": "code",
      "source": [
        "# Traverse\n",
        "\n",
        "for i in shoppingList:\n",
        "  print(i)"
      ],
      "metadata": {
        "colab": {
          "base_uri": "https://localhost:8080/"
        },
        "id": "0kGCzN7AaxE-",
        "outputId": "f516de05-e961-4387-8a45-f3cf555d1d48"
      },
      "execution_count": null,
      "outputs": [
        {
          "output_type": "stream",
          "name": "stdout",
          "text": [
            "Milk\n",
            "Cheese\n",
            "Butter\n"
          ]
        }
      ]
    },
    {
      "cell_type": "code",
      "source": [
        "for i in range(len(shoppingList)):\n",
        "  print(shoppingList[i])"
      ],
      "metadata": {
        "colab": {
          "base_uri": "https://localhost:8080/"
        },
        "id": "sOQxqRR0a-2M",
        "outputId": "a99c6a88-a0fe-4e43-e842-a9f542d7d9ff"
      },
      "execution_count": null,
      "outputs": [
        {
          "output_type": "stream",
          "name": "stdout",
          "text": [
            "Milk\n",
            "Cheese\n",
            "Butter\n"
          ]
        }
      ]
    },
    {
      "cell_type": "code",
      "source": [
        "for i in range(len(shoppingList)):\n",
        "  shoppingList[i] = shoppingList[i] + '+'\n",
        "  print(shoppingList[i])"
      ],
      "metadata": {
        "colab": {
          "base_uri": "https://localhost:8080/"
        },
        "id": "fFyjZ_v2bHb8",
        "outputId": "4e31ccf9-4d11-4e87-d2fe-d59d465d20f5"
      },
      "execution_count": null,
      "outputs": [
        {
          "output_type": "stream",
          "name": "stdout",
          "text": [
            "Milk+\n",
            "Cheese+\n",
            "Butter+\n"
          ]
        }
      ]
    },
    {
      "cell_type": "markdown",
      "source": [
        "Update/Insert - List"
      ],
      "metadata": {
        "id": "SnrD14uubnsm"
      }
    },
    {
      "cell_type": "code",
      "source": [
        "myList = [1,2,3,4,5,6,7]\n",
        "myList"
      ],
      "metadata": {
        "colab": {
          "base_uri": "https://localhost:8080/"
        },
        "id": "lI9fEhrbbM_A",
        "outputId": "0787eb5e-4bb2-49fa-80a7-6012b2bb98b4"
      },
      "execution_count": null,
      "outputs": [
        {
          "output_type": "execute_result",
          "data": {
            "text/plain": [
              "[1, 2, 3, 4, 5, 6, 7]"
            ]
          },
          "metadata": {},
          "execution_count": 14
        }
      ]
    },
    {
      "cell_type": "code",
      "source": [
        "myList[2] = 33\n",
        "myList"
      ],
      "metadata": {
        "colab": {
          "base_uri": "https://localhost:8080/"
        },
        "id": "qiP5bwqrbxEt",
        "outputId": "759de3f5-207e-4ac8-bba1-39577a104dbd"
      },
      "execution_count": null,
      "outputs": [
        {
          "output_type": "execute_result",
          "data": {
            "text/plain": [
              "[1, 2, 33, 4, 5, 6, 7]"
            ]
          },
          "metadata": {},
          "execution_count": 15
        }
      ]
    },
    {
      "cell_type": "code",
      "source": [
        "myList[4] = 55\n",
        "myList"
      ],
      "metadata": {
        "colab": {
          "base_uri": "https://localhost:8080/"
        },
        "id": "5ECvYwpXb4r1",
        "outputId": "8d144843-a92b-4bdb-cb9c-ce5b3cf103d7"
      },
      "execution_count": null,
      "outputs": [
        {
          "output_type": "execute_result",
          "data": {
            "text/plain": [
              "[1, 2, 33, 4, 55, 6, 7]"
            ]
          },
          "metadata": {},
          "execution_count": 17
        }
      ]
    },
    {
      "cell_type": "markdown",
      "source": [
        "Insert\n",
        "\n",
        "- insert()\n",
        "- append()\n",
        "- extend()\n"
      ],
      "metadata": {
        "id": "MElVh5oJcUc8"
      }
    },
    {
      "cell_type": "code",
      "source": [
        "myList = [1,2,3,4,5,6,7]\n",
        "myList"
      ],
      "metadata": {
        "colab": {
          "base_uri": "https://localhost:8080/"
        },
        "id": "skTDOWLXcCbg",
        "outputId": "40a6c6e2-5eb4-44a7-ee19-ee37ffa47e65"
      },
      "execution_count": null,
      "outputs": [
        {
          "output_type": "execute_result",
          "data": {
            "text/plain": [
              "[1, 2, 3, 4, 5, 6, 7]"
            ]
          },
          "metadata": {},
          "execution_count": 18
        }
      ]
    },
    {
      "cell_type": "code",
      "source": [
        "myList.insert(2, 22)\n",
        "myList"
      ],
      "metadata": {
        "colab": {
          "base_uri": "https://localhost:8080/"
        },
        "id": "TcnGQkgycfmJ",
        "outputId": "7a8f487c-fbb0-4470-e897-bc3e6772cdc4"
      },
      "execution_count": null,
      "outputs": [
        {
          "output_type": "execute_result",
          "data": {
            "text/plain": [
              "[1, 2, 22, 3, 4, 5, 6, 7]"
            ]
          },
          "metadata": {},
          "execution_count": 19
        }
      ]
    },
    {
      "cell_type": "code",
      "source": [
        "myList.append(88)\n",
        "myList"
      ],
      "metadata": {
        "colab": {
          "base_uri": "https://localhost:8080/"
        },
        "id": "2dv-vIeIciIp",
        "outputId": "a7c3e74e-dae5-4675-c111-ebecccbf93a1"
      },
      "execution_count": null,
      "outputs": [
        {
          "output_type": "execute_result",
          "data": {
            "text/plain": [
              "[1, 2, 22, 3, 4, 5, 6, 7, 88]"
            ]
          },
          "metadata": {},
          "execution_count": 20
        }
      ]
    },
    {
      "cell_type": "code",
      "source": [
        "newList = [11,12,13,14]\n",
        "myList.extend(newList)\n",
        "myList"
      ],
      "metadata": {
        "colab": {
          "base_uri": "https://localhost:8080/"
        },
        "id": "DuzTdkuFcxT4",
        "outputId": "79a75a83-2b43-461b-afe3-8c0587e36a3d"
      },
      "execution_count": null,
      "outputs": [
        {
          "output_type": "execute_result",
          "data": {
            "text/plain": [
              "[1, 2, 22, 3, 4, 5, 6, 7, 88, 11, 12, 13, 14]"
            ]
          },
          "metadata": {},
          "execution_count": 21
        }
      ]
    },
    {
      "cell_type": "markdown",
      "source": [
        "Slice Delete in List"
      ],
      "metadata": {
        "id": "lQDGsVsFgWIZ"
      }
    },
    {
      "cell_type": "code",
      "source": [
        "myList = ['a', 'b', 'c', 'd', 'e', 'f']\n",
        "myList[0:2]"
      ],
      "metadata": {
        "colab": {
          "base_uri": "https://localhost:8080/"
        },
        "id": "KS0WzUzOc7kj",
        "outputId": "ef1bb9f8-5ec0-4503-f493-b1a6b454bf18"
      },
      "execution_count": null,
      "outputs": [
        {
          "output_type": "execute_result",
          "data": {
            "text/plain": [
              "['a', 'b']"
            ]
          },
          "metadata": {},
          "execution_count": 22
        }
      ]
    },
    {
      "cell_type": "code",
      "source": [
        "myList[1:]"
      ],
      "metadata": {
        "colab": {
          "base_uri": "https://localhost:8080/"
        },
        "id": "4aIyAxBNgdin",
        "outputId": "f4ccc384-2221-4b7c-8c02-7c3c5dcf9abd"
      },
      "execution_count": null,
      "outputs": [
        {
          "output_type": "execute_result",
          "data": {
            "text/plain": [
              "['b', 'c', 'd', 'e', 'f']"
            ]
          },
          "metadata": {},
          "execution_count": 23
        }
      ]
    },
    {
      "cell_type": "code",
      "source": [
        "myList[:]"
      ],
      "metadata": {
        "colab": {
          "base_uri": "https://localhost:8080/"
        },
        "id": "QeWb-2UBgkiJ",
        "outputId": "57c8b942-9a23-4d32-c450-6ffe51ad8706"
      },
      "execution_count": null,
      "outputs": [
        {
          "output_type": "execute_result",
          "data": {
            "text/plain": [
              "['a', 'b', 'c', 'd', 'e', 'f']"
            ]
          },
          "metadata": {},
          "execution_count": 24
        }
      ]
    },
    {
      "cell_type": "code",
      "source": [
        "myList[0:2] = ['x', 'y']\n",
        "myList"
      ],
      "metadata": {
        "colab": {
          "base_uri": "https://localhost:8080/"
        },
        "id": "xMqtgAjlgoVd",
        "outputId": "9406dcb4-883a-403c-f691-ccc71e44bb4e"
      },
      "execution_count": null,
      "outputs": [
        {
          "output_type": "execute_result",
          "data": {
            "text/plain": [
              "['x', 'y', 'c', 'd', 'e', 'f']"
            ]
          },
          "metadata": {},
          "execution_count": 25
        }
      ]
    },
    {
      "cell_type": "code",
      "source": [
        "#Pop() Method\n",
        "\n",
        "myList.pop()\n",
        "myList"
      ],
      "metadata": {
        "colab": {
          "base_uri": "https://localhost:8080/"
        },
        "id": "_m1CxWPfgvG0",
        "outputId": "aa54a22a-05aa-4fa2-c6c4-fb5be1f01e01"
      },
      "execution_count": null,
      "outputs": [
        {
          "output_type": "execute_result",
          "data": {
            "text/plain": [
              "['x', 'y', 'c', 'd', 'e']"
            ]
          },
          "metadata": {},
          "execution_count": 26
        }
      ]
    },
    {
      "cell_type": "code",
      "source": [
        "myList.pop(1)\n",
        "myList"
      ],
      "metadata": {
        "colab": {
          "base_uri": "https://localhost:8080/"
        },
        "id": "UrsDFtQ1g7sd",
        "outputId": "7d925cc4-e225-4c50-b3d3-8913646a802c"
      },
      "execution_count": null,
      "outputs": [
        {
          "output_type": "execute_result",
          "data": {
            "text/plain": [
              "['x', 'c', 'd', 'e']"
            ]
          },
          "metadata": {},
          "execution_count": 27
        }
      ]
    },
    {
      "cell_type": "code",
      "source": [
        "print(myList.pop(2)) #POp returns the deleted element"
      ],
      "metadata": {
        "colab": {
          "base_uri": "https://localhost:8080/"
        },
        "id": "hDEC0o7bg-Fr",
        "outputId": "163d0657-7482-4598-84bc-d15486b82c62"
      },
      "execution_count": null,
      "outputs": [
        {
          "output_type": "stream",
          "name": "stdout",
          "text": [
            "d\n"
          ]
        }
      ]
    },
    {
      "cell_type": "code",
      "source": [
        "#delete () method\n",
        "\n",
        "del myList[1]\n",
        "myList"
      ],
      "metadata": {
        "colab": {
          "base_uri": "https://localhost:8080/"
        },
        "id": "1aMfYr7OhGEp",
        "outputId": "e3fb6f35-d75a-48f9-9726-ca9d9111c4ef"
      },
      "execution_count": null,
      "outputs": [
        {
          "output_type": "execute_result",
          "data": {
            "text/plain": [
              "['x', 'e']"
            ]
          },
          "metadata": {},
          "execution_count": 29
        }
      ]
    },
    {
      "cell_type": "code",
      "source": [
        "myList = ['a', 'b', 'c', 'd', 'e', 'f']\n",
        "del myList[0:2]\n",
        "myList"
      ],
      "metadata": {
        "colab": {
          "base_uri": "https://localhost:8080/"
        },
        "id": "KpCBIhRghPci",
        "outputId": "33a89bb7-1614-4e9c-c89f-7e298569d4bc"
      },
      "execution_count": null,
      "outputs": [
        {
          "output_type": "execute_result",
          "data": {
            "text/plain": [
              "['c', 'd', 'e', 'f']"
            ]
          },
          "metadata": {},
          "execution_count": 30
        }
      ]
    },
    {
      "cell_type": "code",
      "source": [
        "myList = ['a', 'b', 'c', 'd', 'e', 'f']\n",
        "myList.remove('b')\n",
        "myList"
      ],
      "metadata": {
        "colab": {
          "base_uri": "https://localhost:8080/"
        },
        "id": "eIj5EOB9hcks",
        "outputId": "4fb77285-412f-4b8f-dacc-4b91de8189cb"
      },
      "execution_count": null,
      "outputs": [
        {
          "output_type": "execute_result",
          "data": {
            "text/plain": [
              "['a', 'c', 'd', 'e', 'f']"
            ]
          },
          "metadata": {},
          "execution_count": 31
        }
      ]
    },
    {
      "cell_type": "markdown",
      "source": [
        "List Operations"
      ],
      "metadata": {
        "id": "6HE27blWikQZ"
      }
    },
    {
      "cell_type": "code",
      "source": [
        "a = [1,2,3]\n",
        "b = [4,5,6]\n",
        "c = a + b\n",
        "c"
      ],
      "metadata": {
        "colab": {
          "base_uri": "https://localhost:8080/"
        },
        "id": "DbVgdA34hhFc",
        "outputId": "f358dcc4-c153-4eea-d1df-96ffe80e69b6"
      },
      "execution_count": null,
      "outputs": [
        {
          "output_type": "execute_result",
          "data": {
            "text/plain": [
              "[1, 2, 3, 4, 5, 6]"
            ]
          },
          "metadata": {},
          "execution_count": 32
        }
      ]
    },
    {
      "cell_type": "code",
      "source": [
        "a = [0,1]\n",
        "a = a * 4\n",
        "a"
      ],
      "metadata": {
        "colab": {
          "base_uri": "https://localhost:8080/"
        },
        "id": "kMJuJsMhiuBc",
        "outputId": "de475a5e-da80-4ab5-c6d0-0f44488caacd"
      },
      "execution_count": null,
      "outputs": [
        {
          "output_type": "execute_result",
          "data": {
            "text/plain": [
              "[0, 1, 0, 1, 0, 1, 0, 1]"
            ]
          },
          "metadata": {},
          "execution_count": 34
        }
      ]
    },
    {
      "cell_type": "code",
      "source": [
        "a = [1,2,3,4,5,6]\n",
        "print(len(a))"
      ],
      "metadata": {
        "colab": {
          "base_uri": "https://localhost:8080/"
        },
        "id": "bgyj6B48i580",
        "outputId": "52947358-2527-4cb3-f4d3-58e6805032a5"
      },
      "execution_count": null,
      "outputs": [
        {
          "output_type": "stream",
          "name": "stdout",
          "text": [
            "6\n"
          ]
        }
      ]
    },
    {
      "cell_type": "code",
      "source": [
        "max(a)"
      ],
      "metadata": {
        "colab": {
          "base_uri": "https://localhost:8080/"
        },
        "id": "6w2sWklLjHU6",
        "outputId": "536d825b-acc9-4b4a-92d6-89ef1f33dfe9"
      },
      "execution_count": null,
      "outputs": [
        {
          "output_type": "execute_result",
          "data": {
            "text/plain": [
              "6"
            ]
          },
          "metadata": {},
          "execution_count": 37
        }
      ]
    },
    {
      "cell_type": "code",
      "source": [
        "min(a)"
      ],
      "metadata": {
        "colab": {
          "base_uri": "https://localhost:8080/"
        },
        "id": "duvsH34MjPgc",
        "outputId": "7b82ab31-3d55-43aa-c627-7d20d5262a2a"
      },
      "execution_count": null,
      "outputs": [
        {
          "output_type": "execute_result",
          "data": {
            "text/plain": [
              "1"
            ]
          },
          "metadata": {},
          "execution_count": 38
        }
      ]
    },
    {
      "cell_type": "code",
      "source": [
        "sum(a)"
      ],
      "metadata": {
        "colab": {
          "base_uri": "https://localhost:8080/"
        },
        "id": "zpg-0zMCjR9t",
        "outputId": "ab760480-db62-40fa-90d8-9c97b3e7a675"
      },
      "execution_count": null,
      "outputs": [
        {
          "output_type": "execute_result",
          "data": {
            "text/plain": [
              "21"
            ]
          },
          "metadata": {},
          "execution_count": 39
        }
      ]
    },
    {
      "cell_type": "code",
      "source": [
        "sum(a)/len(a)"
      ],
      "metadata": {
        "colab": {
          "base_uri": "https://localhost:8080/"
        },
        "id": "zHZ-9eBxjXK9",
        "outputId": "a0384c6d-5d64-473b-e561-c5f7e76ae4c8"
      },
      "execution_count": null,
      "outputs": [
        {
          "output_type": "execute_result",
          "data": {
            "text/plain": [
              "3.5"
            ]
          },
          "metadata": {},
          "execution_count": 41
        }
      ]
    },
    {
      "cell_type": "code",
      "source": [
        "myList = list()\n",
        "while (True):\n",
        "  inp = input('Enter a number: ')\n",
        "  if inp == 'done': break\n",
        "  value = float(inp)\n",
        "  myList.append(value)\n",
        "\n",
        "average = sum(myList) / len(myList)\n",
        "print('Average: ', average)\n"
      ],
      "metadata": {
        "colab": {
          "base_uri": "https://localhost:8080/"
        },
        "id": "TOpig07Kjd1r",
        "outputId": "e104dd13-914b-44f4-e93d-acdf075abfc8"
      },
      "execution_count": null,
      "outputs": [
        {
          "output_type": "stream",
          "name": "stdout",
          "text": [
            "Enter a number: 5\n",
            "Enter a number: 9\n",
            "Enter a number: 78\n",
            "Enter a number: 854\n",
            "Enter a number: done\n",
            "Average:  236.5\n"
          ]
        }
      ]
    },
    {
      "cell_type": "markdown",
      "source": [
        "Lists & Strings"
      ],
      "metadata": {
        "id": "7nXvWaoNkNdY"
      }
    },
    {
      "cell_type": "code",
      "source": [
        "a = 'spam'\n",
        "b = list(a)\n",
        "b"
      ],
      "metadata": {
        "colab": {
          "base_uri": "https://localhost:8080/"
        },
        "id": "wT7kLCXTkMP8",
        "outputId": "fdb2fcb6-a52e-4348-b0ae-1f7afa7d9ec4"
      },
      "execution_count": null,
      "outputs": [
        {
          "output_type": "execute_result",
          "data": {
            "text/plain": [
              "['s', 'p', 'a', 'm']"
            ]
          },
          "metadata": {},
          "execution_count": 44
        }
      ]
    },
    {
      "cell_type": "code",
      "source": [
        "a = 'spam spam spam'\n",
        "b = list(a)\n",
        "b"
      ],
      "metadata": {
        "colab": {
          "base_uri": "https://localhost:8080/"
        },
        "id": "velY3dWvkSjV",
        "outputId": "c5f3d239-12a4-405d-cc0f-c1c9737a4f65"
      },
      "execution_count": null,
      "outputs": [
        {
          "output_type": "execute_result",
          "data": {
            "text/plain": [
              "['s', 'p', 'a', 'm', ' ', 's', 'p', 'a', 'm', ' ', 's', 'p', 'a', 'm']"
            ]
          },
          "metadata": {},
          "execution_count": 45
        }
      ]
    },
    {
      "cell_type": "code",
      "source": [
        "a = 'spam spam spam'\n",
        "b = a.split()\n",
        "b"
      ],
      "metadata": {
        "colab": {
          "base_uri": "https://localhost:8080/"
        },
        "id": "0VrsaGFGkYGR",
        "outputId": "2e536303-478b-4af5-d766-ca188b41ea14"
      },
      "execution_count": null,
      "outputs": [
        {
          "output_type": "execute_result",
          "data": {
            "text/plain": [
              "['spam', 'spam', 'spam']"
            ]
          },
          "metadata": {},
          "execution_count": 46
        }
      ]
    },
    {
      "cell_type": "code",
      "source": [
        "a = 'spam-spam1-spam2'\n",
        "b = a.split('-')\n",
        "b"
      ],
      "metadata": {
        "colab": {
          "base_uri": "https://localhost:8080/"
        },
        "id": "Z4Zhyaakka86",
        "outputId": "937d58b1-8903-4887-8dd7-711dced123d5"
      },
      "execution_count": null,
      "outputs": [
        {
          "output_type": "execute_result",
          "data": {
            "text/plain": [
              "['spam', 'spam1', 'spam2']"
            ]
          },
          "metadata": {},
          "execution_count": 47
        }
      ]
    },
    {
      "cell_type": "code",
      "source": [
        "'-'.join(b)"
      ],
      "metadata": {
        "colab": {
          "base_uri": "https://localhost:8080/",
          "height": 36
        },
        "id": "ZtyflO9okllY",
        "outputId": "f64ee3fd-a596-470c-989c-9509366c9eab"
      },
      "execution_count": null,
      "outputs": [
        {
          "output_type": "execute_result",
          "data": {
            "text/plain": [
              "'spam-spam1-spam2'"
            ],
            "application/vnd.google.colaboratory.intrinsic+json": {
              "type": "string"
            }
          },
          "metadata": {},
          "execution_count": 48
        }
      ]
    },
    {
      "cell_type": "markdown",
      "source": [
        "Common List pitfalls"
      ],
      "metadata": {
        "id": "3KcYxUT-k4sh"
      }
    },
    {
      "cell_type": "code",
      "source": [
        "myList = [78,8,1,58, 2,3,4]\n",
        "myList.sort()\n",
        "myList"
      ],
      "metadata": {
        "colab": {
          "base_uri": "https://localhost:8080/"
        },
        "id": "SoIZeky7kwxY",
        "outputId": "49fea063-6ff5-4dd3-cdd4-e1b4fc729632"
      },
      "execution_count": null,
      "outputs": [
        {
          "output_type": "execute_result",
          "data": {
            "text/plain": [
              "[1, 2, 3, 4, 8, 58, 78]"
            ]
          },
          "metadata": {},
          "execution_count": 53
        }
      ]
    },
    {
      "cell_type": "markdown",
      "source": [
        "| Stretch/Untouched | ProbDistribution | Accuracy |\n",
        "| --- | --- | --- |\n",
        "|Creating a List | O(1) | O(n)|\n",
        "|Inserting a value in a LIst | O(1)/O(n) | O(1)|\n",
        "|Traversing a given List | O(n) | O(1) |\n",
        "|Accessing a given List | O(1) | O(1) |\n",
        "|Searching a given value | O(n) | O(1) |\n",
        "|Deleting a given value | O(1)/O(n) | O(n) |"
      ],
      "metadata": {
        "id": "SbGjASnroIlE"
      }
    },
    {
      "cell_type": "markdown",
      "source": [
        "Project Array Lists"
      ],
      "metadata": {
        "id": "O3gsTO6Hy2V6"
      }
    },
    {
      "cell_type": "code",
      "source": [
        "#Calculate Average Temperature\n",
        "numDays = int(input(\"How many day's temperature?\"))\n",
        "total = 0\n",
        "temp = []\n",
        "for i in range(numDays):\n",
        "  nextDay = int(input(\"Day\" + str(i+1) + \"'s high temp: \"))\n",
        "  temp.append(nextDay)\n",
        "  total += nextDay\n",
        "\n",
        "avg = round(total / numDays,2)\n",
        "print(\"\\nAverage = \" + str(avg))\n",
        "\n",
        "above = 0\n",
        "for i in temp:\n",
        "  if i > avg:\n",
        "    above += 1\n",
        "\n",
        "print(str(above) + \" days(s) above average\")"
      ],
      "metadata": {
        "id": "sFOqImEBowz8",
        "colab": {
          "base_uri": "https://localhost:8080/"
        },
        "outputId": "4765a1b8-0d54-43c7-fbf8-253556894903"
      },
      "execution_count": 4,
      "outputs": [
        {
          "output_type": "stream",
          "name": "stdout",
          "text": [
            "How many day's temperature?5\n",
            "Day1's high temp: 20\n",
            "Day2's high temp: 25\n",
            "Day3's high temp: 39\n",
            "Day4's high temp: 18\n",
            "Day5's high temp: 12\n",
            "\n",
            "Average = 22.8\n",
            "2 days(s) above average\n"
          ]
        }
      ]
    },
    {
      "cell_type": "markdown",
      "source": [
        "Interview Questions"
      ],
      "metadata": {
        "id": "fUqjFnq75fFK"
      }
    },
    {
      "cell_type": "markdown",
      "source": [
        "Q1. How to find the missing number in an integer array of 1 to 100 ?"
      ],
      "metadata": {
        "id": "Dh_y7Pqi5mED"
      }
    },
    {
      "cell_type": "code",
      "source": [
        "mylist = [1, 2, 3, 4, 5, 6, 7, 8, 9, 10, 11, 12, 13, 14, 15, 16, 17, 18, 19, 20, 21, 22, 23, 24, 25, 26, 27, 28, 29, 30, 31, 32, 33, 34, 35, 36, 37, 38, 39, 40, 41, 42, 43, 44, 45, 46, 47, 48, 49, 50, 51, 52, 53, 54, 55, 56, 57, 58, 59, 60, 61, 62, 63, 64, 65, 66, 67, 68, 69, 70, 71, 72, 74, 75, 76, 77, 78, 79, 80, 81, 82, 83, 84, 85, 86, 87, 88, 89, 90, 91, 92, 93, 94, 95, 96, 97, 98, 99, 100]\n",
        "\n",
        "def findMissing(list, n):\n",
        "  sum1 = 100 * (100 + 1) /2\n",
        "  sum2 = sum(list)\n",
        "  return sum1 - sum2\n",
        "\n",
        "print(int(findMissing(mylist, 100)))"
      ],
      "metadata": {
        "id": "hmm299yFowwP",
        "colab": {
          "base_uri": "https://localhost:8080/"
        },
        "outputId": "fc29abb7-faad-4c79-be42-832cff178c5b"
      },
      "execution_count": 6,
      "outputs": [
        {
          "output_type": "stream",
          "name": "stdout",
          "text": [
            "73\n"
          ]
        }
      ]
    },
    {
      "cell_type": "markdown",
      "source": [
        "Q2. Write a program to find all pairs of integers whose sum is equal to a given number."
      ],
      "metadata": {
        "id": "-qpSCKkC9TaG"
      }
    },
    {
      "cell_type": "code",
      "source": [
        "def findpairs(lst, sum):\n",
        "  for i in range(len(lst)):\n",
        "    for j in range(i+1, len(lst)):\n",
        "      if lst[i] == lst[j]:\n",
        "        continue\n",
        "      elif lst[i] + lst[j] == sum:\n",
        "        print(lst[i], lst[j])\n",
        "\n",
        "mylist =  [1,2,3,2,3,4,5,6]\n",
        "findpairs(mylist, 6)"
      ],
      "metadata": {
        "id": "OGDja9kZlcKS",
        "colab": {
          "base_uri": "https://localhost:8080/"
        },
        "outputId": "b29e9710-2e36-461b-b27c-fe736b5d6316"
      },
      "execution_count": 9,
      "outputs": [
        {
          "output_type": "stream",
          "name": "stdout",
          "text": [
            "1 5\n",
            "2 4\n",
            "2 4\n"
          ]
        }
      ]
    },
    {
      "cell_type": "markdown",
      "source": [
        "Q3. How to check if an array contains a number in python"
      ],
      "metadata": {
        "id": "AUxFvNum_Rbl"
      }
    },
    {
      "cell_type": "code",
      "source": [
        "import numpy as np\n",
        "myArray = np.array([1, 2, 3, 4, 5, 6, 7, 8, 9, 10, 11, 12, 13, 14, 15, 16, 17, 18, 19, 20])\n",
        "\n",
        "def findNumber(array,num):\n",
        "  for i in range(len(array)):\n",
        "    if array[i] == num:\n",
        "      return True\n",
        "  return False\n",
        "\n",
        "print(findNumber(myArray, 10))"
      ],
      "metadata": {
        "colab": {
          "base_uri": "https://localhost:8080/"
        },
        "id": "zf5Xpp1n-KtW",
        "outputId": "523d59da-176b-415b-9de5-877f099a5244"
      },
      "execution_count": 10,
      "outputs": [
        {
          "output_type": "stream",
          "name": "stdout",
          "text": [
            "True\n"
          ]
        }
      ]
    },
    {
      "cell_type": "markdown",
      "source": [
        "Q4. How to find maximum product of two integers in the array where all elements are positive ?"
      ],
      "metadata": {
        "id": "SdaaC2aq_4tR"
      }
    },
    {
      "cell_type": "code",
      "source": [
        "import numpy as np\n",
        "myArray = np.array([1, 2, 3, 4, 5, 6, 7, 8, 9, 10, 11, 12, 13, 14, 15, 16, 17, 18, 19, 20])\n",
        "\n",
        "\n",
        "def maxProduct(array):\n",
        "  maxProduct = 0\n",
        "  for i in range(len(array)):\n",
        "    for j in range(i+1, len(array)):\n",
        "      if array[i] * array[j]  > maxProduct:\n",
        "        maxProduct = array[i] * array[j]\n",
        "        pairs = str(array[i]) + \", \" + str(array[j])\n",
        "  print(pairs)\n",
        "  print(maxProduct)\n",
        "\n",
        "maxProduct(myArray)\n"
      ],
      "metadata": {
        "colab": {
          "base_uri": "https://localhost:8080/"
        },
        "id": "Wj88Wcsj_s_j",
        "outputId": "8a0c4636-3183-4a78-90e2-1f887f6d36f7"
      },
      "execution_count": 16,
      "outputs": [
        {
          "output_type": "stream",
          "name": "stdout",
          "text": [
            "19, 20\n",
            "380\n"
          ]
        }
      ]
    },
    {
      "cell_type": "markdown",
      "source": [
        "Q5. Is Unique"
      ],
      "metadata": {
        "id": "u1VSi1tZBIlC"
      }
    },
    {
      "cell_type": "code",
      "source": [
        "def isUnique(lst):\n",
        "  a = []\n",
        "  for i in lst:\n",
        "    if i in a:\n",
        "      return False\n",
        "    else:\n",
        "      a.append(i)\n",
        "  return True\n",
        "\n",
        "mylist =  [1,2,3,2,3,4,5,6]\n",
        "print(isUnique(mylist))"
      ],
      "metadata": {
        "colab": {
          "base_uri": "https://localhost:8080/"
        },
        "id": "tOVBuVb5AWLC",
        "outputId": "3cda727c-0122-49c5-d1ce-f3f1c064deb1"
      },
      "execution_count": 17,
      "outputs": [
        {
          "output_type": "stream",
          "name": "stdout",
          "text": [
            "False\n"
          ]
        }
      ]
    },
    {
      "cell_type": "code",
      "source": [
        "myList = [1, 2, 3, 4, 5]\n",
        "print(isUnique(myList))"
      ],
      "metadata": {
        "colab": {
          "base_uri": "https://localhost:8080/"
        },
        "id": "LKRzYO7cBepG",
        "outputId": "2ff4d2cf-f86a-4657-aaf3-8e199e7c1d3f"
      },
      "execution_count": 18,
      "outputs": [
        {
          "output_type": "stream",
          "name": "stdout",
          "text": [
            "True\n"
          ]
        }
      ]
    },
    {
      "cell_type": "markdown",
      "source": [
        "Q6. Permutation"
      ],
      "metadata": {
        "id": "7cNC-Ih3CRvn"
      }
    },
    {
      "cell_type": "code",
      "source": [
        "def permutation(list1, list2):\n",
        "  if len(list1) != len(list2):\n",
        "    return False\n",
        "  list1.sort()\n",
        "  list2.sort()\n",
        "  if list1 == list2:\n",
        "    return True\n",
        "  else:\n",
        "    return False\n",
        "\n",
        "list1 = [1, 2, 3, 4, 5]\n",
        "list2 = [5, 4, 3, 2, 1]\n",
        "print(permutation(list1, list2))"
      ],
      "metadata": {
        "colab": {
          "base_uri": "https://localhost:8080/"
        },
        "id": "GyHcHL7vCEG1",
        "outputId": "306114a1-70b3-4618-926c-8b72753e99e7"
      },
      "execution_count": 19,
      "outputs": [
        {
          "output_type": "stream",
          "name": "stdout",
          "text": [
            "True\n"
          ]
        }
      ]
    },
    {
      "cell_type": "markdown",
      "source": [
        "Q7. Rotate Matrix - Given an image represented by a N*N matrix write a method to rotate the image by 90 degress."
      ],
      "metadata": {
        "id": "ixfJoJyjDUOw"
      }
    },
    {
      "cell_type": "code",
      "source": [
        "import numpy as np\n",
        "\n",
        "myArray = np.array([[1,2,3], [4,5,6], [7,8,9]])\n",
        "print(myArray)\n",
        "def rotate(matrix):\n",
        "  n = len(matrix)\n",
        "  print(f\"n = {n}\")\n",
        "  for layer in range(n //2):\n",
        "    first = layer\n",
        "    print(f\"first = {first}\")\n",
        "    last = n - layer -1\n",
        "    print(f\"last = {last}\")\n",
        "    for i in range(first, last):\n",
        "            # save top\n",
        "            top = matrix[layer][i]\n",
        "            print(f\"top = {top}\")\n",
        "            # left -> top\n",
        "            matrix[layer][i] = matrix[-i - 1][layer]\n",
        "            print(f\"matrix[layer][i] = {matrix[layer][i]}\")\n",
        "            # bottom -> left\n",
        "            matrix[-i - 1][layer] = matrix[-layer - 1][-i - 1]\n",
        "            print(f\"matrix[-i - 1][layer] = {matrix[-i - 1][layer]}\")\n",
        "            # right -> bottom\n",
        "            matrix[-layer - 1][-i - 1] = matrix[i][- layer - 1]\n",
        "            print(f\"matrix[-layer - 1][-i - 1] = {matrix[-layer - 1][-i - 1]}\")\n",
        "            # top -> right\n",
        "            matrix[i][- layer - 1] = top\n",
        "            print(f\"matrix[i][- layer - 1] = {matrix[i][- layer - 1]}\")\n",
        "  return matrix\n",
        "\n",
        "print(rotate(myArray))\n",
        "\n"
      ],
      "metadata": {
        "colab": {
          "base_uri": "https://localhost:8080/"
        },
        "id": "d58d1m8RCxH0",
        "outputId": "ed6adcbd-676d-4cff-dbfb-3f157f7f1d18"
      },
      "execution_count": 22,
      "outputs": [
        {
          "output_type": "stream",
          "name": "stdout",
          "text": [
            "[[1 2 3]\n",
            " [4 5 6]\n",
            " [7 8 9]]\n",
            "n = 3\n",
            "first = 0\n",
            "last = 2\n",
            "top = 1\n",
            "matrix[layer][i] = 7\n",
            "matrix[-i - 1][layer] = 9\n",
            "matrix[-layer - 1][-i - 1] = 3\n",
            "matrix[i][- layer - 1] = 1\n",
            "top = 2\n",
            "matrix[layer][i] = 4\n",
            "matrix[-i - 1][layer] = 8\n",
            "matrix[-layer - 1][-i - 1] = 6\n",
            "matrix[i][- layer - 1] = 2\n",
            "[[7 4 1]\n",
            " [8 5 2]\n",
            " [9 6 3]]\n"
          ]
        }
      ]
    },
    {
      "cell_type": "code",
      "source": [],
      "metadata": {
        "id": "UwEfa9RQEBfS"
      },
      "execution_count": null,
      "outputs": []
    }
  ]
}