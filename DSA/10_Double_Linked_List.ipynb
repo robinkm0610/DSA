{
  "nbformat": 4,
  "nbformat_minor": 0,
  "metadata": {
    "colab": {
      "provenance": [],
      "authorship_tag": "ABX9TyOKWpyHMDFL6qGGMQ0oA7Wo",
      "include_colab_link": true
    },
    "kernelspec": {
      "name": "python3",
      "display_name": "Python 3"
    },
    "language_info": {
      "name": "python"
    }
  },
  "cells": [
    {
      "cell_type": "markdown",
      "metadata": {
        "id": "view-in-github",
        "colab_type": "text"
      },
      "source": [
        "<a href=\"https://colab.research.google.com/github/robinkm0610/DSA/blob/main/DSA/10_Double_Linked_List.ipynb\" target=\"_parent\"><img src=\"https://colab.research.google.com/assets/colab-badge.svg\" alt=\"Open In Colab\"/></a>"
      ]
    },
    {
      "cell_type": "markdown",
      "source": [
        "Double Linked List"
      ],
      "metadata": {
        "id": "MW2PwDMn5g0p"
      }
    },
    {
      "cell_type": "markdown",
      "source": [
        "Create a DLL"
      ],
      "metadata": {
        "id": "vLHeNBQu57x_"
      }
    },
    {
      "cell_type": "code",
      "source": [
        "class Node:\n",
        "  def __init__(self, value = None):\n",
        "    self.value = value\n",
        "    self.next = None\n",
        "    self.prev = None\n",
        "\n",
        "class DoublyLinkedList:\n",
        "  def __init__(self):\n",
        "    self.head = None\n",
        "    self.tail = None\n",
        "  def __iter__(self):\n",
        "    node = self.head\n",
        "    while node:\n",
        "      yield node\n",
        "      node = node.next\n",
        "  # creation of DLL\n",
        "  def createDLL(self, nodeValue):\n",
        "    node = Node(nodeValue)\n",
        "    node.prev = None\n",
        "    node.next = None\n",
        "    self.head = node\n",
        "    self.tail = node\n",
        "    return \"DLL is created\"\n"
      ],
      "metadata": {
        "id": "f_giBOqK56d0"
      },
      "execution_count": 1,
      "outputs": []
    },
    {
      "cell_type": "code",
      "source": [
        "doubyLL = DoublyLinkedList()\n",
        "doubyLL.createDLL(5)\n",
        "print([node.value for node in doubyLL])"
      ],
      "metadata": {
        "colab": {
          "base_uri": "https://localhost:8080/"
        },
        "id": "XuT4VmBl6oIZ",
        "outputId": "86fee739-2216-4a16-c232-2956aaea1e81"
      },
      "execution_count": 3,
      "outputs": [
        {
          "output_type": "stream",
          "name": "stdout",
          "text": [
            "[5]\n"
          ]
        }
      ]
    },
    {
      "cell_type": "markdown",
      "source": [
        "DLL - Insertion"
      ],
      "metadata": {
        "id": "tAWlH_kP67SX"
      }
    },
    {
      "cell_type": "code",
      "source": [
        "class Node:\n",
        "  def __init__(self, value = None):\n",
        "    self.value = value\n",
        "    self.next = None\n",
        "    self.prev = None\n",
        "\n",
        "class DoublyLinkedList:\n",
        "  def __init__(self):\n",
        "    self.head = None\n",
        "    self.tail = None\n",
        "  def __iter__(self):\n",
        "    node = self.head\n",
        "    while node:\n",
        "      yield node\n",
        "      node = node.next\n",
        "  # creation of DLL\n",
        "  def createDLL(self, nodeValue):\n",
        "    node = Node(nodeValue)\n",
        "    node.prev = None\n",
        "    node.next = None\n",
        "    self.head = node\n",
        "    self.tail = node\n",
        "    return \"DLL is created\"\n",
        "  def insertNode(self, nodeValue, location):\n",
        "    if self.head is None:\n",
        "      print(\"The node cannot be inserted\")\n",
        "    else:\n",
        "      newNode = Node(nodeValue)\n",
        "      if location == 0:\n",
        "        newNode.prev = None\n",
        "        newNode.next = self.head\n",
        "        self.head.prev = newNode\n",
        "        self.head = newNode\n",
        "      elif location == 1:\n",
        "        newNode.next = None\n",
        "        newNode.prev = self.tail\n",
        "        self.tail.next = newNode\n",
        "        self.tail = newNode\n",
        "      else:\n",
        "        tempNode = self.head\n",
        "        index = 0\n",
        "        while index < location - 1:\n",
        "          tempNode = tempNode.next\n",
        "          index += 1\n",
        "        newNode.next = tempNode.next\n",
        "        newNode.prev = tempNode\n",
        "        newNode.next.prev = newNode\n",
        "        tempNode.next = newNode\n",
        "        return \"The node has been inserted\""
      ],
      "metadata": {
        "id": "fCi6ub5M6tSw"
      },
      "execution_count": 4,
      "outputs": []
    },
    {
      "cell_type": "code",
      "source": [
        "doubyLL = DoublyLinkedList()\n",
        "doubyLL.createDLL(5)\n",
        "print([node.value for node in doubyLL])\n",
        "doubyLL.insertNode(0,0)\n",
        "print([node.value for node in doubyLL])\n",
        "doubyLL.insertNode(2,1)\n",
        "print([node.value for node in doubyLL])\n",
        "doubyLL.insertNode(6,2)\n",
        "print([node.value for node in doubyLL])"
      ],
      "metadata": {
        "colab": {
          "base_uri": "https://localhost:8080/"
        },
        "id": "pVNywbhg_jhR",
        "outputId": "6b5dc6fc-92ad-4fb6-df07-3f7ab01bb1ae"
      },
      "execution_count": 5,
      "outputs": [
        {
          "output_type": "stream",
          "name": "stdout",
          "text": [
            "[5]\n",
            "[0, 5]\n",
            "[0, 5, 2]\n",
            "[0, 5, 6, 2]\n"
          ]
        }
      ]
    },
    {
      "cell_type": "markdown",
      "source": [
        "DLL - Traversal"
      ],
      "metadata": {
        "id": "N1CPR_VdABEs"
      }
    },
    {
      "cell_type": "code",
      "source": [
        "class Node:\n",
        "  def __init__(self, value = None):\n",
        "    self.value = value\n",
        "    self.next = None\n",
        "    self.prev = None\n",
        "\n",
        "class DoublyLinkedList:\n",
        "  def __init__(self):\n",
        "    self.head = None\n",
        "    self.tail = None\n",
        "  def __iter__(self):\n",
        "    node = self.head\n",
        "    while node:\n",
        "      yield node\n",
        "      node = node.next\n",
        "  # creation of DLL\n",
        "  def createDLL(self, nodeValue):\n",
        "    node = Node(nodeValue)\n",
        "    node.prev = None\n",
        "    node.next = None\n",
        "    self.head = node\n",
        "    self.tail = node\n",
        "    return \"DLL is created\"\n",
        "  def insertNode(self, nodeValue, location):\n",
        "    if self.head is None:\n",
        "      print(\"The node cannot be inserted\")\n",
        "    else:\n",
        "      newNode = Node(nodeValue)\n",
        "      if location == 0:\n",
        "        newNode.prev = None\n",
        "        newNode.next = self.head\n",
        "        self.head.prev = newNode\n",
        "        self.head = newNode\n",
        "      elif location == 1:\n",
        "        newNode.next = None\n",
        "        newNode.prev = self.tail\n",
        "        self.tail.next = newNode\n",
        "        self.tail = newNode\n",
        "      else:\n",
        "        tempNode = self.head\n",
        "        index = 0\n",
        "        while index < location - 1:\n",
        "          tempNode = tempNode.next\n",
        "          index += 1\n",
        "        newNode.next = tempNode.next\n",
        "        newNode.prev = tempNode\n",
        "        newNode.next.prev = newNode\n",
        "        tempNode.next = newNode\n",
        "        return \"The node has been inserted\"\n",
        "  #traveral - DLL\n",
        "  def traverseDLL(self):\n",
        "    if self.head is None:\n",
        "      print(\"There is not any node\")\n",
        "    else:\n",
        "      tempNode = self.head\n",
        "      while tempNode:\n",
        "        print(tempNode.value)\n",
        "        tempNode = tempNode.next\n",
        ""
      ],
      "metadata": {
        "id": "CXr0TyvQ__-l"
      },
      "execution_count": 6,
      "outputs": []
    },
    {
      "cell_type": "code",
      "source": [
        "doubyLL = DoublyLinkedList()\n",
        "doubyLL.createDLL(5)\n",
        "print([node.value for node in doubyLL])\n",
        "doubyLL.insertNode(0,0)\n",
        "print([node.value for node in doubyLL])\n",
        "doubyLL.insertNode(2,1)\n",
        "print([node.value for node in doubyLL])\n",
        "doubyLL.insertNode(6,2)\n",
        "print([node.value for node in doubyLL])\n",
        "\n",
        "doubyLL.traverseDLL()"
      ],
      "metadata": {
        "colab": {
          "base_uri": "https://localhost:8080/"
        },
        "id": "pshzqMOw_r21",
        "outputId": "3569a601-a6ab-478f-f55e-671c8998ee1f"
      },
      "execution_count": 7,
      "outputs": [
        {
          "output_type": "stream",
          "name": "stdout",
          "text": [
            "[5]\n",
            "[0, 5]\n",
            "[0, 5, 2]\n",
            "[0, 5, 6, 2]\n",
            "0\n",
            "5\n",
            "6\n",
            "2\n"
          ]
        }
      ]
    },
    {
      "cell_type": "markdown",
      "source": [
        "Reverse Traversal - DLL"
      ],
      "metadata": {
        "id": "Ezy0ut38AfR3"
      }
    },
    {
      "cell_type": "code",
      "source": [
        "class Node:\n",
        "  def __init__(self, value = None):\n",
        "    self.value = value\n",
        "    self.next = None\n",
        "    self.prev = None\n",
        "\n",
        "class DoublyLinkedList:\n",
        "  def __init__(self):\n",
        "    self.head = None\n",
        "    self.tail = None\n",
        "  def __iter__(self):\n",
        "    node = self.head\n",
        "    while node:\n",
        "      yield node\n",
        "      node = node.next\n",
        "  # creation of DLL\n",
        "  def createDLL(self, nodeValue):\n",
        "    node = Node(nodeValue)\n",
        "    node.prev = None\n",
        "    node.next = None\n",
        "    self.head = node\n",
        "    self.tail = node\n",
        "    return \"DLL is created\"\n",
        "  def insertNode(self, nodeValue, location):\n",
        "    if self.head is None:\n",
        "      print(\"The node cannot be inserted\")\n",
        "    else:\n",
        "      newNode = Node(nodeValue)\n",
        "      if location == 0:\n",
        "        newNode.prev = None\n",
        "        newNode.next = self.head\n",
        "        self.head.prev = newNode\n",
        "        self.head = newNode\n",
        "      elif location == 1:\n",
        "        newNode.next = None\n",
        "        newNode.prev = self.tail\n",
        "        self.tail.next = newNode\n",
        "        self.tail = newNode\n",
        "      else:\n",
        "        tempNode = self.head\n",
        "        index = 0\n",
        "        while index < location - 1:\n",
        "          tempNode = tempNode.next\n",
        "          index += 1\n",
        "        newNode.next = tempNode.next\n",
        "        newNode.prev = tempNode\n",
        "        newNode.next.prev = newNode\n",
        "        tempNode.next = newNode\n",
        "        return \"The node has been inserted\"\n",
        "  #traveral - DLL\n",
        "  def traverseDLL(self):\n",
        "    if self.head is None:\n",
        "      print(\"There is not any node\")\n",
        "    else:\n",
        "      tempNode = self.head\n",
        "      while tempNode:\n",
        "        print(tempNode.value)\n",
        "        tempNode = tempNode.next\n",
        "\n",
        "  #reverse traversal\n",
        "  def reverseTraversal(self):\n",
        "    if self.head is None:\n",
        "      print(\"There is not any node\")\n",
        "    else:\n",
        "      tempNode = self.tail\n",
        "      while tempNode:\n",
        "        print(tempNode.value)\n",
        "        tempNode = tempNode.prev\n",
        ""
      ],
      "metadata": {
        "id": "py4EFrYqAWep"
      },
      "execution_count": 8,
      "outputs": []
    },
    {
      "cell_type": "code",
      "source": [
        "doubyLL = DoublyLinkedList()\n",
        "doubyLL.createDLL(5)\n",
        "print([node.value for node in doubyLL])\n",
        "doubyLL.insertNode(0,0)\n",
        "print([node.value for node in doubyLL])\n",
        "doubyLL.insertNode(2,1)\n",
        "print([node.value for node in doubyLL])\n",
        "doubyLL.insertNode(6,2)\n",
        "print([node.value for node in doubyLL])\n",
        "\n",
        "doubyLL.reverseTraversal()"
      ],
      "metadata": {
        "colab": {
          "base_uri": "https://localhost:8080/"
        },
        "id": "qKURgi0CAqyr",
        "outputId": "a6ec6c50-9129-4cfc-d8cc-bd299a7f8c18"
      },
      "execution_count": 9,
      "outputs": [
        {
          "output_type": "stream",
          "name": "stdout",
          "text": [
            "[5]\n",
            "[0, 5]\n",
            "[0, 5, 2]\n",
            "[0, 5, 6, 2]\n",
            "2\n",
            "6\n",
            "5\n",
            "0\n"
          ]
        }
      ]
    },
    {
      "cell_type": "markdown",
      "source": [
        "Searching an element in DLL"
      ],
      "metadata": {
        "id": "THXBC4VsA5ES"
      }
    },
    {
      "cell_type": "code",
      "source": [
        "class Node:\n",
        "  def __init__(self, value = None):\n",
        "    self.value = value\n",
        "    self.next = None\n",
        "    self.prev = None\n",
        "\n",
        "class DoublyLinkedList:\n",
        "  def __init__(self):\n",
        "    self.head = None\n",
        "    self.tail = None\n",
        "  def __iter__(self):\n",
        "    node = self.head\n",
        "    while node:\n",
        "      yield node\n",
        "      node = node.next\n",
        "  # creation of DLL\n",
        "  def createDLL(self, nodeValue):\n",
        "    node = Node(nodeValue)\n",
        "    node.prev = None\n",
        "    node.next = None\n",
        "    self.head = node\n",
        "    self.tail = node\n",
        "    return \"DLL is created\"\n",
        "  def insertNode(self, nodeValue, location):\n",
        "    if self.head is None:\n",
        "      print(\"The node cannot be inserted\")\n",
        "    else:\n",
        "      newNode = Node(nodeValue)\n",
        "      if location == 0:\n",
        "        newNode.prev = None\n",
        "        newNode.next = self.head\n",
        "        self.head.prev = newNode\n",
        "        self.head = newNode\n",
        "      elif location == 1:\n",
        "        newNode.next = None\n",
        "        newNode.prev = self.tail\n",
        "        self.tail.next = newNode\n",
        "        self.tail = newNode\n",
        "      else:\n",
        "        tempNode = self.head\n",
        "        index = 0\n",
        "        while index < location - 1:\n",
        "          tempNode = tempNode.next\n",
        "          index += 1\n",
        "        newNode.next = tempNode.next\n",
        "        newNode.prev = tempNode\n",
        "        newNode.next.prev = newNode\n",
        "        tempNode.next = newNode\n",
        "        return \"The node has been inserted\"\n",
        "  #traveral - DLL\n",
        "  def traverseDLL(self):\n",
        "    if self.head is None:\n",
        "      print(\"There is not any node\")\n",
        "    else:\n",
        "      tempNode = self.head\n",
        "      while tempNode:\n",
        "        print(tempNode.value)\n",
        "        tempNode = tempNode.next\n",
        "\n",
        "  #reverse traversal\n",
        "  def reverseTraversal(self):\n",
        "    if self.head is None:\n",
        "      print(\"There is not any node\")\n",
        "    else:\n",
        "      tempNode = self.tail\n",
        "      while tempNode:\n",
        "        print(tempNode.value)\n",
        "        tempNode = tempNode.prev\n",
        "\n",
        "  #search in DLL\n",
        "  def searchDLL(self, nodeValue):\n",
        "    if self.head is None:\n",
        "      print(\"There is not any node\")\n",
        "    else:\n",
        "      tempNode = self.head\n",
        "      while tempNode:\n",
        "        if tempNode.value == nodeValue:\n",
        "          return tempNode.value\n",
        "        tempNode = tempNode.next"
      ],
      "metadata": {
        "id": "ve85OSdKAu9w"
      },
      "execution_count": 10,
      "outputs": []
    },
    {
      "cell_type": "code",
      "source": [
        "doubyLL = DoublyLinkedList()\n",
        "doubyLL.createDLL(5)\n",
        "doubyLL.insertNode(0,0)\n",
        "doubyLL.insertNode(2,1)\n",
        "doubyLL.insertNode(6,2)\n",
        "\n",
        "doubyLL.searchDLL(6)"
      ],
      "metadata": {
        "colab": {
          "base_uri": "https://localhost:8080/"
        },
        "id": "1zfqivhNBBhq",
        "outputId": "d0efe064-c1c9-4430-a117-e16a6c761779"
      },
      "execution_count": 11,
      "outputs": [
        {
          "output_type": "execute_result",
          "data": {
            "text/plain": [
              "6"
            ]
          },
          "metadata": {},
          "execution_count": 11
        }
      ]
    },
    {
      "cell_type": "markdown",
      "source": [
        "Deletion - DLL"
      ],
      "metadata": {
        "id": "_QdQCaqXeb47"
      }
    },
    {
      "cell_type": "code",
      "source": [
        "class Node:\n",
        "  def __init__(self, value = None):\n",
        "    self.value = value\n",
        "    self.next = None\n",
        "    self.prev = None\n",
        "\n",
        "class DoublyLinkedList:\n",
        "  def __init__(self):\n",
        "    self.head = None\n",
        "    self.tail = None\n",
        "  def __iter__(self):\n",
        "    node = self.head\n",
        "    while node:\n",
        "      yield node\n",
        "      node = node.next\n",
        "  # creation of DLL\n",
        "  def createDLL(self, nodeValue):\n",
        "    node = Node(nodeValue)\n",
        "    node.prev = None\n",
        "    node.next = None\n",
        "    self.head = node\n",
        "    self.tail = node\n",
        "    return \"DLL is created\"\n",
        "  def insertNode(self, nodeValue, location):\n",
        "    if self.head is None:\n",
        "      print(\"The node cannot be inserted\")\n",
        "    else:\n",
        "      newNode = Node(nodeValue)\n",
        "      if location == 0:\n",
        "        newNode.prev = None\n",
        "        newNode.next = self.head\n",
        "        self.head.prev = newNode\n",
        "        self.head = newNode\n",
        "      elif location == 1:\n",
        "        newNode.next = None\n",
        "        newNode.prev = self.tail\n",
        "        self.tail.next = newNode\n",
        "        self.tail = newNode\n",
        "      else:\n",
        "        tempNode = self.head\n",
        "        index = 0\n",
        "        while index < location - 1:\n",
        "          tempNode = tempNode.next\n",
        "          index += 1\n",
        "        newNode.next = tempNode.next\n",
        "        newNode.prev = tempNode\n",
        "        newNode.next.prev = newNode\n",
        "        tempNode.next = newNode\n",
        "        return \"The node has been inserted\"\n",
        "  #traveral - DLL\n",
        "  def traverseDLL(self):\n",
        "    if self.head is None:\n",
        "      print(\"There is not any node\")\n",
        "    else:\n",
        "      tempNode = self.head\n",
        "      while tempNode:\n",
        "        print(tempNode.value)\n",
        "        tempNode = tempNode.next\n",
        "\n",
        "  #reverse traversal\n",
        "  def reverseTraversal(self):\n",
        "    if self.head is None:\n",
        "      print(\"There is not any node\")\n",
        "    else:\n",
        "      tempNode = self.tail\n",
        "      while tempNode:\n",
        "        print(tempNode.value)\n",
        "        tempNode = tempNode.prev\n",
        "\n",
        "  #search in DLL\n",
        "  def searchDLL(self, nodeValue):\n",
        "    if self.head is None:\n",
        "      print(\"There is not any node\")\n",
        "    else:\n",
        "      tempNode = self.head\n",
        "      while tempNode:\n",
        "        if tempNode.value == nodeValue:\n",
        "          return tempNode.value\n",
        "        tempNode = tempNode.next\n",
        "\n",
        "  #deletion in DLL\n",
        "  def deleteNode(self, location):\n",
        "    if self.head is None:\n",
        "      print(\"There is not any node\")\n",
        "    else:\n",
        "      if location == 0:\n",
        "        if self.head == self.tail:\n",
        "          self.head = None\n",
        "          self.tail = None\n",
        "        else:\n",
        "          self.head = self.head.next\n",
        "          self.head.prev = None\n",
        "      elif location == 1:\n",
        "        if self.head == self.tail:\n",
        "          self.head = None\n",
        "          self.tail = None\n",
        "        else:\n",
        "          self.tail = self.tail.prev\n",
        "          self.tail.next = None\n",
        "      else:\n",
        "        curNode = self.head\n",
        "        index = 0\n",
        "        while index < location - 1:\n",
        "          curNode = curNode.next\n",
        "          index += 1\n",
        "        curNode.next = curNode.next.next\n",
        "        curNode.next.prev = curNode\n",
        "      print(\"The node has been deleted\")\n",
        "#"
      ],
      "metadata": {
        "id": "ERYB4blvBIqc"
      },
      "execution_count": 1,
      "outputs": []
    },
    {
      "cell_type": "code",
      "source": [
        "doubyLL = DoublyLinkedList()\n",
        "doubyLL.createDLL(5)\n",
        "doubyLL.insertNode(0,0)\n",
        "doubyLL.insertNode(2,1)\n",
        "doubyLL.insertNode(6,2)\n",
        "print([node.value for node in doubyLL])\n",
        "doubyLL.deleteNode(0)\n",
        "print([node.value for node in doubyLL])\n",
        "doubyLL.deleteNode(1)\n",
        "print([node.value for node in doubyLL])"
      ],
      "metadata": {
        "colab": {
          "base_uri": "https://localhost:8080/"
        },
        "id": "ImE0MwGVgz9F",
        "outputId": "f3280955-f4c4-440d-b5c1-1cce8256a89b"
      },
      "execution_count": 2,
      "outputs": [
        {
          "output_type": "stream",
          "name": "stdout",
          "text": [
            "[0, 5, 6, 2]\n",
            "The node has been deleted\n",
            "[5, 6, 2]\n",
            "The node has been deleted\n",
            "[5, 6]\n"
          ]
        }
      ]
    },
    {
      "cell_type": "markdown",
      "source": [
        "Delete entire DLL"
      ],
      "metadata": {
        "id": "7sgGHQeNhKN0"
      }
    },
    {
      "cell_type": "code",
      "source": [
        "class Node:\n",
        "  def __init__(self, value = None):\n",
        "    self.value = value\n",
        "    self.next = None\n",
        "    self.prev = None\n",
        "\n",
        "class DoublyLinkedList:\n",
        "  def __init__(self):\n",
        "    self.head = None\n",
        "    self.tail = None\n",
        "  def __iter__(self):\n",
        "    node = self.head\n",
        "    while node:\n",
        "      yield node\n",
        "      node = node.next\n",
        "  # creation of DLL\n",
        "  def createDLL(self, nodeValue):\n",
        "    node = Node(nodeValue)\n",
        "    node.prev = None\n",
        "    node.next = None\n",
        "    self.head = node\n",
        "    self.tail = node\n",
        "    return \"DLL is created\"\n",
        "  def insertNode(self, nodeValue, location):\n",
        "    if self.head is None:\n",
        "      print(\"The node cannot be inserted\")\n",
        "    else:\n",
        "      newNode = Node(nodeValue)\n",
        "      if location == 0:\n",
        "        newNode.prev = None\n",
        "        newNode.next = self.head\n",
        "        self.head.prev = newNode\n",
        "        self.head = newNode\n",
        "      elif location == 1:\n",
        "        newNode.next = None\n",
        "        newNode.prev = self.tail\n",
        "        self.tail.next = newNode\n",
        "        self.tail = newNode\n",
        "      else:\n",
        "        tempNode = self.head\n",
        "        index = 0\n",
        "        while index < location - 1:\n",
        "          tempNode = tempNode.next\n",
        "          index += 1\n",
        "        newNode.next = tempNode.next\n",
        "        newNode.prev = tempNode\n",
        "        newNode.next.prev = newNode\n",
        "        tempNode.next = newNode\n",
        "        return \"The node has been inserted\"\n",
        "  #traveral - DLL\n",
        "  def traverseDLL(self):\n",
        "    if self.head is None:\n",
        "      print(\"There is not any node\")\n",
        "    else:\n",
        "      tempNode = self.head\n",
        "      while tempNode:\n",
        "        print(tempNode.value)\n",
        "        tempNode = tempNode.next\n",
        "\n",
        "  #reverse traversal\n",
        "  def reverseTraversal(self):\n",
        "    if self.head is None:\n",
        "      print(\"There is not any node\")\n",
        "    else:\n",
        "      tempNode = self.tail\n",
        "      while tempNode:\n",
        "        print(tempNode.value)\n",
        "        tempNode = tempNode.prev\n",
        "\n",
        "  #search in DLL\n",
        "  def searchDLL(self, nodeValue):\n",
        "    if self.head is None:\n",
        "      print(\"There is not any node\")\n",
        "    else:\n",
        "      tempNode = self.head\n",
        "      while tempNode:\n",
        "        if tempNode.value == nodeValue:\n",
        "          return tempNode.value\n",
        "        tempNode = tempNode.next\n",
        "\n",
        "  #deletion in DLL\n",
        "  def deleteNode(self, location):\n",
        "    if self.head is None:\n",
        "      print(\"There is not any node\")\n",
        "    else:\n",
        "      if location == 0:\n",
        "        if self.head == self.tail:\n",
        "          self.head = None\n",
        "          self.tail = None\n",
        "        else:\n",
        "          self.head = self.head.next\n",
        "          self.head.prev = None\n",
        "      elif location == 1:\n",
        "        if self.head == self.tail:\n",
        "          self.head = None\n",
        "          self.tail = None\n",
        "        else:\n",
        "          self.tail = self.tail.prev\n",
        "          self.tail.next = None\n",
        "      else:\n",
        "        curNode = self.head\n",
        "        index = 0\n",
        "        while index < location - 1:\n",
        "          curNode = curNode.next\n",
        "          index += 1\n",
        "        curNode.next = curNode.next.next\n",
        "        curNode.next.prev = curNode\n",
        "      print(\"The node has been deleted\")\n",
        "  #delete entire DLL\n",
        "  def deleteDLL(self):\n",
        "    if self.head is None:\n",
        "      print(\"There is not any node\")\n",
        "    else:\n",
        "      tempNode = self.head\n",
        "      while tempNode:\n",
        "        tempNode.prev = None\n",
        "        tempNode = tempNode.next\n",
        "      self.head = None\n",
        "      self.tail = None\n",
        "    return \"The DLL has been deleted\"\n"
      ],
      "metadata": {
        "id": "pn8PObqdg67S"
      },
      "execution_count": 4,
      "outputs": []
    },
    {
      "cell_type": "code",
      "source": [
        "doubyLL = DoublyLinkedList()\n",
        "doubyLL.createDLL(5)\n",
        "doubyLL.insertNode(0,0)\n",
        "doubyLL.insertNode(2,1)\n",
        "doubyLL.insertNode(6,2)\n",
        "print([node.value for node in doubyLL])\n",
        "\n",
        "doubyLL.deleteDLL()\n",
        "print([node.value for node in doubyLL])\n"
      ],
      "metadata": {
        "colab": {
          "base_uri": "https://localhost:8080/"
        },
        "id": "aVZc5vgPhbx7",
        "outputId": "08f654f3-7b30-4e7d-f5d3-b583a090cc63"
      },
      "execution_count": 6,
      "outputs": [
        {
          "output_type": "stream",
          "name": "stdout",
          "text": [
            "[0, 5, 6, 2]\n",
            "[]\n"
          ]
        }
      ]
    },
    {
      "cell_type": "markdown",
      "source": [
        "Time & Space complexity of DLL\n",
        "\n",
        "| | Time Complexity | Space Complexity |\n",
        "| ---- |---- | ---- |\n",
        "|Creation |O(1) |O(1)|\n",
        "|Insertion | O(n) | O(1) |\n",
        "|Searching | O(n) | O(1) |\n",
        "|Traversing | O(n) | O(1) |\n",
        "|Deletion of a node | O(n) | O(1) |\n",
        "| Deletion of linked list | O(n) | O(1) |\n"
      ],
      "metadata": {
        "id": "wlK8v5PKh8tk"
      }
    },
    {
      "cell_type": "code",
      "source": [],
      "metadata": {
        "id": "j23kWSFzhqOB"
      },
      "execution_count": null,
      "outputs": []
    }
  ]
}