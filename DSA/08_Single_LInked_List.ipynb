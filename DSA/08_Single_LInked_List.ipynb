{
  "nbformat": 4,
  "nbformat_minor": 0,
  "metadata": {
    "colab": {
      "provenance": [],
      "authorship_tag": "ABX9TyN3/8bjKW/CEBaXDqNHP8d1",
      "include_colab_link": true
    },
    "kernelspec": {
      "name": "python3",
      "display_name": "Python 3"
    },
    "language_info": {
      "name": "python"
    }
  },
  "cells": [
    {
      "cell_type": "markdown",
      "metadata": {
        "id": "view-in-github",
        "colab_type": "text"
      },
      "source": [
        "<a href=\"https://colab.research.google.com/github/robinkm0610/DSA/blob/main/DSA/08_Single_LInked_List.ipynb\" target=\"_parent\"><img src=\"https://colab.research.google.com/assets/colab-badge.svg\" alt=\"Open In Colab\"/></a>"
      ]
    },
    {
      "cell_type": "markdown",
      "source": [
        "What is a Linked List?\n",
        "\n",
        "Linked list is a form of a sequential  collection and it does not have to be in order. A linked list is made up of independent nodes that may contain any type of data and each node has a reference to the next node in the link."
      ],
      "metadata": {
        "id": "FzHH2E-64w87"
      }
    },
    {
      "cell_type": "markdown",
      "source": [
        "Linked Lists vs Arrays"
      ],
      "metadata": {
        "id": "-bMj4zPL6Azs"
      }
    },
    {
      "cell_type": "markdown",
      "source": [
        "- ELements of Linked list are independent objects\n",
        "- Variable size - the size of a linked list is not predefined.\n",
        "- Insertion and removals in LL are very efficient.\n",
        "- Random access - acceessing an element is very efficient in array."
      ],
      "metadata": {
        "id": "sbcFC5_n6Kva"
      }
    },
    {
      "cell_type": "markdown",
      "source": [
        "Types of LL\n",
        "\n",
        "- Single LL\n",
        "- Circular LL\n",
        "- Double LL\n",
        "- Circular doubly LL\n",
        "\n",
        "Single LL\n",
        "- value - reference\n",
        "\n",
        "Circular Single LL\n",
        "- there will be a reference from the tail to head( last to first)\n",
        "-4 player chess\n",
        "\n",
        "Doubly LL\n",
        "- these LL will have 2 references . Previous one and the next one.\n",
        "- music player (previous and next song)\n",
        "\n",
        "Circular Doubly LL\n",
        "- the last node will have reference to first node and similary the first node has reference to last node.\n",
        "- application select in mac screen\n",
        "\n",
        "\n",
        "\n",
        "\n",
        "\n"
      ],
      "metadata": {
        "id": "ZsVLoz0D6qw8"
      }
    },
    {
      "cell_type": "markdown",
      "source": [
        "LL in m/m\n",
        "\n",
        "- it is not stored continuously.  "
      ],
      "metadata": {
        "id": "eQFHF8sM8xn6"
      }
    },
    {
      "cell_type": "markdown",
      "source": [
        "Creation of Singly LL\n",
        "\n",
        "- Create HEad and Tail, initialize with null.\n",
        "- Create a blank Node and assign a value to it and reference to null.\n",
        "- Link Head and Tail with these Node."
      ],
      "metadata": {
        "id": "Ggk4hUGo9Gtt"
      }
    },
    {
      "cell_type": "code",
      "source": [],
      "metadata": {
        "id": "uE8eOJav5DCj"
      },
      "execution_count": 3,
      "outputs": []
    },
    {
      "cell_type": "markdown",
      "source": [
        "Insertion of LL in m/m\n",
        "\n",
        "1. At the beginning of the linked list.\n",
        "2. After a node in the middle of linked list.\n",
        "3. At the end of the linked list."
      ],
      "metadata": {
        "id": "ys2vCCfd_hye"
      }
    },
    {
      "cell_type": "code",
      "source": [
        "\n",
        "class Node:\n",
        "  def __init__(self, value = None):\n",
        "    self.value = value\n",
        "    self.next = None\n",
        "\n",
        "class SLinkedList:\n",
        "  def __init__(self):\n",
        "    self.head = None\n",
        "    self.tail = None\n",
        "  def __iter__(self):\n",
        "    node = self.head\n",
        "    while node:\n",
        "      yield node\n",
        "      node = node.next\n",
        "  def insertSLL(self, value, location):\n",
        "    newNode = Node(value)\n",
        "    if self.head is None:\n",
        "      self.head = newNode\n",
        "      self.tail = newNode\n",
        "    else:\n",
        "      if location == 0:\n",
        "        newNode.next = self.head\n",
        "        self.head = newNode\n",
        "      elif location == 1:\n",
        "        newNode.next = None\n",
        "        self.tail.next = newNode\n",
        "        self.tail = newNode\n",
        "      else:\n",
        "        tempNode = self.head\n",
        "        index = 0\n",
        "        while index < location -1:\n",
        "          tempNode = tempNode.next\n",
        "          index += 1\n",
        "        nextNode = tempNode.next\n",
        "        tempNode.next = newNode\n",
        "        newNode.next = nextNode\n",
        "\n",
        "\n",
        "\n",
        "singlyLinkedList = SLinkedList()\n",
        "singlyLinkedList.insertSLL(1,1)\n",
        "singlyLinkedList.insertSLL(2,1)\n",
        "singlyLinkedList.insertSLL(3,1)\n",
        "singlyLinkedList.insertSLL(4,1)\n",
        "singlyLinkedList.insertSLL(5,1)\n",
        "\n",
        "print([node.value for node in singlyLinkedList])"
      ],
      "metadata": {
        "colab": {
          "base_uri": "https://localhost:8080/"
        },
        "id": "r6QkZsnx_m-G",
        "outputId": "a75ea5b2-6896-4376-a8bf-99cce3203e13"
      },
      "execution_count": 21,
      "outputs": [
        {
          "output_type": "stream",
          "name": "stdout",
          "text": [
            "[1, 5, 4, 3, 2]\n"
          ]
        }
      ]
    },
    {
      "cell_type": "code",
      "source": [
        "#inserting at the begning of the LL\n",
        "singlyLinkedList.insertSLL(0,0)\n",
        "print([node.value for node in singlyLinkedList])"
      ],
      "metadata": {
        "colab": {
          "base_uri": "https://localhost:8080/"
        },
        "id": "-YR9thavP5Qx",
        "outputId": "cf9fd2d7-5637-4703-b33c-36fe402fb581"
      },
      "execution_count": 19,
      "outputs": [
        {
          "output_type": "stream",
          "name": "stdout",
          "text": [
            "[0, 0, 0, 1, 0, 0]\n"
          ]
        }
      ]
    },
    {
      "cell_type": "code",
      "source": [
        "#inserting at the end of the LL\n",
        "singlyLinkedList.insertSLL(0,1)\n",
        "print([node.value for node in singlyLinkedList])"
      ],
      "metadata": {
        "colab": {
          "base_uri": "https://localhost:8080/"
        },
        "id": "6l3oMZHPQoNV",
        "outputId": "935d5b25-2171-4c21-fd21-49a8d2c6e55b"
      },
      "execution_count": 20,
      "outputs": [
        {
          "output_type": "stream",
          "name": "stdout",
          "text": [
            "[0, 0, 0, 1, 0, 0]\n"
          ]
        }
      ]
    },
    {
      "cell_type": "code",
      "source": [
        "#inserting at some location of the LL\n",
        "singlyLinkedList.insertSLL(0,3)\n",
        "print([node.value for node in singlyLinkedList])"
      ],
      "metadata": {
        "colab": {
          "base_uri": "https://localhost:8080/"
        },
        "id": "v8B_KLqqQunH",
        "outputId": "fe2ac763-5776-4eba-d685-6789bef86a7d"
      },
      "execution_count": 17,
      "outputs": [
        {
          "output_type": "stream",
          "name": "stdout",
          "text": [
            "[0, 1, 0, 0]\n"
          ]
        }
      ]
    },
    {
      "cell_type": "markdown",
      "source": [
        "Traversal through LL"
      ],
      "metadata": {
        "id": "GME3hdK4Vuuz"
      }
    },
    {
      "cell_type": "code",
      "source": [
        "class Node:\n",
        "  def __init__(self, value = None):\n",
        "    self.value = value\n",
        "    self.next = None\n",
        "\n",
        "class SLinkedList:\n",
        "  def __init__(self):\n",
        "    self.head = None\n",
        "    self.tail = None\n",
        "  def __iter__(self):\n",
        "    node = self.head\n",
        "    while node:\n",
        "      yield node\n",
        "      node = node.next\n",
        "  #insert in LL\n",
        "  def insertSLL(self, value, location):\n",
        "    newNode = Node(value)\n",
        "    if self.head is None:\n",
        "      self.head = newNode\n",
        "      self.tail = newNode\n",
        "    else:\n",
        "      if location ==0:\n",
        "        newNode.next = self.head\n",
        "        self.head = newNode\n",
        "      elif location == 1:\n",
        "        newNode.next = None\n",
        "        self.tail.next = newNode\n",
        "        self.tail = newNode\n",
        "      else:\n",
        "        tempNode = self.head\n",
        "        index = 0\n",
        "        while index < location -1:\n",
        "          tempNode = tempNode.next\n",
        "          index += 1\n",
        "        nextNode = tempNode.next\n",
        "        tempNode.next = newNode\n",
        "        newNode.next = nextNode\n",
        "  #traverse Singly LL\n",
        "  def traverseSLL(self):\n",
        "    if self.head is None:\n",
        "      print(\"The Singly Linked List does not exist\")\n",
        "    else:\n",
        "      node = self.head\n",
        "      while node is not None:\n",
        "        print(node.value)\n",
        "        node = node.next\n",
        "\n"
      ],
      "metadata": {
        "id": "mwu9dzotQzMt"
      },
      "execution_count": 22,
      "outputs": []
    },
    {
      "cell_type": "code",
      "source": [
        "singlyLinkedList = SLinkedList()\n",
        "singlyLinkedList.insertSLL(1,1)\n",
        "singlyLinkedList.insertSLL(2,1)\n",
        "singlyLinkedList.insertSLL(3,1)\n",
        "singlyLinkedList.insertSLL(4,1)\n",
        "singlyLinkedList.insertSLL(5,1)\n",
        "\n",
        "singlyLinkedList.insertSLL(0,0)\n",
        "singlyLinkedList.insertSLL(0,4)\n",
        "\n",
        "print([node.value for node in singlyLinkedList])\n",
        "singlyLinkedList.traverseSLL()"
      ],
      "metadata": {
        "colab": {
          "base_uri": "https://localhost:8080/"
        },
        "id": "vXJVRdVuX9_o",
        "outputId": "1b2af842-6e96-49a2-e144-a425f7f5ea1a"
      },
      "execution_count": 24,
      "outputs": [
        {
          "output_type": "stream",
          "name": "stdout",
          "text": [
            "[0, 1, 2, 3, 0, 4, 5]\n",
            "0\n",
            "1\n",
            "2\n",
            "3\n",
            "0\n",
            "4\n",
            "5\n"
          ]
        }
      ]
    },
    {
      "cell_type": "markdown",
      "source": [
        "Search LL"
      ],
      "metadata": {
        "id": "MvK1JJCcY__g"
      }
    },
    {
      "cell_type": "code",
      "source": [
        "class Node:\n",
        "  def __init__(self, value = None):\n",
        "    self.value = value\n",
        "    self.next = None\n",
        "\n",
        "class SLinkedList:\n",
        "  def __init__(self):\n",
        "    self.head = None\n",
        "    self.tail = None\n",
        "  def __iter__(self):\n",
        "    node = self.head\n",
        "    while node:\n",
        "      yield node\n",
        "      node = node.next\n",
        "  #insert in LL\n",
        "  def insertSLL(self, value, location):\n",
        "    newNode = Node(value)\n",
        "    if self.head is None:\n",
        "      self.head = newNode\n",
        "      self.tail = newNode\n",
        "    else:\n",
        "      if location ==0:\n",
        "        newNode.next = self.head\n",
        "        self.head = newNode\n",
        "      elif location == 1:\n",
        "        newNode.next = None\n",
        "        self.tail.next = newNode\n",
        "        self.tail = newNode\n",
        "      else:\n",
        "        tempNode = self.head\n",
        "        index = 0\n",
        "        while index < location -1:\n",
        "          tempNode = tempNode.next\n",
        "          index += 1\n",
        "        nextNode = tempNode.next\n",
        "        tempNode.next = newNode\n",
        "        newNode.next = nextNode\n",
        "  #traverse Singly LL\n",
        "  def traverseSLL(self):\n",
        "    if self.head is None:\n",
        "      print(\"The Singly Linked List does not exist\")\n",
        "    else:\n",
        "      node = self.head\n",
        "      while node is not None:\n",
        "        print(node.value)\n",
        "        node = node.next\n",
        "\n",
        "  #search in Singly LL\n",
        "  def searchSLL(self, nodevalue):\n",
        "    if self.head is None:\n",
        "      print(\"The Singly Linked List does not exist\")\n",
        "    else:\n",
        "      node = self.head\n",
        "      while node is not None:\n",
        "        if node.value == nodevalue:\n",
        "          return node.value\n",
        "        node = node.next\n",
        "      return \"The value does not exist in this SLL\"\n",
        "\n"
      ],
      "metadata": {
        "id": "S2UelUMhYdx5"
      },
      "execution_count": 25,
      "outputs": []
    },
    {
      "cell_type": "code",
      "source": [
        "singlyLinkedList = SLinkedList()\n",
        "singlyLinkedList.insertSLL(1,1)\n",
        "singlyLinkedList.insertSLL(2,1)\n",
        "singlyLinkedList.insertSLL(3,1)\n",
        "singlyLinkedList.insertSLL(4,1)\n",
        "singlyLinkedList.insertSLL(5,1)\n",
        "\n",
        "singlyLinkedList.insertSLL(0,0)\n",
        "singlyLinkedList.insertSLL(0,4)\n",
        "\n",
        "print([node.value for node in singlyLinkedList])\n",
        "print(singlyLinkedList.searchSLL(3))"
      ],
      "metadata": {
        "colab": {
          "base_uri": "https://localhost:8080/"
        },
        "id": "IexMzKaIaCU6",
        "outputId": "70b54b71-b698-4b19-82e2-3eaf62bf0ce6"
      },
      "execution_count": 26,
      "outputs": [
        {
          "output_type": "stream",
          "name": "stdout",
          "text": [
            "[0, 1, 2, 3, 0, 4, 5]\n",
            "3\n"
          ]
        }
      ]
    },
    {
      "cell_type": "markdown",
      "source": [
        "Deleting of node fro SLL\n",
        "\n",
        "- Deleting the first Node\n",
        "- Deleting any given Node\n",
        "- Deletting the last Node"
      ],
      "metadata": {
        "id": "YcrY-lO7adP_"
      }
    },
    {
      "cell_type": "code",
      "source": [
        "class Node:\n",
        "  def __init__(self, value = None):\n",
        "    self.value = value\n",
        "    self.next = None\n",
        "\n",
        "class SLinkedList:\n",
        "  def __init__(self):\n",
        "    self.head = None\n",
        "    self.tail = None\n",
        "  def __iter__(self):\n",
        "    node = self.head\n",
        "    while node:\n",
        "      yield node\n",
        "      node = node.next\n",
        "  #insert in LL\n",
        "  def insertSLL(self, value, location):\n",
        "    newNode = Node(value)\n",
        "    if self.head is None:\n",
        "      self.head = newNode\n",
        "      self.tail = newNode\n",
        "    else:\n",
        "      if location ==0:\n",
        "        newNode.next = self.head\n",
        "        self.head = newNode\n",
        "      elif location == 1:\n",
        "        newNode.next = None\n",
        "        self.tail.next = newNode\n",
        "        self.tail = newNode\n",
        "      else:\n",
        "        tempNode = self.head\n",
        "        index = 0\n",
        "        while index < location -1:\n",
        "          tempNode = tempNode.next\n",
        "          index += 1\n",
        "        nextNode = tempNode.next\n",
        "        tempNode.next = newNode\n",
        "        newNode.next = nextNode\n",
        "  #traverse Singly LL\n",
        "  def traverseSLL(self):\n",
        "    if self.head is None:\n",
        "      print(\"The Singly Linked List does not exist\")\n",
        "    else:\n",
        "      node = self.head\n",
        "      while node is not None:\n",
        "        print(node.value)\n",
        "        node = node.next\n",
        "\n",
        "  #search in Singly LL\n",
        "  def searchSLL(self, nodevalue):\n",
        "    if self.head is None:\n",
        "      print(\"The Singly Linked List does not exist\")\n",
        "    else:\n",
        "      node = self.head\n",
        "      while node is not None:\n",
        "        if node.value == nodevalue:\n",
        "          return node.value\n",
        "        node = node.next\n",
        "      return \"The value does not exist in this SLL\"\n",
        "\n",
        "  def deleteNode(self, location):\n",
        "    if self.head is None:\n",
        "        print(\"The SLL does not exist\")\n",
        "    else:\n",
        "        if location == 0:\n",
        "            if self.head == self.tail:  # If there's only one node\n",
        "                self.head = None\n",
        "                self.tail = None\n",
        "            else:\n",
        "                self.head = self.head.next\n",
        "        elif location == 1:\n",
        "            if self.head == self.tail:  # If there's only one node\n",
        "                self.head = None\n",
        "                self.tail = None\n",
        "            else:\n",
        "                node = self.head\n",
        "                while node.next != self.tail:\n",
        "                    node = node.next\n",
        "                node.next = None\n",
        "                self.tail = node\n",
        "        else:\n",
        "            tempNode = self.head\n",
        "            index = 0\n",
        "            while index < location - 1:\n",
        "                tempNode = tempNode.next\n",
        "                index += 1\n",
        "            nextNode = tempNode.next\n",
        "            tempNode.next = nextNode.next\n",
        "\n",
        "\n"
      ],
      "metadata": {
        "id": "OP51OGAEaLaI"
      },
      "execution_count": 47,
      "outputs": []
    },
    {
      "cell_type": "code",
      "source": [
        "singlyLinkedList = SLinkedList()\n",
        "singlyLinkedList.insertSLL(1,1)\n",
        "singlyLinkedList.insertSLL(2,1)\n",
        "singlyLinkedList.insertSLL(3,1)\n",
        "singlyLinkedList.insertSLL(4,1)\n",
        "singlyLinkedList.insertSLL(5,1)\n",
        "\n",
        "singlyLinkedList.insertSLL(0,0)\n",
        "singlyLinkedList.insertSLL(0,4)\n",
        "\n",
        "print([node.value for node in singlyLinkedList])\n",
        "singlyLinkedList.deleteNode(0)\n",
        "print([node.value for node in singlyLinkedList])\n"
      ],
      "metadata": {
        "colab": {
          "base_uri": "https://localhost:8080/"
        },
        "id": "LLNEAWxke51Z",
        "outputId": "0a7ecd30-492a-4588-c915-b45cfaeb144b"
      },
      "execution_count": 48,
      "outputs": [
        {
          "output_type": "stream",
          "name": "stdout",
          "text": [
            "[0, 1, 2, 3, 0, 4, 5]\n",
            "[1, 2, 3, 0, 4, 5]\n"
          ]
        }
      ]
    },
    {
      "cell_type": "code",
      "source": [
        "print([node.value for node in singlyLinkedList])\n",
        "singlyLinkedList.deleteNode(1)\n",
        "print([node.value for node in singlyLinkedList])\n"
      ],
      "metadata": {
        "colab": {
          "base_uri": "https://localhost:8080/"
        },
        "id": "GPAKLPddfEW-",
        "outputId": "816f806f-0e8a-4e7a-871a-23974d66ffc1"
      },
      "execution_count": 49,
      "outputs": [
        {
          "output_type": "stream",
          "name": "stdout",
          "text": [
            "[1, 2, 3, 0, 4, 5]\n",
            "[1, 2, 3, 0, 4]\n"
          ]
        }
      ]
    },
    {
      "cell_type": "code",
      "source": [
        "print([node.value for node in singlyLinkedList])\n",
        "singlyLinkedList.deleteNode(3)\n",
        "print([node.value for node in singlyLinkedList])\n"
      ],
      "metadata": {
        "colab": {
          "base_uri": "https://localhost:8080/"
        },
        "id": "NXPM49pRfYC6",
        "outputId": "d215d024-8ba1-4448-89dc-dc1f21287dc3"
      },
      "execution_count": 50,
      "outputs": [
        {
          "output_type": "stream",
          "name": "stdout",
          "text": [
            "[1, 2, 3, 0, 4]\n",
            "[1, 2, 3, 4]\n"
          ]
        }
      ]
    },
    {
      "cell_type": "code",
      "source": [
        "print([node.value for node in singlyLinkedList])\n",
        "singlyLinkedList.deleteNode(3)\n",
        "print([node.value for node in singlyLinkedList])\n"
      ],
      "metadata": {
        "colab": {
          "base_uri": "https://localhost:8080/"
        },
        "id": "kjvUk8BGgtrK",
        "outputId": "bfdafd85-3dbb-475f-9b8e-ceb0efa90004"
      },
      "execution_count": 51,
      "outputs": [
        {
          "output_type": "stream",
          "name": "stdout",
          "text": [
            "[1, 2, 3, 4]\n",
            "[1, 2, 3]\n"
          ]
        }
      ]
    },
    {
      "cell_type": "code",
      "source": [
        "class Node:\n",
        "  def __init__(self, value = None):\n",
        "    self.value = value\n",
        "    self.next = None\n",
        "\n",
        "class SLinkedList:\n",
        "  def __init__(self):\n",
        "    self.head = None\n",
        "    self.tail = None\n",
        "  def __iter__(self):\n",
        "    node = self.head\n",
        "    while node:\n",
        "      yield node\n",
        "      node = node.next\n",
        "  #insert in LL\n",
        "  def insertSLL(self, value, location):\n",
        "    newNode = Node(value)\n",
        "    if self.head is None:\n",
        "      self.head = newNode\n",
        "      self.tail = newNode\n",
        "    else:\n",
        "      if location ==0:\n",
        "        newNode.next = self.head\n",
        "        self.head = newNode\n",
        "      elif location == 1:\n",
        "        newNode.next = None\n",
        "        self.tail.next = newNode\n",
        "        self.tail = newNode\n",
        "      else:\n",
        "        tempNode = self.head\n",
        "        index = 0\n",
        "        while index < location -1:\n",
        "          tempNode = tempNode.next\n",
        "          index += 1\n",
        "        nextNode = tempNode.next\n",
        "        tempNode.next = newNode\n",
        "        newNode.next = nextNode\n",
        "  #traverse Singly LL\n",
        "  def traverseSLL(self):\n",
        "    if self.head is None:\n",
        "      print(\"The Singly Linked List does not exist\")\n",
        "    else:\n",
        "      node = self.head\n",
        "      while node is not None:\n",
        "        print(node.value)\n",
        "        node = node.next\n",
        "\n",
        "  #search in Singly LL\n",
        "  def searchSLL(self, nodevalue):\n",
        "    if self.head is None:\n",
        "      print(\"The Singly Linked List does not exist\")\n",
        "    else:\n",
        "      node = self.head\n",
        "      while node is not None:\n",
        "        if node.value == nodevalue:\n",
        "          return node.value\n",
        "        node = node.next\n",
        "      return \"The value does not exist in this SLL\"\n",
        "\n",
        "  def deleteNode(self, location):\n",
        "    if self.head is None:\n",
        "        print(\"The SLL does not exist\")\n",
        "    else:\n",
        "        if location == 0:\n",
        "            if self.head == self.tail:  # If there's only one node\n",
        "                self.head = None\n",
        "                self.tail = None\n",
        "            else:\n",
        "                self.head = self.head.next\n",
        "        elif location == 1:\n",
        "            if self.head == self.tail:  # If there's only one node\n",
        "                self.head = None\n",
        "                self.tail = None\n",
        "            else:\n",
        "                node = self.head\n",
        "                while node.next != self.tail:\n",
        "                    node = node.next\n",
        "                node.next = None\n",
        "                self.tail = node\n",
        "        else:\n",
        "            tempNode = self.head\n",
        "            index = 0\n",
        "            while index < location - 1:\n",
        "                tempNode = tempNode.next\n",
        "                index += 1\n",
        "            nextNode = tempNode.next\n",
        "            tempNode.next = nextNode.next\n",
        "\n",
        "  def deleteEntireSLL(self):\n",
        "    if self.head is None:\n",
        "      print(\"The SLL does not exist\")\n",
        "    else:\n",
        "      self.head = None\n",
        "      self.tail = None"
      ],
      "metadata": {
        "id": "_-Sg9rgphs8S"
      },
      "execution_count": 52,
      "outputs": []
    },
    {
      "cell_type": "code",
      "source": [
        "singlyLinkedList = SLinkedList()\n",
        "singlyLinkedList.insertSLL(1,1)\n",
        "singlyLinkedList.insertSLL(2,1)\n",
        "singlyLinkedList.insertSLL(3,1)\n",
        "singlyLinkedList.insertSLL(4,1)\n",
        "singlyLinkedList.insertSLL(5,1)\n",
        "\n",
        "singlyLinkedList.insertSLL(0,0)\n",
        "singlyLinkedList.insertSLL(0,4)\n",
        "\n",
        "print([node.value for node in singlyLinkedList])\n",
        "singlyLinkedList.deleteEntireSLL()\n",
        "print([node.value for node in singlyLinkedList])\n"
      ],
      "metadata": {
        "colab": {
          "base_uri": "https://localhost:8080/"
        },
        "id": "7ImfKjH4iCdE",
        "outputId": "b460f5a2-0dfe-4555-a567-dc8ace9d041b"
      },
      "execution_count": 54,
      "outputs": [
        {
          "output_type": "stream",
          "name": "stdout",
          "text": [
            "[0, 1, 2, 3, 0, 4, 5]\n",
            "[]\n"
          ]
        }
      ]
    },
    {
      "cell_type": "markdown",
      "source": [
        "Time & Space complexity of SLL\n",
        "\n",
        "| | Time Complexity | Space Complexity |\n",
        "| ---- |---- | ---- |\n",
        "|Creation |O(1) |O(1)|\n",
        "|Insertion | O(n) | O(1) |\n",
        "|Searching | O(n) | O(1) |\n",
        "|Traversing | O(n) | O(1) |\n",
        "|Deletion of a node | O(n) | O(1) |\n",
        "| Deletion of linked list | O(1) | O(1) |\n"
      ],
      "metadata": {
        "id": "zLPzGXBNiTvz"
      }
    },
    {
      "cell_type": "markdown",
      "source": [
        "Time Complexity : Array vs Linked List\n",
        "\n",
        "| | Array | Linked List |\n",
        "| ---- |---- | ---- |\n",
        "|Creation |O(1) |O(1)|\n",
        "|Insertion at first position | O(1) | O(1) |\n",
        "|Insertion at last position| O(1) | O(1) |\n",
        "|Insertion at nth position | O(1) | O(n) |\n",
        "|Searching in Unsorted data| O(n) | O(n) |\n",
        "|Searching in Sorted data| O(logn) | O(n) |\n",
        "|Traversing | O(n) | O(1) |\n",
        "|Deletion at first position | O(1) | O(1) |\n",
        "|Deletion at last position | O(n) | O(n)/O(1) |\n",
        "|Deletion at nth position | O(1) | O(n) |\n",
        "| Deletion of array/LL | O(1) | O(n)/O(1) |\n",
        "| Access nth element | O(1) | O(n) |"
      ],
      "metadata": {
        "id": "PItOH4OJjme7"
      }
    },
    {
      "cell_type": "code",
      "source": [],
      "metadata": {
        "id": "AlfiaAlViIg-"
      },
      "execution_count": null,
      "outputs": []
    }
  ]
}